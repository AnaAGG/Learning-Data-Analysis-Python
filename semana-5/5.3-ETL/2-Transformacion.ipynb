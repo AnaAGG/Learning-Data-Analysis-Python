{
 "cells": [
  {
   "cell_type": "markdown",
   "id": "e4c208a7",
   "metadata": {
    "toc": true
   },
   "source": [
    "<h1>Table of Contents<span class=\"tocSkip\"></span></h1>\n",
    "<div class=\"toc\"><ul class=\"toc-item\"><li><span><a href=\"#Contexto\" data-toc-modified-id=\"Contexto-1\"><span class=\"toc-item-num\">1&nbsp;&nbsp;</span>Contexto</a></span></li><li><span><a href=\"#Leer-datos\" data-toc-modified-id=\"Leer-datos-2\"><span class=\"toc-item-num\">2&nbsp;&nbsp;</span>Leer datos</a></span></li><li><span><a href=\"#Análisis-exploratorio-de-nuestros-datos:\" data-toc-modified-id=\"Análisis-exploratorio-de-nuestros-datos:-3\"><span class=\"toc-item-num\">3&nbsp;&nbsp;</span>Análisis exploratorio de nuestros datos:</a></span></li><li><span><a href=\"#Transformación\" data-toc-modified-id=\"Transformación-4\"><span class=\"toc-item-num\">4&nbsp;&nbsp;</span>Transformación</a></span><ul class=\"toc-item\"><li><span><a href=\"#Columna-shopping-cart\" data-toc-modified-id=\"Columna-shopping-cart-4.1\"><span class=\"toc-item-num\">4.1&nbsp;&nbsp;</span>Columna <code>shopping cart</code></a></span></li><li><span><a href=\"#Columna-de-latest_customer_review\" data-toc-modified-id=\"Columna-de-latest_customer_review-4.2\"><span class=\"toc-item-num\">4.2&nbsp;&nbsp;</span>Columna de latest_customer_review</a></span></li><li><span><a href=\"#Columna-latest_customer_review\" data-toc-modified-id=\"Columna-latest_customer_review-4.3\"><span class=\"toc-item-num\">4.3&nbsp;&nbsp;</span>Columna <code>latest_customer_review</code></a></span></li><li><span><a href=\"#Columna-season\" data-toc-modified-id=\"Columna-season-4.4\"><span class=\"toc-item-num\">4.4&nbsp;&nbsp;</span>Columna <code>season</code></a></span></li><li><span><a href=\"#Columna-nearest_warehouse\" data-toc-modified-id=\"Columna-nearest_warehouse-4.5\"><span class=\"toc-item-num\">4.5&nbsp;&nbsp;</span>Columna <code>nearest_warehouse</code></a></span></li></ul></li><li><span><a href=\"#Guardamos-los-datos-limpios\" data-toc-modified-id=\"Guardamos-los-datos-limpios-5\"><span class=\"toc-item-num\">5&nbsp;&nbsp;</span>Guardamos los datos limpios</a></span></li></ul></div>"
   ]
  },
  {
   "cell_type": "code",
   "execution_count": 1,
   "id": "c46c7594",
   "metadata": {},
   "outputs": [],
   "source": [
    "import re\n",
    "import numpy as np\n",
    "import pandas as pd"
   ]
  },
  {
   "cell_type": "markdown",
   "id": "00d0dd9b",
   "metadata": {},
   "source": [
    "# Contexto\n",
    "Este dataset contiene información sobre una tienda electrónica en línea. La tienda tiene tres almacenes desde los que se entregan los productos a los clientes.\n",
    "\n",
    "Columnas: \n",
    "\n",
    "- `order_id`: identificador único para cada pedido\n",
    "\n",
    "\n",
    "- `customer_id`: id único para cada cliente\n",
    "\n",
    "\n",
    "- `date`: La fecha en que se realizó el pedido, en formato AAAA-MM-DD\n",
    "\n",
    "\n",
    "\n",
    "- `nearest_warehouse`: el nombre del almacén más cercano al cliente\n",
    "\n",
    "\n",
    "\n",
    "- `shopping_cart`: lista de tuplas que representan los artículos del pedido: el primer elemento de el primer elemento de la tupla es el artículo pedido, y el segundo elemento es la cantidad pedida para dicho artículo.\n",
    "\n",
    "\n",
    "\n",
    "- `order_price`: precio del pedido en USD. El precio del pedido es el precio de los artículos antes de que se apliquen descuentos. \n",
    "\n",
    "\n",
    "- `delivery_charges`: los gastos de envío del pedido\n",
    "\n",
    "\n",
    "- `customer_lat`: latitud de la ubicación del cliente\n",
    "\n",
    "\n",
    "- `customer_long`: longitud de la ubicación del cliente\n",
    "\n",
    "\n",
    "- `coupon_discount`: el porcentaje de descuento que se aplicará al el precio del pedido.\n",
    "\n",
    "\n",
    "- `order_total`: total del pedido en USD después de aplicar todos los descuentos y/o gastos de envío.\n",
    "\n",
    "\n",
    "- `season`: la época en la que se realizó el pedido.\n",
    "\n",
    "\n",
    "- `is_expedited_delivery`: indica si el cliente ha solicitado una entrega rápida\n",
    "\n",
    "\n",
    "- `distance_to_nestest_warehouse`: la distancia en kilómetros, entre el cliente y el almacén más cercano a él.\n",
    "\n",
    "\n",
    "- `latest_customer_review`: la última opinión del cliente sobre su pedido más reciente\n",
    "\n",
    "\n",
    "- `is_happy_customer`: indica si el cliente es un cliente feliz o tuvo un problema con su último pedido.\n"
   ]
  },
  {
   "cell_type": "markdown",
   "id": "53129f3e",
   "metadata": {},
   "source": [
    "# Leer datos"
   ]
  },
  {
   "cell_type": "code",
   "execution_count": 33,
   "id": "0bba1724",
   "metadata": {},
   "outputs": [],
   "source": [
    "df = pd.read_csv(\"../data/resultado_query.csv\", index_col = 0)\n"
   ]
  },
  {
   "cell_type": "code",
   "execution_count": 34,
   "id": "af97e419",
   "metadata": {},
   "outputs": [
    {
     "data": {
      "text/html": [
       "<div>\n",
       "<style scoped>\n",
       "    .dataframe tbody tr th:only-of-type {\n",
       "        vertical-align: middle;\n",
       "    }\n",
       "\n",
       "    .dataframe tbody tr th {\n",
       "        vertical-align: top;\n",
       "    }\n",
       "\n",
       "    .dataframe thead th {\n",
       "        text-align: right;\n",
       "    }\n",
       "</style>\n",
       "<table border=\"1\" class=\"dataframe\">\n",
       "  <thead>\n",
       "    <tr style=\"text-align: right;\">\n",
       "      <th></th>\n",
       "      <th>_id</th>\n",
       "      <th>order_id</th>\n",
       "      <th>customer_id</th>\n",
       "      <th>date</th>\n",
       "      <th>nearest_warehouse</th>\n",
       "      <th>shopping_cart</th>\n",
       "      <th>order_price</th>\n",
       "      <th>delivery_charges</th>\n",
       "      <th>customer_lat</th>\n",
       "      <th>customer_long</th>\n",
       "      <th>coupon_discount</th>\n",
       "      <th>order_total</th>\n",
       "      <th>season</th>\n",
       "      <th>is_expedited_delivery</th>\n",
       "      <th>distance_to_nearest_warehouse</th>\n",
       "      <th>latest_customer_review</th>\n",
       "      <th>is_happy_customer</th>\n",
       "      <th>geometria</th>\n",
       "    </tr>\n",
       "  </thead>\n",
       "  <tbody>\n",
       "    <tr>\n",
       "      <th>0</th>\n",
       "      <td>6207771e6828d639036be697</td>\n",
       "      <td>ORD037011</td>\n",
       "      <td>ID0847526574</td>\n",
       "      <td>2019-11-11</td>\n",
       "      <td>Nickolson</td>\n",
       "      <td>[('iStream', 2), ('Olivia x460', 1), ('Toshika...</td>\n",
       "      <td>18465</td>\n",
       "      <td>102.31</td>\n",
       "      <td>-37.823506</td>\n",
       "      <td>144.967576</td>\n",
       "      <td>0</td>\n",
       "      <td>18567.31</td>\n",
       "      <td>Spring</td>\n",
       "      <td>True</td>\n",
       "      <td>0.5736</td>\n",
       "      <td>better than alcon never buy and overpriced alc...</td>\n",
       "      <td>True</td>\n",
       "      <td>{'type': 'Point', 'coordinates': [144.9675756,...</td>\n",
       "    </tr>\n",
       "    <tr>\n",
       "      <th>1</th>\n",
       "      <td>6207771e6828d639036be52f</td>\n",
       "      <td>ORD371930</td>\n",
       "      <td>ID6231506306</td>\n",
       "      <td>2019-06-29</td>\n",
       "      <td>Nickolson</td>\n",
       "      <td>[('Alcon 10', 2), ('Toshika 750', 2)]</td>\n",
       "      <td>26540</td>\n",
       "      <td>76.53</td>\n",
       "      <td>-37.824801</td>\n",
       "      <td>144.969024</td>\n",
       "      <td>0</td>\n",
       "      <td>26616.53</td>\n",
       "      <td>Winter</td>\n",
       "      <td>True</td>\n",
       "      <td>0.6924</td>\n",
       "      <td>ok ok</td>\n",
       "      <td>True</td>\n",
       "      <td>{'type': 'Point', 'coordinates': [144.9690242,...</td>\n",
       "    </tr>\n",
       "  </tbody>\n",
       "</table>\n",
       "</div>"
      ],
      "text/plain": [
       "                        _id   order_id   customer_id        date  \\\n",
       "0  6207771e6828d639036be697  ORD037011  ID0847526574  2019-11-11   \n",
       "1  6207771e6828d639036be52f  ORD371930  ID6231506306  2019-06-29   \n",
       "\n",
       "  nearest_warehouse                                      shopping_cart  \\\n",
       "0         Nickolson  [('iStream', 2), ('Olivia x460', 1), ('Toshika...   \n",
       "1         Nickolson              [('Alcon 10', 2), ('Toshika 750', 2)]   \n",
       "\n",
       "   order_price  delivery_charges  customer_lat  customer_long  \\\n",
       "0        18465            102.31    -37.823506     144.967576   \n",
       "1        26540             76.53    -37.824801     144.969024   \n",
       "\n",
       "   coupon_discount  order_total  season  is_expedited_delivery  \\\n",
       "0                0     18567.31  Spring                   True   \n",
       "1                0     26616.53  Winter                   True   \n",
       "\n",
       "   distance_to_nearest_warehouse  \\\n",
       "0                         0.5736   \n",
       "1                         0.6924   \n",
       "\n",
       "                              latest_customer_review  is_happy_customer  \\\n",
       "0  better than alcon never buy and overpriced alc...               True   \n",
       "1                                              ok ok               True   \n",
       "\n",
       "                                           geometria  \n",
       "0  {'type': 'Point', 'coordinates': [144.9675756,...  \n",
       "1  {'type': 'Point', 'coordinates': [144.9690242,...  "
      ]
     },
     "execution_count": 34,
     "metadata": {},
     "output_type": "execute_result"
    }
   ],
   "source": [
    "df.head(2)"
   ]
  },
  {
   "cell_type": "code",
   "execution_count": 35,
   "id": "a0a07421",
   "metadata": {},
   "outputs": [
    {
     "data": {
      "text/plain": [
       "array(['2019-11-11', '2019-06-29', '2019-10-10', '2019-01-28',\n",
       "       '2019-12-19', '2019-06-17', '2019-09-07', '2019-07-02',\n",
       "       '2019-10-29', '2019-12-08', '2019-03-10', '2019-06-13',\n",
       "       '2019-04-20', '2019-10-25', '2019-01-04', '2019-02-16',\n",
       "       '2019-06-22', '2019-09-09', '2019-08-06', '2019-05-12',\n",
       "       '2019-01-09', '2019-04-08', '2019-11-06', '2019-03-21',\n",
       "       '2019-04-13', '2019-07-07', '2019-11-04', '2019-08-07',\n",
       "       '2019-09-14', '2019-01-24', '2019-01-08', '2019-10-12',\n",
       "       '2019-01-21', '2019-01-16', '2019-02-21', '2019-01-18',\n",
       "       '2019-04-23', '2019-09-12', '2019-08-05', '2019-02-02',\n",
       "       '2019-12-16', '03-28-2019', '2019-02-26', '2019-03-02',\n",
       "       '2019-02-28', '2019-08-26', '2019-11-03', '2019-03-24',\n",
       "       '2019-04-25', '2019-05-05', '2019-12-05', '03/27/2019',\n",
       "       '2019-07-18', '2019-04-07', '2019-09-11', '2019-05-15',\n",
       "       '2019-02-24', '2019-01-13', '2019-12-12', '2019-05-17',\n",
       "       '2019-08-13', '2019-12-24', '2019-07-21', '2019-04-02',\n",
       "       '2019-07-15', '2019-10-14', '2019-06-21', '2019-11-02',\n",
       "       '2019-10-16', '2019-08-03', '2019-05-27', '2019-07-05',\n",
       "       '2019-12-01', '2019-06-03', '2019-05-21', '2019-07-30',\n",
       "       '2019-07-25', '2019-02-14', '2019-06-16', '2019-02-19',\n",
       "       '2019-09-23', '04/20/2019', '2019-04-28', '2019-11-17',\n",
       "       '2019-05-25', '08-18-2019', '2019-01-23', '2019-12-13',\n",
       "       '2019-01-22', '2019-10-20', '2019-04-03', '05/12/2019',\n",
       "       '2019-02-05', '2019-02-12', '2019-05-07', '2019-10-08',\n",
       "       '2019-05-03', '2019-07-11', '2019-11-27', '2019-09-29',\n",
       "       '2019-04-05', '2019-06-20', '2019-07-09', '2019-08-17',\n",
       "       '2019-06-05', '2019-02-27', '03-13-2019', '2019-09-04',\n",
       "       '2019-08-21', '2019-11-23', '2019-04-18', '2019-02-20',\n",
       "       '2019-12-09', '2019-01-12', '2019-03-01', '2019-09-01',\n",
       "       '2019-12-06', '2019-09-25', '2019-11-13', '2019-05-16',\n",
       "       '2019-05-24', '2019-06-26', '2019-01-15', '2019-09-10',\n",
       "       '2019-09-17', '2019-01-20', '2019-03-31', '2019-04-09',\n",
       "       '2019-05-28', '2019-10-17', '12-09-2019', '2019-09-03',\n",
       "       '2019-07-23', '2019-03-12', '2019-08-09', '01 27 2019',\n",
       "       '2019-03-04', '2019-03-19', '2019-11-21', '2019-10-05',\n",
       "       '2019-11-24', '05/06/2019', '2019-10-11', '2019-01-07',\n",
       "       '2019-07-03', '2019-06-23', '2019-06-01', '2019-07-27',\n",
       "       '2019-06-10', '2019-08-16', '2019-12-21', '2019-06-25',\n",
       "       '2019-10-01', '2019-03-07', '2019-03-06', '2019-10-26',\n",
       "       '2019-05-08'], dtype=object)"
      ]
     },
     "execution_count": 35,
     "metadata": {},
     "output_type": "execute_result"
    }
   ],
   "source": [
    "df.date.unique()"
   ]
  },
  {
   "cell_type": "code",
   "execution_count": 4,
   "id": "2c504c13",
   "metadata": {},
   "outputs": [
    {
     "data": {
      "text/plain": [
       "(268, 18)"
      ]
     },
     "execution_count": 4,
     "metadata": {},
     "output_type": "execute_result"
    }
   ],
   "source": [
    "df.shape"
   ]
  },
  {
   "cell_type": "markdown",
   "id": "7c53d40f",
   "metadata": {},
   "source": [
    "# Análisis exploratorio de nuestros datos: "
   ]
  },
  {
   "cell_type": "code",
   "execution_count": 5,
   "id": "c81a0d55",
   "metadata": {},
   "outputs": [
    {
     "name": "stdout",
     "output_type": "stream",
     "text": [
      "<class 'pandas.core.frame.DataFrame'>\n",
      "Int64Index: 268 entries, 0 to 267\n",
      "Data columns (total 18 columns):\n",
      " #   Column                         Non-Null Count  Dtype  \n",
      "---  ------                         --------------  -----  \n",
      " 0   _id                            268 non-null    object \n",
      " 1   order_id                       268 non-null    object \n",
      " 2   customer_id                    268 non-null    object \n",
      " 3   date                           268 non-null    object \n",
      " 4   nearest_warehouse              268 non-null    object \n",
      " 5   shopping_cart                  268 non-null    object \n",
      " 6   order_price                    268 non-null    int64  \n",
      " 7   delivery_charges               268 non-null    float64\n",
      " 8   customer_lat                   268 non-null    float64\n",
      " 9   customer_long                  268 non-null    float64\n",
      " 10  coupon_discount                268 non-null    int64  \n",
      " 11  order_total                    268 non-null    float64\n",
      " 12  season                         268 non-null    object \n",
      " 13  is_expedited_delivery          268 non-null    bool   \n",
      " 14  distance_to_nearest_warehouse  268 non-null    float64\n",
      " 15  latest_customer_review         268 non-null    object \n",
      " 16  is_happy_customer              268 non-null    bool   \n",
      " 17  geometria                      268 non-null    object \n",
      "dtypes: bool(2), float64(5), int64(2), object(9)\n",
      "memory usage: 36.1+ KB\n"
     ]
    }
   ],
   "source": [
    "df.info()"
   ]
  },
  {
   "cell_type": "code",
   "execution_count": 6,
   "id": "63bdbb65",
   "metadata": {},
   "outputs": [
    {
     "data": {
      "text/html": [
       "<div>\n",
       "<style scoped>\n",
       "    .dataframe tbody tr th:only-of-type {\n",
       "        vertical-align: middle;\n",
       "    }\n",
       "\n",
       "    .dataframe tbody tr th {\n",
       "        vertical-align: top;\n",
       "    }\n",
       "\n",
       "    .dataframe thead th {\n",
       "        text-align: right;\n",
       "    }\n",
       "</style>\n",
       "<table border=\"1\" class=\"dataframe\">\n",
       "  <thead>\n",
       "    <tr style=\"text-align: right;\">\n",
       "      <th></th>\n",
       "      <th>count</th>\n",
       "      <th>mean</th>\n",
       "      <th>std</th>\n",
       "      <th>min</th>\n",
       "      <th>25%</th>\n",
       "      <th>50%</th>\n",
       "      <th>75%</th>\n",
       "      <th>max</th>\n",
       "    </tr>\n",
       "  </thead>\n",
       "  <tbody>\n",
       "    <tr>\n",
       "      <th>order_price</th>\n",
       "      <td>268.0</td>\n",
       "      <td>25414.589552</td>\n",
       "      <td>83839.758451</td>\n",
       "      <td>1010.000000</td>\n",
       "      <td>6787.500000</td>\n",
       "      <td>13007.500000</td>\n",
       "      <td>21245.000000</td>\n",
       "      <td>865916.000000</td>\n",
       "    </tr>\n",
       "    <tr>\n",
       "      <th>delivery_charges</th>\n",
       "      <td>268.0</td>\n",
       "      <td>75.225634</td>\n",
       "      <td>13.952814</td>\n",
       "      <td>48.550000</td>\n",
       "      <td>65.220000</td>\n",
       "      <td>75.090000</td>\n",
       "      <td>80.095000</td>\n",
       "      <td>106.980000</td>\n",
       "    </tr>\n",
       "    <tr>\n",
       "      <th>customer_lat</th>\n",
       "      <td>268.0</td>\n",
       "      <td>-37.816379</td>\n",
       "      <td>0.005069</td>\n",
       "      <td>-37.827123</td>\n",
       "      <td>-37.820488</td>\n",
       "      <td>-37.816187</td>\n",
       "      <td>-37.812174</td>\n",
       "      <td>-37.805979</td>\n",
       "    </tr>\n",
       "    <tr>\n",
       "      <th>customer_long</th>\n",
       "      <td>268.0</td>\n",
       "      <td>144.965724</td>\n",
       "      <td>0.009947</td>\n",
       "      <td>144.945619</td>\n",
       "      <td>144.958985</td>\n",
       "      <td>144.965357</td>\n",
       "      <td>144.971889</td>\n",
       "      <td>144.990589</td>\n",
       "    </tr>\n",
       "    <tr>\n",
       "      <th>coupon_discount</th>\n",
       "      <td>268.0</td>\n",
       "      <td>10.708955</td>\n",
       "      <td>8.625652</td>\n",
       "      <td>0.000000</td>\n",
       "      <td>5.000000</td>\n",
       "      <td>10.000000</td>\n",
       "      <td>15.000000</td>\n",
       "      <td>25.000000</td>\n",
       "    </tr>\n",
       "    <tr>\n",
       "      <th>order_total</th>\n",
       "      <td>268.0</td>\n",
       "      <td>26614.743545</td>\n",
       "      <td>99483.405419</td>\n",
       "      <td>915.000000</td>\n",
       "      <td>5983.150000</td>\n",
       "      <td>11374.780000</td>\n",
       "      <td>18919.640000</td>\n",
       "      <td>909463.940000</td>\n",
       "    </tr>\n",
       "    <tr>\n",
       "      <th>distance_to_nearest_warehouse</th>\n",
       "      <td>268.0</td>\n",
       "      <td>1.571623</td>\n",
       "      <td>6.843761</td>\n",
       "      <td>0.107800</td>\n",
       "      <td>0.622925</td>\n",
       "      <td>0.859600</td>\n",
       "      <td>1.105200</td>\n",
       "      <td>68.889200</td>\n",
       "    </tr>\n",
       "  </tbody>\n",
       "</table>\n",
       "</div>"
      ],
      "text/plain": [
       "                               count          mean           std          min  \\\n",
       "order_price                    268.0  25414.589552  83839.758451  1010.000000   \n",
       "delivery_charges               268.0     75.225634     13.952814    48.550000   \n",
       "customer_lat                   268.0    -37.816379      0.005069   -37.827123   \n",
       "customer_long                  268.0    144.965724      0.009947   144.945619   \n",
       "coupon_discount                268.0     10.708955      8.625652     0.000000   \n",
       "order_total                    268.0  26614.743545  99483.405419   915.000000   \n",
       "distance_to_nearest_warehouse  268.0      1.571623      6.843761     0.107800   \n",
       "\n",
       "                                       25%           50%           75%  \\\n",
       "order_price                    6787.500000  13007.500000  21245.000000   \n",
       "delivery_charges                 65.220000     75.090000     80.095000   \n",
       "customer_lat                    -37.820488    -37.816187    -37.812174   \n",
       "customer_long                   144.958985    144.965357    144.971889   \n",
       "coupon_discount                   5.000000     10.000000     15.000000   \n",
       "order_total                    5983.150000  11374.780000  18919.640000   \n",
       "distance_to_nearest_warehouse     0.622925      0.859600      1.105200   \n",
       "\n",
       "                                         max  \n",
       "order_price                    865916.000000  \n",
       "delivery_charges                  106.980000  \n",
       "customer_lat                      -37.805979  \n",
       "customer_long                     144.990589  \n",
       "coupon_discount                    25.000000  \n",
       "order_total                    909463.940000  \n",
       "distance_to_nearest_warehouse      68.889200  "
      ]
     },
     "execution_count": 6,
     "metadata": {},
     "output_type": "execute_result"
    }
   ],
   "source": [
    "df.describe().T"
   ]
  },
  {
   "cell_type": "code",
   "execution_count": 7,
   "id": "2d77068f",
   "metadata": {},
   "outputs": [
    {
     "data": {
      "text/plain": [
       "_id                              0\n",
       "order_id                         0\n",
       "customer_id                      0\n",
       "date                             0\n",
       "nearest_warehouse                0\n",
       "shopping_cart                    0\n",
       "order_price                      0\n",
       "delivery_charges                 0\n",
       "customer_lat                     0\n",
       "customer_long                    0\n",
       "coupon_discount                  0\n",
       "order_total                      0\n",
       "season                           0\n",
       "is_expedited_delivery            0\n",
       "distance_to_nearest_warehouse    0\n",
       "latest_customer_review           0\n",
       "is_happy_customer                0\n",
       "geometria                        0\n",
       "dtype: int64"
      ]
     },
     "execution_count": 7,
     "metadata": {},
     "output_type": "execute_result"
    }
   ],
   "source": [
    "df.isnull().sum()"
   ]
  },
  {
   "cell_type": "code",
   "execution_count": 8,
   "id": "6a22846d",
   "metadata": {},
   "outputs": [
    {
     "data": {
      "text/plain": [
       "0"
      ]
     },
     "execution_count": 8,
     "metadata": {},
     "output_type": "execute_result"
    }
   ],
   "source": [
    "df.duplicated().sum()"
   ]
  },
  {
   "cell_type": "markdown",
   "id": "1b92271c",
   "metadata": {},
   "source": [
    "# Transformación"
   ]
  },
  {
   "cell_type": "markdown",
   "id": "4156436e",
   "metadata": {},
   "source": [
    "## Columna `shopping cart` "
   ]
  },
  {
   "cell_type": "code",
   "execution_count": 9,
   "id": "e84fbe33",
   "metadata": {},
   "outputs": [
    {
     "data": {
      "text/plain": [
       "\"[('iStream', 2), ('Olivia x460', 1), ('Toshika 750', 1), ('pearTV', 2)]\""
      ]
     },
     "execution_count": 9,
     "metadata": {},
     "output_type": "execute_result"
    }
   ],
   "source": [
    "df['shopping_cart'][0]"
   ]
  },
  {
   "cell_type": "code",
   "execution_count": 10,
   "id": "558276cf",
   "metadata": {},
   "outputs": [],
   "source": [
    "import ast\n",
    "\n",
    "df['shopping_cart'] = df['shopping_cart'].apply(ast.literal_eval)"
   ]
  },
  {
   "cell_type": "code",
   "execution_count": 11,
   "id": "166dc736",
   "metadata": {},
   "outputs": [
    {
     "data": {
      "text/plain": [
       "[('iStream', 2), ('Olivia x460', 1), ('Toshika 750', 1), ('pearTV', 2)]"
      ]
     },
     "execution_count": 11,
     "metadata": {},
     "output_type": "execute_result"
    }
   ],
   "source": [
    "df['shopping_cart'][0]"
   ]
  },
  {
   "cell_type": "code",
   "execution_count": 12,
   "id": "34f4c3bc",
   "metadata": {},
   "outputs": [],
   "source": [
    "df = df.explode('shopping_cart')\n"
   ]
  },
  {
   "cell_type": "code",
   "execution_count": 13,
   "id": "211daa91",
   "metadata": {},
   "outputs": [
    {
     "data": {
      "text/html": [
       "<div>\n",
       "<style scoped>\n",
       "    .dataframe tbody tr th:only-of-type {\n",
       "        vertical-align: middle;\n",
       "    }\n",
       "\n",
       "    .dataframe tbody tr th {\n",
       "        vertical-align: top;\n",
       "    }\n",
       "\n",
       "    .dataframe thead th {\n",
       "        text-align: right;\n",
       "    }\n",
       "</style>\n",
       "<table border=\"1\" class=\"dataframe\">\n",
       "  <thead>\n",
       "    <tr style=\"text-align: right;\">\n",
       "      <th></th>\n",
       "      <th>_id</th>\n",
       "      <th>order_id</th>\n",
       "      <th>customer_id</th>\n",
       "      <th>date</th>\n",
       "      <th>nearest_warehouse</th>\n",
       "      <th>shopping_cart</th>\n",
       "      <th>order_price</th>\n",
       "      <th>delivery_charges</th>\n",
       "      <th>customer_lat</th>\n",
       "      <th>customer_long</th>\n",
       "      <th>coupon_discount</th>\n",
       "      <th>order_total</th>\n",
       "      <th>season</th>\n",
       "      <th>is_expedited_delivery</th>\n",
       "      <th>distance_to_nearest_warehouse</th>\n",
       "      <th>latest_customer_review</th>\n",
       "      <th>is_happy_customer</th>\n",
       "      <th>geometria</th>\n",
       "    </tr>\n",
       "  </thead>\n",
       "  <tbody>\n",
       "    <tr>\n",
       "      <th>0</th>\n",
       "      <td>6207771e6828d639036be697</td>\n",
       "      <td>ORD037011</td>\n",
       "      <td>ID0847526574</td>\n",
       "      <td>2019-11-11</td>\n",
       "      <td>Nickolson</td>\n",
       "      <td>(iStream, 2)</td>\n",
       "      <td>18465</td>\n",
       "      <td>102.31</td>\n",
       "      <td>-37.823506</td>\n",
       "      <td>144.967576</td>\n",
       "      <td>0</td>\n",
       "      <td>18567.31</td>\n",
       "      <td>Spring</td>\n",
       "      <td>True</td>\n",
       "      <td>0.5736</td>\n",
       "      <td>better than alcon never buy and overpriced alc...</td>\n",
       "      <td>True</td>\n",
       "      <td>{'type': 'Point', 'coordinates': [144.9675756,...</td>\n",
       "    </tr>\n",
       "    <tr>\n",
       "      <th>0</th>\n",
       "      <td>6207771e6828d639036be697</td>\n",
       "      <td>ORD037011</td>\n",
       "      <td>ID0847526574</td>\n",
       "      <td>2019-11-11</td>\n",
       "      <td>Nickolson</td>\n",
       "      <td>(Olivia x460, 1)</td>\n",
       "      <td>18465</td>\n",
       "      <td>102.31</td>\n",
       "      <td>-37.823506</td>\n",
       "      <td>144.967576</td>\n",
       "      <td>0</td>\n",
       "      <td>18567.31</td>\n",
       "      <td>Spring</td>\n",
       "      <td>True</td>\n",
       "      <td>0.5736</td>\n",
       "      <td>better than alcon never buy and overpriced alc...</td>\n",
       "      <td>True</td>\n",
       "      <td>{'type': 'Point', 'coordinates': [144.9675756,...</td>\n",
       "    </tr>\n",
       "  </tbody>\n",
       "</table>\n",
       "</div>"
      ],
      "text/plain": [
       "                        _id   order_id   customer_id        date  \\\n",
       "0  6207771e6828d639036be697  ORD037011  ID0847526574  2019-11-11   \n",
       "0  6207771e6828d639036be697  ORD037011  ID0847526574  2019-11-11   \n",
       "\n",
       "  nearest_warehouse     shopping_cart  order_price  delivery_charges  \\\n",
       "0         Nickolson      (iStream, 2)        18465            102.31   \n",
       "0         Nickolson  (Olivia x460, 1)        18465            102.31   \n",
       "\n",
       "   customer_lat  customer_long  coupon_discount  order_total  season  \\\n",
       "0    -37.823506     144.967576                0     18567.31  Spring   \n",
       "0    -37.823506     144.967576                0     18567.31  Spring   \n",
       "\n",
       "   is_expedited_delivery  distance_to_nearest_warehouse  \\\n",
       "0                   True                         0.5736   \n",
       "0                   True                         0.5736   \n",
       "\n",
       "                              latest_customer_review  is_happy_customer  \\\n",
       "0  better than alcon never buy and overpriced alc...               True   \n",
       "0  better than alcon never buy and overpriced alc...               True   \n",
       "\n",
       "                                           geometria  \n",
       "0  {'type': 'Point', 'coordinates': [144.9675756,...  \n",
       "0  {'type': 'Point', 'coordinates': [144.9675756,...  "
      ]
     },
     "execution_count": 13,
     "metadata": {},
     "output_type": "execute_result"
    }
   ],
   "source": [
    "df.head(2)"
   ]
  },
  {
   "cell_type": "code",
   "execution_count": 14,
   "id": "239cd7fb",
   "metadata": {},
   "outputs": [],
   "source": [
    "df[[\"producto\", \"cantidad\"]] = df.shopping_cart.apply(pd.Series)"
   ]
  },
  {
   "cell_type": "code",
   "execution_count": 15,
   "id": "2ebed621",
   "metadata": {},
   "outputs": [
    {
     "data": {
      "text/html": [
       "<div>\n",
       "<style scoped>\n",
       "    .dataframe tbody tr th:only-of-type {\n",
       "        vertical-align: middle;\n",
       "    }\n",
       "\n",
       "    .dataframe tbody tr th {\n",
       "        vertical-align: top;\n",
       "    }\n",
       "\n",
       "    .dataframe thead th {\n",
       "        text-align: right;\n",
       "    }\n",
       "</style>\n",
       "<table border=\"1\" class=\"dataframe\">\n",
       "  <thead>\n",
       "    <tr style=\"text-align: right;\">\n",
       "      <th></th>\n",
       "      <th>_id</th>\n",
       "      <th>order_id</th>\n",
       "      <th>customer_id</th>\n",
       "      <th>date</th>\n",
       "      <th>nearest_warehouse</th>\n",
       "      <th>shopping_cart</th>\n",
       "      <th>order_price</th>\n",
       "      <th>delivery_charges</th>\n",
       "      <th>customer_lat</th>\n",
       "      <th>customer_long</th>\n",
       "      <th>coupon_discount</th>\n",
       "      <th>order_total</th>\n",
       "      <th>season</th>\n",
       "      <th>is_expedited_delivery</th>\n",
       "      <th>distance_to_nearest_warehouse</th>\n",
       "      <th>latest_customer_review</th>\n",
       "      <th>is_happy_customer</th>\n",
       "      <th>geometria</th>\n",
       "      <th>producto</th>\n",
       "      <th>cantidad</th>\n",
       "    </tr>\n",
       "  </thead>\n",
       "  <tbody>\n",
       "    <tr>\n",
       "      <th>0</th>\n",
       "      <td>6207771e6828d639036be697</td>\n",
       "      <td>ORD037011</td>\n",
       "      <td>ID0847526574</td>\n",
       "      <td>2019-11-11</td>\n",
       "      <td>Nickolson</td>\n",
       "      <td>(iStream, 2)</td>\n",
       "      <td>18465</td>\n",
       "      <td>102.31</td>\n",
       "      <td>-37.823506</td>\n",
       "      <td>144.967576</td>\n",
       "      <td>0</td>\n",
       "      <td>18567.31</td>\n",
       "      <td>Spring</td>\n",
       "      <td>True</td>\n",
       "      <td>0.5736</td>\n",
       "      <td>better than alcon never buy and overpriced alc...</td>\n",
       "      <td>True</td>\n",
       "      <td>{'type': 'Point', 'coordinates': [144.9675756,...</td>\n",
       "      <td>iStream</td>\n",
       "      <td>2</td>\n",
       "    </tr>\n",
       "    <tr>\n",
       "      <th>0</th>\n",
       "      <td>6207771e6828d639036be697</td>\n",
       "      <td>ORD037011</td>\n",
       "      <td>ID0847526574</td>\n",
       "      <td>2019-11-11</td>\n",
       "      <td>Nickolson</td>\n",
       "      <td>(Olivia x460, 1)</td>\n",
       "      <td>18465</td>\n",
       "      <td>102.31</td>\n",
       "      <td>-37.823506</td>\n",
       "      <td>144.967576</td>\n",
       "      <td>0</td>\n",
       "      <td>18567.31</td>\n",
       "      <td>Spring</td>\n",
       "      <td>True</td>\n",
       "      <td>0.5736</td>\n",
       "      <td>better than alcon never buy and overpriced alc...</td>\n",
       "      <td>True</td>\n",
       "      <td>{'type': 'Point', 'coordinates': [144.9675756,...</td>\n",
       "      <td>Olivia x460</td>\n",
       "      <td>1</td>\n",
       "    </tr>\n",
       "  </tbody>\n",
       "</table>\n",
       "</div>"
      ],
      "text/plain": [
       "                        _id   order_id   customer_id        date  \\\n",
       "0  6207771e6828d639036be697  ORD037011  ID0847526574  2019-11-11   \n",
       "0  6207771e6828d639036be697  ORD037011  ID0847526574  2019-11-11   \n",
       "\n",
       "  nearest_warehouse     shopping_cart  order_price  delivery_charges  \\\n",
       "0         Nickolson      (iStream, 2)        18465            102.31   \n",
       "0         Nickolson  (Olivia x460, 1)        18465            102.31   \n",
       "\n",
       "   customer_lat  customer_long  coupon_discount  order_total  season  \\\n",
       "0    -37.823506     144.967576                0     18567.31  Spring   \n",
       "0    -37.823506     144.967576                0     18567.31  Spring   \n",
       "\n",
       "   is_expedited_delivery  distance_to_nearest_warehouse  \\\n",
       "0                   True                         0.5736   \n",
       "0                   True                         0.5736   \n",
       "\n",
       "                              latest_customer_review  is_happy_customer  \\\n",
       "0  better than alcon never buy and overpriced alc...               True   \n",
       "0  better than alcon never buy and overpriced alc...               True   \n",
       "\n",
       "                                           geometria     producto  cantidad  \n",
       "0  {'type': 'Point', 'coordinates': [144.9675756,...      iStream         2  \n",
       "0  {'type': 'Point', 'coordinates': [144.9675756,...  Olivia x460         1  "
      ]
     },
     "execution_count": 15,
     "metadata": {},
     "output_type": "execute_result"
    }
   ],
   "source": [
    "df.head(2)"
   ]
  },
  {
   "cell_type": "code",
   "execution_count": 16,
   "id": "4eb52f30",
   "metadata": {},
   "outputs": [],
   "source": [
    "df.drop([\"shopping_cart\"], axis = 1,  inplace = True)"
   ]
  },
  {
   "cell_type": "code",
   "execution_count": 17,
   "id": "f05b67ee",
   "metadata": {},
   "outputs": [
    {
     "data": {
      "text/html": [
       "<div>\n",
       "<style scoped>\n",
       "    .dataframe tbody tr th:only-of-type {\n",
       "        vertical-align: middle;\n",
       "    }\n",
       "\n",
       "    .dataframe tbody tr th {\n",
       "        vertical-align: top;\n",
       "    }\n",
       "\n",
       "    .dataframe thead th {\n",
       "        text-align: right;\n",
       "    }\n",
       "</style>\n",
       "<table border=\"1\" class=\"dataframe\">\n",
       "  <thead>\n",
       "    <tr style=\"text-align: right;\">\n",
       "      <th></th>\n",
       "      <th>_id</th>\n",
       "      <th>order_id</th>\n",
       "      <th>customer_id</th>\n",
       "      <th>date</th>\n",
       "      <th>nearest_warehouse</th>\n",
       "      <th>order_price</th>\n",
       "      <th>delivery_charges</th>\n",
       "      <th>customer_lat</th>\n",
       "      <th>customer_long</th>\n",
       "      <th>coupon_discount</th>\n",
       "      <th>order_total</th>\n",
       "      <th>season</th>\n",
       "      <th>is_expedited_delivery</th>\n",
       "      <th>distance_to_nearest_warehouse</th>\n",
       "      <th>latest_customer_review</th>\n",
       "      <th>is_happy_customer</th>\n",
       "      <th>geometria</th>\n",
       "      <th>producto</th>\n",
       "      <th>cantidad</th>\n",
       "    </tr>\n",
       "  </thead>\n",
       "  <tbody>\n",
       "    <tr>\n",
       "      <th>0</th>\n",
       "      <td>6207771e6828d639036be697</td>\n",
       "      <td>ORD037011</td>\n",
       "      <td>ID0847526574</td>\n",
       "      <td>2019-11-11</td>\n",
       "      <td>Nickolson</td>\n",
       "      <td>18465</td>\n",
       "      <td>102.31</td>\n",
       "      <td>-37.823506</td>\n",
       "      <td>144.967576</td>\n",
       "      <td>0</td>\n",
       "      <td>18567.31</td>\n",
       "      <td>Spring</td>\n",
       "      <td>True</td>\n",
       "      <td>0.5736</td>\n",
       "      <td>better than alcon never buy and overpriced alc...</td>\n",
       "      <td>True</td>\n",
       "      <td>{'type': 'Point', 'coordinates': [144.9675756,...</td>\n",
       "      <td>iStream</td>\n",
       "      <td>2</td>\n",
       "    </tr>\n",
       "    <tr>\n",
       "      <th>0</th>\n",
       "      <td>6207771e6828d639036be697</td>\n",
       "      <td>ORD037011</td>\n",
       "      <td>ID0847526574</td>\n",
       "      <td>2019-11-11</td>\n",
       "      <td>Nickolson</td>\n",
       "      <td>18465</td>\n",
       "      <td>102.31</td>\n",
       "      <td>-37.823506</td>\n",
       "      <td>144.967576</td>\n",
       "      <td>0</td>\n",
       "      <td>18567.31</td>\n",
       "      <td>Spring</td>\n",
       "      <td>True</td>\n",
       "      <td>0.5736</td>\n",
       "      <td>better than alcon never buy and overpriced alc...</td>\n",
       "      <td>True</td>\n",
       "      <td>{'type': 'Point', 'coordinates': [144.9675756,...</td>\n",
       "      <td>Olivia x460</td>\n",
       "      <td>1</td>\n",
       "    </tr>\n",
       "  </tbody>\n",
       "</table>\n",
       "</div>"
      ],
      "text/plain": [
       "                        _id   order_id   customer_id        date  \\\n",
       "0  6207771e6828d639036be697  ORD037011  ID0847526574  2019-11-11   \n",
       "0  6207771e6828d639036be697  ORD037011  ID0847526574  2019-11-11   \n",
       "\n",
       "  nearest_warehouse  order_price  delivery_charges  customer_lat  \\\n",
       "0         Nickolson        18465            102.31    -37.823506   \n",
       "0         Nickolson        18465            102.31    -37.823506   \n",
       "\n",
       "   customer_long  coupon_discount  order_total  season  is_expedited_delivery  \\\n",
       "0     144.967576                0     18567.31  Spring                   True   \n",
       "0     144.967576                0     18567.31  Spring                   True   \n",
       "\n",
       "   distance_to_nearest_warehouse  \\\n",
       "0                         0.5736   \n",
       "0                         0.5736   \n",
       "\n",
       "                              latest_customer_review  is_happy_customer  \\\n",
       "0  better than alcon never buy and overpriced alc...               True   \n",
       "0  better than alcon never buy and overpriced alc...               True   \n",
       "\n",
       "                                           geometria     producto  cantidad  \n",
       "0  {'type': 'Point', 'coordinates': [144.9675756,...      iStream         2  \n",
       "0  {'type': 'Point', 'coordinates': [144.9675756,...  Olivia x460         1  "
      ]
     },
     "execution_count": 17,
     "metadata": {},
     "output_type": "execute_result"
    }
   ],
   "source": [
    "df.head(2)"
   ]
  },
  {
   "cell_type": "markdown",
   "id": "24a090a4",
   "metadata": {},
   "source": [
    "## Columna de latest_customer_review"
   ]
  },
  {
   "cell_type": "code",
   "execution_count": 18,
   "id": "43a91f46",
   "metadata": {},
   "outputs": [],
   "source": [
    "# primero la convertimos a datetime\n",
    "\n",
    "df.date = pd.to_datetime(df.date)"
   ]
  },
  {
   "cell_type": "code",
   "execution_count": 32,
   "id": "dbb9e581",
   "metadata": {},
   "outputs": [
    {
     "data": {
      "text/plain": [
       "array(['2019-11-11T00:00:00.000000000', '2019-06-29T00:00:00.000000000',\n",
       "       '2019-10-10T00:00:00.000000000', '2019-01-28T00:00:00.000000000',\n",
       "       '2019-12-19T00:00:00.000000000', '2019-06-17T00:00:00.000000000',\n",
       "       '2019-09-07T00:00:00.000000000', '2019-07-02T00:00:00.000000000',\n",
       "       '2019-10-29T00:00:00.000000000', '2019-12-08T00:00:00.000000000',\n",
       "       '2019-03-10T00:00:00.000000000', '2019-06-13T00:00:00.000000000',\n",
       "       '2019-04-20T00:00:00.000000000', '2019-10-25T00:00:00.000000000',\n",
       "       '2019-01-04T00:00:00.000000000', '2019-02-16T00:00:00.000000000',\n",
       "       '2019-06-22T00:00:00.000000000', '2019-09-09T00:00:00.000000000',\n",
       "       '2019-08-06T00:00:00.000000000', '2019-05-12T00:00:00.000000000',\n",
       "       '2019-01-09T00:00:00.000000000', '2019-04-08T00:00:00.000000000',\n",
       "       '2019-11-06T00:00:00.000000000', '2019-03-21T00:00:00.000000000',\n",
       "       '2019-04-13T00:00:00.000000000', '2019-07-07T00:00:00.000000000',\n",
       "       '2019-11-04T00:00:00.000000000', '2019-08-07T00:00:00.000000000',\n",
       "       '2019-09-14T00:00:00.000000000', '2019-01-24T00:00:00.000000000',\n",
       "       '2019-01-08T00:00:00.000000000', '2019-10-12T00:00:00.000000000',\n",
       "       '2019-01-21T00:00:00.000000000', '2019-01-16T00:00:00.000000000',\n",
       "       '2019-02-21T00:00:00.000000000', '2019-01-18T00:00:00.000000000',\n",
       "       '2019-04-23T00:00:00.000000000', '2019-09-12T00:00:00.000000000',\n",
       "       '2019-08-05T00:00:00.000000000', '2019-02-02T00:00:00.000000000',\n",
       "       '2019-12-16T00:00:00.000000000', '2019-03-28T00:00:00.000000000',\n",
       "       '2019-02-26T00:00:00.000000000', '2019-03-02T00:00:00.000000000',\n",
       "       '2019-02-28T00:00:00.000000000', '2019-08-26T00:00:00.000000000',\n",
       "       '2019-11-03T00:00:00.000000000', '2019-03-24T00:00:00.000000000',\n",
       "       '2019-04-25T00:00:00.000000000', '2019-05-05T00:00:00.000000000',\n",
       "       '2019-12-05T00:00:00.000000000', '2019-03-27T00:00:00.000000000',\n",
       "       '2019-07-18T00:00:00.000000000', '2019-04-07T00:00:00.000000000',\n",
       "       '2019-09-11T00:00:00.000000000', '2019-05-15T00:00:00.000000000',\n",
       "       '2019-02-24T00:00:00.000000000', '2019-01-13T00:00:00.000000000',\n",
       "       '2019-12-12T00:00:00.000000000', '2019-05-17T00:00:00.000000000',\n",
       "       '2019-08-13T00:00:00.000000000', '2019-12-24T00:00:00.000000000',\n",
       "       '2019-07-21T00:00:00.000000000', '2019-04-02T00:00:00.000000000',\n",
       "       '2019-07-15T00:00:00.000000000', '2019-10-14T00:00:00.000000000',\n",
       "       '2019-06-21T00:00:00.000000000', '2019-11-02T00:00:00.000000000',\n",
       "       '2019-10-16T00:00:00.000000000', '2019-08-03T00:00:00.000000000',\n",
       "       '2019-05-27T00:00:00.000000000', '2019-07-05T00:00:00.000000000',\n",
       "       '2019-12-01T00:00:00.000000000', '2019-06-03T00:00:00.000000000',\n",
       "       '2019-05-21T00:00:00.000000000', '2019-07-30T00:00:00.000000000',\n",
       "       '2019-07-25T00:00:00.000000000', '2019-02-14T00:00:00.000000000',\n",
       "       '2019-06-16T00:00:00.000000000', '2019-02-19T00:00:00.000000000',\n",
       "       '2019-09-23T00:00:00.000000000', '2019-04-28T00:00:00.000000000',\n",
       "       '2019-11-17T00:00:00.000000000', '2019-05-25T00:00:00.000000000',\n",
       "       '2019-08-18T00:00:00.000000000', '2019-01-23T00:00:00.000000000',\n",
       "       '2019-12-13T00:00:00.000000000', '2019-01-22T00:00:00.000000000',\n",
       "       '2019-10-20T00:00:00.000000000', '2019-04-03T00:00:00.000000000',\n",
       "       '2019-02-05T00:00:00.000000000', '2019-02-12T00:00:00.000000000',\n",
       "       '2019-05-07T00:00:00.000000000', '2019-10-08T00:00:00.000000000',\n",
       "       '2019-05-03T00:00:00.000000000', '2019-07-11T00:00:00.000000000',\n",
       "       '2019-11-27T00:00:00.000000000', '2019-09-29T00:00:00.000000000',\n",
       "       '2019-04-05T00:00:00.000000000', '2019-06-20T00:00:00.000000000',\n",
       "       '2019-07-09T00:00:00.000000000', '2019-08-17T00:00:00.000000000',\n",
       "       '2019-06-05T00:00:00.000000000', '2019-02-27T00:00:00.000000000',\n",
       "       '2019-03-13T00:00:00.000000000', '2019-09-04T00:00:00.000000000',\n",
       "       '2019-08-21T00:00:00.000000000', '2019-11-23T00:00:00.000000000',\n",
       "       '2019-04-18T00:00:00.000000000', '2019-02-20T00:00:00.000000000',\n",
       "       '2019-12-09T00:00:00.000000000', '2019-01-12T00:00:00.000000000',\n",
       "       '2019-03-01T00:00:00.000000000', '2019-09-01T00:00:00.000000000',\n",
       "       '2019-12-06T00:00:00.000000000', '2019-09-25T00:00:00.000000000',\n",
       "       '2019-11-13T00:00:00.000000000', '2019-05-16T00:00:00.000000000',\n",
       "       '2019-05-24T00:00:00.000000000', '2019-06-26T00:00:00.000000000',\n",
       "       '2019-01-15T00:00:00.000000000', '2019-09-10T00:00:00.000000000',\n",
       "       '2019-09-17T00:00:00.000000000', '2019-01-20T00:00:00.000000000',\n",
       "       '2019-03-31T00:00:00.000000000', '2019-04-09T00:00:00.000000000',\n",
       "       '2019-05-28T00:00:00.000000000', '2019-10-17T00:00:00.000000000',\n",
       "       '2019-09-03T00:00:00.000000000', '2019-07-23T00:00:00.000000000',\n",
       "       '2019-03-12T00:00:00.000000000', '2019-08-09T00:00:00.000000000',\n",
       "       '2019-01-27T00:00:00.000000000', '2019-03-04T00:00:00.000000000',\n",
       "       '2019-03-19T00:00:00.000000000', '2019-11-21T00:00:00.000000000',\n",
       "       '2019-10-05T00:00:00.000000000', '2019-11-24T00:00:00.000000000',\n",
       "       '2019-05-06T00:00:00.000000000', '2019-10-11T00:00:00.000000000',\n",
       "       '2019-01-07T00:00:00.000000000', '2019-07-03T00:00:00.000000000',\n",
       "       '2019-06-23T00:00:00.000000000', '2019-06-01T00:00:00.000000000',\n",
       "       '2019-07-27T00:00:00.000000000', '2019-06-10T00:00:00.000000000',\n",
       "       '2019-08-16T00:00:00.000000000', '2019-12-21T00:00:00.000000000',\n",
       "       '2019-06-25T00:00:00.000000000', '2019-10-01T00:00:00.000000000',\n",
       "       '2019-03-07T00:00:00.000000000', '2019-03-06T00:00:00.000000000',\n",
       "       '2019-10-26T00:00:00.000000000', '2019-05-08T00:00:00.000000000'],\n",
       "      dtype='datetime64[ns]')"
      ]
     },
     "execution_count": 32,
     "metadata": {},
     "output_type": "execute_result"
    }
   ],
   "source": [
    "df.date.unique()"
   ]
  },
  {
   "cell_type": "code",
   "execution_count": 19,
   "id": "bfe8d6af",
   "metadata": {},
   "outputs": [
    {
     "data": {
      "text/plain": [
       "_id                                      object\n",
       "order_id                                 object\n",
       "customer_id                              object\n",
       "date                             datetime64[ns]\n",
       "nearest_warehouse                        object\n",
       "order_price                               int64\n",
       "delivery_charges                        float64\n",
       "customer_lat                            float64\n",
       "customer_long                           float64\n",
       "coupon_discount                           int64\n",
       "order_total                             float64\n",
       "season                                   object\n",
       "is_expedited_delivery                      bool\n",
       "distance_to_nearest_warehouse           float64\n",
       "latest_customer_review                   object\n",
       "is_happy_customer                          bool\n",
       "geometria                                object\n",
       "producto                                 object\n",
       "cantidad                                  int64\n",
       "dtype: object"
      ]
     },
     "execution_count": 19,
     "metadata": {},
     "output_type": "execute_result"
    }
   ],
   "source": [
    "df.dtypes"
   ]
  },
  {
   "cell_type": "markdown",
   "id": "f3df1e4f",
   "metadata": {},
   "source": [
    "## Columna `latest_customer_review` "
   ]
  },
  {
   "cell_type": "code",
   "execution_count": 20,
   "id": "96c39eff",
   "metadata": {},
   "outputs": [],
   "source": [
    "def opiniones (col):\n",
    "    good = re.findall(r\".*great.*|best| ples.*| good.* | nice | excel.*| five sta.*|four sta.*\", col)\n",
    "    bad = re.findall(r\"does not.* | did not.* |didn't| sad.*| wrong| problem.*| terrible | not happy|one sta.*|two sta.*|sorry\", col)\n",
    "    \n",
    "    if good:\n",
    "        return \"Good\"\n",
    "    elif bad:\n",
    "        return \"Poor\"\n",
    "    else:\n",
    "        return \"neutral\"\n",
    " "
   ]
  },
  {
   "cell_type": "code",
   "execution_count": 21,
   "id": "52e1fc1f",
   "metadata": {},
   "outputs": [],
   "source": [
    "df[\"opiniones\"] = df.latest_customer_review.apply(opiniones)"
   ]
  },
  {
   "cell_type": "code",
   "execution_count": 22,
   "id": "f7f268d6",
   "metadata": {},
   "outputs": [
    {
     "data": {
      "text/plain": [
       "array(['neutral', 'Good', 'Poor'], dtype=object)"
      ]
     },
     "execution_count": 22,
     "metadata": {},
     "output_type": "execute_result"
    }
   ],
   "source": [
    "df.opiniones.unique()"
   ]
  },
  {
   "cell_type": "code",
   "execution_count": 23,
   "id": "9a4b9cc2",
   "metadata": {},
   "outputs": [
    {
     "data": {
      "text/plain": [
       "neutral    362\n",
       "Good       349\n",
       "Poor        98\n",
       "Name: opiniones, dtype: int64"
      ]
     },
     "execution_count": 23,
     "metadata": {},
     "output_type": "execute_result"
    }
   ],
   "source": [
    "df.opiniones.value_counts()"
   ]
  },
  {
   "cell_type": "code",
   "execution_count": 24,
   "id": "eca410fa",
   "metadata": {},
   "outputs": [
    {
     "data": {
      "text/html": [
       "<div>\n",
       "<style scoped>\n",
       "    .dataframe tbody tr th:only-of-type {\n",
       "        vertical-align: middle;\n",
       "    }\n",
       "\n",
       "    .dataframe tbody tr th {\n",
       "        vertical-align: top;\n",
       "    }\n",
       "\n",
       "    .dataframe thead th {\n",
       "        text-align: right;\n",
       "    }\n",
       "</style>\n",
       "<table border=\"1\" class=\"dataframe\">\n",
       "  <thead>\n",
       "    <tr style=\"text-align: right;\">\n",
       "      <th></th>\n",
       "      <th>_id</th>\n",
       "      <th>order_id</th>\n",
       "      <th>customer_id</th>\n",
       "      <th>date</th>\n",
       "      <th>nearest_warehouse</th>\n",
       "      <th>order_price</th>\n",
       "      <th>delivery_charges</th>\n",
       "      <th>customer_lat</th>\n",
       "      <th>customer_long</th>\n",
       "      <th>coupon_discount</th>\n",
       "      <th>order_total</th>\n",
       "      <th>season</th>\n",
       "      <th>is_expedited_delivery</th>\n",
       "      <th>distance_to_nearest_warehouse</th>\n",
       "      <th>latest_customer_review</th>\n",
       "      <th>is_happy_customer</th>\n",
       "      <th>geometria</th>\n",
       "      <th>producto</th>\n",
       "      <th>cantidad</th>\n",
       "      <th>opiniones</th>\n",
       "    </tr>\n",
       "  </thead>\n",
       "  <tbody>\n",
       "    <tr>\n",
       "      <th>0</th>\n",
       "      <td>6207771e6828d639036be697</td>\n",
       "      <td>ORD037011</td>\n",
       "      <td>ID0847526574</td>\n",
       "      <td>2019-11-11</td>\n",
       "      <td>Nickolson</td>\n",
       "      <td>18465</td>\n",
       "      <td>102.31</td>\n",
       "      <td>-37.823506</td>\n",
       "      <td>144.967576</td>\n",
       "      <td>0</td>\n",
       "      <td>18567.31</td>\n",
       "      <td>Spring</td>\n",
       "      <td>True</td>\n",
       "      <td>0.5736</td>\n",
       "      <td>better than alcon never buy and overpriced alc...</td>\n",
       "      <td>True</td>\n",
       "      <td>{'type': 'Point', 'coordinates': [144.9675756,...</td>\n",
       "      <td>iStream</td>\n",
       "      <td>2</td>\n",
       "      <td>neutral</td>\n",
       "    </tr>\n",
       "    <tr>\n",
       "      <th>0</th>\n",
       "      <td>6207771e6828d639036be697</td>\n",
       "      <td>ORD037011</td>\n",
       "      <td>ID0847526574</td>\n",
       "      <td>2019-11-11</td>\n",
       "      <td>Nickolson</td>\n",
       "      <td>18465</td>\n",
       "      <td>102.31</td>\n",
       "      <td>-37.823506</td>\n",
       "      <td>144.967576</td>\n",
       "      <td>0</td>\n",
       "      <td>18567.31</td>\n",
       "      <td>Spring</td>\n",
       "      <td>True</td>\n",
       "      <td>0.5736</td>\n",
       "      <td>better than alcon never buy and overpriced alc...</td>\n",
       "      <td>True</td>\n",
       "      <td>{'type': 'Point', 'coordinates': [144.9675756,...</td>\n",
       "      <td>Olivia x460</td>\n",
       "      <td>1</td>\n",
       "      <td>neutral</td>\n",
       "    </tr>\n",
       "  </tbody>\n",
       "</table>\n",
       "</div>"
      ],
      "text/plain": [
       "                        _id   order_id   customer_id       date  \\\n",
       "0  6207771e6828d639036be697  ORD037011  ID0847526574 2019-11-11   \n",
       "0  6207771e6828d639036be697  ORD037011  ID0847526574 2019-11-11   \n",
       "\n",
       "  nearest_warehouse  order_price  delivery_charges  customer_lat  \\\n",
       "0         Nickolson        18465            102.31    -37.823506   \n",
       "0         Nickolson        18465            102.31    -37.823506   \n",
       "\n",
       "   customer_long  coupon_discount  order_total  season  is_expedited_delivery  \\\n",
       "0     144.967576                0     18567.31  Spring                   True   \n",
       "0     144.967576                0     18567.31  Spring                   True   \n",
       "\n",
       "   distance_to_nearest_warehouse  \\\n",
       "0                         0.5736   \n",
       "0                         0.5736   \n",
       "\n",
       "                              latest_customer_review  is_happy_customer  \\\n",
       "0  better than alcon never buy and overpriced alc...               True   \n",
       "0  better than alcon never buy and overpriced alc...               True   \n",
       "\n",
       "                                           geometria     producto  cantidad  \\\n",
       "0  {'type': 'Point', 'coordinates': [144.9675756,...      iStream         2   \n",
       "0  {'type': 'Point', 'coordinates': [144.9675756,...  Olivia x460         1   \n",
       "\n",
       "  opiniones  \n",
       "0   neutral  \n",
       "0   neutral  "
      ]
     },
     "execution_count": 24,
     "metadata": {},
     "output_type": "execute_result"
    }
   ],
   "source": [
    "df.head(2)"
   ]
  },
  {
   "cell_type": "markdown",
   "id": "db765fcd",
   "metadata": {},
   "source": [
    "##  Columna `season`"
   ]
  },
  {
   "cell_type": "code",
   "execution_count": 25,
   "id": "1b723571",
   "metadata": {},
   "outputs": [
    {
     "data": {
      "text/plain": [
       "array(['Spring', 'Winter', 'Summer', 'Autumn', 'spring'], dtype=object)"
      ]
     },
     "execution_count": 25,
     "metadata": {},
     "output_type": "execute_result"
    }
   ],
   "source": [
    "# si nos fijamos en los valores únicos de la columna season tenemos algunas que están en mayúsculas y otras en minúsculas\n",
    "\n",
    "df.season.unique()"
   ]
  },
  {
   "cell_type": "code",
   "execution_count": 26,
   "id": "e3d3dcd9",
   "metadata": {},
   "outputs": [],
   "source": [
    "# vamos a ponerlas todas con la primera en mayúscula\n",
    "\n",
    "df.season = df.season.apply(str.capitalize)"
   ]
  },
  {
   "cell_type": "code",
   "execution_count": 27,
   "id": "4e6c7cdd",
   "metadata": {},
   "outputs": [
    {
     "data": {
      "text/plain": [
       "array(['Spring', 'Winter', 'Summer', 'Autumn'], dtype=object)"
      ]
     },
     "execution_count": 27,
     "metadata": {},
     "output_type": "execute_result"
    }
   ],
   "source": [
    "# veamos ahora los valores únicos\n",
    "\n",
    "df.season.unique()"
   ]
  },
  {
   "cell_type": "markdown",
   "id": "0fbf40d7",
   "metadata": {},
   "source": [
    "##  Columna `nearest_warehouse`"
   ]
  },
  {
   "cell_type": "code",
   "execution_count": 28,
   "id": "05dc0ef2",
   "metadata": {},
   "outputs": [
    {
     "data": {
      "text/plain": [
       "array(['Nickolson', 'Thompson', 'thompson', 'Bakers'], dtype=object)"
      ]
     },
     "execution_count": 28,
     "metadata": {},
     "output_type": "execute_result"
    }
   ],
   "source": [
    "# pasa lo mismo que en la columna de season\n",
    "\n",
    "df.nearest_warehouse.unique()"
   ]
  },
  {
   "cell_type": "code",
   "execution_count": 29,
   "id": "0e411003",
   "metadata": {},
   "outputs": [],
   "source": [
    "df.nearest_warehouse = df.nearest_warehouse.apply(str.capitalize)"
   ]
  },
  {
   "cell_type": "code",
   "execution_count": 30,
   "id": "b8fc0be2",
   "metadata": {},
   "outputs": [
    {
     "data": {
      "text/plain": [
       "array(['Nickolson', 'Thompson', 'Bakers'], dtype=object)"
      ]
     },
     "execution_count": 30,
     "metadata": {},
     "output_type": "execute_result"
    }
   ],
   "source": [
    "# chequeamos los resultados\n",
    "\n",
    "df.nearest_warehouse.unique()"
   ]
  },
  {
   "cell_type": "markdown",
   "id": "208fa2e2",
   "metadata": {},
   "source": [
    "# Guardamos los datos limpios"
   ]
  },
  {
   "cell_type": "code",
   "execution_count": 31,
   "id": "72e39dc8",
   "metadata": {},
   "outputs": [],
   "source": [
    "df.to_csv('../data/datos_limpios.csv')"
   ]
  }
 ],
 "metadata": {
  "kernelspec": {
   "display_name": "ironhack",
   "language": "python",
   "name": "ironhack"
  },
  "language_info": {
   "codemirror_mode": {
    "name": "ipython",
    "version": 3
   },
   "file_extension": ".py",
   "mimetype": "text/x-python",
   "name": "python",
   "nbconvert_exporter": "python",
   "pygments_lexer": "ipython3",
   "version": "3.8.5"
  },
  "toc": {
   "base_numbering": 1,
   "nav_menu": {},
   "number_sections": true,
   "sideBar": true,
   "skip_h1_title": false,
   "title_cell": "Table of Contents",
   "title_sidebar": "Contents",
   "toc_cell": true,
   "toc_position": {},
   "toc_section_display": true,
   "toc_window_display": false
  }
 },
 "nbformat": 4,
 "nbformat_minor": 5
}
