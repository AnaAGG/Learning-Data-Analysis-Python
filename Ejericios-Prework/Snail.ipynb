{
 "cells": [
  {
   "cell_type": "markdown",
   "metadata": {},
   "source": [
    "## Snail and Well extended"
   ]
  },
  {
   "cell_type": "markdown",
   "metadata": {},
   "source": [
    "\n",
    "A snail begins to climb 125 cm wall. Each day the snail rises 30 cm. But at night, while sleeping, slides 20 cm because the walls are wet. How many days does it take him to climb wall?"
   ]
  },
  {
   "cell_type": "code",
   "execution_count": 22,
   "metadata": {},
   "outputs": [],
   "source": [
    "# definimoslas variables de lo que sube el caracol durante el día, lo que baja por la noche y hasta donde tiene que llegar\n",
    "dia = 30\n",
    "noche = - 20\n",
    "total = 125\n",
    "distancia = 0"
   ]
  },
  {
   "cell_type": "code",
   "execution_count": 23,
   "metadata": {},
   "outputs": [
    {
     "data": {
      "text/plain": [
       "13"
      ]
     },
     "execution_count": 23,
     "metadata": {},
     "output_type": "execute_result"
    }
   ],
   "source": [
    "salir = 0 # iniciamos un contador donde iremos contando el número de dias que tarda el caracol en salir\n",
    "\n",
    "while distancia < 125: # mientras que el total sea menor que 125, el caracol sigue subiendo\n",
    "    distancia += dia + noche # sumamos los valores de dia y noche\n",
    "    salir += 1 # sumamos un día al contador\n",
    "\n",
    "salir\n"
   ]
  },
  {
   "cell_type": "markdown",
   "metadata": {},
   "source": [
    "\n",
    "Instead of a constant distance that the snail travels in a day, we have the distance traveled by the snail everyday now defined in a list. The data is given below:\n",
    "\n",
    "```python\n",
    "daily_climb = [30, 21, 33, 77, 44, 45, 23, 45, 12, 34, 55]\n",
    "```\n",
    "\n",
    "Note:\n",
    "Consider one full day as the sum of day and night"
   ]
  },
  {
   "cell_type": "code",
   "execution_count": 6,
   "metadata": {},
   "outputs": [],
   "source": [
    "daily_climb = [30, 21, 33, 77, 44, 45, 23, 45, 12, 34, 55]\n",
    "\n",
    "noche = - 20\n",
    "total = 125\n",
    "distancia = 0\n",
    "days = 0"
   ]
  },
  {
   "cell_type": "code",
   "execution_count": 7,
   "metadata": {},
   "outputs": [
    {
     "name": "stdout",
     "output_type": "stream",
     "text": [
      "El caracol sube 30 y llega a 30\n",
      "El caracol baja -20 y llega a 10\n",
      "El caracol sube 21 y llega a 31\n",
      "El caracol baja -20 y llega a 11\n",
      "El caracol sube 33 y llega a 44\n",
      "El caracol baja -20 y llega a 24\n",
      "El caracol sube 77 y llega a 101\n",
      "El caracol baja -20 y llega a 81\n"
     ]
    }
   ],
   "source": [
    "for i in daily_climb: # recorremos el array\n",
    "    distancia += i # sumamos el valor de cada dia\n",
    "    if distancia < 125: # si la distancia es menor que 125, el caracol sigue subiendo\n",
    "        print(f\"El caracol sube {i} y llega a {distancia}\")\n",
    "        distancia += noche # sumamos el valor de la noche\n",
    "        print(f\"El caracol baja {noche} y llega a {distancia}\")\n",
    "        days +=1\n",
    "    if distancia > 125: # si la distancia es mayor que 125, salimos del bucle\n",
    "        break\n"
   ]
  },
  {
   "cell_type": "code",
   "execution_count": 8,
   "metadata": {},
   "outputs": [
    {
     "data": {
      "text/plain": [
       "4"
      ]
     },
     "execution_count": 8,
     "metadata": {},
     "output_type": "execute_result"
    }
   ],
   "source": [
    "days"
   ]
  },
  {
   "cell_type": "code",
   "execution_count": null,
   "metadata": {},
   "outputs": [],
   "source": []
  }
 ],
 "metadata": {
  "interpreter": {
   "hash": "7c5ad4df39bf06a9eb4fb459b3b63eb25b4f3b680f8fa78ceb9dcffa768664c7"
  },
  "kernelspec": {
   "display_name": "Python 3.8.5 64-bit ('ironhack': conda)",
   "language": "python",
   "name": "python3"
  },
  "language_info": {
   "codemirror_mode": {
    "name": "ipython",
    "version": 3
   },
   "file_extension": ".py",
   "mimetype": "text/x-python",
   "name": "python",
   "nbconvert_exporter": "python",
   "pygments_lexer": "ipython3",
   "version": "3.8.5"
  },
  "orig_nbformat": 4
 },
 "nbformat": 4,
 "nbformat_minor": 2
}
