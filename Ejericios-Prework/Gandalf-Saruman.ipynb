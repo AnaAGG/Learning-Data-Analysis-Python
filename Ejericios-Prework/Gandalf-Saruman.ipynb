{
 "cells": [
  {
   "cell_type": "markdown",
   "id": "1143f059",
   "metadata": {},
   "source": [
    "## Duel Of Sorcerers extended"
   ]
  },
  {
   "cell_type": "markdown",
   "id": "14f5dd2d",
   "metadata": {},
   "source": [
    "You are witnessing an epic battle between two powerful sorcerers: Gandalf and Saruman. Each sorcerer has 10 spells of different powers in their mind and they are going to throw them one after the other. The winner of the duel will be the one who wins more of those clashes between spells. Spells are represented as a list of 10 integers whose value equals the power of the spell.\n",
    "\n",
    "```python\n",
    "gandalf = [10, 11, 13, 30, 22, 11, 10, 33, 22, 22]\n",
    "saruman = [23, 66, 12, 43, 12, 10, 44, 23, 12, 17]\n",
    "```\n",
    "For example:\n",
    "\n",
    "The first clash is won by Saruman: 10 against 23\n",
    "The second clash is won by Saruman: 11 against 66\n",
    "etc.\n",
    "You will create two variables, one for each sorcerer, where the total number of clashes won by each sorcerer will be stored. Depending on which variable is greater at the end of the duel, you will show one of the following three results on the screen:\n",
    "\n",
    "Gandalf wins\n",
    "Saruman wins\n",
    "Tie\n",
    "\n",
    "\n",
    "    "
   ]
  },
  {
   "cell_type": "code",
   "execution_count": 2,
   "id": "f5b7bd53",
   "metadata": {},
   "outputs": [],
   "source": [
    "gandalf = [10, 11, 13, 30, 22, 11, 10, 33, 22, 22]\n",
    "saruman = [23, 66, 12, 43, 12, 10, 44, 23, 12, 17]"
   ]
  },
  {
   "cell_type": "code",
   "execution_count": 3,
   "id": "7ab77299",
   "metadata": {},
   "outputs": [
    {
     "name": "stdout",
     "output_type": "stream",
     "text": [
      "El poder de gandalf es 10 y el de saruman es 23\n",
      "El poder de gandalf es 11 y el de saruman es 66\n",
      "El poder de gandalf es 13 y el de saruman es 12\n",
      "El poder de gandalf es 30 y el de saruman es 43\n",
      "El poder de gandalf es 22 y el de saruman es 12\n",
      "El poder de gandalf es 11 y el de saruman es 10\n",
      "El poder de gandalf es 10 y el de saruman es 44\n",
      "El poder de gandalf es 33 y el de saruman es 23\n",
      "El poder de gandalf es 22 y el de saruman es 12\n",
      "El poder de gandalf es 22 y el de saruman es 17\n"
     ]
    }
   ],
   "source": [
    "gandalf_wins = 0\n",
    "saruman_wins = 0\n",
    "tie = 0\n",
    "\n",
    "for g, s in zip(gandalf, saruman):\n",
    "    print(f\"El poder de gandalf es {g} y el de saruman es {s}\")\n",
    "    if g > s:\n",
    "        gandalf_wins += 1\n",
    "    elif g < s:\n",
    "        saruman_wins += 1\n",
    "    else:\n",
    "        tie += 1\n",
    "        "
   ]
  },
  {
   "cell_type": "code",
   "execution_count": 4,
   "id": "7b945742",
   "metadata": {},
   "outputs": [
    {
     "name": "stdout",
     "output_type": "stream",
     "text": [
      "Gandalf wins 🧙\n"
     ]
    }
   ],
   "source": [
    "if gandalf_wins > saruman_wins:\n",
    "    print(\"Gandalf wins 🧙\")\n",
    "else:\n",
    "    print(\"Saruman wins 🧙🏽\")"
   ]
  },
  {
   "cell_type": "markdown",
   "id": "0194797f",
   "metadata": {},
   "source": [
    "Instead of the spells being in a list, they now have a name and there is a dictionary that relates that name to a power. The information is provided below:\n",
    "\n",
    "```python\n",
    "power = {\n",
    "    'Fireball': 50, \n",
    "    'Lightning bolt': 40, \n",
    "    'Magic arrow': 10, \n",
    "    'Black Tentacles': 25, \n",
    "    'Contagion': 45\n",
    "}\n",
    "```\n",
    "\n",
    "The powers of the sorcerers that they will use in the clash have been provided in the list. The duel happens in the same way as above:\n",
    "\n",
    "```python\n",
    "gandalf = ['Fireball', 'Lightning bolt', 'Lightning bolt', 'Magic arrow', 'Fireball', 'Magic arrow', 'Lightning bolt', 'Fireball', 'Fireball', 'Fireball']\n",
    "\n",
    "saruman = ['Contagion', 'Contagion', 'Black Tentacles', 'Fireball', 'Black Tentacles', 'Lightning bolt', 'Magic arrow', 'Contagion', 'Magic arrow', 'Magic arrow']\n",
    "```\n",
    "\n",
    "A sorcerer wins if he succeeds in winning 3 spell clashes in a row (ie. CONSECUTIVE).\n",
    "\n",
    "It doesn't matter if a sorcerer wins three times but not consecutive, they MUST be consecutive to wins.\n",
    "\n",
    "Getting Started\n",
    "All your work should be done in the Your Solution section.\n",
    "More specifically, your task is to implement the functions battle, avg_spells and stdev_spells .\n",
    "The function declarations are already provided in the Your Solution section.\n",
    "\n",
    "\n",
    "\n",
    "**Task Instructions**\n",
    "Given the information above find out:\n",
    "\n",
    "- Which sorcerer won the battle - Gandalf or Saruman?\n",
    "- What is the average of the corresponding power values in the list of the winning sorcerer? Round off your result to one decimal place.\n",
    "- What is the standard deviation of the corresponding power values in the list of the winning sorcerer? Round off your result to one decimal place.\n",
    "- Create one function for each of the above questions with the following names."
   ]
  },
  {
   "cell_type": "code",
   "execution_count": 4,
   "id": "6c25316f",
   "metadata": {},
   "outputs": [],
   "source": [
    "def battle():\n",
    "    \n",
    "    power = {\n",
    "    'Fireball': 50, \n",
    "    'Lightning bolt': 40, \n",
    "    'Magic arrow': 10, \n",
    "    'Black Tentacles': 25, \n",
    "    'Contagion': 45} # definimos el diccionario con los valores de los poderes\n",
    "\n",
    "    gandalf = ['Fireball', 'Lightning bolt', 'Lightning bolt', 'Magic arrow', 'Fireball', 'Magic arrow', 'Lightning bolt', 'Fireball', 'Fireball', 'Fireball'] # definimos la lista con los poderes de gandalf\n",
    "\n",
    "    saruman = ['Contagion', 'Contagion', 'Black Tentacles', 'Fireball', 'Black Tentacles', 'Lightning bolt', 'Magic arrow', 'Contagion', 'Magic arrow', 'Magic arrow'] # definimos la lista con los poderes de saruman\n",
    "\n",
    "\n",
    "    gandalf_wins = 0 # inicializamos la variable de las veces que gana gandalf\n",
    "    saruman_wins = 0 # inicializamos la variable de las veces que gana saruman\n",
    "\n",
    "    for g, s in zip(gandalf, saruman): # recorremos las listas de poderes usando el método zip. Este método nos permite recorrer dos listas de la misma manera, comparando uno a uno cada elemento de cada lista.\n",
    "        if power[g] > power[s]: \n",
    "            gandalf_wins += 1 # si el poder de gandalf es mayor que el de saruman, gandalf gana una victoria\n",
    "            saruman_wins = 0 # si gandalf gana, saruman pierde\n",
    "           \n",
    "\n",
    "        elif power[g] < power[s]:\n",
    "            saruman_wins += 1\n",
    "            gandalf_wins = 0\n",
    "        \n",
    "        if gandalf_wins == 3:# si gandalf gana 3 veces, gandalf es el vencedor\n",
    "            print(\"Gandalf wins 🧙\")\n",
    "            return \"Gandalf\"\n",
    "        elif saruman_wins == 3: # si saruman gana 3 veces, saruman es el vencedor\n",
    "            print(\"Saruman wins 🧙🏽\")\n",
    "            return \"Saruman\"\n",
    "\n",
    "            \n"
   ]
  },
  {
   "cell_type": "code",
   "execution_count": 6,
   "id": "98152a49",
   "metadata": {},
   "outputs": [
    {
     "name": "stdout",
     "output_type": "stream",
     "text": [
      "Gandalf wins 🧙\n"
     ]
    },
    {
     "data": {
      "text/plain": [
       "'Gandalf'"
      ]
     },
     "execution_count": 6,
     "metadata": {},
     "output_type": "execute_result"
    }
   ],
   "source": [
    "battle() # llamamos a la función battle"
   ]
  },
  {
   "cell_type": "code",
   "execution_count": 11,
   "id": "d8441f27",
   "metadata": {},
   "outputs": [],
   "source": [
    "import numpy as np\n",
    "\n",
    "def avg_spells():\n",
    "\n",
    "    power = {\n",
    "    'Fireball': 50, \n",
    "    'Lightning bolt': 40, \n",
    "    'Magic arrow': 10, \n",
    "    'Black Tentacles': 25, \n",
    "    'Contagion': 45} # definimos el diccionario con los valores de los poderes\n",
    "\n",
    "    gandalf = ['Fireball', 'Lightning bolt', 'Lightning bolt', 'Magic arrow', 'Fireball', 'Magic arrow', 'Lightning bolt', 'Fireball', 'Fireball', 'Fireball'] # definimos la lista con los poderes de gandalf\n",
    "\n",
    "    numbers = [] # definimos la lista para guardar los valores de los poderes\n",
    "    for i in gandalf:   # recorremos la lista de poderes\n",
    "        numbers.append(power[i]) #  guardamos los valores de los poderes en la lista numbers\n",
    "    \n",
    "    return np.mean(numbers) #   devolvemos el promedio de los valores de los poderes"
   ]
  },
  {
   "cell_type": "code",
   "execution_count": 12,
   "id": "5abc69bc",
   "metadata": {},
   "outputs": [
    {
     "data": {
      "text/plain": [
       "39.0"
      ]
     },
     "execution_count": 12,
     "metadata": {},
     "output_type": "execute_result"
    }
   ],
   "source": [
    "avg_spells() # llamamos a la función avg_spells"
   ]
  },
  {
   "cell_type": "code",
   "execution_count": 14,
   "id": "2c506592",
   "metadata": {},
   "outputs": [],
   "source": [
    "def stdev_spells():\n",
    "    power = {\n",
    "    'Fireball': 50, \n",
    "    'Lightning bolt': 40, \n",
    "    'Magic arrow': 10, \n",
    "    'Black Tentacles': 25, \n",
    "    'Contagion': 45} # definimos el diccionario con los valores de los poderes\n",
    "\n",
    "    gandalf = ['Fireball', 'Lightning bolt', 'Lightning bolt', 'Magic arrow', 'Fireball', 'Magic arrow', 'Lightning bolt', 'Fireball', 'Fireball', 'Fireball'] # definimos la lista con los poderes de gandalf\n",
    "\n",
    "    numbers2 = [] # definimos la lista para guardar los valores de los poderes\n",
    "\n",
    "    for i in gandalf: # recorremos la lista de poderes\n",
    "        numbers2.append(power[i]) # guardamos los valores de los poderes en la lista numbers2\n",
    "    return np.std(numbers2) # devolvemos la desviación estándar de los valores de los poderes"
   ]
  },
  {
   "cell_type": "code",
   "execution_count": 15,
   "id": "d3bce83a",
   "metadata": {},
   "outputs": [
    {
     "data": {
      "text/plain": [
       "15.132745950421556"
      ]
     },
     "execution_count": 15,
     "metadata": {},
     "output_type": "execute_result"
    }
   ],
   "source": [
    "stdev_spells() #    llamamos a la función stdev_spells"
   ]
  },
  {
   "cell_type": "code",
   "execution_count": null,
   "id": "6d8f6675",
   "metadata": {},
   "outputs": [],
   "source": []
  }
 ],
 "metadata": {
  "interpreter": {
   "hash": "7c5ad4df39bf06a9eb4fb459b3b63eb25b4f3b680f8fa78ceb9dcffa768664c7"
  },
  "kernelspec": {
   "display_name": "ironhack",
   "language": "python",
   "name": "python3"
  },
  "language_info": {
   "codemirror_mode": {
    "name": "ipython",
    "version": 3
   },
   "file_extension": ".py",
   "mimetype": "text/x-python",
   "name": "python",
   "nbconvert_exporter": "python",
   "pygments_lexer": "ipython3",
   "version": "3.8.5"
  },
  "toc": {
   "base_numbering": 1,
   "nav_menu": {},
   "number_sections": true,
   "sideBar": true,
   "skip_h1_title": false,
   "title_cell": "Table of Contents",
   "title_sidebar": "Contents",
   "toc_cell": false,
   "toc_position": {},
   "toc_section_display": true,
   "toc_window_display": false
  }
 },
 "nbformat": 4,
 "nbformat_minor": 5
}
