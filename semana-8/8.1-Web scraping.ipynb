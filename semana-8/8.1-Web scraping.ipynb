{
 "cells": [
  {
   "cell_type": "markdown",
   "id": "35af7e60",
   "metadata": {
    "toc": true
   },
   "source": [
    "<h1>Table of Contents<span class=\"tocSkip\"></span></h1>\n",
    "<div class=\"toc\"><ul class=\"toc-item\"><li><span><a href=\"#HTML,-qué-es\" data-toc-modified-id=\"HTML,-qué-es-1\"><span class=\"toc-item-num\">1&nbsp;&nbsp;</span>HTML, qué es</a></span><ul class=\"toc-item\"><li><span><a href=\"#Tags\" data-toc-modified-id=\"Tags-1.1\"><span class=\"toc-item-num\">1.1&nbsp;&nbsp;</span>Tags</a></span></li><li><span><a href=\"#Atributos\" data-toc-modified-id=\"Atributos-1.2\"><span class=\"toc-item-num\">1.2&nbsp;&nbsp;</span>Atributos</a></span></li></ul></li><li><span><a href=\"#Beautiful-soup\" data-toc-modified-id=\"Beautiful-soup-2\"><span class=\"toc-item-num\">2&nbsp;&nbsp;</span>Beautiful soup</a></span></li><li><span><a href=\"#Diferencia-entre-find_all()-y-select()\" data-toc-modified-id=\"Diferencia-entre-find_all()-y-select()-3\"><span class=\"toc-item-num\">3&nbsp;&nbsp;</span>Diferencia entre find_all() y select()</a></span><ul class=\"toc-item\"><li><span><a href=\"#find_all-o-findAll()\" data-toc-modified-id=\"find_all-o-findAll()-3.1\"><span class=\"toc-item-num\">3.1&nbsp;&nbsp;</span><code>find_all</code> o <code>findAll()</code></a></span></li><li><span><a href=\"#select()\" data-toc-modified-id=\"select()-3.2\"><span class=\"toc-item-num\">3.2&nbsp;&nbsp;</span><code>select()</code></a></span></li></ul></li><li><span><a href=\"#Ejemplo-1:-Página-de-zapatillas-de-baloncesto\" data-toc-modified-id=\"Ejemplo-1:-Página-de-zapatillas-de-baloncesto-4\"><span class=\"toc-item-num\">4&nbsp;&nbsp;</span>Ejemplo 1: Página de zapatillas de baloncesto</a></span></li><li><span><a href=\"#Ejemplo-2:--wikipedia-medallero\" data-toc-modified-id=\"Ejemplo-2:--wikipedia-medallero-5\"><span class=\"toc-item-num\">5&nbsp;&nbsp;</span>Ejemplo 2:  wikipedia medallero</a></span></li></ul></div>"
   ]
  },
  {
   "cell_type": "markdown",
   "id": "787be43b",
   "metadata": {},
   "source": [
    "## HTML, qué es"
   ]
  },
  {
   "cell_type": "markdown",
   "id": "f129d403",
   "metadata": {},
   "source": [
    "\n",
    "El código HTML se compone de contenido `<etiquetado>`      \n",
    "HTML tiene una estructura jeárquica: parent tags, children tags, sibling tags:     \n",
    "\n",
    "```\n",
    "<html>\n",
    "    <head>\n",
    "        <title>Page Title</title>\n",
    "    </head>\n",
    "    <body>\n",
    "        <h1>My First Heading</h1>\n",
    "        <p>My first paragraph.</p>\n",
    "    </body>\n",
    "</html>\n",
    "```"
   ]
  },
  {
   "cell_type": "markdown",
   "id": "5838949f",
   "metadata": {},
   "source": [
    "### Tags\n",
    "\n",
    "Las etiquetas pueden clasificarse en diferentes grupos, en función del tipo de contenido que se espera que posean\n",
    " * heading: `<h1>`, `<h2>`, `<h3>`, `<hgroup>`...\n",
    " * phrasing: `<b>`, `<sub>`...\n",
    " * embedded: `<audio>`, `<img>`, `<video>`...\n",
    " * tabulated: `<table>`, `<tr>`, `<tbody>`...\n",
    " * sections: `<header>`, `<section>`, `<article>`...\n",
    " * metadata: `<meta>`, `<title>`, `<script>`..."
   ]
  },
  {
   "cell_type": "markdown",
   "id": "de83d75e",
   "metadata": {},
   "source": [
    "### Atributos\n",
    "\n",
    "Las etiquetas HTML pueden contener uno o más atributos. Los atributos se agregan a una etiqueta para proporcionar al navegador más información sobre cómo debe aparecer o comportarse la etiqueta. Los atributos constan de un nombre y un valor separados por un signo igual (=), con el valor entre comillas dobles. Aquí hay un ejemplo style=\"color:black\"\n",
    "\n",
    "Este es un ejemplo de cómo agregar dos atributos al elemento <a> (que se usa para crear un hipervínculo a otra página web).\n",
    "\n",
    "```htlm\n",
    "<a href=\"https://htmldesdecero.es\" title=\"Los mejores tutoriales HTML!\">HTML desde Cero</a>\n",
    "```\n",
    "\n",
    "El atributo `href` especifica la ubicación/dirección de la página web a la que estamos vinculando.\n",
    "\n",
    "También utilizamos el atributo `title` para proporcionar un texto de consulta, en caso de que el usuario no lo supiera…\n",
    "\n",
    "    \n",
    "Lista de los atributos más usados en HTML\n",
    "\n",
    "- Id =” ”: Para identificar un elemento único.\n",
    "\n",
    "\n",
    "- class =” ”: Identificador múltiple.\n",
    "\n",
    "\n",
    "- align =” ”: Alineación de contenido.\n",
    "\n",
    "\n",
    "- border =” ”: Para darle borde al contenido.\n",
    "\n",
    "\n",
    "- style =” ”: Para darle un estilo al contenido.\n",
    "\n",
    "\n",
    "- background-color =” ”: Para color de fondo.\n",
    "\n",
    "\n",
    "- href =” ”: Para enlaces html.\n",
    "\n",
    "\n",
    "- height =” ”: Para determinar altura.\n",
    "\n",
    "\n",
    "- width =” ”: Para determinar ancho.\n",
    "\n",
    "\n",
    "- src=“ ”: Para imágenes."
   ]
  },
  {
   "cell_type": "markdown",
   "id": "a1919f19",
   "metadata": {},
   "source": [
    "## Beautiful soup\n",
    "“Si sólo tratas de sacar datos de una web. Beautiful Soup está aquí para ayudar “.\n",
    "\n",
    "Ya sabeis, para entender como funciona una librería tenemos que leer la documentación.  [Aquí](https://www.crummy.com/software/BeautifulSoup/bs4/doc/) teneís la documentación de Beautiful Soup\n",
    "\n",
    "Beautiful Soup es una librería Python para obtener datos de HTML, XML y otros lenguajes de marcado. \n",
    "\n",
    "Beautiful Soup nos va a ayudar a extraer contenido particular de una página web, guardar la información e incluso la podemos gurdar.\n"
   ]
  },
  {
   "cell_type": "markdown",
   "id": "cd40d7db",
   "metadata": {},
   "source": [
    "## Diferencia entre find_all() y select()"
   ]
  },
  {
   "cell_type": "markdown",
   "id": "73c90acb",
   "metadata": {},
   "source": [
    "### `find_all` o `findAll()`\n",
    "[DOCUMENTACIÓN FINDALL](https://www.crummy.com/software/BeautifulSoup/bs4/doc/#calling-a-tag-is-like-calling-find-all)     \n",
    "\n",
    "\n",
    "El método find_all() escanea todo el documento en busca de resultados, pero a veces sólo se quiere encontrar un resultado. Si sabe que un documento sólo tiene una etiqueta <body>, es una pérdida de tiempo escanear todo el documento en busca de más. En lugar de pasar limit=1 cada vez que llame a find_all, puede utilizar el método find(). "
   ]
  },
  {
   "cell_type": "markdown",
   "id": "40926ebc",
   "metadata": {},
   "source": [
    "### `select()`\n",
    "\n",
    "[DOCUMENTACIÓN SELECT](https://www.crummy.com/software/BeautifulSoup/bs4/doc/#css-selectors) \n",
    "\n",
    "\n",
    "BeautifulSoup tiene un método .select() que utiliza el paquete SoupSieve para ejecutar un selector CSS contra un documento analizado y devolver todos los elementos coincidentes. Tag tiene un método similar que ejecuta un selector CSS contra el contenido de una sola etiqueta.\n",
    "\n",
    "(La integración de SoupSieve se añadió en Beautiful Soup 4.7.0.) Las versiones anteriores también tienen el método .select(), pero sólo se soportan los selectores CSS más utilizados. Si instalaste Beautiful Soup a través de pip, SoupSieve fue instalado al mismo tiempo, así que no tienes que hacer nada extra).\n",
    "\n",
    "La documentación de SoupSieve enumera todos los selectores CSS actualmente soportados"
   ]
  },
  {
   "cell_type": "code",
   "execution_count": 1,
   "id": "b5f7da04",
   "metadata": {},
   "outputs": [],
   "source": [
    "# antes de empezar importamos las librerías que vamos a usar. \n",
    "\n",
    "import requests\n",
    "import re\n",
    "import pandas as pd\n",
    "from bs4 import BeautifulSoup"
   ]
  },
  {
   "cell_type": "code",
   "execution_count": 2,
   "id": "61aaf48e",
   "metadata": {},
   "outputs": [],
   "source": [
    "#!pip install beautifulsoup4"
   ]
  },
  {
   "cell_type": "markdown",
   "id": "47475ecc",
   "metadata": {},
   "source": [
    "## Ejemplo 1: Página de zapatillas de baloncesto"
   ]
  },
  {
   "cell_type": "code",
   "execution_count": 70,
   "id": "6d45db48",
   "metadata": {},
   "outputs": [],
   "source": [
    "# vamos a crearnos un diccionario donde luego nos guardaremos todos los resultados de nuestras búsquedas: \n",
    "\n",
    "resultados_zapatillas = {\"producto\":[], \n",
    "                        \"precio_rebajado\": [], \n",
    "                        \"precio_original\": [], \n",
    "                         \"descuento\": [], \n",
    "                        \"enlaces\": []}"
   ]
  },
  {
   "cell_type": "code",
   "execution_count": 71,
   "id": "a012d768",
   "metadata": {},
   "outputs": [],
   "source": [
    "url = 'https://deportesmoya.es/1585-zapatillas-baloncesto'"
   ]
  },
  {
   "cell_type": "code",
   "execution_count": 72,
   "id": "ef289a47",
   "metadata": {},
   "outputs": [],
   "source": [
    "# hacemos la request a la página de la que queremos sacar la info\n",
    "\n",
    "res1 = requests.get(url)\n"
   ]
  },
  {
   "cell_type": "code",
   "execution_count": 73,
   "id": "e5d92fdc",
   "metadata": {},
   "outputs": [
    {
     "data": {
      "text/plain": [
       "200"
      ]
     },
     "execution_count": 73,
     "metadata": {},
     "output_type": "execute_result"
    }
   ],
   "source": [
    "# vemos si todo ha ido bien\n",
    "res1.status_code\n"
   ]
  },
  {
   "cell_type": "code",
   "execution_count": 74,
   "id": "1ed0eda0",
   "metadata": {},
   "outputs": [
    {
     "data": {
      "text/plain": [
       "<Response [200]>"
      ]
     },
     "execution_count": 74,
     "metadata": {},
     "output_type": "execute_result"
    }
   ],
   "source": [
    "res1"
   ]
  },
  {
   "cell_type": "code",
   "execution_count": 75,
   "id": "83f421ed",
   "metadata": {},
   "outputs": [],
   "source": [
    "#res1.content"
   ]
  },
  {
   "cell_type": "code",
   "execution_count": 76,
   "id": "d9bffddc",
   "metadata": {},
   "outputs": [],
   "source": [
    "sopa = BeautifulSoup(res1.content, 'html.parser') "
   ]
  },
  {
   "cell_type": "code",
   "execution_count": 77,
   "id": "fc8a84d3",
   "metadata": {},
   "outputs": [],
   "source": [
    "#sopa"
   ]
  },
  {
   "cell_type": "code",
   "execution_count": 78,
   "id": "e8b572bc",
   "metadata": {},
   "outputs": [
    {
     "data": {
      "text/plain": [
       "bs4.BeautifulSoup"
      ]
     },
     "execution_count": 78,
     "metadata": {},
     "output_type": "execute_result"
    }
   ],
   "source": [
    "type(sopa)"
   ]
  },
  {
   "cell_type": "markdown",
   "id": "3ae45dbc",
   "metadata": {},
   "source": [
    "Ahora queremos extraer el nombre de los productos: "
   ]
  },
  {
   "cell_type": "code",
   "execution_count": 79,
   "id": "002e2fb6",
   "metadata": {},
   "outputs": [],
   "source": [
    "productos = sopa.find_all(\"h3\", {\"class\": \"h3 product-title\"})"
   ]
  },
  {
   "cell_type": "code",
   "execution_count": 80,
   "id": "f6a0fa10",
   "metadata": {},
   "outputs": [
    {
     "data": {
      "text/plain": [
       "bs4.element.ResultSet"
      ]
     },
     "execution_count": 80,
     "metadata": {},
     "output_type": "execute_result"
    }
   ],
   "source": [
    "type(productos)"
   ]
  },
  {
   "cell_type": "code",
   "execution_count": 81,
   "id": "0a3af561",
   "metadata": {},
   "outputs": [
    {
     "data": {
      "text/plain": [
       "48"
      ]
     },
     "execution_count": 81,
     "metadata": {},
     "output_type": "execute_result"
    }
   ],
   "source": [
    "len(productos)"
   ]
  },
  {
   "cell_type": "code",
   "execution_count": 82,
   "id": "75f04658",
   "metadata": {},
   "outputs": [
    {
     "data": {
      "text/plain": [
       "<h3 class=\"h3 product-title\"><a href=\"https://deportesmoya.es/zapatillas-baloncesto-adidas-deep-threat-primeblue-negro-jr-118983.html#/3533-tallaje_calzado_junior-36_2_3\">Zapatillas baloncesto adidas Deep Threat Primeblue negro jr</a></h3>"
      ]
     },
     "execution_count": 82,
     "metadata": {},
     "output_type": "execute_result"
    }
   ],
   "source": [
    "productos[0]"
   ]
  },
  {
   "cell_type": "code",
   "execution_count": 83,
   "id": "4d61ddd1",
   "metadata": {},
   "outputs": [
    {
     "data": {
      "text/plain": [
       "'Zapatillas Under Armour Jet 21 blanco/azul junior'"
      ]
     },
     "execution_count": 83,
     "metadata": {},
     "output_type": "execute_result"
    }
   ],
   "source": [
    "productos[10].getText()"
   ]
  },
  {
   "cell_type": "markdown",
   "id": "02b3c6f3",
   "metadata": {},
   "source": [
    "Algunos métodos que podemos aplicar: "
   ]
  },
  {
   "cell_type": "code",
   "execution_count": 84,
   "id": "20b99b4a",
   "metadata": {},
   "outputs": [
    {
     "data": {
      "text/plain": [
       "['__add__',\n",
       " '__class__',\n",
       " '__contains__',\n",
       " '__delattr__',\n",
       " '__delitem__',\n",
       " '__dict__',\n",
       " '__dir__',\n",
       " '__doc__',\n",
       " '__eq__',\n",
       " '__format__',\n",
       " '__ge__',\n",
       " '__getattr__',\n",
       " '__getattribute__',\n",
       " '__getitem__',\n",
       " '__gt__',\n",
       " '__hash__',\n",
       " '__iadd__',\n",
       " '__imul__',\n",
       " '__init__',\n",
       " '__init_subclass__',\n",
       " '__iter__',\n",
       " '__le__',\n",
       " '__len__',\n",
       " '__lt__',\n",
       " '__module__',\n",
       " '__mul__',\n",
       " '__ne__',\n",
       " '__new__',\n",
       " '__reduce__',\n",
       " '__reduce_ex__',\n",
       " '__repr__',\n",
       " '__reversed__',\n",
       " '__rmul__',\n",
       " '__setattr__',\n",
       " '__setitem__',\n",
       " '__sizeof__',\n",
       " '__str__',\n",
       " '__subclasshook__',\n",
       " '__weakref__',\n",
       " 'append',\n",
       " 'clear',\n",
       " 'copy',\n",
       " 'count',\n",
       " 'extend',\n",
       " 'index',\n",
       " 'insert',\n",
       " 'pop',\n",
       " 'remove',\n",
       " 'reverse',\n",
       " 'sort',\n",
       " 'source']"
      ]
     },
     "execution_count": 84,
     "metadata": {},
     "output_type": "execute_result"
    }
   ],
   "source": [
    "# las operaciones que le podemos aplicar a nuestra resultado\n",
    "\n",
    "dir(productos)\n"
   ]
  },
  {
   "cell_type": "code",
   "execution_count": 85,
   "id": "d0d8178f",
   "metadata": {},
   "outputs": [
    {
     "data": {
      "text/plain": [
       "{'class': ['h3', 'product-title']}"
      ]
     },
     "execution_count": 85,
     "metadata": {},
     "output_type": "execute_result"
    }
   ],
   "source": [
    "productos[0].attrs"
   ]
  },
  {
   "cell_type": "code",
   "execution_count": 86,
   "id": "46937a2a",
   "metadata": {},
   "outputs": [
    {
     "data": {
      "text/plain": [
       "'Zapatillas baloncesto adidas Deep Threat Primeblue negro jr'"
      ]
     },
     "execution_count": 86,
     "metadata": {},
     "output_type": "execute_result"
    }
   ],
   "source": [
    "productos[0].getText()"
   ]
  },
  {
   "cell_type": "code",
   "execution_count": 87,
   "id": "f301c127",
   "metadata": {},
   "outputs": [
    {
     "data": {
      "text/plain": [
       "'Zapatillas baloncesto adidas Deep Threat Primeblue negro jr'"
      ]
     },
     "execution_count": 87,
     "metadata": {},
     "output_type": "execute_result"
    }
   ],
   "source": [
    "# es lo mismo que\n",
    "\n",
    "productos[0].text"
   ]
  },
  {
   "cell_type": "markdown",
   "id": "e7887119",
   "metadata": {},
   "source": [
    "Recordamos que productos es una lista de elementos con todos los nombres de las zapatillas, por lo que tendremos que iterar por la lista. "
   ]
  },
  {
   "cell_type": "code",
   "execution_count": 88,
   "id": "756df81c",
   "metadata": {},
   "outputs": [
    {
     "data": {
      "text/plain": [
       "[<h3 class=\"h3 product-title\"><a href=\"https://deportesmoya.es/zapatillas-baloncesto-adidas-deep-threat-primeblue-negro-jr-118983.html#/3533-tallaje_calzado_junior-36_2_3\">Zapatillas baloncesto adidas Deep Threat Primeblue negro jr</a></h3>,\n",
       " <h3 class=\"h3 product-title\"><a href=\"https://deportesmoya.es/zapatillas-baloncesto-adidas-harden-stepback-2-lima-negro-119110.html#/3524-tallaje_calzado_junior-355\">Zapatillas baloncesto adidas Harden Stepback 2 lima negro</a></h3>,\n",
       " <h3 class=\"h3 product-title\"><a href=\"https://deportesmoya.es/zapatillas-baloncesto-adidas-harden-stepback-2-blanco-negro-119109.html#/3498-tallaje_calzado_junior-31\">Zapatillas baloncesto adidas Harden Stepback 2 blanco negro</a></h3>]"
      ]
     },
     "execution_count": 88,
     "metadata": {},
     "output_type": "execute_result"
    }
   ],
   "source": [
    "productos[:3]"
   ]
  },
  {
   "cell_type": "code",
   "execution_count": 89,
   "id": "8074afd7",
   "metadata": {},
   "outputs": [
    {
     "ename": "AttributeError",
     "evalue": "ResultSet object has no attribute 'getText'. You're probably treating a list of elements like a single element. Did you call find_all() when you meant to call find()?",
     "output_type": "error",
     "traceback": [
      "\u001b[0;31m---------------------------------------------------------------------------\u001b[0m",
      "\u001b[0;31mAttributeError\u001b[0m                            Traceback (most recent call last)",
      "\u001b[0;32m<ipython-input-89-193d78799661>\u001b[0m in \u001b[0;36m<module>\u001b[0;34m\u001b[0m\n\u001b[0;32m----> 1\u001b[0;31m \u001b[0mproductos\u001b[0m\u001b[0;34m.\u001b[0m\u001b[0mgetText\u001b[0m\u001b[0;34m(\u001b[0m\u001b[0;34m)\u001b[0m\u001b[0;34m\u001b[0m\u001b[0;34m\u001b[0m\u001b[0m\n\u001b[0m",
      "\u001b[0;32m/usr/local/Caskroom/miniconda/base/envs/ironhack/lib/python3.8/site-packages/bs4/element.py\u001b[0m in \u001b[0;36m__getattr__\u001b[0;34m(self, key)\u001b[0m\n\u001b[1;32m   2171\u001b[0m     \u001b[0;32mdef\u001b[0m \u001b[0m__getattr__\u001b[0m\u001b[0;34m(\u001b[0m\u001b[0mself\u001b[0m\u001b[0;34m,\u001b[0m \u001b[0mkey\u001b[0m\u001b[0;34m)\u001b[0m\u001b[0;34m:\u001b[0m\u001b[0;34m\u001b[0m\u001b[0;34m\u001b[0m\u001b[0m\n\u001b[1;32m   2172\u001b[0m         \u001b[0;34m\"\"\"Raise a helpful exception to explain a common code fix.\"\"\"\u001b[0m\u001b[0;34m\u001b[0m\u001b[0;34m\u001b[0m\u001b[0m\n\u001b[0;32m-> 2173\u001b[0;31m         raise AttributeError(\n\u001b[0m\u001b[1;32m   2174\u001b[0m             \u001b[0;34m\"ResultSet object has no attribute '%s'. You're probably treating a list of elements like a single element. Did you call find_all() when you meant to call find()?\"\u001b[0m \u001b[0;34m%\u001b[0m \u001b[0mkey\u001b[0m\u001b[0;34m\u001b[0m\u001b[0;34m\u001b[0m\u001b[0m\n\u001b[1;32m   2175\u001b[0m         )\n",
      "\u001b[0;31mAttributeError\u001b[0m: ResultSet object has no attribute 'getText'. You're probably treating a list of elements like a single element. Did you call find_all() when you meant to call find()?"
     ]
    }
   ],
   "source": [
    "productos.getText()"
   ]
  },
  {
   "cell_type": "code",
   "execution_count": 90,
   "id": "d2bd9825",
   "metadata": {},
   "outputs": [
    {
     "data": {
      "text/plain": [
       "{'producto': [],\n",
       " 'precio_rebajado': [],\n",
       " 'precio_original': [],\n",
       " 'descuento': [],\n",
       " 'enlaces': []}"
      ]
     },
     "execution_count": 90,
     "metadata": {},
     "output_type": "execute_result"
    }
   ],
   "source": [
    "resultados_zapatillas"
   ]
  },
  {
   "cell_type": "code",
   "execution_count": 91,
   "id": "3a13d970",
   "metadata": {},
   "outputs": [],
   "source": [
    "for a in productos: \n",
    "    resultados_zapatillas[\"producto\"].append(a.getText())"
   ]
  },
  {
   "cell_type": "code",
   "execution_count": 92,
   "id": "fc2dc1fc",
   "metadata": {},
   "outputs": [
    {
     "data": {
      "text/plain": [
       "{'producto': ['Zapatillas baloncesto adidas Deep Threat Primeblue negro jr',\n",
       "  'Zapatillas baloncesto adidas Harden Stepback 2 lima negro',\n",
       "  'Zapatillas baloncesto adidas Harden Stepback 2 blanco negro',\n",
       "  'Zapatillas baloncesto adidas Ownthegame 2.0 negro blanco jr',\n",
       "  \"Zapatillas baloncesto Under Armour Jet '21 blanco unisex\",\n",
       "  'Zapatillas baloncesto Puma Triple rojo blanco hombre',\n",
       "  'Zapatillas baloncesto adidas Dame 7 Extply azul unisex',\n",
       "  'Zapatillas baloncesto adidas Pro N3XT 2021 rojo blanco',\n",
       "  'Zapatillas Under Armour Flow Futr X blanco negro unisex',\n",
       "  \"Zapatillas Under Armour Jet '21 royal amarillo unisex\",\n",
       "  'Zapatillas Under Armour Jet 21 blanco/azul junior',\n",
       "  'Zapatillas baloncesto Under Armour Zone BB negro infantil',\n",
       "  'Zapatillas baloncesto Under Armour Spawn 3 negro azul unisex',\n",
       "  'Zapatillas baloncesto Under Armour Zone BB blanco infantil',\n",
       "  'Zapatillas baloncesto Under Armour Zone BB negro junior',\n",
       "  'Zapatillas Baloncesto Under Armour Lockdown 5 negro unisex',\n",
       "  'Zapatillas Baloncesto Under Armour HOVR Havoc 3 gris unisex',\n",
       "  'Zapatillas baloncesto adidas Dame 7 negro/naranja hombre',\n",
       "  'Zapatillas de Baloncesto Under Armour SC 3Zero IV multicolor',\n",
       "  'Zapatillas Under Armour Spawn 3 rojo blanco unisex',\n",
       "  'Zapatillas Under Armour Embiid 1 blanco royal junior',\n",
       "  'Zapatillas Under Armour Embiid 1 blanco royal unisex',\n",
       "  'Zapatillas Under Armour Curry 8 negro/blanco junior',\n",
       "  'Zapatillas Under Armour Jet negro unisex',\n",
       "  'Zapatillas baloncesto adidas Harden Stepback 2 negro/multi',\n",
       "  'Zapatillas baloncesto Nike Team Hustle D9 (PS) royal niño',\n",
       "  'Zapatillas adidas Pro Boost GCA Low blanco unisex',\n",
       "  'Zapatillas Nike Zoom Freak 2 negro plata hombre',\n",
       "  'Zapatillas Nike Team Hustle Quick 2 (PS) negro junior',\n",
       "  'Zapatillas Under Armour Curry 8 negro/blanco unisex',\n",
       "  'Zapatillas baloncesto adidas Dame 6 negro/oro hombre',\n",
       "  'Zapatillas baloncesto adidas D.O.N.Issue 2 blanco/negro',\n",
       "  'Zapatillas baloncesto Under Armour Lockdown 5 rojo negro PS',\n",
       "  'Zapatillas baloncesto adidas Ownthegame 2.0 negro blanco',\n",
       "  'Zapatillas baloncesto adidas Ownthegame 2.0 blanco negro',\n",
       "  'Zapatillas baloncesto adidas Pro Next K rojo blanco niños',\n",
       "  'Zapatillas baloncesto Nike Team Hustle D9 gris/negro niño',\n",
       "  'Zapatillas baloncesto adidas D.O.N. Issue 1 gris/rojo hombre',\n",
       "  'Zapatillas baloncesto adidas Harden Stepback negro/lima homb',\n",
       "  'Zapatillas baloncesto adidas Pro Next 2019 blanco junior',\n",
       "  'Zapatillas baloncesto adidas Own The Game blanco negro',\n",
       "  'Zapatillas baloncesto adidas Harden Stepback negro jr',\n",
       "  'Zapatillas baloncesto adidas Exhibit A blanco unisex',\n",
       "  'Zapatillas adidas Donovan Mitchell D.O.N Issue 3 negro',\n",
       "  'Zapatillas baloncesto adidas D.O.N. Issue 1 azul/rojo niño',\n",
       "  'Zapatillas baloncesto adidas Pro Bounce 2019 low negro hombr',\n",
       "  'Zapatillas baloncesto Nike Team Hustle D 9 blanco negro niño',\n",
       "  'Zapatillas baloncesto Puma Triple negro blanco unisex'],\n",
       " 'precio_rebajado': [],\n",
       " 'precio_original': [],\n",
       " 'descuento': [],\n",
       " 'enlaces': []}"
      ]
     },
     "execution_count": 92,
     "metadata": {},
     "output_type": "execute_result"
    }
   ],
   "source": [
    "resultados_zapatillas"
   ]
  },
  {
   "cell_type": "code",
   "execution_count": 93,
   "id": "c59abee1",
   "metadata": {},
   "outputs": [],
   "source": [
    "#otra sintaxis diferente PERO HACE LO MISMO\n"
   ]
  },
  {
   "cell_type": "code",
   "execution_count": null,
   "id": "f0bd1522",
   "metadata": {},
   "outputs": [],
   "source": []
  },
  {
   "cell_type": "markdown",
   "id": "ca3d3298",
   "metadata": {},
   "source": [
    "Sacamos los precios rebajados de las zapatillas: "
   ]
  },
  {
   "cell_type": "code",
   "execution_count": 94,
   "id": "3fb37828",
   "metadata": {},
   "outputs": [],
   "source": [
    "#lista de precios\n",
    "precios = sopa.find_all(\"span\", {\"class\": \"price\"})"
   ]
  },
  {
   "cell_type": "code",
   "execution_count": 95,
   "id": "64605130",
   "metadata": {},
   "outputs": [
    {
     "data": {
      "text/plain": [
       "48"
      ]
     },
     "execution_count": 95,
     "metadata": {},
     "output_type": "execute_result"
    }
   ],
   "source": [
    "len(precios)"
   ]
  },
  {
   "cell_type": "code",
   "execution_count": 96,
   "id": "12206421",
   "metadata": {},
   "outputs": [
    {
     "data": {
      "text/plain": [
       "'68,00\\xa0€'"
      ]
     },
     "execution_count": 96,
     "metadata": {},
     "output_type": "execute_result"
    }
   ],
   "source": [
    "precios[9].getText()"
   ]
  },
  {
   "cell_type": "code",
   "execution_count": 97,
   "id": "17aabfac",
   "metadata": {},
   "outputs": [
    {
     "ename": "TypeError",
     "evalue": "'NoneType' object is not callable",
     "output_type": "error",
     "traceback": [
      "\u001b[0;31m---------------------------------------------------------------------------\u001b[0m",
      "\u001b[0;31mTypeError\u001b[0m                                 Traceback (most recent call last)",
      "\u001b[0;32m<ipython-input-97-9124b81a1730>\u001b[0m in \u001b[0;36m<module>\u001b[0;34m\u001b[0m\n\u001b[0;32m----> 1\u001b[0;31m \u001b[0mprecios\u001b[0m\u001b[0;34m[\u001b[0m\u001b[0;36m9\u001b[0m\u001b[0;34m]\u001b[0m\u001b[0;34m.\u001b[0m\u001b[0msplit\u001b[0m\u001b[0;34m(\u001b[0m\u001b[0;34m\"\\\\\"\u001b[0m\u001b[0;34m)\u001b[0m\u001b[0;34m\u001b[0m\u001b[0;34m\u001b[0m\u001b[0m\n\u001b[0m",
      "\u001b[0;31mTypeError\u001b[0m: 'NoneType' object is not callable"
     ]
    }
   ],
   "source": [
    "precios[9].split(\"\\\\\")"
   ]
  },
  {
   "cell_type": "code",
   "execution_count": 98,
   "id": "6637fc7f",
   "metadata": {},
   "outputs": [
    {
     "data": {
      "text/plain": [
       "'51,00'"
      ]
     },
     "execution_count": 98,
     "metadata": {},
     "output_type": "execute_result"
    }
   ],
   "source": [
    "re.findall(patron, precios[0].getText())[0]"
   ]
  },
  {
   "cell_type": "code",
   "execution_count": 99,
   "id": "81072369",
   "metadata": {},
   "outputs": [],
   "source": [
    "# limpiamos los resultados: \n",
    "\n",
    "patron = '\\d+,\\d+'\n",
    "\n",
    "for precio in precios:\n",
    "    resultados_zapatillas[\"precio_rebajado\"].append(re.findall(patron, precio.getText())[0])"
   ]
  },
  {
   "cell_type": "code",
   "execution_count": 100,
   "id": "a59b8213",
   "metadata": {
    "scrolled": false
   },
   "outputs": [
    {
     "data": {
      "text/plain": [
       "{'producto': ['Zapatillas baloncesto adidas Deep Threat Primeblue negro jr',\n",
       "  'Zapatillas baloncesto adidas Harden Stepback 2 lima negro',\n",
       "  'Zapatillas baloncesto adidas Harden Stepback 2 blanco negro',\n",
       "  'Zapatillas baloncesto adidas Ownthegame 2.0 negro blanco jr',\n",
       "  \"Zapatillas baloncesto Under Armour Jet '21 blanco unisex\",\n",
       "  'Zapatillas baloncesto Puma Triple rojo blanco hombre',\n",
       "  'Zapatillas baloncesto adidas Dame 7 Extply azul unisex',\n",
       "  'Zapatillas baloncesto adidas Pro N3XT 2021 rojo blanco',\n",
       "  'Zapatillas Under Armour Flow Futr X blanco negro unisex',\n",
       "  \"Zapatillas Under Armour Jet '21 royal amarillo unisex\",\n",
       "  'Zapatillas Under Armour Jet 21 blanco/azul junior',\n",
       "  'Zapatillas baloncesto Under Armour Zone BB negro infantil',\n",
       "  'Zapatillas baloncesto Under Armour Spawn 3 negro azul unisex',\n",
       "  'Zapatillas baloncesto Under Armour Zone BB blanco infantil',\n",
       "  'Zapatillas baloncesto Under Armour Zone BB negro junior',\n",
       "  'Zapatillas Baloncesto Under Armour Lockdown 5 negro unisex',\n",
       "  'Zapatillas Baloncesto Under Armour HOVR Havoc 3 gris unisex',\n",
       "  'Zapatillas baloncesto adidas Dame 7 negro/naranja hombre',\n",
       "  'Zapatillas de Baloncesto Under Armour SC 3Zero IV multicolor',\n",
       "  'Zapatillas Under Armour Spawn 3 rojo blanco unisex',\n",
       "  'Zapatillas Under Armour Embiid 1 blanco royal junior',\n",
       "  'Zapatillas Under Armour Embiid 1 blanco royal unisex',\n",
       "  'Zapatillas Under Armour Curry 8 negro/blanco junior',\n",
       "  'Zapatillas Under Armour Jet negro unisex',\n",
       "  'Zapatillas baloncesto adidas Harden Stepback 2 negro/multi',\n",
       "  'Zapatillas baloncesto Nike Team Hustle D9 (PS) royal niño',\n",
       "  'Zapatillas adidas Pro Boost GCA Low blanco unisex',\n",
       "  'Zapatillas Nike Zoom Freak 2 negro plata hombre',\n",
       "  'Zapatillas Nike Team Hustle Quick 2 (PS) negro junior',\n",
       "  'Zapatillas Under Armour Curry 8 negro/blanco unisex',\n",
       "  'Zapatillas baloncesto adidas Dame 6 negro/oro hombre',\n",
       "  'Zapatillas baloncesto adidas D.O.N.Issue 2 blanco/negro',\n",
       "  'Zapatillas baloncesto Under Armour Lockdown 5 rojo negro PS',\n",
       "  'Zapatillas baloncesto adidas Ownthegame 2.0 negro blanco',\n",
       "  'Zapatillas baloncesto adidas Ownthegame 2.0 blanco negro',\n",
       "  'Zapatillas baloncesto adidas Pro Next K rojo blanco niños',\n",
       "  'Zapatillas baloncesto Nike Team Hustle D9 gris/negro niño',\n",
       "  'Zapatillas baloncesto adidas D.O.N. Issue 1 gris/rojo hombre',\n",
       "  'Zapatillas baloncesto adidas Harden Stepback negro/lima homb',\n",
       "  'Zapatillas baloncesto adidas Pro Next 2019 blanco junior',\n",
       "  'Zapatillas baloncesto adidas Own The Game blanco negro',\n",
       "  'Zapatillas baloncesto adidas Harden Stepback negro jr',\n",
       "  'Zapatillas baloncesto adidas Exhibit A blanco unisex',\n",
       "  'Zapatillas adidas Donovan Mitchell D.O.N Issue 3 negro',\n",
       "  'Zapatillas baloncesto adidas D.O.N. Issue 1 azul/rojo niño',\n",
       "  'Zapatillas baloncesto adidas Pro Bounce 2019 low negro hombr',\n",
       "  'Zapatillas baloncesto Nike Team Hustle D 9 blanco negro niño',\n",
       "  'Zapatillas baloncesto Puma Triple negro blanco unisex'],\n",
       " 'precio_rebajado': ['51,00',\n",
       "  '63,75',\n",
       "  '55,25',\n",
       "  '42,50',\n",
       "  '68,00',\n",
       "  '68,00',\n",
       "  '93,50',\n",
       "  '68,00',\n",
       "  '102,00',\n",
       "  '68,00',\n",
       "  '51,00',\n",
       "  '46,75',\n",
       "  '93,50',\n",
       "  '46,75',\n",
       "  '51,00',\n",
       "  '59,50',\n",
       "  '102,00',\n",
       "  '77,00',\n",
       "  '80,00',\n",
       "  '93,50',\n",
       "  '76,50',\n",
       "  '102,00',\n",
       "  '110,50',\n",
       "  '68,00',\n",
       "  '76,50',\n",
       "  '22,50',\n",
       "  '93,50',\n",
       "  '102,00',\n",
       "  '17,50',\n",
       "  '127,50',\n",
       "  '71,50',\n",
       "  '85,00',\n",
       "  '36,00',\n",
       "  '55,25',\n",
       "  '55,25',\n",
       "  '41,97',\n",
       "  '31,50',\n",
       "  '69,97',\n",
       "  '62,97',\n",
       "  '41,97',\n",
       "  '32,50',\n",
       "  '48,97',\n",
       "  '93,50',\n",
       "  '93,50',\n",
       "  '35,97',\n",
       "  '65,97',\n",
       "  '38,25',\n",
       "  '68,00'],\n",
       " 'precio_original': [],\n",
       " 'descuento': [],\n",
       " 'enlaces': []}"
      ]
     },
     "execution_count": 100,
     "metadata": {},
     "output_type": "execute_result"
    }
   ],
   "source": [
    "resultados_zapatillas"
   ]
  },
  {
   "cell_type": "markdown",
   "id": "46d384f8",
   "metadata": {},
   "source": [
    "Podemos hacer lo mismo pero usando el método `select`"
   ]
  },
  {
   "cell_type": "code",
   "execution_count": 101,
   "id": "8f33cd54",
   "metadata": {},
   "outputs": [],
   "source": [
    "prueba = sopa.select(\"span.price\")"
   ]
  },
  {
   "cell_type": "code",
   "execution_count": 102,
   "id": "60005dbc",
   "metadata": {},
   "outputs": [
    {
     "data": {
      "text/plain": [
       "[<span class=\"price\"><span class=\"soy_price_principal\">51</span><span class=\"soy_price_separador\">,</span><span class=\"soy_price_secondary\">00 €</span></span>,\n",
       " <span class=\"price\"><span class=\"soy_price_principal\">63</span><span class=\"soy_price_separador\">,</span><span class=\"soy_price_secondary\">75 €</span></span>]"
      ]
     },
     "execution_count": 102,
     "metadata": {},
     "output_type": "execute_result"
    }
   ],
   "source": [
    "prueba[:2]"
   ]
  },
  {
   "cell_type": "markdown",
   "id": "a63872cd",
   "metadata": {},
   "source": [
    "Saquemos ahora los precios originales usando el select: "
   ]
  },
  {
   "cell_type": "code",
   "execution_count": 103,
   "id": "b50bd1f8",
   "metadata": {},
   "outputs": [],
   "source": [
    "precios_originales = sopa.select(\"span.regular-price\")"
   ]
  },
  {
   "cell_type": "code",
   "execution_count": 104,
   "id": "f7a730fc",
   "metadata": {},
   "outputs": [
    {
     "data": {
      "text/plain": [
       "[<span class=\"regular-price\"><span class=\"soy_price_principal\">60</span><span class=\"soy_price_separador\">,</span><span class=\"soy_price_secondary\">00 €</span></span>,\n",
       " <span class=\"regular-price\"><span class=\"soy_price_principal\">75</span><span class=\"soy_price_separador\">,</span><span class=\"soy_price_secondary\">00 €</span></span>]"
      ]
     },
     "execution_count": 104,
     "metadata": {},
     "output_type": "execute_result"
    }
   ],
   "source": [
    "precios_originales[:2]"
   ]
  },
  {
   "cell_type": "code",
   "execution_count": 105,
   "id": "f9ec0d1e",
   "metadata": {},
   "outputs": [
    {
     "data": {
      "text/plain": [
       "'65,00\\xa0€'"
      ]
     },
     "execution_count": 105,
     "metadata": {},
     "output_type": "execute_result"
    }
   ],
   "source": [
    "precios_originales[2].getText()"
   ]
  },
  {
   "cell_type": "code",
   "execution_count": 106,
   "id": "e19eb59c",
   "metadata": {},
   "outputs": [
    {
     "data": {
      "text/plain": [
       "dict_keys(['producto', 'precio_rebajado', 'precio_original', 'descuento', 'enlaces'])"
      ]
     },
     "execution_count": 106,
     "metadata": {},
     "output_type": "execute_result"
    }
   ],
   "source": [
    "resultados_zapatillas.keys()"
   ]
  },
  {
   "cell_type": "code",
   "execution_count": 107,
   "id": "acd65bfa",
   "metadata": {},
   "outputs": [],
   "source": [
    "for precio in precios_originales:\n",
    "    resultados_zapatillas[\"precio_original\"].append(re.findall(patron, precio.getText())[0])"
   ]
  },
  {
   "cell_type": "code",
   "execution_count": 108,
   "id": "0bd67922",
   "metadata": {},
   "outputs": [
    {
     "data": {
      "text/plain": [
       "{'producto': ['Zapatillas baloncesto adidas Deep Threat Primeblue negro jr',\n",
       "  'Zapatillas baloncesto adidas Harden Stepback 2 lima negro',\n",
       "  'Zapatillas baloncesto adidas Harden Stepback 2 blanco negro',\n",
       "  'Zapatillas baloncesto adidas Ownthegame 2.0 negro blanco jr',\n",
       "  \"Zapatillas baloncesto Under Armour Jet '21 blanco unisex\",\n",
       "  'Zapatillas baloncesto Puma Triple rojo blanco hombre',\n",
       "  'Zapatillas baloncesto adidas Dame 7 Extply azul unisex',\n",
       "  'Zapatillas baloncesto adidas Pro N3XT 2021 rojo blanco',\n",
       "  'Zapatillas Under Armour Flow Futr X blanco negro unisex',\n",
       "  \"Zapatillas Under Armour Jet '21 royal amarillo unisex\",\n",
       "  'Zapatillas Under Armour Jet 21 blanco/azul junior',\n",
       "  'Zapatillas baloncesto Under Armour Zone BB negro infantil',\n",
       "  'Zapatillas baloncesto Under Armour Spawn 3 negro azul unisex',\n",
       "  'Zapatillas baloncesto Under Armour Zone BB blanco infantil',\n",
       "  'Zapatillas baloncesto Under Armour Zone BB negro junior',\n",
       "  'Zapatillas Baloncesto Under Armour Lockdown 5 negro unisex',\n",
       "  'Zapatillas Baloncesto Under Armour HOVR Havoc 3 gris unisex',\n",
       "  'Zapatillas baloncesto adidas Dame 7 negro/naranja hombre',\n",
       "  'Zapatillas de Baloncesto Under Armour SC 3Zero IV multicolor',\n",
       "  'Zapatillas Under Armour Spawn 3 rojo blanco unisex',\n",
       "  'Zapatillas Under Armour Embiid 1 blanco royal junior',\n",
       "  'Zapatillas Under Armour Embiid 1 blanco royal unisex',\n",
       "  'Zapatillas Under Armour Curry 8 negro/blanco junior',\n",
       "  'Zapatillas Under Armour Jet negro unisex',\n",
       "  'Zapatillas baloncesto adidas Harden Stepback 2 negro/multi',\n",
       "  'Zapatillas baloncesto Nike Team Hustle D9 (PS) royal niño',\n",
       "  'Zapatillas adidas Pro Boost GCA Low blanco unisex',\n",
       "  'Zapatillas Nike Zoom Freak 2 negro plata hombre',\n",
       "  'Zapatillas Nike Team Hustle Quick 2 (PS) negro junior',\n",
       "  'Zapatillas Under Armour Curry 8 negro/blanco unisex',\n",
       "  'Zapatillas baloncesto adidas Dame 6 negro/oro hombre',\n",
       "  'Zapatillas baloncesto adidas D.O.N.Issue 2 blanco/negro',\n",
       "  'Zapatillas baloncesto Under Armour Lockdown 5 rojo negro PS',\n",
       "  'Zapatillas baloncesto adidas Ownthegame 2.0 negro blanco',\n",
       "  'Zapatillas baloncesto adidas Ownthegame 2.0 blanco negro',\n",
       "  'Zapatillas baloncesto adidas Pro Next K rojo blanco niños',\n",
       "  'Zapatillas baloncesto Nike Team Hustle D9 gris/negro niño',\n",
       "  'Zapatillas baloncesto adidas D.O.N. Issue 1 gris/rojo hombre',\n",
       "  'Zapatillas baloncesto adidas Harden Stepback negro/lima homb',\n",
       "  'Zapatillas baloncesto adidas Pro Next 2019 blanco junior',\n",
       "  'Zapatillas baloncesto adidas Own The Game blanco negro',\n",
       "  'Zapatillas baloncesto adidas Harden Stepback negro jr',\n",
       "  'Zapatillas baloncesto adidas Exhibit A blanco unisex',\n",
       "  'Zapatillas adidas Donovan Mitchell D.O.N Issue 3 negro',\n",
       "  'Zapatillas baloncesto adidas D.O.N. Issue 1 azul/rojo niño',\n",
       "  'Zapatillas baloncesto adidas Pro Bounce 2019 low negro hombr',\n",
       "  'Zapatillas baloncesto Nike Team Hustle D 9 blanco negro niño',\n",
       "  'Zapatillas baloncesto Puma Triple negro blanco unisex'],\n",
       " 'precio_rebajado': ['51,00',\n",
       "  '63,75',\n",
       "  '55,25',\n",
       "  '42,50',\n",
       "  '68,00',\n",
       "  '68,00',\n",
       "  '93,50',\n",
       "  '68,00',\n",
       "  '102,00',\n",
       "  '68,00',\n",
       "  '51,00',\n",
       "  '46,75',\n",
       "  '93,50',\n",
       "  '46,75',\n",
       "  '51,00',\n",
       "  '59,50',\n",
       "  '102,00',\n",
       "  '77,00',\n",
       "  '80,00',\n",
       "  '93,50',\n",
       "  '76,50',\n",
       "  '102,00',\n",
       "  '110,50',\n",
       "  '68,00',\n",
       "  '76,50',\n",
       "  '22,50',\n",
       "  '93,50',\n",
       "  '102,00',\n",
       "  '17,50',\n",
       "  '127,50',\n",
       "  '71,50',\n",
       "  '85,00',\n",
       "  '36,00',\n",
       "  '55,25',\n",
       "  '55,25',\n",
       "  '41,97',\n",
       "  '31,50',\n",
       "  '69,97',\n",
       "  '62,97',\n",
       "  '41,97',\n",
       "  '32,50',\n",
       "  '48,97',\n",
       "  '93,50',\n",
       "  '93,50',\n",
       "  '35,97',\n",
       "  '65,97',\n",
       "  '38,25',\n",
       "  '68,00'],\n",
       " 'precio_original': ['60,00',\n",
       "  '75,00',\n",
       "  '65,00',\n",
       "  '50,00',\n",
       "  '80,00',\n",
       "  '80,00',\n",
       "  '110,00',\n",
       "  '80,00',\n",
       "  '120,00',\n",
       "  '80,00',\n",
       "  '60,00',\n",
       "  '55,00',\n",
       "  '110,00',\n",
       "  '55,00',\n",
       "  '60,00',\n",
       "  '70,00',\n",
       "  '120,00',\n",
       "  '110,00',\n",
       "  '100,00',\n",
       "  '110,00',\n",
       "  '90,00',\n",
       "  '120,00',\n",
       "  '130,00',\n",
       "  '80,00',\n",
       "  '90,00',\n",
       "  '45,00',\n",
       "  '110,00',\n",
       "  '120,00',\n",
       "  '35,00',\n",
       "  '150,00',\n",
       "  '110,00',\n",
       "  '100,00',\n",
       "  '45,00',\n",
       "  '65,00',\n",
       "  '65,00',\n",
       "  '59,95',\n",
       "  '45,00',\n",
       "  '99,95',\n",
       "  '89,95',\n",
       "  '59,95',\n",
       "  '65,00',\n",
       "  '69,95',\n",
       "  '110,00',\n",
       "  '110,00',\n",
       "  '59,95',\n",
       "  '109,95',\n",
       "  '45,00',\n",
       "  '80,00'],\n",
       " 'descuento': [],\n",
       " 'enlaces': []}"
      ]
     },
     "execution_count": 108,
     "metadata": {},
     "output_type": "execute_result"
    }
   ],
   "source": [
    "resultados_zapatillas"
   ]
  },
  {
   "cell_type": "markdown",
   "id": "2336e6ac",
   "metadata": {},
   "source": [
    "Sacamos los enlaces de cada una de las zapatillas: "
   ]
  },
  {
   "cell_type": "code",
   "execution_count": 109,
   "id": "407a5e5c",
   "metadata": {},
   "outputs": [],
   "source": [
    "enlaces = sopa.find_all(\"div\", {\"class\": \"thumbnail-container\"})"
   ]
  },
  {
   "cell_type": "code",
   "execution_count": 110,
   "id": "e7eb3e4c",
   "metadata": {},
   "outputs": [
    {
     "data": {
      "text/plain": [
       "<div class=\"thumbnail-container\"><a class=\"thumbnail product-thumbnail\" href=\"https://deportesmoya.es/zapatillas-baloncesto-adidas-deep-threat-primeblue-negro-jr-118983.html#/3533-tallaje_calzado_junior-36_2_3\"><img alt=\"Zapatillas baloncesto...\" data-full-size-image-url=\"https://deportesmoya.es/122877-large_default/zapatillas-baloncesto-adidas-deep-threat-primeblue-negro-jr.jpg\" src=\"https://deportesmoya.es/122877-home_default/zapatillas-baloncesto-adidas-deep-threat-primeblue-negro-jr.jpg\"/></a><div class=\"product-description\"><h3 class=\"h3 product-title\"><a href=\"https://deportesmoya.es/zapatillas-baloncesto-adidas-deep-threat-primeblue-negro-jr-118983.html#/3533-tallaje_calzado_junior-36_2_3\">Zapatillas baloncesto adidas Deep Threat Primeblue negro jr</a></h3><div class=\"product-price-and-shipping\"><span class=\"sr-only\">Precio</span><span class=\"price\"><span class=\"soy_price_principal\">51</span><span class=\"soy_price_separador\">,</span><span class=\"soy_price_secondary\">00 €</span></span><span class=\"sr-only\">Precio normal</span><span class=\"regular-price\"><span class=\"soy_price_principal\">60</span><span class=\"soy_price_separador\">,</span><span class=\"soy_price_secondary\">00 €</span></span><span class=\"discount-percentage discount-product\">-15%</span></div> <div class=\"wishlist\">\n",
       "<a class=\"addToWishlist wishlistProd_118983\" href=\"#\" onclick=\"WishlistCart('wishlist_block_list', 'add', '118983', $('#idCombination').val(), 1);\n",
       "                return false;\" rel=\"118983\">\n",
       "<img src=\"https://deportesmoya.es/themes/deportes_moya/assets/img/favoritos.png\">\n",
       "<i class=\"soyFont-wishlist2\"></i>\n",
       "</img></a>\n",
       "</div>\n",
       "<div class=\"wishlist_added_118983\" style=\"display: none;\">\n",
       "<i class=\"material-icons\">cancel</i> El producto ha sido añadido a su lista de deseos correctamente.\n",
       "</div>\n",
       "</div><ul class=\"product-flags\"><li class=\"product-flag discount\">-15%</li></ul><div class=\"highlighted-informations no-variants hidden-sm-down\"><form action=\"https://deportesmoya.es/carrito\" id=\"add-to-cart-or-refresh\" method=\"post\"><input name=\"token\" type=\"hidden\" value=\"c5147e2d498ca3d79f09b977da152532\"/><input id=\"product_page_product_id\" name=\"id_product\" type=\"hidden\" value=\"118983\"/><div class=\"product-add-to-cart\">\n",
       "<span class=\"control-label\">Cantidad</span>\n",
       "<div class=\"product-quantity clearfix\">\n",
       "<div class=\"qty\">\n",
       "<input aria-label=\"Cantidad\" class=\"input-group\" id=\"quantity_wanted\" min=\"1\" name=\"qty\" type=\"number\" value=\"1\"/>\n",
       "</div>\n",
       "<div class=\"add\">\n",
       "<button class=\"btn btn-primary add-to-cart\" data-button-action=\"add-to-cart\" disabled=\"\" type=\"submit\">\n",
       "<span class=\"hidden-md-down\">Añadir a la cesta</span>\n",
       "<span class=\"hidden-lg-up\">Añadir a la cesta</span>\n",
       "</button>\n",
       "</div>\n",
       "<div class=\"wishlist\">\n",
       "<a class=\"addToWishlist wishlistProd_118983\" href=\"#\" onclick=\"WishlistCart('wishlist_block_list', 'add', '118983', $('#idCombination').val(), 1);\n",
       "                return false;\" rel=\"118983\">\n",
       "<img src=\"https://deportesmoya.es/themes/deportes_moya/assets/img/favoritos.png\">\n",
       "<i class=\"soyFont-wishlist2\"></i>\n",
       "</img></a>\n",
       "</div>\n",
       "<div class=\"wishlist_added_118983\" style=\"display: none;\">\n",
       "<i class=\"material-icons\">cancel</i> El producto ha sido añadido a su lista de deseos correctamente.\n",
       "</div>\n",
       "<a class=\"soy_guia_tallas hidden-md-down\" href=\"https://deportesmoya.es/content/7-guia-de-tallas\" target=\"_blank\">Guía de tallas</a>\n",
       "</div>\n",
       "<!-- PRODUCTO AVILABILITY -->\n",
       "<!-- /PRODUCTO AVILABILITY -->\n",
       "<p class=\"product-minimal-quantity\">\n",
       "</p>\n",
       "</div>\n",
       "</form></div></div>"
      ]
     },
     "execution_count": 110,
     "metadata": {},
     "output_type": "execute_result"
    }
   ],
   "source": [
    "enlaces[0]"
   ]
  },
  {
   "cell_type": "code",
   "execution_count": 111,
   "id": "185168ec",
   "metadata": {},
   "outputs": [
    {
     "data": {
      "text/plain": [
       "'Zapatillas baloncesto adidas Deep Threat Primeblue negro jrPrecio51,00\\xa0€Precio normal60,00\\xa0€-15% \\n\\n\\n\\n\\n\\n\\ncancel El producto ha sido añadido a su lista de deseos correctamente.\\n\\n-15%\\nCantidad\\n\\n\\n\\n\\n\\n\\nAñadir a la cesta\\nAñadir a la cesta\\n\\n\\n\\n\\n\\n\\n\\n\\n\\ncancel El producto ha sido añadido a su lista de deseos correctamente.\\n\\nGuía de tallas\\n\\n\\n\\n\\n\\n\\n'"
      ]
     },
     "execution_count": 111,
     "metadata": {},
     "output_type": "execute_result"
    }
   ],
   "source": [
    "enlaces[0].getText()"
   ]
  },
  {
   "cell_type": "code",
   "execution_count": 112,
   "id": "9d112a65",
   "metadata": {},
   "outputs": [
    {
     "data": {
      "text/plain": [
       "<div class=\"thumbnail-container\"><a class=\"thumbnail product-thumbnail\" href=\"https://deportesmoya.es/zapatillas-baloncesto-adidas-deep-threat-primeblue-negro-jr-118983.html#/3533-tallaje_calzado_junior-36_2_3\"><img alt=\"Zapatillas baloncesto...\" data-full-size-image-url=\"https://deportesmoya.es/122877-large_default/zapatillas-baloncesto-adidas-deep-threat-primeblue-negro-jr.jpg\" src=\"https://deportesmoya.es/122877-home_default/zapatillas-baloncesto-adidas-deep-threat-primeblue-negro-jr.jpg\"/></a><div class=\"product-description\"><h3 class=\"h3 product-title\"><a href=\"https://deportesmoya.es/zapatillas-baloncesto-adidas-deep-threat-primeblue-negro-jr-118983.html#/3533-tallaje_calzado_junior-36_2_3\">Zapatillas baloncesto adidas Deep Threat Primeblue negro jr</a></h3><div class=\"product-price-and-shipping\"><span class=\"sr-only\">Precio</span><span class=\"price\"><span class=\"soy_price_principal\">51</span><span class=\"soy_price_separador\">,</span><span class=\"soy_price_secondary\">00 €</span></span><span class=\"sr-only\">Precio normal</span><span class=\"regular-price\"><span class=\"soy_price_principal\">60</span><span class=\"soy_price_separador\">,</span><span class=\"soy_price_secondary\">00 €</span></span><span class=\"discount-percentage discount-product\">-15%</span></div> <div class=\"wishlist\">\n",
       "<a class=\"addToWishlist wishlistProd_118983\" href=\"#\" onclick=\"WishlistCart('wishlist_block_list', 'add', '118983', $('#idCombination').val(), 1);\n",
       "                return false;\" rel=\"118983\">\n",
       "<img src=\"https://deportesmoya.es/themes/deportes_moya/assets/img/favoritos.png\">\n",
       "<i class=\"soyFont-wishlist2\"></i>\n",
       "</img></a>\n",
       "</div>\n",
       "<div class=\"wishlist_added_118983\" style=\"display: none;\">\n",
       "<i class=\"material-icons\">cancel</i> El producto ha sido añadido a su lista de deseos correctamente.\n",
       "</div>\n",
       "</div><ul class=\"product-flags\"><li class=\"product-flag discount\">-15%</li></ul><div class=\"highlighted-informations no-variants hidden-sm-down\"><form action=\"https://deportesmoya.es/carrito\" id=\"add-to-cart-or-refresh\" method=\"post\"><input name=\"token\" type=\"hidden\" value=\"c5147e2d498ca3d79f09b977da152532\"/><input id=\"product_page_product_id\" name=\"id_product\" type=\"hidden\" value=\"118983\"/><div class=\"product-add-to-cart\">\n",
       "<span class=\"control-label\">Cantidad</span>\n",
       "<div class=\"product-quantity clearfix\">\n",
       "<div class=\"qty\">\n",
       "<input aria-label=\"Cantidad\" class=\"input-group\" id=\"quantity_wanted\" min=\"1\" name=\"qty\" type=\"number\" value=\"1\"/>\n",
       "</div>\n",
       "<div class=\"add\">\n",
       "<button class=\"btn btn-primary add-to-cart\" data-button-action=\"add-to-cart\" disabled=\"\" type=\"submit\">\n",
       "<span class=\"hidden-md-down\">Añadir a la cesta</span>\n",
       "<span class=\"hidden-lg-up\">Añadir a la cesta</span>\n",
       "</button>\n",
       "</div>\n",
       "<div class=\"wishlist\">\n",
       "<a class=\"addToWishlist wishlistProd_118983\" href=\"#\" onclick=\"WishlistCart('wishlist_block_list', 'add', '118983', $('#idCombination').val(), 1);\n",
       "                return false;\" rel=\"118983\">\n",
       "<img src=\"https://deportesmoya.es/themes/deportes_moya/assets/img/favoritos.png\">\n",
       "<i class=\"soyFont-wishlist2\"></i>\n",
       "</img></a>\n",
       "</div>\n",
       "<div class=\"wishlist_added_118983\" style=\"display: none;\">\n",
       "<i class=\"material-icons\">cancel</i> El producto ha sido añadido a su lista de deseos correctamente.\n",
       "</div>\n",
       "<a class=\"soy_guia_tallas hidden-md-down\" href=\"https://deportesmoya.es/content/7-guia-de-tallas\" target=\"_blank\">Guía de tallas</a>\n",
       "</div>\n",
       "<!-- PRODUCTO AVILABILITY -->\n",
       "<!-- /PRODUCTO AVILABILITY -->\n",
       "<p class=\"product-minimal-quantity\">\n",
       "</p>\n",
       "</div>\n",
       "</form></div></div>"
      ]
     },
     "execution_count": 112,
     "metadata": {},
     "output_type": "execute_result"
    }
   ],
   "source": [
    "enlaces[0]"
   ]
  },
  {
   "cell_type": "code",
   "execution_count": 113,
   "id": "c6405705",
   "metadata": {},
   "outputs": [
    {
     "data": {
      "text/plain": [
       "'https://deportesmoya.es/zapatillas-baloncesto-adidas-deep-threat-primeblue-negro-jr-118983.html#/3533-tallaje_calzado_junior-36_2_3'"
      ]
     },
     "execution_count": 113,
     "metadata": {},
     "output_type": "execute_result"
    }
   ],
   "source": [
    "enlaces[0].find(\"a\").get(\"href\")"
   ]
  },
  {
   "cell_type": "code",
   "execution_count": 114,
   "id": "10478540",
   "metadata": {},
   "outputs": [],
   "source": [
    "# ahora sacams los enlaces\n",
    "for enlace in enlaces: \n",
    "    resultados_zapatillas[\"enlaces\"].append(enlace.find(\"a\").get(\"href\"))"
   ]
  },
  {
   "cell_type": "code",
   "execution_count": 115,
   "id": "cb6ce610",
   "metadata": {},
   "outputs": [
    {
     "data": {
      "text/plain": [
       "{'producto': ['Zapatillas baloncesto adidas Deep Threat Primeblue negro jr',\n",
       "  'Zapatillas baloncesto adidas Harden Stepback 2 lima negro',\n",
       "  'Zapatillas baloncesto adidas Harden Stepback 2 blanco negro',\n",
       "  'Zapatillas baloncesto adidas Ownthegame 2.0 negro blanco jr',\n",
       "  \"Zapatillas baloncesto Under Armour Jet '21 blanco unisex\",\n",
       "  'Zapatillas baloncesto Puma Triple rojo blanco hombre',\n",
       "  'Zapatillas baloncesto adidas Dame 7 Extply azul unisex',\n",
       "  'Zapatillas baloncesto adidas Pro N3XT 2021 rojo blanco',\n",
       "  'Zapatillas Under Armour Flow Futr X blanco negro unisex',\n",
       "  \"Zapatillas Under Armour Jet '21 royal amarillo unisex\",\n",
       "  'Zapatillas Under Armour Jet 21 blanco/azul junior',\n",
       "  'Zapatillas baloncesto Under Armour Zone BB negro infantil',\n",
       "  'Zapatillas baloncesto Under Armour Spawn 3 negro azul unisex',\n",
       "  'Zapatillas baloncesto Under Armour Zone BB blanco infantil',\n",
       "  'Zapatillas baloncesto Under Armour Zone BB negro junior',\n",
       "  'Zapatillas Baloncesto Under Armour Lockdown 5 negro unisex',\n",
       "  'Zapatillas Baloncesto Under Armour HOVR Havoc 3 gris unisex',\n",
       "  'Zapatillas baloncesto adidas Dame 7 negro/naranja hombre',\n",
       "  'Zapatillas de Baloncesto Under Armour SC 3Zero IV multicolor',\n",
       "  'Zapatillas Under Armour Spawn 3 rojo blanco unisex',\n",
       "  'Zapatillas Under Armour Embiid 1 blanco royal junior',\n",
       "  'Zapatillas Under Armour Embiid 1 blanco royal unisex',\n",
       "  'Zapatillas Under Armour Curry 8 negro/blanco junior',\n",
       "  'Zapatillas Under Armour Jet negro unisex',\n",
       "  'Zapatillas baloncesto adidas Harden Stepback 2 negro/multi',\n",
       "  'Zapatillas baloncesto Nike Team Hustle D9 (PS) royal niño',\n",
       "  'Zapatillas adidas Pro Boost GCA Low blanco unisex',\n",
       "  'Zapatillas Nike Zoom Freak 2 negro plata hombre',\n",
       "  'Zapatillas Nike Team Hustle Quick 2 (PS) negro junior',\n",
       "  'Zapatillas Under Armour Curry 8 negro/blanco unisex',\n",
       "  'Zapatillas baloncesto adidas Dame 6 negro/oro hombre',\n",
       "  'Zapatillas baloncesto adidas D.O.N.Issue 2 blanco/negro',\n",
       "  'Zapatillas baloncesto Under Armour Lockdown 5 rojo negro PS',\n",
       "  'Zapatillas baloncesto adidas Ownthegame 2.0 negro blanco',\n",
       "  'Zapatillas baloncesto adidas Ownthegame 2.0 blanco negro',\n",
       "  'Zapatillas baloncesto adidas Pro Next K rojo blanco niños',\n",
       "  'Zapatillas baloncesto Nike Team Hustle D9 gris/negro niño',\n",
       "  'Zapatillas baloncesto adidas D.O.N. Issue 1 gris/rojo hombre',\n",
       "  'Zapatillas baloncesto adidas Harden Stepback negro/lima homb',\n",
       "  'Zapatillas baloncesto adidas Pro Next 2019 blanco junior',\n",
       "  'Zapatillas baloncesto adidas Own The Game blanco negro',\n",
       "  'Zapatillas baloncesto adidas Harden Stepback negro jr',\n",
       "  'Zapatillas baloncesto adidas Exhibit A blanco unisex',\n",
       "  'Zapatillas adidas Donovan Mitchell D.O.N Issue 3 negro',\n",
       "  'Zapatillas baloncesto adidas D.O.N. Issue 1 azul/rojo niño',\n",
       "  'Zapatillas baloncesto adidas Pro Bounce 2019 low negro hombr',\n",
       "  'Zapatillas baloncesto Nike Team Hustle D 9 blanco negro niño',\n",
       "  'Zapatillas baloncesto Puma Triple negro blanco unisex'],\n",
       " 'precio_rebajado': ['51,00',\n",
       "  '63,75',\n",
       "  '55,25',\n",
       "  '42,50',\n",
       "  '68,00',\n",
       "  '68,00',\n",
       "  '93,50',\n",
       "  '68,00',\n",
       "  '102,00',\n",
       "  '68,00',\n",
       "  '51,00',\n",
       "  '46,75',\n",
       "  '93,50',\n",
       "  '46,75',\n",
       "  '51,00',\n",
       "  '59,50',\n",
       "  '102,00',\n",
       "  '77,00',\n",
       "  '80,00',\n",
       "  '93,50',\n",
       "  '76,50',\n",
       "  '102,00',\n",
       "  '110,50',\n",
       "  '68,00',\n",
       "  '76,50',\n",
       "  '22,50',\n",
       "  '93,50',\n",
       "  '102,00',\n",
       "  '17,50',\n",
       "  '127,50',\n",
       "  '71,50',\n",
       "  '85,00',\n",
       "  '36,00',\n",
       "  '55,25',\n",
       "  '55,25',\n",
       "  '41,97',\n",
       "  '31,50',\n",
       "  '69,97',\n",
       "  '62,97',\n",
       "  '41,97',\n",
       "  '32,50',\n",
       "  '48,97',\n",
       "  '93,50',\n",
       "  '93,50',\n",
       "  '35,97',\n",
       "  '65,97',\n",
       "  '38,25',\n",
       "  '68,00'],\n",
       " 'precio_original': ['60,00',\n",
       "  '75,00',\n",
       "  '65,00',\n",
       "  '50,00',\n",
       "  '80,00',\n",
       "  '80,00',\n",
       "  '110,00',\n",
       "  '80,00',\n",
       "  '120,00',\n",
       "  '80,00',\n",
       "  '60,00',\n",
       "  '55,00',\n",
       "  '110,00',\n",
       "  '55,00',\n",
       "  '60,00',\n",
       "  '70,00',\n",
       "  '120,00',\n",
       "  '110,00',\n",
       "  '100,00',\n",
       "  '110,00',\n",
       "  '90,00',\n",
       "  '120,00',\n",
       "  '130,00',\n",
       "  '80,00',\n",
       "  '90,00',\n",
       "  '45,00',\n",
       "  '110,00',\n",
       "  '120,00',\n",
       "  '35,00',\n",
       "  '150,00',\n",
       "  '110,00',\n",
       "  '100,00',\n",
       "  '45,00',\n",
       "  '65,00',\n",
       "  '65,00',\n",
       "  '59,95',\n",
       "  '45,00',\n",
       "  '99,95',\n",
       "  '89,95',\n",
       "  '59,95',\n",
       "  '65,00',\n",
       "  '69,95',\n",
       "  '110,00',\n",
       "  '110,00',\n",
       "  '59,95',\n",
       "  '109,95',\n",
       "  '45,00',\n",
       "  '80,00'],\n",
       " 'descuento': [],\n",
       " 'enlaces': ['https://deportesmoya.es/zapatillas-baloncesto-adidas-deep-threat-primeblue-negro-jr-118983.html#/3533-tallaje_calzado_junior-36_2_3',\n",
       "  'https://deportesmoya.es/zapatillas-baloncesto-adidas-harden-stepback-2-lima-negro-119110.html#/3524-tallaje_calzado_junior-355',\n",
       "  'https://deportesmoya.es/zapatillas-baloncesto-adidas-harden-stepback-2-blanco-negro-119109.html#/3498-tallaje_calzado_junior-31',\n",
       "  'https://deportesmoya.es/zapatillas-baloncesto-adidas-ownthegame-20-negro-blanco-jr-118930.html#/3491-tallaje_calzado_junior-30',\n",
       "  'https://deportesmoya.es/zapatillas-baloncesto-under-armour-jet-21-blanco-unisex-118525.html#/3400-tallaje_calzado_unisex-405',\n",
       "  'https://deportesmoya.es/zapatillas-baloncesto-puma-triple-rojo-blanco-hombre-120147.html#/3449-tallaje_calzado_unisex-385',\n",
       "  'https://deportesmoya.es/zapatillas-baloncesto-adidas-dame-7-extply-azul-unisex-119160.html#/3413-tallaje_calzado_unisex-42_2_3',\n",
       "  'https://deportesmoya.es/zapatillas-baloncesto-adidas-pro-n3xt-2021-rojo-blanco-118925.html#/3399-tallaje_calzado_unisex-40',\n",
       "  'https://deportesmoya.es/zapatillas-under-armour-flow-futr-x-blanco-negro-unisex-118427.html#/3399-tallaje_calzado_unisex-40',\n",
       "  'https://deportesmoya.es/zapatillas-under-armour-jet-21-royal-amarillo-unisex-118426.html#/3422-tallaje_calzado_unisex-445',\n",
       "  'https://deportesmoya.es/zapatillas-under-armour-jet-21-blancoazul-junior-118425.html#/3524-tallaje_calzado_junior-355',\n",
       "  'https://deportesmoya.es/zapatillas-baloncesto-under-armour-zone-bb-negro-infantil-118423.html#/3499-tallaje_calzado_junior-315',\n",
       "  'https://deportesmoya.es/zapatillas-baloncesto-under-armour-spawn-3-negro-azul-unisex-118422.html#/3400-tallaje_calzado_unisex-405',\n",
       "  'https://deportesmoya.es/zapatillas-baloncesto-under-armour-zone-bb-blanco-infantil-118419.html#/3498-tallaje_calzado_junior-31',\n",
       "  'https://deportesmoya.es/zapatillas-baloncesto-under-armour-zone-bb-negro-junior-118418.html#/3524-tallaje_calzado_junior-355',\n",
       "  'https://deportesmoya.es/zapatillas-baloncesto-under-armour-lockdown-5-negro-unisex-115407.html#/3400-tallaje_calzado_unisex-405',\n",
       "  'https://deportesmoya.es/zapatillas-baloncesto-under-armour-hovr-havoc-3-gris-unisex-115406.html#/3441-tallaje_calzado_unisex-375',\n",
       "  'https://deportesmoya.es/zapatillas-baloncesto-adidas-dame-7-negronaranja-hombre-113824.html#/3432-tallaje_calzado_unisex-36',\n",
       "  'https://deportesmoya.es/zapatillas-de-baloncesto-under-armour-sc-3zero-iv-multicolor-109714.html#/3400-tallaje_calzado_unisex-405',\n",
       "  'https://deportesmoya.es/zapatillas-under-armour-spawn-3-rojo-blanco-unisex-114017.html#/3432-tallaje_calzado_unisex-36',\n",
       "  'https://deportesmoya.es/zapatillas-under-armour-embiid-1-blanco-royal-junior-114016.html#/3531-tallaje_calzado_junior-365',\n",
       "  'https://deportesmoya.es/zapatillas-under-armour-embiid-1-blanco-royal-unisex-114015.html#/3400-tallaje_calzado_unisex-405',\n",
       "  'https://deportesmoya.es/zapatillas-under-armour-curry-8-negroblanco-junior-114014.html#/3531-tallaje_calzado_junior-365',\n",
       "  'https://deportesmoya.es/zapatillas-under-armour-jet-negro-unisex-114013.html#/3399-tallaje_calzado_unisex-40',\n",
       "  'https://deportesmoya.es/zapatillas-baloncesto-adidas-harden-stepback-2-negromulti-113239.html#/3413-tallaje_calzado_unisex-42_2_3',\n",
       "  'https://deportesmoya.es/zapatillas-baloncesto-nike-team-hustle-d9-ps-royal-nino-111142.html#/3547-tallaje_calzado_junior-28',\n",
       "  'https://deportesmoya.es/zapatillas-adidas-pro-boost-gca-low-blanco-unisex-114378.html#/3417-tallaje_calzado_unisex-43_1_3',\n",
       "  'https://deportesmoya.es/zapatillas-nike-zoom-freak-2-negro-plata-hombre-113924.html#/3406-tallaje_calzado_unisex-41',\n",
       "  'https://deportesmoya.es/zapatillas-nike-team-hustle-quick-2-ps-negro-junior-113916.html#/3498-tallaje_calzado_junior-31',\n",
       "  'https://deportesmoya.es/zapatillas-under-armour-curry-8-negroblanco-unisex-113888.html#/3400-tallaje_calzado_unisex-405',\n",
       "  'https://deportesmoya.es/zapatillas-baloncesto-adidas-dame-6-negrooro-hombre-113884.html#/3432-tallaje_calzado_unisex-36',\n",
       "  'https://deportesmoya.es/zapatillas-baloncesto-adidas-donissue-2-blanconegro-113883.html#/3409-tallaje_calzado_unisex-41_1_3',\n",
       "  'https://deportesmoya.es/zapatillas-baloncesto-under-armour-lockdown-5-rojo-negro-ps-110980.html#/3547-tallaje_calzado_junior-28',\n",
       "  'https://deportesmoya.es/zapatillas-baloncesto-adidas-ownthegame-20-negro-blanco-119707.html#/3424-tallaje_calzado_unisex-44_2_3',\n",
       "  'https://deportesmoya.es/zapatillas-baloncesto-adidas-ownthegame-20-blanco-negro-119706.html#/3402-tallaje_calzado_unisex-40_2_3',\n",
       "  'https://deportesmoya.es/zapatillas-baloncesto-adidas-pro-next-k-rojo-blanco-ninos-106153.html#/3547-tallaje_calzado_junior-28',\n",
       "  'https://deportesmoya.es/zapatillas-baloncesto-nike-team-hustle-d9-grisnegro-nino-106125.html#/3538-tallaje_calzado_junior-275',\n",
       "  'https://deportesmoya.es/zapatillas-baloncesto-adidas-don-issue-1-grisrojo-hombre-105949.html#/3402-tallaje_calzado_unisex-40_2_3',\n",
       "  'https://deportesmoya.es/zapatillas-baloncesto-adidas-harden-stepback-negrolima-homb-105513.html#/3402-tallaje_calzado_unisex-40_2_3',\n",
       "  'https://deportesmoya.es/zapatillas-baloncesto-adidas-pro-next-2019-blanco-junior-105512.html#/3557-tallaje_calzado_junior-29',\n",
       "  'https://deportesmoya.es/zapatillas-baloncesto-adidas-own-the-game-blanco-negro-105507.html#/3463-tallaje_calzado_unisex-49_1_3',\n",
       "  'https://deportesmoya.es/zapatillas-baloncesto-adidas-harden-stepback-negro-jr-105469.html#/3530-tallaje_calzado_junior-36',\n",
       "  'https://deportesmoya.es/zapatillas-baloncesto-adidas-exhibit-a-blanco-unisex-118985.html#/3448-tallaje_calzado_unisex-38',\n",
       "  'https://deportesmoya.es/zapatillas-adidas-donovan-mitchell-don-issue-3-negro-118984.html#/3402-tallaje_calzado_unisex-40_2_3',\n",
       "  'https://deportesmoya.es/zapatillas-baloncesto-adidas-don-issue-1-azulrojo-nino-100661.html#/3547-tallaje_calzado_junior-28',\n",
       "  'https://deportesmoya.es/zapatillas-baloncesto-adidas-pro-bounce-2019-low-negro-hombr-100747.html#/3399-tallaje_calzado_unisex-40',\n",
       "  'https://deportesmoya.es/zapatillas-baloncesto-nike-team-hustle-d-9-blanco-negro-nino-100589.html#/3538-tallaje_calzado_junior-275',\n",
       "  'https://deportesmoya.es/zapatillas-baloncesto-puma-triple-negro-blanco-unisex-119492.html#/3449-tallaje_calzado_unisex-385']}"
      ]
     },
     "execution_count": 115,
     "metadata": {},
     "output_type": "execute_result"
    }
   ],
   "source": [
    "resultados_zapatillas"
   ]
  },
  {
   "cell_type": "code",
   "execution_count": null,
   "id": "04308191",
   "metadata": {},
   "outputs": [],
   "source": []
  },
  {
   "cell_type": "markdown",
   "id": "1773932e",
   "metadata": {},
   "source": [
    "Por último, sacamos el descuento de cada una de ellas: "
   ]
  },
  {
   "cell_type": "code",
   "execution_count": 116,
   "id": "fc1ce34b",
   "metadata": {},
   "outputs": [],
   "source": [
    "descuento = sopa.find_all(\"li\", {\"class\": 'product-flag discount'})"
   ]
  },
  {
   "cell_type": "code",
   "execution_count": 117,
   "id": "4947cbbd",
   "metadata": {},
   "outputs": [
    {
     "data": {
      "text/plain": [
       "[<li class=\"product-flag discount\">-15%</li>,\n",
       " <li class=\"product-flag discount\">-15%</li>]"
      ]
     },
     "execution_count": 117,
     "metadata": {},
     "output_type": "execute_result"
    }
   ],
   "source": [
    "descuento[:2]"
   ]
  },
  {
   "cell_type": "code",
   "execution_count": 118,
   "id": "732a1d0a",
   "metadata": {},
   "outputs": [
    {
     "data": {
      "text/plain": [
       "'-15%'"
      ]
     },
     "execution_count": 118,
     "metadata": {},
     "output_type": "execute_result"
    }
   ],
   "source": [
    "descuento[2].getText()"
   ]
  },
  {
   "cell_type": "code",
   "execution_count": 119,
   "id": "5dc489fc",
   "metadata": {},
   "outputs": [],
   "source": [
    "for desc in descuento:\n",
    "    resultados_zapatillas[\"descuento\"].append(desc.getText())"
   ]
  },
  {
   "cell_type": "code",
   "execution_count": 120,
   "id": "92995671",
   "metadata": {},
   "outputs": [],
   "source": [
    "# lo convertimos a dataframe \n",
    "df_zapatillas = pd.DataFrame(resultados_zapatillas)"
   ]
  },
  {
   "cell_type": "code",
   "execution_count": 122,
   "id": "198ba48a",
   "metadata": {},
   "outputs": [
    {
     "data": {
      "text/html": [
       "<div>\n",
       "<style scoped>\n",
       "    .dataframe tbody tr th:only-of-type {\n",
       "        vertical-align: middle;\n",
       "    }\n",
       "\n",
       "    .dataframe tbody tr th {\n",
       "        vertical-align: top;\n",
       "    }\n",
       "\n",
       "    .dataframe thead th {\n",
       "        text-align: right;\n",
       "    }\n",
       "</style>\n",
       "<table border=\"1\" class=\"dataframe\">\n",
       "  <thead>\n",
       "    <tr style=\"text-align: right;\">\n",
       "      <th></th>\n",
       "      <th>producto</th>\n",
       "      <th>precio_rebajado</th>\n",
       "      <th>precio_original</th>\n",
       "      <th>descuento</th>\n",
       "      <th>enlaces</th>\n",
       "    </tr>\n",
       "  </thead>\n",
       "  <tbody>\n",
       "    <tr>\n",
       "      <th>0</th>\n",
       "      <td>Zapatillas baloncesto adidas Deep Threat Prime...</td>\n",
       "      <td>51,00</td>\n",
       "      <td>60,00</td>\n",
       "      <td>-15%</td>\n",
       "      <td>https://deportesmoya.es/zapatillas-baloncesto-...</td>\n",
       "    </tr>\n",
       "    <tr>\n",
       "      <th>1</th>\n",
       "      <td>Zapatillas baloncesto adidas Harden Stepback 2...</td>\n",
       "      <td>63,75</td>\n",
       "      <td>75,00</td>\n",
       "      <td>-15%</td>\n",
       "      <td>https://deportesmoya.es/zapatillas-baloncesto-...</td>\n",
       "    </tr>\n",
       "    <tr>\n",
       "      <th>2</th>\n",
       "      <td>Zapatillas baloncesto adidas Harden Stepback 2...</td>\n",
       "      <td>55,25</td>\n",
       "      <td>65,00</td>\n",
       "      <td>-15%</td>\n",
       "      <td>https://deportesmoya.es/zapatillas-baloncesto-...</td>\n",
       "    </tr>\n",
       "    <tr>\n",
       "      <th>3</th>\n",
       "      <td>Zapatillas baloncesto adidas Ownthegame 2.0 ne...</td>\n",
       "      <td>42,50</td>\n",
       "      <td>50,00</td>\n",
       "      <td>-15%</td>\n",
       "      <td>https://deportesmoya.es/zapatillas-baloncesto-...</td>\n",
       "    </tr>\n",
       "    <tr>\n",
       "      <th>4</th>\n",
       "      <td>Zapatillas baloncesto Under Armour Jet '21 bla...</td>\n",
       "      <td>68,00</td>\n",
       "      <td>80,00</td>\n",
       "      <td>-15%</td>\n",
       "      <td>https://deportesmoya.es/zapatillas-baloncesto-...</td>\n",
       "    </tr>\n",
       "  </tbody>\n",
       "</table>\n",
       "</div>"
      ],
      "text/plain": [
       "                                            producto precio_rebajado  \\\n",
       "0  Zapatillas baloncesto adidas Deep Threat Prime...           51,00   \n",
       "1  Zapatillas baloncesto adidas Harden Stepback 2...           63,75   \n",
       "2  Zapatillas baloncesto adidas Harden Stepback 2...           55,25   \n",
       "3  Zapatillas baloncesto adidas Ownthegame 2.0 ne...           42,50   \n",
       "4  Zapatillas baloncesto Under Armour Jet '21 bla...           68,00   \n",
       "\n",
       "  precio_original descuento                                            enlaces  \n",
       "0           60,00      -15%  https://deportesmoya.es/zapatillas-baloncesto-...  \n",
       "1           75,00      -15%  https://deportesmoya.es/zapatillas-baloncesto-...  \n",
       "2           65,00      -15%  https://deportesmoya.es/zapatillas-baloncesto-...  \n",
       "3           50,00      -15%  https://deportesmoya.es/zapatillas-baloncesto-...  \n",
       "4           80,00      -15%  https://deportesmoya.es/zapatillas-baloncesto-...  "
      ]
     },
     "execution_count": 122,
     "metadata": {},
     "output_type": "execute_result"
    }
   ],
   "source": [
    "df_zapatillas.head()"
   ]
  },
  {
   "cell_type": "markdown",
   "id": "35a5832e",
   "metadata": {},
   "source": [
    "## Ejemplo 2:  wikipedia medallero"
   ]
  },
  {
   "cell_type": "code",
   "execution_count": 124,
   "id": "3b2cd34b",
   "metadata": {},
   "outputs": [],
   "source": [
    "# establecemos la url\n",
    "\n",
    "url_medallero = 'https://es.wikipedia.org/wiki/Juegos_Ol%C3%ADmpicos_de_Barcelona_1992'\n",
    "html_medallero = requests.get(url_medallero)"
   ]
  },
  {
   "cell_type": "code",
   "execution_count": 125,
   "id": "3f236262",
   "metadata": {},
   "outputs": [
    {
     "data": {
      "text/plain": [
       "200"
      ]
     },
     "execution_count": 125,
     "metadata": {},
     "output_type": "execute_result"
    }
   ],
   "source": [
    "html_medallero.status_code"
   ]
  },
  {
   "cell_type": "code",
   "execution_count": 127,
   "id": "79aa519d",
   "metadata": {},
   "outputs": [],
   "source": [
    "sopa_medallero = BeautifulSoup(html_medallero.content, \"html.parser\")"
   ]
  },
  {
   "cell_type": "code",
   "execution_count": 128,
   "id": "5248a1b1",
   "metadata": {},
   "outputs": [],
   "source": [
    "# Busco todo lo que tenga la etiqueta \"a\" y como findall me devuelve una lista, me quedo con el primer elemento\n",
    "medallero = sopa_medallero.find_all(\"table\")"
   ]
  },
  {
   "cell_type": "code",
   "execution_count": 130,
   "id": "c681e9e8",
   "metadata": {},
   "outputs": [
    {
     "data": {
      "text/plain": [
       "14"
      ]
     },
     "execution_count": 130,
     "metadata": {},
     "output_type": "execute_result"
    }
   ],
   "source": [
    "len(medallero)"
   ]
  },
  {
   "cell_type": "code",
   "execution_count": 131,
   "id": "fcdede00",
   "metadata": {},
   "outputs": [
    {
     "data": {
      "text/plain": [
       "<table style=\"width:100%; text-align:center; background-color:transparent; border:0; margin:0; padding:0;\">\n",
       "<tbody><tr><td style=\"width:33%; padding:0.2em 0.1em 0.2em 0;vertical-align: middle;\"><span style=\"font-style:;\"><a href=\"/wiki/Juegos_Ol%C3%ADmpicos_de_Se%C3%BAl_1988\" title=\"Juegos Olímpicos de Seúl 1988\">Seúl 1988</a></span></td>\n",
       "<td style=\"padding:0.2em 0.1em; background-color:#f9f9f9; vertical-align: middle\"><span style=\"font-weight:bold; font-style:normal; color:#000;\"><img alt=\"Olympic flag.svg\" data-file-height=\"600\" data-file-width=\"900\" decoding=\"async\" height=\"27\" src=\"//upload.wikimedia.org/wikipedia/commons/thumb/a/a7/Olympic_flag.svg/40px-Olympic_flag.svg.png\" srcset=\"//upload.wikimedia.org/wikipedia/commons/thumb/a/a7/Olympic_flag.svg/60px-Olympic_flag.svg.png 1.5x, //upload.wikimedia.org/wikipedia/commons/thumb/a/a7/Olympic_flag.svg/80px-Olympic_flag.svg.png 2x\" width=\"40\"/></span></td>\n",
       "<td style=\"width:33%; padding:0.2em 0 0.2em 0.1em;vertical-align: middle;\"><span style=\"font-style:normal;\"><a href=\"/wiki/Juegos_Ol%C3%ADmpicos_de_Atlanta_1996\" title=\"Juegos Olímpicos de Atlanta 1996\">Atlanta 1996</a></span></td>\n",
       "</tr></tbody></table>"
      ]
     },
     "execution_count": 131,
     "metadata": {},
     "output_type": "execute_result"
    }
   ],
   "source": [
    "medallero[1]"
   ]
  },
  {
   "cell_type": "code",
   "execution_count": 132,
   "id": "dd7dd86e",
   "metadata": {},
   "outputs": [],
   "source": [
    "medallero_juegos = medallero[-4]"
   ]
  },
  {
   "cell_type": "code",
   "execution_count": 134,
   "id": "0482f553",
   "metadata": {},
   "outputs": [
    {
     "data": {
      "text/plain": [
       "11"
      ]
     },
     "execution_count": 134,
     "metadata": {},
     "output_type": "execute_result"
    }
   ],
   "source": [
    "# con esto sacamos todas las filas de nuestra tabla\n",
    "\n",
    "len(medallero_juegos.find_all(\"tr\"))"
   ]
  },
  {
   "cell_type": "code",
   "execution_count": 137,
   "id": "810ad142",
   "metadata": {},
   "outputs": [
    {
     "data": {
      "text/plain": [
       "[<td>4</td>,\n",
       " <td align=\"left\"><img alt=\"China\" class=\"thumbborder\" data-file-height=\"600\" data-file-width=\"900\" decoding=\"async\" height=\"15\" src=\"//upload.wikimedia.org/wikipedia/commons/thumb/f/fa/Flag_of_the_People%27s_Republic_of_China.svg/22px-Flag_of_the_People%27s_Republic_of_China.svg.png\" srcset=\"//upload.wikimedia.org/wikipedia/commons/thumb/f/fa/Flag_of_the_People%27s_Republic_of_China.svg/33px-Flag_of_the_People%27s_Republic_of_China.svg.png 1.5x, //upload.wikimedia.org/wikipedia/commons/thumb/f/fa/Flag_of_the_People%27s_Republic_of_China.svg/44px-Flag_of_the_People%27s_Republic_of_China.svg.png 2x\" width=\"22\"/> <a href=\"/wiki/China_en_los_Juegos_Ol%C3%ADmpicos_de_Barcelona_1992\" title=\"China en los Juegos Olímpicos de Barcelona 1992\">China </a> <small>(CHN)</small></td>,\n",
       " <td>16</td>,\n",
       " <td>22</td>,\n",
       " <td>16</td>,\n",
       " <td>54\n",
       " </td>]"
      ]
     },
     "execution_count": 137,
     "metadata": {},
     "output_type": "execute_result"
    }
   ],
   "source": [
    "# sacamos las columnas\n",
    "medallero_juegos.find_all(\"tr\")[4].find_all(\"td\")"
   ]
  },
  {
   "cell_type": "code",
   "execution_count": 140,
   "id": "798031d0",
   "metadata": {},
   "outputs": [
    {
     "data": {
      "text/plain": [
       "'22'"
      ]
     },
     "execution_count": 140,
     "metadata": {},
     "output_type": "execute_result"
    }
   ],
   "source": [
    "medallero_juegos.find_all(\"tr\")[4].find_all(\"td\")[3].getText()"
   ]
  },
  {
   "cell_type": "markdown",
   "id": "d4ff7fde",
   "metadata": {},
   "source": [
    "Ahora es el momento de sacar las filas (lo haremos con `td`): "
   ]
  },
  {
   "cell_type": "code",
   "execution_count": null,
   "id": "d53df310",
   "metadata": {
    "scrolled": true
   },
   "outputs": [],
   "source": [
    "#sacamos filas\n",
    "\n"
   ]
  },
  {
   "cell_type": "code",
   "execution_count": null,
   "id": "b81192ec",
   "metadata": {},
   "outputs": [],
   "source": [
    "# sacamos fila 2 columna 2\n"
   ]
  },
  {
   "cell_type": "code",
   "execution_count": null,
   "id": "3978688b",
   "metadata": {},
   "outputs": [],
   "source": [
    "# sacamos el texto de ese elemento \n"
   ]
  },
  {
   "cell_type": "code",
   "execution_count": null,
   "id": "4de02789",
   "metadata": {},
   "outputs": [],
   "source": [
    "# saquemos la fila 2 columna 3\n"
   ]
  },
  {
   "cell_type": "markdown",
   "id": "01cca918",
   "metadata": {},
   "source": [
    "Esto puede ser un dolor si lo hacemos uno a uno. Intentemos hacer un for loop para hacerlo todo del tirón: "
   ]
  },
  {
   "cell_type": "code",
   "execution_count": 154,
   "id": "ba170629",
   "metadata": {},
   "outputs": [
    {
     "data": {
      "text/plain": [
       "'22'"
      ]
     },
     "execution_count": 154,
     "metadata": {},
     "output_type": "execute_result"
    }
   ],
   "source": [
    "medallero_juegos.find_all(\"tr\")[4].find_all(\"td\")[3].getText()"
   ]
  },
  {
   "cell_type": "code",
   "execution_count": 158,
   "id": "2b92f76f",
   "metadata": {},
   "outputs": [],
   "source": [
    "# lo primero que haremos será crear un diccionario donde \n",
    "\n",
    "diccionario2 = {\"nombre\": [], \n",
    "               \"oro\": [], \n",
    "               \"plata\":[], \n",
    "               \"bronce\": []}\n"
   ]
  },
  {
   "cell_type": "code",
   "execution_count": 159,
   "id": "38a53404",
   "metadata": {},
   "outputs": [],
   "source": [
    "for f in medallero_juegos.find_all(\"tr\"):\n",
    "    columna = [elemento for elemento in f.find_all(\"td\")]\n",
    "    if len(columna)> 1: \n",
    "        diccionario2[\"nombre\"].append(columna[1].find(\"a\").getText())\n",
    "        diccionario2[\"oro\"].append(columna[2].getText())\n",
    "        diccionario2[\"plata\"].append(columna[3].getText())\n",
    "        diccionario2[\"bronce\"].append(columna[4].getText())\n",
    "    "
   ]
  },
  {
   "cell_type": "code",
   "execution_count": 160,
   "id": "62647ef3",
   "metadata": {},
   "outputs": [],
   "source": [
    "df_medallas = pd.DataFrame(diccionario2)"
   ]
  },
  {
   "cell_type": "code",
   "execution_count": 163,
   "id": "237d68d8",
   "metadata": {},
   "outputs": [
    {
     "data": {
      "text/html": [
       "<div>\n",
       "<style scoped>\n",
       "    .dataframe tbody tr th:only-of-type {\n",
       "        vertical-align: middle;\n",
       "    }\n",
       "\n",
       "    .dataframe tbody tr th {\n",
       "        vertical-align: top;\n",
       "    }\n",
       "\n",
       "    .dataframe thead th {\n",
       "        text-align: right;\n",
       "    }\n",
       "</style>\n",
       "<table border=\"1\" class=\"dataframe\">\n",
       "  <thead>\n",
       "    <tr style=\"text-align: right;\">\n",
       "      <th></th>\n",
       "      <th>nombre</th>\n",
       "      <th>oro</th>\n",
       "      <th>plata</th>\n",
       "      <th>bronce</th>\n",
       "    </tr>\n",
       "  </thead>\n",
       "  <tbody>\n",
       "    <tr>\n",
       "      <th>0</th>\n",
       "      <td>Equipo Unificado</td>\n",
       "      <td>45</td>\n",
       "      <td>38</td>\n",
       "      <td>29</td>\n",
       "    </tr>\n",
       "    <tr>\n",
       "      <th>1</th>\n",
       "      <td>Estados Unidos</td>\n",
       "      <td>37</td>\n",
       "      <td>34</td>\n",
       "      <td>37</td>\n",
       "    </tr>\n",
       "    <tr>\n",
       "      <th>2</th>\n",
       "      <td>Alemania</td>\n",
       "      <td>33</td>\n",
       "      <td>21</td>\n",
       "      <td>28</td>\n",
       "    </tr>\n",
       "    <tr>\n",
       "      <th>3</th>\n",
       "      <td>China</td>\n",
       "      <td>16</td>\n",
       "      <td>22</td>\n",
       "      <td>16</td>\n",
       "    </tr>\n",
       "    <tr>\n",
       "      <th>4</th>\n",
       "      <td>Cuba</td>\n",
       "      <td>14</td>\n",
       "      <td>6</td>\n",
       "      <td>11</td>\n",
       "    </tr>\n",
       "    <tr>\n",
       "      <th>5</th>\n",
       "      <td>España</td>\n",
       "      <td>13</td>\n",
       "      <td>7</td>\n",
       "      <td>2</td>\n",
       "    </tr>\n",
       "    <tr>\n",
       "      <th>6</th>\n",
       "      <td>Corea del Sur</td>\n",
       "      <td>12</td>\n",
       "      <td>5</td>\n",
       "      <td>12</td>\n",
       "    </tr>\n",
       "    <tr>\n",
       "      <th>7</th>\n",
       "      <td>Hungría</td>\n",
       "      <td>11</td>\n",
       "      <td>12</td>\n",
       "      <td>7</td>\n",
       "    </tr>\n",
       "    <tr>\n",
       "      <th>8</th>\n",
       "      <td>Francia</td>\n",
       "      <td>8</td>\n",
       "      <td>5</td>\n",
       "      <td>16</td>\n",
       "    </tr>\n",
       "    <tr>\n",
       "      <th>9</th>\n",
       "      <td>Australia</td>\n",
       "      <td>7</td>\n",
       "      <td>9</td>\n",
       "      <td>11</td>\n",
       "    </tr>\n",
       "  </tbody>\n",
       "</table>\n",
       "</div>"
      ],
      "text/plain": [
       "              nombre oro plata bronce\n",
       "0  Equipo Unificado   45    38     29\n",
       "1    Estados Unidos   37    34     37\n",
       "2          Alemania   33    21     28\n",
       "3             China   16    22     16\n",
       "4              Cuba   14     6     11\n",
       "5            España   13     7      2\n",
       "6     Corea del Sur   12     5     12\n",
       "7           Hungría   11    12      7\n",
       "8           Francia    8     5     16\n",
       "9         Australia    7     9     11"
      ]
     },
     "execution_count": 163,
     "metadata": {},
     "output_type": "execute_result"
    }
   ],
   "source": [
    "df_medallas"
   ]
  },
  {
   "cell_type": "code",
   "execution_count": 164,
   "id": "f13bd9ee",
   "metadata": {},
   "outputs": [
    {
     "data": {
      "text/html": [
       "<div>\n",
       "<style scoped>\n",
       "    .dataframe tbody tr th:only-of-type {\n",
       "        vertical-align: middle;\n",
       "    }\n",
       "\n",
       "    .dataframe tbody tr th {\n",
       "        vertical-align: top;\n",
       "    }\n",
       "\n",
       "    .dataframe thead th {\n",
       "        text-align: right;\n",
       "    }\n",
       "</style>\n",
       "<table border=\"1\" class=\"dataframe\">\n",
       "  <thead>\n",
       "    <tr style=\"text-align: right;\">\n",
       "      <th></th>\n",
       "      <th>Núm.</th>\n",
       "      <th>País</th>\n",
       "      <th>Oro</th>\n",
       "      <th>Plata</th>\n",
       "      <th>Bronce</th>\n",
       "      <th>Total</th>\n",
       "    </tr>\n",
       "  </thead>\n",
       "  <tbody>\n",
       "    <tr>\n",
       "      <th>0</th>\n",
       "      <td>1</td>\n",
       "      <td>Equipo Unificado Equipo Unificado (EUN)</td>\n",
       "      <td>45</td>\n",
       "      <td>38</td>\n",
       "      <td>29</td>\n",
       "      <td>112</td>\n",
       "    </tr>\n",
       "    <tr>\n",
       "      <th>1</th>\n",
       "      <td>2</td>\n",
       "      <td>Estados Unidos Estados Unidos (USA)</td>\n",
       "      <td>37</td>\n",
       "      <td>34</td>\n",
       "      <td>37</td>\n",
       "      <td>108</td>\n",
       "    </tr>\n",
       "    <tr>\n",
       "      <th>2</th>\n",
       "      <td>3</td>\n",
       "      <td>Alemania Alemania (GER)</td>\n",
       "      <td>33</td>\n",
       "      <td>21</td>\n",
       "      <td>28</td>\n",
       "      <td>82</td>\n",
       "    </tr>\n",
       "    <tr>\n",
       "      <th>3</th>\n",
       "      <td>4</td>\n",
       "      <td>China China (CHN)</td>\n",
       "      <td>16</td>\n",
       "      <td>22</td>\n",
       "      <td>16</td>\n",
       "      <td>54</td>\n",
       "    </tr>\n",
       "    <tr>\n",
       "      <th>4</th>\n",
       "      <td>5</td>\n",
       "      <td>Cuba Cuba (CUB)</td>\n",
       "      <td>14</td>\n",
       "      <td>6</td>\n",
       "      <td>11</td>\n",
       "      <td>31</td>\n",
       "    </tr>\n",
       "    <tr>\n",
       "      <th>5</th>\n",
       "      <td>6</td>\n",
       "      <td>España España (ESP)</td>\n",
       "      <td>13</td>\n",
       "      <td>7</td>\n",
       "      <td>2</td>\n",
       "      <td>22</td>\n",
       "    </tr>\n",
       "    <tr>\n",
       "      <th>6</th>\n",
       "      <td>7</td>\n",
       "      <td>Corea del Sur Corea del Sur (KOR)</td>\n",
       "      <td>12</td>\n",
       "      <td>5</td>\n",
       "      <td>12</td>\n",
       "      <td>29</td>\n",
       "    </tr>\n",
       "    <tr>\n",
       "      <th>7</th>\n",
       "      <td>8</td>\n",
       "      <td>Hungría Hungría (HUN)</td>\n",
       "      <td>11</td>\n",
       "      <td>12</td>\n",
       "      <td>7</td>\n",
       "      <td>30</td>\n",
       "    </tr>\n",
       "    <tr>\n",
       "      <th>8</th>\n",
       "      <td>9</td>\n",
       "      <td>Francia Francia (FRA)</td>\n",
       "      <td>8</td>\n",
       "      <td>5</td>\n",
       "      <td>16</td>\n",
       "      <td>29</td>\n",
       "    </tr>\n",
       "    <tr>\n",
       "      <th>9</th>\n",
       "      <td>10</td>\n",
       "      <td>Australia Australia (AUS)</td>\n",
       "      <td>7</td>\n",
       "      <td>9</td>\n",
       "      <td>11</td>\n",
       "      <td>27</td>\n",
       "    </tr>\n",
       "  </tbody>\n",
       "</table>\n",
       "</div>"
      ],
      "text/plain": [
       "   Núm.                                     País  Oro  Plata  Bronce  Total\n",
       "0     1  Equipo Unificado Equipo Unificado (EUN)   45     38      29    112\n",
       "1     2      Estados Unidos Estados Unidos (USA)   37     34      37    108\n",
       "2     3                  Alemania Alemania (GER)   33     21      28     82\n",
       "3     4                        China China (CHN)   16     22      16     54\n",
       "4     5                          Cuba Cuba (CUB)   14      6      11     31\n",
       "5     6                      España España (ESP)   13      7       2     22\n",
       "6     7        Corea del Sur Corea del Sur (KOR)   12      5      12     29\n",
       "7     8                    Hungría Hungría (HUN)   11     12       7     30\n",
       "8     9                    Francia Francia (FRA)    8      5      16     29\n",
       "9    10                Australia Australia (AUS)    7      9      11     27"
      ]
     },
     "execution_count": 164,
     "metadata": {},
     "output_type": "execute_result"
    }
   ],
   "source": [
    "pd.read_clipboard()"
   ]
  },
  {
   "cell_type": "code",
   "execution_count": null,
   "id": "d406717a",
   "metadata": {},
   "outputs": [],
   "source": []
  },
  {
   "cell_type": "code",
   "execution_count": null,
   "id": "d265907b",
   "metadata": {},
   "outputs": [],
   "source": []
  }
 ],
 "metadata": {
  "kernelspec": {
   "display_name": "ironhack",
   "language": "python",
   "name": "ironhack"
  },
  "language_info": {
   "codemirror_mode": {
    "name": "ipython",
    "version": 3
   },
   "file_extension": ".py",
   "mimetype": "text/x-python",
   "name": "python",
   "nbconvert_exporter": "python",
   "pygments_lexer": "ipython3",
   "version": "3.8.5"
  },
  "toc": {
   "base_numbering": 1,
   "nav_menu": {},
   "number_sections": true,
   "sideBar": true,
   "skip_h1_title": true,
   "title_cell": "Table of Contents",
   "title_sidebar": "Contents",
   "toc_cell": true,
   "toc_position": {},
   "toc_section_display": true,
   "toc_window_display": false
  }
 },
 "nbformat": 4,
 "nbformat_minor": 5
}
