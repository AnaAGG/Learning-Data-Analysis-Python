{
 "cells": [
  {
   "cell_type": "code",
   "execution_count": 1,
   "id": "76a70663",
   "metadata": {},
   "outputs": [],
   "source": [
    "import pandas as pd\n",
    "import numpy as np\n",
    "import sidetable\n",
    "import datetime\n",
    "\n",
    "import seaborn as sns\n",
    "import matplotlib.pyplot as plt"
   ]
  },
  {
   "cell_type": "code",
   "execution_count": 2,
   "id": "f97c4208",
   "metadata": {},
   "outputs": [
    {
     "data": {
      "text/html": [
       "<div>\n",
       "<style scoped>\n",
       "    .dataframe tbody tr th:only-of-type {\n",
       "        vertical-align: middle;\n",
       "    }\n",
       "\n",
       "    .dataframe tbody tr th {\n",
       "        vertical-align: top;\n",
       "    }\n",
       "\n",
       "    .dataframe thead th {\n",
       "        text-align: right;\n",
       "    }\n",
       "</style>\n",
       "<table border=\"1\" class=\"dataframe\">\n",
       "  <thead>\n",
       "    <tr style=\"text-align: right;\">\n",
       "      <th></th>\n",
       "      <th>years</th>\n",
       "      <th>genres</th>\n",
       "      <th>IMDB</th>\n",
       "      <th>runtime</th>\n",
       "      <th>description</th>\n",
       "      <th>stars</th>\n",
       "      <th>number of votes</th>\n",
       "      <th>type</th>\n",
       "      <th>original plataform</th>\n",
       "    </tr>\n",
       "    <tr>\n",
       "      <th>Titles</th>\n",
       "      <th></th>\n",
       "      <th></th>\n",
       "      <th></th>\n",
       "      <th></th>\n",
       "      <th></th>\n",
       "      <th></th>\n",
       "      <th></th>\n",
       "      <th></th>\n",
       "      <th></th>\n",
       "    </tr>\n",
       "  </thead>\n",
       "  <tbody>\n",
       "    <tr>\n",
       "      <th>Zumbo's Just Desserts</th>\n",
       "      <td>2016</td>\n",
       "      <td>Reality-TV</td>\n",
       "      <td>6.9</td>\n",
       "      <td>52 min</td>\n",
       "      <td>Amateur Australian chefs compete to impress pa...</td>\n",
       "      <td>Gigi Falanga, Rachel Khoo, Adriano Zumbo</td>\n",
       "      <td>1,779</td>\n",
       "      <td>TV Show</td>\n",
       "      <td>Netflix</td>\n",
       "    </tr>\n",
       "    <tr>\n",
       "      <th>Zona Rosa</th>\n",
       "      <td>2019</td>\n",
       "      <td>Comedy</td>\n",
       "      <td>6.0</td>\n",
       "      <td>NaN</td>\n",
       "      <td>Add a Plot</td>\n",
       "      <td>Ray Contreras, Pablo Morán, Manu Nna, Ana Juli...</td>\n",
       "      <td>33</td>\n",
       "      <td>TV Show</td>\n",
       "      <td>Netflix</td>\n",
       "    </tr>\n",
       "  </tbody>\n",
       "</table>\n",
       "</div>"
      ],
      "text/plain": [
       "                       years                 genres       IMDB runtime  \\\n",
       "Titles                                                                   \n",
       "Zumbo's Just Desserts                   2016  Reality-TV   6.9  52 min   \n",
       "Zona Rosa                               2019      Comedy   6.0     NaN   \n",
       "\n",
       "                                                             description  \\\n",
       "Titles                                                                     \n",
       "Zumbo's Just Desserts  Amateur Australian chefs compete to impress pa...   \n",
       "Zona Rosa                                                     Add a Plot   \n",
       "\n",
       "                                                                   stars  \\\n",
       "Titles                                                                     \n",
       "Zumbo's Just Desserts           Gigi Falanga, Rachel Khoo, Adriano Zumbo   \n",
       "Zona Rosa              Ray Contreras, Pablo Morán, Manu Nna, Ana Juli...   \n",
       "\n",
       "                      number of votes     type original plataform  \n",
       "Titles                                                             \n",
       "Zumbo's Just Desserts           1,779  TV Show            Netflix  \n",
       "Zona Rosa                          33  TV Show            Netflix  "
      ]
     },
     "execution_count": 2,
     "metadata": {},
     "output_type": "execute_result"
    }
   ],
   "source": [
    "df = pd.read_csv(\"data/netflix_originals.csv\", index_col = 0)\n",
    "df.head(2)"
   ]
  },
  {
   "cell_type": "markdown",
   "id": "8afc4b34",
   "metadata": {},
   "source": [
    "1️⃣ **Primer problema** La columna `titles` está en el índice. \n"
   ]
  },
  {
   "cell_type": "code",
   "execution_count": 3,
   "id": "8fcd01d8",
   "metadata": {},
   "outputs": [
    {
     "data": {
      "text/html": [
       "<div>\n",
       "<style scoped>\n",
       "    .dataframe tbody tr th:only-of-type {\n",
       "        vertical-align: middle;\n",
       "    }\n",
       "\n",
       "    .dataframe tbody tr th {\n",
       "        vertical-align: top;\n",
       "    }\n",
       "\n",
       "    .dataframe thead th {\n",
       "        text-align: right;\n",
       "    }\n",
       "</style>\n",
       "<table border=\"1\" class=\"dataframe\">\n",
       "  <thead>\n",
       "    <tr style=\"text-align: right;\">\n",
       "      <th></th>\n",
       "      <th>Titles</th>\n",
       "      <th>years</th>\n",
       "      <th>genres</th>\n",
       "      <th>IMDB</th>\n",
       "      <th>runtime</th>\n",
       "      <th>description</th>\n",
       "      <th>stars</th>\n",
       "      <th>number of votes</th>\n",
       "      <th>type</th>\n",
       "      <th>original plataform</th>\n",
       "    </tr>\n",
       "  </thead>\n",
       "  <tbody>\n",
       "    <tr>\n",
       "      <th>0</th>\n",
       "      <td>Zumbo's Just Desserts</td>\n",
       "      <td>2016</td>\n",
       "      <td>Reality-TV</td>\n",
       "      <td>6.9</td>\n",
       "      <td>52 min</td>\n",
       "      <td>Amateur Australian chefs compete to impress pa...</td>\n",
       "      <td>Gigi Falanga, Rachel Khoo, Adriano Zumbo</td>\n",
       "      <td>1,779</td>\n",
       "      <td>TV Show</td>\n",
       "      <td>Netflix</td>\n",
       "    </tr>\n",
       "    <tr>\n",
       "      <th>1</th>\n",
       "      <td>Zona Rosa</td>\n",
       "      <td>2019</td>\n",
       "      <td>Comedy</td>\n",
       "      <td>6.0</td>\n",
       "      <td>NaN</td>\n",
       "      <td>Add a Plot</td>\n",
       "      <td>Ray Contreras, Pablo Morán, Manu Nna, Ana Juli...</td>\n",
       "      <td>33</td>\n",
       "      <td>TV Show</td>\n",
       "      <td>Netflix</td>\n",
       "    </tr>\n",
       "  </tbody>\n",
       "</table>\n",
       "</div>"
      ],
      "text/plain": [
       "                  Titles  years                 genres       IMDB runtime  \\\n",
       "0  Zumbo's Just Desserts                   2016  Reality-TV   6.9  52 min   \n",
       "1              Zona Rosa                   2019      Comedy   6.0     NaN   \n",
       "\n",
       "                                         description  \\\n",
       "0  Amateur Australian chefs compete to impress pa...   \n",
       "1                                         Add a Plot   \n",
       "\n",
       "                                               stars number of votes     type  \\\n",
       "0           Gigi Falanga, Rachel Khoo, Adriano Zumbo           1,779  TV Show   \n",
       "1  Ray Contreras, Pablo Morán, Manu Nna, Ana Juli...              33  TV Show   \n",
       "\n",
       "  original plataform  \n",
       "0            Netflix  \n",
       "1            Netflix  "
      ]
     },
     "execution_count": 3,
     "metadata": {},
     "output_type": "execute_result"
    }
   ],
   "source": [
    "df.reset_index(inplace = True)\n",
    "df.head(2)"
   ]
  },
  {
   "cell_type": "markdown",
   "id": "730cf93f",
   "metadata": {},
   "source": [
    "Perfecto! Ya tenemos nuestra columna `titles` como parte de nuestro *dataframe* "
   ]
  },
  {
   "cell_type": "markdown",
   "id": "605d3819",
   "metadata": {},
   "source": [
    "2️⃣ **Segundo problema** Estandarización del tipado de las columnas"
   ]
  },
  {
   "cell_type": "code",
   "execution_count": 4,
   "id": "c8524587",
   "metadata": {},
   "outputs": [
    {
     "data": {
      "text/plain": [
       "Index(['Titles', 'years                ', 'genres     ', 'IMDB', 'runtime',\n",
       "       'description', 'stars', 'number of votes', 'type',\n",
       "       'original plataform'],\n",
       "      dtype='object')"
      ]
     },
     "execution_count": 4,
     "metadata": {},
     "output_type": "execute_result"
    }
   ],
   "source": [
    "df.columns"
   ]
  },
  {
   "cell_type": "code",
   "execution_count": 5,
   "id": "63069154",
   "metadata": {},
   "outputs": [],
   "source": [
    "nuevas_columnas = {col : col.lower().strip().replace(\" \", \"_\") for col in df.columns}\n",
    "df.rename(columns = nuevas_columnas, inplace = True)"
   ]
  },
  {
   "cell_type": "code",
   "execution_count": 6,
   "id": "f7be4206",
   "metadata": {},
   "outputs": [
    {
     "data": {
      "text/plain": [
       "Index(['titles', 'years', 'genres', 'imdb', 'runtime', 'description', 'stars',\n",
       "       'number_of_votes', 'type', 'original_plataform'],\n",
       "      dtype='object')"
      ]
     },
     "execution_count": 6,
     "metadata": {},
     "output_type": "execute_result"
    }
   ],
   "source": [
    "df.columns"
   ]
  },
  {
   "cell_type": "markdown",
   "id": "dde06a78",
   "metadata": {},
   "source": [
    "3️⃣ **Tercer problema** La columna `number_of_votes` y `runtime` están en formato *string*. Debemos convertirlas a *integer* "
   ]
  },
  {
   "cell_type": "markdown",
   "id": "8b91b5e1",
   "metadata": {},
   "source": [
    "`number_of_votes`"
   ]
  },
  {
   "cell_type": "code",
   "execution_count": 7,
   "id": "abfc8a2b",
   "metadata": {},
   "outputs": [],
   "source": [
    "df[\"number_of_votes\"] = df[\"number_of_votes\"].str.replace(\",\", \"\")"
   ]
  },
  {
   "cell_type": "code",
   "execution_count": 8,
   "id": "bd0cffae",
   "metadata": {},
   "outputs": [
    {
     "data": {
      "text/html": [
       "<div>\n",
       "<style scoped>\n",
       "    .dataframe tbody tr th:only-of-type {\n",
       "        vertical-align: middle;\n",
       "    }\n",
       "\n",
       "    .dataframe tbody tr th {\n",
       "        vertical-align: top;\n",
       "    }\n",
       "\n",
       "    .dataframe thead th {\n",
       "        text-align: right;\n",
       "    }\n",
       "</style>\n",
       "<table border=\"1\" class=\"dataframe\">\n",
       "  <thead>\n",
       "    <tr style=\"text-align: right;\">\n",
       "      <th></th>\n",
       "      <th>titles</th>\n",
       "      <th>years</th>\n",
       "      <th>genres</th>\n",
       "      <th>imdb</th>\n",
       "      <th>runtime</th>\n",
       "      <th>description</th>\n",
       "      <th>stars</th>\n",
       "      <th>number_of_votes</th>\n",
       "      <th>type</th>\n",
       "      <th>original_plataform</th>\n",
       "    </tr>\n",
       "  </thead>\n",
       "  <tbody>\n",
       "    <tr>\n",
       "      <th>0</th>\n",
       "      <td>Zumbo's Just Desserts</td>\n",
       "      <td>2016</td>\n",
       "      <td>Reality-TV</td>\n",
       "      <td>6.9</td>\n",
       "      <td>52 min</td>\n",
       "      <td>Amateur Australian chefs compete to impress pa...</td>\n",
       "      <td>Gigi Falanga, Rachel Khoo, Adriano Zumbo</td>\n",
       "      <td>1779</td>\n",
       "      <td>TV Show</td>\n",
       "      <td>Netflix</td>\n",
       "    </tr>\n",
       "    <tr>\n",
       "      <th>1</th>\n",
       "      <td>Zona Rosa</td>\n",
       "      <td>2019</td>\n",
       "      <td>Comedy</td>\n",
       "      <td>6.0</td>\n",
       "      <td>NaN</td>\n",
       "      <td>Add a Plot</td>\n",
       "      <td>Ray Contreras, Pablo Morán, Manu Nna, Ana Juli...</td>\n",
       "      <td>33</td>\n",
       "      <td>TV Show</td>\n",
       "      <td>Netflix</td>\n",
       "    </tr>\n",
       "    <tr>\n",
       "      <th>2</th>\n",
       "      <td>Young Wallander</td>\n",
       "      <td>2020</td>\n",
       "      <td>Crime, Drama, Mystery</td>\n",
       "      <td>6.7</td>\n",
       "      <td>NaN</td>\n",
       "      <td>Follow recently graduated police officer Kurt ...</td>\n",
       "      <td>Adam Pålsson, Leanne Best, Richard Dillane, El...</td>\n",
       "      <td>5419</td>\n",
       "      <td>TV Show</td>\n",
       "      <td>Netflix</td>\n",
       "    </tr>\n",
       "  </tbody>\n",
       "</table>\n",
       "</div>"
      ],
      "text/plain": [
       "                  titles  years                 genres  imdb runtime  \\\n",
       "0  Zumbo's Just Desserts   2016             Reality-TV   6.9  52 min   \n",
       "1              Zona Rosa   2019                 Comedy   6.0     NaN   \n",
       "2        Young Wallander   2020  Crime, Drama, Mystery   6.7     NaN   \n",
       "\n",
       "                                         description  \\\n",
       "0  Amateur Australian chefs compete to impress pa...   \n",
       "1                                         Add a Plot   \n",
       "2  Follow recently graduated police officer Kurt ...   \n",
       "\n",
       "                                               stars number_of_votes     type  \\\n",
       "0           Gigi Falanga, Rachel Khoo, Adriano Zumbo            1779  TV Show   \n",
       "1  Ray Contreras, Pablo Morán, Manu Nna, Ana Juli...              33  TV Show   \n",
       "2  Adam Pålsson, Leanne Best, Richard Dillane, El...            5419  TV Show   \n",
       "\n",
       "  original_plataform  \n",
       "0            Netflix  \n",
       "1            Netflix  \n",
       "2            Netflix  "
      ]
     },
     "execution_count": 8,
     "metadata": {},
     "output_type": "execute_result"
    }
   ],
   "source": [
    "df.head(3)"
   ]
  },
  {
   "cell_type": "code",
   "execution_count": 9,
   "id": "e5eee52f",
   "metadata": {},
   "outputs": [],
   "source": [
    "df['number_of_votes'] = pd.to_numeric(df[\"number_of_votes\"], errors='coerce').astype('Int64')\n"
   ]
  },
  {
   "cell_type": "code",
   "execution_count": 10,
   "id": "67b10a5f",
   "metadata": {},
   "outputs": [
    {
     "data": {
      "text/plain": [
       "Int64Dtype()"
      ]
     },
     "execution_count": 10,
     "metadata": {},
     "output_type": "execute_result"
    }
   ],
   "source": [
    "df.number_of_votes.dtypes"
   ]
  },
  {
   "cell_type": "markdown",
   "id": "51686029",
   "metadata": {},
   "source": [
    "`runtime`"
   ]
  },
  {
   "cell_type": "code",
   "execution_count": 11,
   "id": "2271a670",
   "metadata": {},
   "outputs": [
    {
     "data": {
      "text/plain": [
       "array(['52 min', nan, '20 min', '45 min', '40 min', '44 min', '30 min',\n",
       "       '11 min', '48 min', '60 min', '55 min', '50 min', '23 min',\n",
       "       '22 min', '43 min', '66 min', '25 min', '26 min', '51 min',\n",
       "       '46 min', '42 min', '629 min', '58 min', '53 min', '24 min',\n",
       "       '41 min', '27 min', '31 min', '249 min', '15 min', '33 min',\n",
       "       '39 min', '56 min', '37 min', '36 min', '7 min', '120 min',\n",
       "       '12 min', '35 min', '28 min', '59 min', '49 min', '90 min',\n",
       "       '70 min', '21 min', '16 min', '29 min', '47 min', '138 min',\n",
       "       '18 min', '62 min', '542 min', '54 min', '14 min', '107 min',\n",
       "       '280 min', '32 min', '34 min', '106 min', '111 min', '117 min',\n",
       "       '92 min', '93 min', '102 min', '103 min', '88 min', '97 min',\n",
       "       '82 min', '101 min', '86 min', '122 min', '100 min', '95 min',\n",
       "       '113 min', '85 min', '112 min', '96 min', '104 min', '108 min',\n",
       "       '116 min', '98 min', '125 min', '84 min', '115 min', '99 min',\n",
       "       '134 min', '91 min', '129 min', '109 min', '94 min', '119 min',\n",
       "       '89 min', '121 min', '83 min', '148 min', '105 min', '140 min',\n",
       "       '209 min', '132 min', '114 min', '123 min', '151 min', '118 min',\n",
       "       '80 min', '133 min', '78 min', '87 min', '75 min', '110 min',\n",
       "       '76 min', '73 min', '130 min', '135 min', '142 min', '72 min',\n",
       "       '149 min', '124 min', '139 min', '126 min', '61 min', '137 min',\n",
       "       '68 min', '81 min', '79 min', '65 min', '144 min', '136 min',\n",
       "       '74 min', '147 min', '154 min', '77 min', '128 min', '143 min',\n",
       "       '63 min', '67 min', '71 min', '64 min', '69 min', '57 min',\n",
       "       '241 min', '233 min', '403 min', '296 min', '204 min', '213 min',\n",
       "       '385 min', '317 min', '331 min', '393 min', '215 min', '491 min',\n",
       "       '436 min', '284 min', '573 min', '281 min', '572 min', '494 min',\n",
       "       '229 min', '240 min', '191 min', '360 min', '290 min', '202 min',\n",
       "       '226 min', '205 min', '211 min', '347 min', '252 min', '452 min',\n",
       "       '370 min', '192 min', '270 min', '187 min', '236 min', '179 min',\n",
       "       '245 min', '267 min', '17 min', '4 min', '19 min', '10 min',\n",
       "       '153 min', '13 min'], dtype=object)"
      ]
     },
     "execution_count": 11,
     "metadata": {},
     "output_type": "execute_result"
    }
   ],
   "source": [
    "# vemos los valores únicos\n",
    "df.runtime.unique()"
   ]
  },
  {
   "cell_type": "code",
   "execution_count": 12,
   "id": "384da553",
   "metadata": {},
   "outputs": [],
   "source": [
    "# lo primero que tenemos que hacer es quitar \"min\" de nuestros valores. Para eso nos vamos a crear una función y usar un apply\n",
    "def quitar_min(x): \n",
    "    if type(x) != float :\n",
    "        return x.split()[0]\n",
    "    else: \n",
    "        return x"
   ]
  },
  {
   "cell_type": "code",
   "execution_count": 13,
   "id": "a2f319c6",
   "metadata": {},
   "outputs": [],
   "source": [
    "# aplicamos la función\n",
    "\n",
    "df[\"runtime\"] = df[\"runtime\"].apply(quitar_min)"
   ]
  },
  {
   "cell_type": "code",
   "execution_count": 14,
   "id": "80f4eca4",
   "metadata": {},
   "outputs": [
    {
     "ename": "ValueError",
     "evalue": "cannot convert float NaN to integer",
     "output_type": "error",
     "traceback": [
      "\u001b[0;31m---------------------------------------------------------------------------\u001b[0m",
      "\u001b[0;31mValueError\u001b[0m                                Traceback (most recent call last)",
      "\u001b[0;32m<ipython-input-14-91b6bd7f215a>\u001b[0m in \u001b[0;36m<module>\u001b[0;34m\u001b[0m\n\u001b[0;32m----> 1\u001b[0;31m \u001b[0mdf\u001b[0m\u001b[0;34m[\u001b[0m\u001b[0;34m\"runtime\"\u001b[0m\u001b[0;34m]\u001b[0m\u001b[0;34m.\u001b[0m\u001b[0mastype\u001b[0m\u001b[0;34m(\u001b[0m\u001b[0mint\u001b[0m\u001b[0;34m)\u001b[0m\u001b[0;34m\u001b[0m\u001b[0;34m\u001b[0m\u001b[0m\n\u001b[0m",
      "\u001b[0;32m/usr/local/Caskroom/miniconda/base/envs/ironhack/lib/python3.8/site-packages/pandas/core/generic.py\u001b[0m in \u001b[0;36mastype\u001b[0;34m(self, dtype, copy, errors)\u001b[0m\n\u001b[1;32m   5875\u001b[0m         \u001b[0;32melse\u001b[0m\u001b[0;34m:\u001b[0m\u001b[0;34m\u001b[0m\u001b[0;34m\u001b[0m\u001b[0m\n\u001b[1;32m   5876\u001b[0m             \u001b[0;31m# else, only a single dtype is given\u001b[0m\u001b[0;34m\u001b[0m\u001b[0;34m\u001b[0m\u001b[0;34m\u001b[0m\u001b[0m\n\u001b[0;32m-> 5877\u001b[0;31m             \u001b[0mnew_data\u001b[0m \u001b[0;34m=\u001b[0m \u001b[0mself\u001b[0m\u001b[0;34m.\u001b[0m\u001b[0m_mgr\u001b[0m\u001b[0;34m.\u001b[0m\u001b[0mastype\u001b[0m\u001b[0;34m(\u001b[0m\u001b[0mdtype\u001b[0m\u001b[0;34m=\u001b[0m\u001b[0mdtype\u001b[0m\u001b[0;34m,\u001b[0m \u001b[0mcopy\u001b[0m\u001b[0;34m=\u001b[0m\u001b[0mcopy\u001b[0m\u001b[0;34m,\u001b[0m \u001b[0merrors\u001b[0m\u001b[0;34m=\u001b[0m\u001b[0merrors\u001b[0m\u001b[0;34m)\u001b[0m\u001b[0;34m\u001b[0m\u001b[0;34m\u001b[0m\u001b[0m\n\u001b[0m\u001b[1;32m   5878\u001b[0m             \u001b[0;32mreturn\u001b[0m \u001b[0mself\u001b[0m\u001b[0;34m.\u001b[0m\u001b[0m_constructor\u001b[0m\u001b[0;34m(\u001b[0m\u001b[0mnew_data\u001b[0m\u001b[0;34m)\u001b[0m\u001b[0;34m.\u001b[0m\u001b[0m__finalize__\u001b[0m\u001b[0;34m(\u001b[0m\u001b[0mself\u001b[0m\u001b[0;34m,\u001b[0m \u001b[0mmethod\u001b[0m\u001b[0;34m=\u001b[0m\u001b[0;34m\"astype\"\u001b[0m\u001b[0;34m)\u001b[0m\u001b[0;34m\u001b[0m\u001b[0;34m\u001b[0m\u001b[0m\n\u001b[1;32m   5879\u001b[0m \u001b[0;34m\u001b[0m\u001b[0m\n",
      "\u001b[0;32m/usr/local/Caskroom/miniconda/base/envs/ironhack/lib/python3.8/site-packages/pandas/core/internals/managers.py\u001b[0m in \u001b[0;36mastype\u001b[0;34m(self, dtype, copy, errors)\u001b[0m\n\u001b[1;32m    629\u001b[0m         \u001b[0mself\u001b[0m\u001b[0;34m,\u001b[0m \u001b[0mdtype\u001b[0m\u001b[0;34m,\u001b[0m \u001b[0mcopy\u001b[0m\u001b[0;34m:\u001b[0m \u001b[0mbool\u001b[0m \u001b[0;34m=\u001b[0m \u001b[0;32mFalse\u001b[0m\u001b[0;34m,\u001b[0m \u001b[0merrors\u001b[0m\u001b[0;34m:\u001b[0m \u001b[0mstr\u001b[0m \u001b[0;34m=\u001b[0m \u001b[0;34m\"raise\"\u001b[0m\u001b[0;34m\u001b[0m\u001b[0;34m\u001b[0m\u001b[0m\n\u001b[1;32m    630\u001b[0m     ) -> \"BlockManager\":\n\u001b[0;32m--> 631\u001b[0;31m         \u001b[0;32mreturn\u001b[0m \u001b[0mself\u001b[0m\u001b[0;34m.\u001b[0m\u001b[0mapply\u001b[0m\u001b[0;34m(\u001b[0m\u001b[0;34m\"astype\"\u001b[0m\u001b[0;34m,\u001b[0m \u001b[0mdtype\u001b[0m\u001b[0;34m=\u001b[0m\u001b[0mdtype\u001b[0m\u001b[0;34m,\u001b[0m \u001b[0mcopy\u001b[0m\u001b[0;34m=\u001b[0m\u001b[0mcopy\u001b[0m\u001b[0;34m,\u001b[0m \u001b[0merrors\u001b[0m\u001b[0;34m=\u001b[0m\u001b[0merrors\u001b[0m\u001b[0;34m)\u001b[0m\u001b[0;34m\u001b[0m\u001b[0;34m\u001b[0m\u001b[0m\n\u001b[0m\u001b[1;32m    632\u001b[0m \u001b[0;34m\u001b[0m\u001b[0m\n\u001b[1;32m    633\u001b[0m     def convert(\n",
      "\u001b[0;32m/usr/local/Caskroom/miniconda/base/envs/ironhack/lib/python3.8/site-packages/pandas/core/internals/managers.py\u001b[0m in \u001b[0;36mapply\u001b[0;34m(self, f, align_keys, ignore_failures, **kwargs)\u001b[0m\n\u001b[1;32m    425\u001b[0m                     \u001b[0mapplied\u001b[0m \u001b[0;34m=\u001b[0m \u001b[0mb\u001b[0m\u001b[0;34m.\u001b[0m\u001b[0mapply\u001b[0m\u001b[0;34m(\u001b[0m\u001b[0mf\u001b[0m\u001b[0;34m,\u001b[0m \u001b[0;34m**\u001b[0m\u001b[0mkwargs\u001b[0m\u001b[0;34m)\u001b[0m\u001b[0;34m\u001b[0m\u001b[0;34m\u001b[0m\u001b[0m\n\u001b[1;32m    426\u001b[0m                 \u001b[0;32melse\u001b[0m\u001b[0;34m:\u001b[0m\u001b[0;34m\u001b[0m\u001b[0;34m\u001b[0m\u001b[0m\n\u001b[0;32m--> 427\u001b[0;31m                     \u001b[0mapplied\u001b[0m \u001b[0;34m=\u001b[0m \u001b[0mgetattr\u001b[0m\u001b[0;34m(\u001b[0m\u001b[0mb\u001b[0m\u001b[0;34m,\u001b[0m \u001b[0mf\u001b[0m\u001b[0;34m)\u001b[0m\u001b[0;34m(\u001b[0m\u001b[0;34m**\u001b[0m\u001b[0mkwargs\u001b[0m\u001b[0;34m)\u001b[0m\u001b[0;34m\u001b[0m\u001b[0;34m\u001b[0m\u001b[0m\n\u001b[0m\u001b[1;32m    428\u001b[0m             \u001b[0;32mexcept\u001b[0m \u001b[0;34m(\u001b[0m\u001b[0mTypeError\u001b[0m\u001b[0;34m,\u001b[0m \u001b[0mNotImplementedError\u001b[0m\u001b[0;34m)\u001b[0m\u001b[0;34m:\u001b[0m\u001b[0;34m\u001b[0m\u001b[0;34m\u001b[0m\u001b[0m\n\u001b[1;32m    429\u001b[0m                 \u001b[0;32mif\u001b[0m \u001b[0;32mnot\u001b[0m \u001b[0mignore_failures\u001b[0m\u001b[0;34m:\u001b[0m\u001b[0;34m\u001b[0m\u001b[0;34m\u001b[0m\u001b[0m\n",
      "\u001b[0;32m/usr/local/Caskroom/miniconda/base/envs/ironhack/lib/python3.8/site-packages/pandas/core/internals/blocks.py\u001b[0m in \u001b[0;36mastype\u001b[0;34m(self, dtype, copy, errors)\u001b[0m\n\u001b[1;32m    671\u001b[0m             \u001b[0mvals1d\u001b[0m \u001b[0;34m=\u001b[0m \u001b[0mvalues\u001b[0m\u001b[0;34m.\u001b[0m\u001b[0mravel\u001b[0m\u001b[0;34m(\u001b[0m\u001b[0;34m)\u001b[0m\u001b[0;34m\u001b[0m\u001b[0;34m\u001b[0m\u001b[0m\n\u001b[1;32m    672\u001b[0m             \u001b[0;32mtry\u001b[0m\u001b[0;34m:\u001b[0m\u001b[0;34m\u001b[0m\u001b[0;34m\u001b[0m\u001b[0m\n\u001b[0;32m--> 673\u001b[0;31m                 \u001b[0mvalues\u001b[0m \u001b[0;34m=\u001b[0m \u001b[0mastype_nansafe\u001b[0m\u001b[0;34m(\u001b[0m\u001b[0mvals1d\u001b[0m\u001b[0;34m,\u001b[0m \u001b[0mdtype\u001b[0m\u001b[0;34m,\u001b[0m \u001b[0mcopy\u001b[0m\u001b[0;34m=\u001b[0m\u001b[0;32mTrue\u001b[0m\u001b[0;34m)\u001b[0m\u001b[0;34m\u001b[0m\u001b[0;34m\u001b[0m\u001b[0m\n\u001b[0m\u001b[1;32m    674\u001b[0m             \u001b[0;32mexcept\u001b[0m \u001b[0;34m(\u001b[0m\u001b[0mValueError\u001b[0m\u001b[0;34m,\u001b[0m \u001b[0mTypeError\u001b[0m\u001b[0;34m)\u001b[0m\u001b[0;34m:\u001b[0m\u001b[0;34m\u001b[0m\u001b[0;34m\u001b[0m\u001b[0m\n\u001b[1;32m    675\u001b[0m                 \u001b[0;31m# e.g. astype_nansafe can fail on object-dtype of strings\u001b[0m\u001b[0;34m\u001b[0m\u001b[0;34m\u001b[0m\u001b[0;34m\u001b[0m\u001b[0m\n",
      "\u001b[0;32m/usr/local/Caskroom/miniconda/base/envs/ironhack/lib/python3.8/site-packages/pandas/core/dtypes/cast.py\u001b[0m in \u001b[0;36mastype_nansafe\u001b[0;34m(arr, dtype, copy, skipna)\u001b[0m\n\u001b[1;32m   1072\u001b[0m         \u001b[0;31m# work around NumPy brokenness, #1987\u001b[0m\u001b[0;34m\u001b[0m\u001b[0;34m\u001b[0m\u001b[0;34m\u001b[0m\u001b[0m\n\u001b[1;32m   1073\u001b[0m         \u001b[0;32mif\u001b[0m \u001b[0mnp\u001b[0m\u001b[0;34m.\u001b[0m\u001b[0missubdtype\u001b[0m\u001b[0;34m(\u001b[0m\u001b[0mdtype\u001b[0m\u001b[0;34m.\u001b[0m\u001b[0mtype\u001b[0m\u001b[0;34m,\u001b[0m \u001b[0mnp\u001b[0m\u001b[0;34m.\u001b[0m\u001b[0minteger\u001b[0m\u001b[0;34m)\u001b[0m\u001b[0;34m:\u001b[0m\u001b[0;34m\u001b[0m\u001b[0;34m\u001b[0m\u001b[0m\n\u001b[0;32m-> 1074\u001b[0;31m             \u001b[0;32mreturn\u001b[0m \u001b[0mlib\u001b[0m\u001b[0;34m.\u001b[0m\u001b[0mastype_intsafe\u001b[0m\u001b[0;34m(\u001b[0m\u001b[0marr\u001b[0m\u001b[0;34m.\u001b[0m\u001b[0mravel\u001b[0m\u001b[0;34m(\u001b[0m\u001b[0;34m)\u001b[0m\u001b[0;34m,\u001b[0m \u001b[0mdtype\u001b[0m\u001b[0;34m)\u001b[0m\u001b[0;34m.\u001b[0m\u001b[0mreshape\u001b[0m\u001b[0;34m(\u001b[0m\u001b[0marr\u001b[0m\u001b[0;34m.\u001b[0m\u001b[0mshape\u001b[0m\u001b[0;34m)\u001b[0m\u001b[0;34m\u001b[0m\u001b[0;34m\u001b[0m\u001b[0m\n\u001b[0m\u001b[1;32m   1075\u001b[0m \u001b[0;34m\u001b[0m\u001b[0m\n\u001b[1;32m   1076\u001b[0m         \u001b[0;31m# if we have a datetime/timedelta array of objects\u001b[0m\u001b[0;34m\u001b[0m\u001b[0;34m\u001b[0m\u001b[0;34m\u001b[0m\u001b[0m\n",
      "\u001b[0;32mpandas/_libs/lib.pyx\u001b[0m in \u001b[0;36mpandas._libs.lib.astype_intsafe\u001b[0;34m()\u001b[0m\n",
      "\u001b[0;31mValueError\u001b[0m: cannot convert float NaN to integer"
     ]
    }
   ],
   "source": [
    "df[\"runtime\"].astype(int)"
   ]
  },
  {
   "cell_type": "code",
   "execution_count": 15,
   "id": "4a1144af",
   "metadata": {},
   "outputs": [],
   "source": [
    "df[\"runtime\"] = df[\"runtime\"].fillna('0')"
   ]
  },
  {
   "cell_type": "code",
   "execution_count": 16,
   "id": "7ee89aab",
   "metadata": {},
   "outputs": [],
   "source": [
    "df[\"runtime\"]= df[\"runtime\"].astype(int)"
   ]
  },
  {
   "cell_type": "code",
   "execution_count": 17,
   "id": "d917651e",
   "metadata": {
    "scrolled": true
   },
   "outputs": [
    {
     "data": {
      "text/plain": [
       "titles                 object\n",
       "years                   int64\n",
       "genres                 object\n",
       "imdb                  float64\n",
       "runtime                 int64\n",
       "description            object\n",
       "stars                  object\n",
       "number_of_votes         Int64\n",
       "type                   object\n",
       "original_plataform     object\n",
       "dtype: object"
      ]
     },
     "execution_count": 17,
     "metadata": {},
     "output_type": "execute_result"
    }
   ],
   "source": [
    "df.dtypes"
   ]
  },
  {
   "cell_type": "markdown",
   "id": "a30dd39c",
   "metadata": {},
   "source": [
    "`year`"
   ]
  },
  {
   "cell_type": "code",
   "execution_count": 18,
   "id": "80da0db9",
   "metadata": {},
   "outputs": [],
   "source": [
    "df[\"years\"] = df[\"years\"].astype(\"category\")"
   ]
  },
  {
   "cell_type": "code",
   "execution_count": 19,
   "id": "652755b9",
   "metadata": {},
   "outputs": [
    {
     "data": {
      "text/plain": [
       "CategoricalDtype(categories=[2001, 2003, 2004, 2007, 2008, 2009, 2011, 2012, 2013, 2014,\n",
       "                  2015, 2016, 2017, 2018, 2019, 2020],\n",
       ", ordered=False)"
      ]
     },
     "execution_count": 19,
     "metadata": {},
     "output_type": "execute_result"
    }
   ],
   "source": [
    "df[\"years\"].dtypes"
   ]
  },
  {
   "cell_type": "markdown",
   "id": "d2417a07",
   "metadata": {},
   "source": [
    "3️⃣ **Duplicados** "
   ]
  },
  {
   "cell_type": "code",
   "execution_count": 20,
   "id": "90197ad9",
   "metadata": {},
   "outputs": [
    {
     "data": {
      "text/plain": [
       "2"
      ]
     },
     "execution_count": 20,
     "metadata": {},
     "output_type": "execute_result"
    }
   ],
   "source": [
    "df.duplicated().sum()"
   ]
  },
  {
   "cell_type": "code",
   "execution_count": 21,
   "id": "2266d536",
   "metadata": {},
   "outputs": [
    {
     "data": {
      "text/html": [
       "<div>\n",
       "<style scoped>\n",
       "    .dataframe tbody tr th:only-of-type {\n",
       "        vertical-align: middle;\n",
       "    }\n",
       "\n",
       "    .dataframe tbody tr th {\n",
       "        vertical-align: top;\n",
       "    }\n",
       "\n",
       "    .dataframe thead th {\n",
       "        text-align: right;\n",
       "    }\n",
       "</style>\n",
       "<table border=\"1\" class=\"dataframe\">\n",
       "  <thead>\n",
       "    <tr style=\"text-align: right;\">\n",
       "      <th></th>\n",
       "      <th>titles</th>\n",
       "      <th>years</th>\n",
       "      <th>genres</th>\n",
       "      <th>imdb</th>\n",
       "      <th>runtime</th>\n",
       "      <th>description</th>\n",
       "      <th>stars</th>\n",
       "      <th>number_of_votes</th>\n",
       "      <th>type</th>\n",
       "      <th>original_plataform</th>\n",
       "    </tr>\n",
       "  </thead>\n",
       "  <tbody>\n",
       "    <tr>\n",
       "      <th>368</th>\n",
       "      <td>Kipo and the Age of Wonderbeasts</td>\n",
       "      <td>2020</td>\n",
       "      <td>Animation, Action, Adventure</td>\n",
       "      <td>8.4</td>\n",
       "      <td>24</td>\n",
       "      <td>A girl explores the possibilities in a post-ap...</td>\n",
       "      <td>Karen Fukuhara, Sydney Mikayla, Dee Bradley Ba...</td>\n",
       "      <td>2724</td>\n",
       "      <td>TV Show</td>\n",
       "      <td>Netflix</td>\n",
       "    </tr>\n",
       "    <tr>\n",
       "      <th>1199</th>\n",
       "      <td>Jo Koy: In His Elements</td>\n",
       "      <td>2020</td>\n",
       "      <td>Comedy</td>\n",
       "      <td>5.1</td>\n",
       "      <td>55</td>\n",
       "      <td>Jo Koy returns to the Philippines to show off ...</td>\n",
       "      <td>Michael McKay, A, Fateeha, Joey Guila, Jo Koy</td>\n",
       "      <td>350</td>\n",
       "      <td>TV Show</td>\n",
       "      <td>Netflix</td>\n",
       "    </tr>\n",
       "  </tbody>\n",
       "</table>\n",
       "</div>"
      ],
      "text/plain": [
       "                                titles years                        genres  \\\n",
       "368   Kipo and the Age of Wonderbeasts  2020  Animation, Action, Adventure   \n",
       "1199           Jo Koy: In His Elements  2020                        Comedy   \n",
       "\n",
       "      imdb  runtime                                        description  \\\n",
       "368    8.4       24  A girl explores the possibilities in a post-ap...   \n",
       "1199   5.1       55  Jo Koy returns to the Philippines to show off ...   \n",
       "\n",
       "                                                  stars  number_of_votes  \\\n",
       "368   Karen Fukuhara, Sydney Mikayla, Dee Bradley Ba...             2724   \n",
       "1199      Michael McKay, A, Fateeha, Joey Guila, Jo Koy              350   \n",
       "\n",
       "         type original_plataform  \n",
       "368   TV Show            Netflix  \n",
       "1199  TV Show            Netflix  "
      ]
     },
     "execution_count": 21,
     "metadata": {},
     "output_type": "execute_result"
    }
   ],
   "source": [
    "#identificamos nuestros valores duplicados:\n",
    "\n",
    "df[df.duplicated() == True]"
   ]
  },
  {
   "cell_type": "code",
   "execution_count": 22,
   "id": "0c74e77b",
   "metadata": {},
   "outputs": [
    {
     "data": {
      "text/html": [
       "<div>\n",
       "<style scoped>\n",
       "    .dataframe tbody tr th:only-of-type {\n",
       "        vertical-align: middle;\n",
       "    }\n",
       "\n",
       "    .dataframe tbody tr th {\n",
       "        vertical-align: top;\n",
       "    }\n",
       "\n",
       "    .dataframe thead th {\n",
       "        text-align: right;\n",
       "    }\n",
       "</style>\n",
       "<table border=\"1\" class=\"dataframe\">\n",
       "  <thead>\n",
       "    <tr style=\"text-align: right;\">\n",
       "      <th></th>\n",
       "      <th>titles</th>\n",
       "      <th>years</th>\n",
       "      <th>genres</th>\n",
       "      <th>imdb</th>\n",
       "      <th>runtime</th>\n",
       "      <th>description</th>\n",
       "      <th>stars</th>\n",
       "      <th>number_of_votes</th>\n",
       "      <th>type</th>\n",
       "      <th>original_plataform</th>\n",
       "    </tr>\n",
       "  </thead>\n",
       "  <tbody>\n",
       "    <tr>\n",
       "      <th>367</th>\n",
       "      <td>Kipo and the Age of Wonderbeasts</td>\n",
       "      <td>2020</td>\n",
       "      <td>Animation, Action, Adventure</td>\n",
       "      <td>8.4</td>\n",
       "      <td>24</td>\n",
       "      <td>A girl explores the possibilities in a post-ap...</td>\n",
       "      <td>Karen Fukuhara, Sydney Mikayla, Dee Bradley Ba...</td>\n",
       "      <td>2724</td>\n",
       "      <td>TV Show</td>\n",
       "      <td>Netflix</td>\n",
       "    </tr>\n",
       "    <tr>\n",
       "      <th>368</th>\n",
       "      <td>Kipo and the Age of Wonderbeasts</td>\n",
       "      <td>2020</td>\n",
       "      <td>Animation, Action, Adventure</td>\n",
       "      <td>8.4</td>\n",
       "      <td>24</td>\n",
       "      <td>A girl explores the possibilities in a post-ap...</td>\n",
       "      <td>Karen Fukuhara, Sydney Mikayla, Dee Bradley Ba...</td>\n",
       "      <td>2724</td>\n",
       "      <td>TV Show</td>\n",
       "      <td>Netflix</td>\n",
       "    </tr>\n",
       "  </tbody>\n",
       "</table>\n",
       "</div>"
      ],
      "text/plain": [
       "                               titles years                        genres  \\\n",
       "367  Kipo and the Age of Wonderbeasts  2020  Animation, Action, Adventure   \n",
       "368  Kipo and the Age of Wonderbeasts  2020  Animation, Action, Adventure   \n",
       "\n",
       "     imdb  runtime                                        description  \\\n",
       "367   8.4       24  A girl explores the possibilities in a post-ap...   \n",
       "368   8.4       24  A girl explores the possibilities in a post-ap...   \n",
       "\n",
       "                                                 stars  number_of_votes  \\\n",
       "367  Karen Fukuhara, Sydney Mikayla, Dee Bradley Ba...             2724   \n",
       "368  Karen Fukuhara, Sydney Mikayla, Dee Bradley Ba...             2724   \n",
       "\n",
       "        type original_plataform  \n",
       "367  TV Show            Netflix  \n",
       "368  TV Show            Netflix  "
      ]
     },
     "execution_count": 22,
     "metadata": {},
     "output_type": "execute_result"
    }
   ],
   "source": [
    "# comprobamos que hay un duplicado: \n",
    "\n",
    "df[df[\"titles\"] == \"Kipo and the Age of Wonderbeasts\"]"
   ]
  },
  {
   "cell_type": "markdown",
   "id": "5e6786f2",
   "metadata": {},
   "source": [
    "¿Cómo los eliminamos? \n",
    "\n",
    "Usando el método `drop_duplcates()`"
   ]
  },
  {
   "cell_type": "code",
   "execution_count": 23,
   "id": "fbbc2a47",
   "metadata": {},
   "outputs": [],
   "source": [
    "df.drop_duplicates(inplace = True)"
   ]
  },
  {
   "cell_type": "code",
   "execution_count": 24,
   "id": "22e3a32b",
   "metadata": {},
   "outputs": [
    {
     "data": {
      "text/plain": [
       "0"
      ]
     },
     "execution_count": 24,
     "metadata": {},
     "output_type": "execute_result"
    }
   ],
   "source": [
    "#chequeamos\n",
    "\n",
    "df.duplicated().sum()"
   ]
  },
  {
   "cell_type": "markdown",
   "id": "18f76689",
   "metadata": {},
   "source": [
    "LLegados a este punto, debemos gestionar los nulos de nuestro *dataframe*"
   ]
  },
  {
   "cell_type": "markdown",
   "id": "7cbff41e",
   "metadata": {},
   "source": [
    "4️⃣ **Valores Nulos** "
   ]
  },
  {
   "cell_type": "markdown",
   "id": "df191ebf",
   "metadata": {},
   "source": [
    "Lo primero que tenemos que hacer es decidir si queremos o no quedarnos o no con esas filas. "
   ]
  },
  {
   "cell_type": "code",
   "execution_count": 25,
   "id": "8e7173cb",
   "metadata": {},
   "outputs": [
    {
     "data": {
      "text/plain": [
       "titles                 1\n",
       "years                  0\n",
       "genres                 1\n",
       "imdb                   5\n",
       "runtime                0\n",
       "description            0\n",
       "stars                 28\n",
       "number_of_votes        1\n",
       "type                   0\n",
       "original_plataform     0\n",
       "dtype: int64"
      ]
     },
     "execution_count": 25,
     "metadata": {},
     "output_type": "execute_result"
    }
   ],
   "source": [
    "df.isnull().sum()"
   ]
  },
  {
   "cell_type": "markdown",
   "id": "f941395e",
   "metadata": {},
   "source": [
    "¿Tiene sentido tener un nulo en la columna `titles`? En realidad no, ya que esto va de pelis. Lo que haremos será eliminar la fila correspondiente a ese nulo usando el método `dropna`"
   ]
  },
  {
   "cell_type": "code",
   "execution_count": 26,
   "id": "869a8310",
   "metadata": {},
   "outputs": [],
   "source": [
    "df.dropna(subset= [\"titles\"], inplace = True)"
   ]
  },
  {
   "cell_type": "code",
   "execution_count": 27,
   "id": "56088417",
   "metadata": {},
   "outputs": [
    {
     "data": {
      "text/plain": [
       "titles                 0\n",
       "years                  0\n",
       "genres                 1\n",
       "imdb                   5\n",
       "runtime                0\n",
       "description            0\n",
       "stars                 28\n",
       "number_of_votes        1\n",
       "type                   0\n",
       "original_plataform     0\n",
       "dtype: int64"
      ]
     },
     "execution_count": 27,
     "metadata": {},
     "output_type": "execute_result"
    }
   ],
   "source": [
    "df.isnull().sum()"
   ]
  },
  {
   "cell_type": "markdown",
   "id": "bcddd5c4",
   "metadata": {},
   "source": [
    "Seguimos teniendo más nulos. ¿Qué hacemos con ellos? En caso de que queramos quedarnos con ellos, con que valor vamos a querer reemplazar esos nulos. Lo podremos hacer con: \n",
    "\n",
    "- Valor fijo como por ejemplo un 0 para variables númericas o una nueva etiqueta para variables categóricas como por ejemplo \"Unknown\". \n",
    "\n",
    "\n",
    "- Media \n",
    "\n",
    "\n",
    "- Mediana \n",
    "\n",
    "\n",
    "- Moda"
   ]
  },
  {
   "cell_type": "markdown",
   "id": "2a2fb393",
   "metadata": {},
   "source": [
    "Lo primero que tenemos que hacer en el caso de las variables numéricas es ver la distribución de los datos. Para eso podemos usar un `displot`"
   ]
  },
  {
   "cell_type": "code",
   "execution_count": 28,
   "id": "5f14329c",
   "metadata": {},
   "outputs": [
    {
     "data": {
      "text/html": [
       "<div>\n",
       "<style scoped>\n",
       "    .dataframe tbody tr th:only-of-type {\n",
       "        vertical-align: middle;\n",
       "    }\n",
       "\n",
       "    .dataframe tbody tr th {\n",
       "        vertical-align: top;\n",
       "    }\n",
       "\n",
       "    .dataframe thead th {\n",
       "        text-align: right;\n",
       "    }\n",
       "</style>\n",
       "<table border=\"1\" class=\"dataframe\">\n",
       "  <thead>\n",
       "    <tr style=\"text-align: right;\">\n",
       "      <th></th>\n",
       "      <th>imdb</th>\n",
       "      <th>runtime</th>\n",
       "      <th>number_of_votes</th>\n",
       "    </tr>\n",
       "  </thead>\n",
       "  <tbody>\n",
       "    <tr>\n",
       "      <th>0</th>\n",
       "      <td>6.9</td>\n",
       "      <td>52</td>\n",
       "      <td>1779</td>\n",
       "    </tr>\n",
       "    <tr>\n",
       "      <th>1</th>\n",
       "      <td>6.0</td>\n",
       "      <td>0</td>\n",
       "      <td>33</td>\n",
       "    </tr>\n",
       "    <tr>\n",
       "      <th>2</th>\n",
       "      <td>6.7</td>\n",
       "      <td>0</td>\n",
       "      <td>5419</td>\n",
       "    </tr>\n",
       "    <tr>\n",
       "      <th>3</th>\n",
       "      <td>6.7</td>\n",
       "      <td>20</td>\n",
       "      <td>1977</td>\n",
       "    </tr>\n",
       "    <tr>\n",
       "      <th>4</th>\n",
       "      <td>7.8</td>\n",
       "      <td>45</td>\n",
       "      <td>134932</td>\n",
       "    </tr>\n",
       "  </tbody>\n",
       "</table>\n",
       "</div>"
      ],
      "text/plain": [
       "   imdb  runtime  number_of_votes\n",
       "0   6.9       52             1779\n",
       "1   6.0        0               33\n",
       "2   6.7        0             5419\n",
       "3   6.7       20             1977\n",
       "4   7.8       45           134932"
      ]
     },
     "execution_count": 28,
     "metadata": {},
     "output_type": "execute_result"
    }
   ],
   "source": [
    "# sacamos las numéricas\n",
    "\n",
    "numericas = df.select_dtypes(include = np.number)\n",
    "numericas.head()"
   ]
  },
  {
   "cell_type": "code",
   "execution_count": 29,
   "id": "e49eeff9",
   "metadata": {},
   "outputs": [
    {
     "data": {
      "image/png": "[encoded data removed]",
      "text/plain": [
       "<Figure size 432x288 with 1 Axes>"
      ]
     },
     "metadata": {
      "needs_background": "light"
     },
     "output_type": "display_data"
    }
   ],
   "source": [
    "# plots imbd\n",
    "\n",
    "media_imbd = numericas['imdb'].mean()\n",
    "mediana_imbd = numericas['imdb'].median()\n",
    "graf = sns.histplot(numericas['imdb'], bins = 20, kde = True)\n",
    "graf.axvline(x=media_imbd, c=\"red\", label=\"media\")\n",
    "graf.axvline(x=mediana_imbd, c=\"green\", label=\"mediana\")\n",
    "\n",
    "plt.legend()\n",
    "plt.show();"
   ]
  },
  {
   "cell_type": "code",
   "execution_count": 30,
   "id": "10fd8dfa",
   "metadata": {},
   "outputs": [
    {
     "data": {
      "image/png": "[encoded data removed]",
      "text/plain": [
       "<Figure size 432x288 with 1 Axes>"
      ]
     },
     "metadata": {
      "needs_background": "light"
     },
     "output_type": "display_data"
    }
   ],
   "source": [
    "# plots number_of_votes\n",
    "\n",
    "media_votes = numericas['number_of_votes'].mean()\n",
    "mediana_votes = numericas['number_of_votes'].median()\n",
    "graf = sns.histplot(numericas['number_of_votes'], bins = 30)\n",
    "graf.axvline(x=media_votes, c=\"red\", label=\"media\")\n",
    "graf.axvline(x=mediana_votes, c=\"green\", label=\"mediana\")\n",
    "\n",
    "plt.legend()\n",
    "plt.show();"
   ]
  },
  {
   "cell_type": "markdown",
   "id": "69ebb13c",
   "metadata": {},
   "source": [
    "Para `imbd`, en este caso la media y la mediana son similares y podríamos reemplazar por cualquier de ellos. "
   ]
  },
  {
   "cell_type": "code",
   "execution_count": 31,
   "id": "ef61e47a",
   "metadata": {},
   "outputs": [],
   "source": [
    "df[\"imdb\"] = df[\"imdb\"].fillna(media_imbd)"
   ]
  },
  {
   "cell_type": "markdown",
   "id": "6a6f3231",
   "metadata": {},
   "source": [
    "Para `number_of_votes`, de nuevo la media y la mediana son similares y podríamos reemplazar por cualquier de ellos. "
   ]
  },
  {
   "cell_type": "code",
   "execution_count": 32,
   "id": "56dd6959",
   "metadata": {},
   "outputs": [],
   "source": [
    "df[\"number_of_votes\"] = df[\"number_of_votes\"].fillna(mediana_votes)"
   ]
  },
  {
   "cell_type": "code",
   "execution_count": 33,
   "id": "2f40e706",
   "metadata": {},
   "outputs": [
    {
     "data": {
      "text/plain": [
       "titles                 0\n",
       "years                  0\n",
       "genres                 1\n",
       "imdb                   0\n",
       "runtime                0\n",
       "description            0\n",
       "stars                 28\n",
       "number_of_votes        0\n",
       "type                   0\n",
       "original_plataform     0\n",
       "dtype: int64"
      ]
     },
     "execution_count": 33,
     "metadata": {},
     "output_type": "execute_result"
    }
   ],
   "source": [
    "df.isnull().sum()"
   ]
  },
  {
   "cell_type": "markdown",
   "id": "fe933fc3",
   "metadata": {},
   "source": [
    "Vamos con las categóricas: "
   ]
  },
  {
   "cell_type": "code",
   "execution_count": 34,
   "id": "e5599972",
   "metadata": {},
   "outputs": [
    {
     "data": {
      "text/html": [
       "<div>\n",
       "<style scoped>\n",
       "    .dataframe tbody tr th:only-of-type {\n",
       "        vertical-align: middle;\n",
       "    }\n",
       "\n",
       "    .dataframe tbody tr th {\n",
       "        vertical-align: top;\n",
       "    }\n",
       "\n",
       "    .dataframe thead th {\n",
       "        text-align: right;\n",
       "    }\n",
       "</style>\n",
       "<table border=\"1\" class=\"dataframe\">\n",
       "  <thead>\n",
       "    <tr style=\"text-align: right;\">\n",
       "      <th></th>\n",
       "      <th>titles</th>\n",
       "      <th>genres</th>\n",
       "      <th>description</th>\n",
       "      <th>stars</th>\n",
       "      <th>type</th>\n",
       "      <th>original_plataform</th>\n",
       "    </tr>\n",
       "  </thead>\n",
       "  <tbody>\n",
       "    <tr>\n",
       "      <th>0</th>\n",
       "      <td>Zumbo's Just Desserts</td>\n",
       "      <td>Reality-TV</td>\n",
       "      <td>Amateur Australian chefs compete to impress pa...</td>\n",
       "      <td>Gigi Falanga, Rachel Khoo, Adriano Zumbo</td>\n",
       "      <td>TV Show</td>\n",
       "      <td>Netflix</td>\n",
       "    </tr>\n",
       "    <tr>\n",
       "      <th>1</th>\n",
       "      <td>Zona Rosa</td>\n",
       "      <td>Comedy</td>\n",
       "      <td>Add a Plot</td>\n",
       "      <td>Ray Contreras, Pablo Morán, Manu Nna, Ana Juli...</td>\n",
       "      <td>TV Show</td>\n",
       "      <td>Netflix</td>\n",
       "    </tr>\n",
       "    <tr>\n",
       "      <th>2</th>\n",
       "      <td>Young Wallander</td>\n",
       "      <td>Crime, Drama, Mystery</td>\n",
       "      <td>Follow recently graduated police officer Kurt ...</td>\n",
       "      <td>Adam Pålsson, Leanne Best, Richard Dillane, El...</td>\n",
       "      <td>TV Show</td>\n",
       "      <td>Netflix</td>\n",
       "    </tr>\n",
       "    <tr>\n",
       "      <th>3</th>\n",
       "      <td>You vs. Wild</td>\n",
       "      <td>Adventure, Reality-TV</td>\n",
       "      <td>In this interactive series, you'll make key de...</td>\n",
       "      <td>Bear Grylls</td>\n",
       "      <td>TV Show</td>\n",
       "      <td>Netflix</td>\n",
       "    </tr>\n",
       "    <tr>\n",
       "      <th>4</th>\n",
       "      <td>You</td>\n",
       "      <td>Crime, Drama, Romance</td>\n",
       "      <td>A dangerously charming, intensely obsessive yo...</td>\n",
       "      <td>Penn Badgley, Victoria Pedretti, Ambyr Childer...</td>\n",
       "      <td>TV Show</td>\n",
       "      <td>Netflix</td>\n",
       "    </tr>\n",
       "  </tbody>\n",
       "</table>\n",
       "</div>"
      ],
      "text/plain": [
       "                  titles                 genres  \\\n",
       "0  Zumbo's Just Desserts             Reality-TV   \n",
       "1              Zona Rosa                 Comedy   \n",
       "2        Young Wallander  Crime, Drama, Mystery   \n",
       "3           You vs. Wild  Adventure, Reality-TV   \n",
       "4                    You  Crime, Drama, Romance   \n",
       "\n",
       "                                         description  \\\n",
       "0  Amateur Australian chefs compete to impress pa...   \n",
       "1                                         Add a Plot   \n",
       "2  Follow recently graduated police officer Kurt ...   \n",
       "3  In this interactive series, you'll make key de...   \n",
       "4  A dangerously charming, intensely obsessive yo...   \n",
       "\n",
       "                                               stars     type  \\\n",
       "0           Gigi Falanga, Rachel Khoo, Adriano Zumbo  TV Show   \n",
       "1  Ray Contreras, Pablo Morán, Manu Nna, Ana Juli...  TV Show   \n",
       "2  Adam Pålsson, Leanne Best, Richard Dillane, El...  TV Show   \n",
       "3                                        Bear Grylls  TV Show   \n",
       "4  Penn Badgley, Victoria Pedretti, Ambyr Childer...  TV Show   \n",
       "\n",
       "  original_plataform  \n",
       "0            Netflix  \n",
       "1            Netflix  \n",
       "2            Netflix  \n",
       "3            Netflix  \n",
       "4            Netflix  "
      ]
     },
     "execution_count": 34,
     "metadata": {},
     "output_type": "execute_result"
    }
   ],
   "source": [
    "categoricas = df.select_dtypes(include = \"object\")\n",
    "categoricas.head()"
   ]
  },
  {
   "cell_type": "code",
   "execution_count": 35,
   "id": "1eff4aa6",
   "metadata": {},
   "outputs": [
    {
     "data": {
      "text/plain": [
       "titles                 0\n",
       "genres                 1\n",
       "description            0\n",
       "stars                 28\n",
       "type                   0\n",
       "original_plataform     0\n",
       "dtype: int64"
      ]
     },
     "execution_count": 35,
     "metadata": {},
     "output_type": "execute_result"
    }
   ],
   "source": [
    "categoricas.isnull().sum()"
   ]
  },
  {
   "cell_type": "markdown",
   "id": "a316983a",
   "metadata": {},
   "source": [
    "`stars` En este caso lo que haremos será crear una etiqueta nueva para los valores nulos. "
   ]
  },
  {
   "cell_type": "code",
   "execution_count": 36,
   "id": "85660d2d",
   "metadata": {},
   "outputs": [],
   "source": [
    "df['stars'] = df['stars'].fillna(\"No-Info\")"
   ]
  },
  {
   "cell_type": "code",
   "execution_count": 37,
   "id": "c643eacb",
   "metadata": {},
   "outputs": [
    {
     "data": {
      "text/plain": [
       "titles                0\n",
       "years                 0\n",
       "genres                1\n",
       "imdb                  0\n",
       "runtime               0\n",
       "description           0\n",
       "stars                 0\n",
       "number_of_votes       0\n",
       "type                  0\n",
       "original_plataform    0\n",
       "dtype: int64"
      ]
     },
     "execution_count": 37,
     "metadata": {},
     "output_type": "execute_result"
    }
   ],
   "source": [
    "df.isnull().sum()"
   ]
  },
  {
   "cell_type": "markdown",
   "id": "e395c4de",
   "metadata": {},
   "source": [
    "`genres`"
   ]
  },
  {
   "cell_type": "code",
   "execution_count": 38,
   "id": "116d479a",
   "metadata": {},
   "outputs": [],
   "source": [
    "df['genres'] = df['genres'].fillna(df['genres'].mode()[0])"
   ]
  },
  {
   "cell_type": "code",
   "execution_count": 39,
   "id": "9c6a08fe",
   "metadata": {},
   "outputs": [
    {
     "data": {
      "text/plain": [
       "titles                0\n",
       "years                 0\n",
       "genres                0\n",
       "imdb                  0\n",
       "runtime               0\n",
       "description           0\n",
       "stars                 0\n",
       "number_of_votes       0\n",
       "type                  0\n",
       "original_plataform    0\n",
       "dtype: int64"
      ]
     },
     "execution_count": 39,
     "metadata": {},
     "output_type": "execute_result"
    }
   ],
   "source": [
    "df.isnull().sum()"
   ]
  },
  {
   "cell_type": "markdown",
   "id": "dc2f3a78",
   "metadata": {},
   "source": [
    "Ya con nuestro dataframe limpito lo guardamos:"
   ]
  },
  {
   "cell_type": "code",
   "execution_count": 40,
   "id": "2796d8dd",
   "metadata": {},
   "outputs": [
    {
     "data": {
      "text/html": [
       "<div>\n",
       "<style scoped>\n",
       "    .dataframe tbody tr th:only-of-type {\n",
       "        vertical-align: middle;\n",
       "    }\n",
       "\n",
       "    .dataframe tbody tr th {\n",
       "        vertical-align: top;\n",
       "    }\n",
       "\n",
       "    .dataframe thead th {\n",
       "        text-align: right;\n",
       "    }\n",
       "</style>\n",
       "<table border=\"1\" class=\"dataframe\">\n",
       "  <thead>\n",
       "    <tr style=\"text-align: right;\">\n",
       "      <th></th>\n",
       "      <th>titles</th>\n",
       "      <th>years</th>\n",
       "      <th>genres</th>\n",
       "      <th>imdb</th>\n",
       "      <th>runtime</th>\n",
       "      <th>description</th>\n",
       "      <th>stars</th>\n",
       "      <th>number_of_votes</th>\n",
       "      <th>type</th>\n",
       "      <th>original_plataform</th>\n",
       "    </tr>\n",
       "  </thead>\n",
       "  <tbody>\n",
       "    <tr>\n",
       "      <th>0</th>\n",
       "      <td>Zumbo's Just Desserts</td>\n",
       "      <td>2016</td>\n",
       "      <td>Reality-TV</td>\n",
       "      <td>6.9</td>\n",
       "      <td>52</td>\n",
       "      <td>Amateur Australian chefs compete to impress pa...</td>\n",
       "      <td>Gigi Falanga, Rachel Khoo, Adriano Zumbo</td>\n",
       "      <td>1779</td>\n",
       "      <td>TV Show</td>\n",
       "      <td>Netflix</td>\n",
       "    </tr>\n",
       "    <tr>\n",
       "      <th>1</th>\n",
       "      <td>Zona Rosa</td>\n",
       "      <td>2019</td>\n",
       "      <td>Comedy</td>\n",
       "      <td>6.0</td>\n",
       "      <td>0</td>\n",
       "      <td>Add a Plot</td>\n",
       "      <td>Ray Contreras, Pablo Morán, Manu Nna, Ana Juli...</td>\n",
       "      <td>33</td>\n",
       "      <td>TV Show</td>\n",
       "      <td>Netflix</td>\n",
       "    </tr>\n",
       "  </tbody>\n",
       "</table>\n",
       "</div>"
      ],
      "text/plain": [
       "                  titles years      genres  imdb  runtime  \\\n",
       "0  Zumbo's Just Desserts  2016  Reality-TV   6.9       52   \n",
       "1              Zona Rosa  2019      Comedy   6.0        0   \n",
       "\n",
       "                                         description  \\\n",
       "0  Amateur Australian chefs compete to impress pa...   \n",
       "1                                         Add a Plot   \n",
       "\n",
       "                                               stars  number_of_votes  \\\n",
       "0           Gigi Falanga, Rachel Khoo, Adriano Zumbo             1779   \n",
       "1  Ray Contreras, Pablo Morán, Manu Nna, Ana Juli...               33   \n",
       "\n",
       "      type original_plataform  \n",
       "0  TV Show            Netflix  \n",
       "1  TV Show            Netflix  "
      ]
     },
     "execution_count": 40,
     "metadata": {},
     "output_type": "execute_result"
    }
   ],
   "source": [
    "df.head(2)"
   ]
  },
  {
   "cell_type": "code",
   "execution_count": 41,
   "id": "4be88afa",
   "metadata": {},
   "outputs": [],
   "source": [
    "df.to_csv(\"data/netflix_originals_limpio.csv\")"
   ]
  },
  {
   "cell_type": "code",
   "execution_count": 42,
   "id": "b1011275",
   "metadata": {},
   "outputs": [],
   "source": [
    "df.to_pickle(\"data/netflix_originals_limpio.pkl\")"
   ]
  },
  {
   "cell_type": "code",
   "execution_count": null,
   "id": "0e1bbb8f",
   "metadata": {},
   "outputs": [],
   "source": []
  }
 ],
 "metadata": {
  "kernelspec": {
   "display_name": "ironhack",
   "language": "python",
   "name": "ironhack"
  },
  "language_info": {
   "codemirror_mode": {
    "name": "ipython",
    "version": 3
   },
   "file_extension": ".py",
   "mimetype": "text/x-python",
   "name": "python",
   "nbconvert_exporter": "python",
   "pygments_lexer": "ipython3",
   "version": "3.8.5"
  },
  "toc": {
   "base_numbering": 1,
   "nav_menu": {},
   "number_sections": true,
   "sideBar": true,
   "skip_h1_title": false,
   "title_cell": "Table of Contents",
   "title_sidebar": "Contents",
   "toc_cell": false,
   "toc_position": {},
   "toc_section_display": true,
   "toc_window_display": false
  }
 },
 "nbformat": 4,
 "nbformat_minor": 5
}
