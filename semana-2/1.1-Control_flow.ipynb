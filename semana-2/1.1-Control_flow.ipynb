{
 "cells": [
  {
   "cell_type": "markdown",
   "id": "8287f50f",
   "metadata": {
    "toc": true
   },
   "source": [
    "<h1>Table of Contents<span class=\"tocSkip\"></span></h1>\n",
    "<div class=\"toc\"><ul class=\"toc-item\"><li><span><a href=\"#¿Qué-es-el-control-flow?\" data-toc-modified-id=\"¿Qué-es-el-control-flow?-1\"><span class=\"toc-item-num\">1&nbsp;&nbsp;</span>¿Qué es el control flow?</a></span><ul class=\"toc-item\"><li><span><a href=\"#¿Qué-es-el-pseudo-codigo?\" data-toc-modified-id=\"¿Qué-es-el-pseudo-codigo?-1.1\"><span class=\"toc-item-num\">1.1&nbsp;&nbsp;</span>¿Qué es el pseudo-codigo?</a></span></li></ul></li><li><span><a href=\"#Condicionales\" data-toc-modified-id=\"Condicionales-2\"><span class=\"toc-item-num\">2&nbsp;&nbsp;</span>Condicionales</a></span><ul class=\"toc-item\"><li><span><a href=\"#if\" data-toc-modified-id=\"if-2.1\"><span class=\"toc-item-num\">2.1&nbsp;&nbsp;</span>if</a></span></li><li><span><a href=\"#if-...-else\" data-toc-modified-id=\"if-...-else-2.2\"><span class=\"toc-item-num\">2.2&nbsp;&nbsp;</span>if ... else</a></span></li><li><span><a href=\"#if-anidados\" data-toc-modified-id=\"if-anidados-2.3\"><span class=\"toc-item-num\">2.3&nbsp;&nbsp;</span>if anidados</a></span></li><li><span><a href=\"#if-...-elif-...-else\" data-toc-modified-id=\"if-...-elif-...-else-2.4\"><span class=\"toc-item-num\">2.4&nbsp;&nbsp;</span>if ... elif ... else</a></span></li></ul></li><li><span><a href=\"#Loops\" data-toc-modified-id=\"Loops-3\"><span class=\"toc-item-num\">3&nbsp;&nbsp;</span>Loops</a></span><ul class=\"toc-item\"><li><span><a href=\"#for-loops\" data-toc-modified-id=\"for-loops-3.1\"><span class=\"toc-item-num\">3.1&nbsp;&nbsp;</span><code>for</code> loops</a></span></li><li><span><a href=\"#while\" data-toc-modified-id=\"while-3.2\"><span class=\"toc-item-num\">3.2&nbsp;&nbsp;</span>while</a></span></li></ul></li><li><span><a href=\"#Control-de-los-Loops\" data-toc-modified-id=\"Control-de-los-Loops-4\"><span class=\"toc-item-num\">4&nbsp;&nbsp;</span>Control de los Loops</a></span><ul class=\"toc-item\"><li><span><a href=\"#break\" data-toc-modified-id=\"break-4.1\"><span class=\"toc-item-num\">4.1&nbsp;&nbsp;</span>break</a></span></li><li><span><a href=\"#pass\" data-toc-modified-id=\"pass-4.2\"><span class=\"toc-item-num\">4.2&nbsp;&nbsp;</span>pass</a></span></li></ul></li><li><span><a href=\"#Algunos-métodos-interesantes\" data-toc-modified-id=\"Algunos-métodos-interesantes-5\"><span class=\"toc-item-num\">5&nbsp;&nbsp;</span>Algunos métodos interesantes</a></span></li></ul></div>"
   ]
  },
  {
   "cell_type": "markdown",
   "id": "b409ca6c",
   "metadata": {},
   "source": [
    "# ¿Qué es el control flow? "
   ]
  },
  {
   "cell_type": "markdown",
   "id": "3ef9c6cc",
   "metadata": {},
   "source": [
    "Es el orden en que se ejecutan ciertas operaciones, es decir usando el control de flujo estamos controlando la ejecución de nuestro código. \n",
    "\n",
    "Pongamos un ejemplo sencillo, digamos que queremos medir la temperatura del aire en el exterior. ¿Qué tenemos que hacer? \n",
    "\n",
    "1️⃣ Cogemos el termómetro,   \n",
    "2️⃣ Abrimos la puerta,   \n",
    "3️⃣ Salimos al exterior,   \n",
    "4️⃣ Cerramos la puerta,   \n",
    "5️⃣ Buscamos un lugar a la sombra,   \n",
    "6️⃣ Medimos la temperatura y   \n",
    "7️⃣ La anotamos. "
   ]
  },
  {
   "cell_type": "markdown",
   "id": "b81835af",
   "metadata": {},
   "source": [
    "Pyhton tiene 3 estructuras de control de flujo:\n",
    "\n",
    "- Condicionales:\n",
    "    ```python\n",
    "    - if \n",
    "    - if ... else ...\n",
    "    - if ... elif ... else\n",
    "    ```\n",
    "- *Loops*: \n",
    "    ```python\n",
    "    - for\n",
    "    - while\n",
    "    ```\n",
    "\n",
    "- Control de los *loops* con *break* y *continue* \n",
    "    ```python\n",
    "    - break\n",
    "    - continue\n",
    "    ```"
   ]
  },
  {
   "cell_type": "markdown",
   "id": "a247723f",
   "metadata": {},
   "source": [
    "## ¿Qué es el pseudo-codigo? "
   ]
  },
  {
   "cell_type": "markdown",
   "id": "0ab8c541",
   "metadata": {},
   "source": [
    "El pseudocódigo es una forma de expresar los distintos pasos que va a realizar un programa, de la forma más parecida a un lenguaje de programación. Su principal función es la de representar por pasos la solución a un problema o algoritmo, de la forma más detallada posible, normalmente usamos comentarios nuestros. "
   ]
  },
  {
   "cell_type": "code",
   "execution_count": 1,
   "id": "e943caa8",
   "metadata": {},
   "outputs": [
    {
     "data": {
      "text/plain": [
       "'\\nLas triples comillas para\\nescribir el múltiples líneas\\n'"
      ]
     },
     "execution_count": 1,
     "metadata": {},
     "output_type": "execute_result"
    }
   ],
   "source": [
    "\"\"\"\n",
    "Las triples comillas para\n",
    "escribir el múltiples líneas\n",
    "\"\"\"\n",
    "\n",
    "# para escribir comentarios de una sola línea"
   ]
  },
  {
   "cell_type": "markdown",
   "id": "754ec0b0",
   "metadata": {},
   "source": [
    "Imaginemos que nos mandan el siguiente ejercicio: "
   ]
  },
  {
   "cell_type": "markdown",
   "id": "d1ba8873",
   "metadata": {},
   "source": [
    "Le preguntamos al usuario que nos diga un número. \n",
    "Chequeamos que esta dentro de una lista dada. \n",
    "\n",
    "Peeeero... no sabemos por donde empezar a picar código 🤯. En este caso usaremos el pseudocódigo: "
   ]
  },
  {
   "cell_type": "code",
   "execution_count": 1,
   "id": "029fe978",
   "metadata": {},
   "outputs": [
    {
     "data": {
      "text/plain": [
       "'\\ncrear una lista de los números que me interesan\\nnecesito el input del usuario\\ntengo que establecer una condición usando un if con un operador in\\n'"
      ]
     },
     "execution_count": 1,
     "metadata": {},
     "output_type": "execute_result"
    }
   ],
   "source": [
    "'''\n",
    "crear una lista de los números que me interesan\n",
    "necesito el input del usuario\n",
    "tengo que establecer una condición usando un if con un operador in\n",
    "'''"
   ]
  },
  {
   "cell_type": "markdown",
   "id": "dd072451",
   "metadata": {},
   "source": [
    "# Condicionales "
   ]
  },
  {
   "cell_type": "markdown",
   "id": "bed17774",
   "metadata": {},
   "source": [
    "Las sentencias condicionales, o a menudo llamadas sentencias if-then, nos permiten ejecutar un trozo de código dependiendo de alguna condición (condición booleana).\n",
    "Las sentencias condicionales en Python son:\n",
    "\n",
    "- `if`\n",
    "\n",
    "\n",
    "- `if-else`\n",
    "\n",
    "\n",
    "- `if anidado`\n",
    "\n",
    "\n",
    "- `if-elif-else`\n",
    "\n",
    "\n",
    "📌 Las palabras clave para aplicar una sentencia condicional son if, elif, else y dos puntos (:). Es importante aplicar una sangría a la nueva línea después de los dos puntos."
   ]
  },
  {
   "cell_type": "markdown",
   "id": "3a6b5afe",
   "metadata": {},
   "source": [
    "## if"
   ]
  },
  {
   "cell_type": "markdown",
   "id": "9eb48a73",
   "metadata": {},
   "source": [
    "Si la condición `if` se evalúa como True, entonces se ejecuta el código indentado que sigue a la sentencia.\n",
    "\n",
    "Si la expresión evalúa a Falso, entonces el código indentado que sigue a la sentencia `if` se salta y el programa ejecuta la siguiente línea de código que está indentada al mismo nivel que la sentencia `if`.\n",
    "\n"
   ]
  },
  {
   "cell_type": "markdown",
   "id": "be8edefe",
   "metadata": {},
   "source": [
    "<img src=\"images/if.png\" style=\"width:300px;\"/>\n"
   ]
  },
  {
   "cell_type": "code",
   "execution_count": 7,
   "id": "70b9a7ab",
   "metadata": {},
   "outputs": [
    {
     "name": "stdout",
     "output_type": "stream",
     "text": [
      "Bienvenido\n"
     ]
    }
   ],
   "source": [
    "expresion = True\n",
    "if expresion == True:\n",
    "    print(\"Bienvenido\")"
   ]
  },
  {
   "cell_type": "code",
   "execution_count": 8,
   "id": "e8d0be2f",
   "metadata": {},
   "outputs": [
    {
     "name": "stdout",
     "output_type": "stream",
     "text": [
      "Bienvenido\n"
     ]
    }
   ],
   "source": [
    "# esto es lo mismo que lo anterior\n",
    "if expresion:\n",
    "    print('Bienvenido')"
   ]
  },
  {
   "cell_type": "code",
   "execution_count": 5,
   "id": "5a02e8a4",
   "metadata": {
    "scrolled": true
   },
   "outputs": [
    {
     "name": "stdout",
     "output_type": "stream",
     "text": [
      "¿Qué temperatura hace hoy? 1\n"
     ]
    }
   ],
   "source": [
    "temperatura = int(input('¿Qué temperatura hace hoy? '))"
   ]
  },
  {
   "cell_type": "code",
   "execution_count": 7,
   "id": "f19cfd5b",
   "metadata": {},
   "outputs": [
    {
     "name": "stdout",
     "output_type": "stream",
     "text": [
      "La temperatura de hoy es 1, hace un frio del demonio 🥶\n"
     ]
    }
   ],
   "source": [
    "if temperatura < 4: # preguntamos si la temperatura es menor que un valor (en este caso 4). \n",
    "    # Si esta condición es cierta, se ejecutará la siguiente líena de código\n",
    "    print(f\"La temperatura de hoy es {temperatura}, hace un frio del demonio 🥶\")"
   ]
  },
  {
   "cell_type": "code",
   "execution_count": 8,
   "id": "16f0d305",
   "metadata": {},
   "outputs": [],
   "source": [
    "# pero que pasa si la condición no se cumple?\n",
    "if temperatura > 17:\n",
    "    # no se ejecutará la siguiente línea de código\n",
    "    print(f\"La temperatura de hoy es {num}, y se esta agustito\")"
   ]
  },
  {
   "cell_type": "markdown",
   "id": "389c7aae",
   "metadata": {},
   "source": [
    "En el control flow también podemos incluir varias condiciones"
   ]
  },
  {
   "cell_type": "code",
   "execution_count": 12,
   "id": "bfa4bca2",
   "metadata": {
    "scrolled": true
   },
   "outputs": [
    {
     "name": "stdout",
     "output_type": "stream",
     "text": [
      "¿Qúe temperatura máxima tenemos hoy? 12\n"
     ]
    }
   ],
   "source": [
    "temp_max = int(input('¿Qúe temperatura máxima tenemos hoy? '))"
   ]
  },
  {
   "cell_type": "code",
   "execution_count": 14,
   "id": "95234a68",
   "metadata": {},
   "outputs": [
    {
     "name": "stdout",
     "output_type": "stream",
     "text": [
      "¿Qué temperatura mínima tenemos hoy? 1\n"
     ]
    }
   ],
   "source": [
    "temp_min = int(input('¿Qué temperatura mínima tenemos hoy? '))"
   ]
  },
  {
   "cell_type": "code",
   "execution_count": 15,
   "id": "d3f8e99d",
   "metadata": {},
   "outputs": [
    {
     "name": "stdout",
     "output_type": "stream",
     "text": [
      "Parece que estamos en invierno\n"
     ]
    }
   ],
   "source": [
    "if temp_max <= 15 and  temp_min < 6: # tienen que cumplirse las dos conduciones\n",
    "\n",
    "    print('Parece que estamos en invierno')"
   ]
  },
  {
   "cell_type": "code",
   "execution_count": 16,
   "id": "a564ae41",
   "metadata": {},
   "outputs": [
    {
     "name": "stdout",
     "output_type": "stream",
     "text": [
      "Podríamos seguir en invierno\n"
     ]
    }
   ],
   "source": [
    "if temp_max <= 15 or  temp_min > 6: # tiene que cumplirse una de las dos condiciones\n",
    "\n",
    "    print(f'Podríamos seguir en invierno')"
   ]
  },
  {
   "cell_type": "code",
   "execution_count": 67,
   "id": "c254893d",
   "metadata": {},
   "outputs": [
    {
     "name": "stdout",
     "output_type": "stream",
     "text": [
      "Carmen esta invitada\n"
     ]
    }
   ],
   "source": [
    "# también lo podemos hacer con listas\n",
    "if \"Carmen\" in ['Lola', 'Maria', 'Marta', 'Carmen']:\n",
    "    print(\"Carmen esta invitada\")"
   ]
  },
  {
   "cell_type": "markdown",
   "id": "6bb7d403",
   "metadata": {},
   "source": [
    "🌊📝 **EJERCICIO** 🌊📝\n",
    "\n",
    "Escribe un programa que chequee si el usuario nos pasa una letra o un número"
   ]
  },
  {
   "cell_type": "code",
   "execution_count": 17,
   "id": "78faf961",
   "metadata": {},
   "outputs": [],
   "source": [
    "import string"
   ]
  },
  {
   "cell_type": "code",
   "execution_count": 18,
   "id": "23135e66",
   "metadata": {},
   "outputs": [
    {
     "data": {
      "text/plain": [
       "'abcdefghijklmnopqrstuvwxyz'"
      ]
     },
     "execution_count": 18,
     "metadata": {},
     "output_type": "execute_result"
    }
   ],
   "source": [
    "letras = string.ascii_lowercase\n",
    "letras"
   ]
  },
  {
   "cell_type": "code",
   "execution_count": 19,
   "id": "615d7305",
   "metadata": {},
   "outputs": [
    {
     "name": "stdout",
     "output_type": "stream",
     "text": [
      "Escribe un caracter: i\n"
     ]
    }
   ],
   "source": [
    "# preguntamos al usuario que nos pase caracter\n",
    "letra = input('Escribe un caracter: ')"
   ]
  },
  {
   "cell_type": "code",
   "execution_count": 20,
   "id": "481b071f",
   "metadata": {},
   "outputs": [
    {
     "name": "stdout",
     "output_type": "stream",
     "text": [
      "El caracter es una letra\n"
     ]
    }
   ],
   "source": [
    "# chequeamos si la opción del usuario es una letra\n",
    "if letra in letras:\n",
    "    print('El caracter es una letra')"
   ]
  },
  {
   "cell_type": "code",
   "execution_count": 21,
   "id": "b58f0395",
   "metadata": {},
   "outputs": [
    {
     "name": "stdout",
     "output_type": "stream",
     "text": [
      "tu letra es una vocal\n"
     ]
    }
   ],
   "source": [
    "# pero que pasa si nos pasa una mayúscula?\n",
    "if letra.lower() in letras:\n",
    "    print('tu caracter es una letra')"
   ]
  },
  {
   "cell_type": "markdown",
   "id": "e2a2049f",
   "metadata": {},
   "source": [
    "## if ... else "
   ]
  },
  {
   "cell_type": "markdown",
   "id": "da11f32c",
   "metadata": {},
   "source": [
    "Esta declaración nos permite añadir una segunda posibilidad al código, qué hacer cuando la condición es False (cuando no se cumple la condición)."
   ]
  },
  {
   "cell_type": "markdown",
   "id": "264c162c",
   "metadata": {},
   "source": [
    "<img src=\"images/if, else.png\" style=\"width:400px;\"/>\n"
   ]
  },
  {
   "cell_type": "code",
   "execution_count": 23,
   "id": "edb75a44",
   "metadata": {},
   "outputs": [
    {
     "name": "stdout",
     "output_type": "stream",
     "text": [
      "¿Qué temperatura hace hoy? 10\n"
     ]
    }
   ],
   "source": [
    "# preguntamos que temperatura hace hoy\n",
    "temp = float(input('¿Qué temperatura hace hoy? '))"
   ]
  },
  {
   "cell_type": "code",
   "execution_count": 25,
   "id": "2763a0e5",
   "metadata": {},
   "outputs": [
    {
     "name": "stdout",
     "output_type": "stream",
     "text": [
      "la temperatura de hoy es 10.0, hace frio 🥶\n"
     ]
    }
   ],
   "source": [
    "# creamos la condición\n",
    "if temp < 15:\n",
    "    print(f\"la temperatura de hoy es {temp}, hace frio 🥶\")\n",
    "    \n",
    "else: \n",
    "    # en caso de que no se cumpla la primera condición, se ejecutaría el código del else\n",
    "    print(f\"la temperatura de hoy es {temp}, hace calorcito 😊\")"
   ]
  },
  {
   "cell_type": "markdown",
   "id": "40b6db19",
   "metadata": {},
   "source": [
    " 🌊📝 **EJERCICIO** 🌊📝\n",
    " \n",
    "Escribe un programa que chequee si una palabra empieza por 'a' o no"
   ]
  },
  {
   "cell_type": "code",
   "execution_count": 40,
   "id": "bdc363ca",
   "metadata": {},
   "outputs": [],
   "source": [
    "palabra = \"abedul\""
   ]
  },
  {
   "cell_type": "code",
   "execution_count": 41,
   "id": "4ddc247f",
   "metadata": {},
   "outputs": [
    {
     "name": "stdout",
     "output_type": "stream",
     "text": [
      "correcto, la palabra empieza por 'a'\n"
     ]
    }
   ],
   "source": [
    "if palabra.startswith('a'):\n",
    "    print(\"correcto, la palabra empieza por 'a'\")\n",
    "else:\n",
    "    print('esta palabra no vale')"
   ]
  },
  {
   "cell_type": "code",
   "execution_count": 138,
   "id": "dc957679",
   "metadata": {},
   "outputs": [
    {
     "name": "stdout",
     "output_type": "stream",
     "text": [
      "correcto\n"
     ]
    }
   ],
   "source": [
    "if palabra.lower().startswith('a'):\n",
    "    print(\"correcto\")\n",
    "else:\n",
    "    print('esta palabra no vale')"
   ]
  },
  {
   "cell_type": "code",
   "execution_count": 141,
   "id": "3479126a",
   "metadata": {},
   "outputs": [
    {
     "name": "stdout",
     "output_type": "stream",
     "text": [
      "empieza por A o a\n"
     ]
    }
   ],
   "source": [
    "# equivalente\n",
    "if palabra[0] in [\"a\", \"A\"]:\n",
    "    print(\"empieza por A o a\")\n",
    "else:\n",
    "    print(\"oh oh...\")"
   ]
  },
  {
   "cell_type": "markdown",
   "id": "726a7a4e",
   "metadata": {},
   "source": [
    " 🌊📝 **EJERCICIO** 🌊📝\n",
    "\n",
    "Hagamos un programa que le pregunte al usuario que edad que tiene para saber si puede entrar a la discoteca o no \n",
    "- Si es mayor que 18 le dejamos pasar\n",
    "- Si es menor que 18 le recomendamos ir a una discoteca light"
   ]
  },
  {
   "cell_type": "code",
   "execution_count": 3,
   "id": "a4a2609d",
   "metadata": {},
   "outputs": [
    {
     "name": "stdout",
     "output_type": "stream",
     "text": [
      "Cuántos años tienes? 19\n"
     ]
    }
   ],
   "source": [
    "# preguntamos que edad tiene el usuario\n",
    "edad = int(input('Cuántos años tienes? '))"
   ]
  },
  {
   "cell_type": "code",
   "execution_count": 4,
   "id": "1b1e6dbe",
   "metadata": {
    "scrolled": true
   },
   "outputs": [
    {
     "name": "stdout",
     "output_type": "stream",
     "text": [
      "pasa majo\n"
     ]
    }
   ],
   "source": [
    "# puede entrar en la discoteca?\n",
    "if edad > 18:\n",
    "    print('pasa majo')\n",
    "else: \n",
    "    print('ve a una discoteca light')"
   ]
  },
  {
   "cell_type": "markdown",
   "id": "eb578840",
   "metadata": {},
   "source": [
    "##  if anidados"
   ]
  },
  {
   "cell_type": "markdown",
   "id": "ca351ff9",
   "metadata": {},
   "source": [
    "Básicamente es una sentencia `if` dentro de otra sentencia `if`. "
   ]
  },
  {
   "cell_type": "markdown",
   "id": "f1ce7b51",
   "metadata": {},
   "source": [
    "<img src=\"images/nested.png\" style=\"width:400px;\"/>\n"
   ]
  },
  {
   "cell_type": "code",
   "execution_count": 9,
   "id": "d7c4db7c",
   "metadata": {},
   "outputs": [
    {
     "name": "stdout",
     "output_type": "stream",
     "text": [
      "¿Qué temperatura hace hoy? 17\n"
     ]
    }
   ],
   "source": [
    "# preguntamos que temperatura hace hoy\n",
    "temp2 = float(input('¿Qué temperatura hace hoy? '))"
   ]
  },
  {
   "cell_type": "code",
   "execution_count": 10,
   "id": "8a9aada7",
   "metadata": {},
   "outputs": [
    {
     "name": "stdout",
     "output_type": "stream",
     "text": [
      "34.0\n"
     ]
    }
   ],
   "source": [
    "# nosotros en un if podemos hacer todas las operaciones que queramos.\n",
    "# En este caso estamos haciendo una multiplicación del valor que nos ha pasado el usuario\n",
    "if temp2 > 15:\n",
    "    # temp = temp * 2 es lo que lo mismo que lo de abajo\n",
    "    temp2 *= 2\n",
    "    print(temp2)"
   ]
  },
  {
   "cell_type": "code",
   "execution_count": 12,
   "id": "2801d793",
   "metadata": {},
   "outputs": [
    {
     "name": "stdout",
     "output_type": "stream",
     "text": [
      "la temperatura de hoy es 34.0, hace calorcito 😊\n",
      "hará calorcete\n"
     ]
    }
   ],
   "source": [
    "# creamos la condición anidad\n",
    "if temp2 > 15:\n",
    "    print(f\"la temperatura de hoy es {temp2}, hace calorcito 😊\")\n",
    "    # cuidado aquí con la asignación de variables. Fijaos que en la celda anterior hemos sobreescrito el valor del valor que nos paso el usuario \n",
    "    if temp2 > 40: \n",
    "        print('Ojo! llévate bien de aguita')\n",
    "    else:\n",
    "        print('hará calorcete')\n",
    "else:\n",
    "    print(f\"la temperatura de hoy es {temp2}, hace frio 🥶\")"
   ]
  },
  {
   "cell_type": "markdown",
   "id": "0e4a13dc",
   "metadata": {},
   "source": [
    " 🌊📝 **EJERCICIO** 🌊📝\n",
    "\n",
    "Ampliemos el ejercicio anterior del chico que quiere entrar en la discoteca:\n",
    "\n",
    "- Si su edad es mayor que 18 le dejamos pasar.\n",
    "\n",
    "\n",
    "- Si su edad es menor que 18 le recomendamos ir a una discoteca light.\n",
    "\n",
    "\n",
    "- Si su edad es menor que 18 y menor menor que 10 le decimos que se vaya a casa."
   ]
  },
  {
   "cell_type": "code",
   "execution_count": 13,
   "id": "7b34f60c",
   "metadata": {},
   "outputs": [
    {
     "name": "stdout",
     "output_type": "stream",
     "text": [
      "Cuántos años tienes? 19\n"
     ]
    }
   ],
   "source": [
    "# preguntamos que edad tienes\n",
    "edad = int(input('Cuántos años tienes? '))"
   ]
  },
  {
   "cell_type": "code",
   "execution_count": 15,
   "id": "ab567e79",
   "metadata": {},
   "outputs": [
    {
     "name": "stdout",
     "output_type": "stream",
     "text": [
      "CPU times: user 4 µs, sys: 1 µs, total: 5 µs\n",
      "Wall time: 10 µs\n",
      "muy bien puedes pasar\n"
     ]
    }
   ],
   "source": [
    "%time\n",
    "if edad > 18:\n",
    "    print('muy bien puedes pasar')\n",
    "else: \n",
    "    if edad > 10:\n",
    "        print('deberías estar en una discoteca light')\n",
    "    else: \n",
    "        print('deberías estar en casa')"
   ]
  },
  {
   "cell_type": "markdown",
   "id": "ce0cc9fe",
   "metadata": {},
   "source": [
    "## if ... elif ... else"
   ]
  },
  {
   "cell_type": "markdown",
   "id": "2dceb0bf",
   "metadata": {},
   "source": [
    "La palabra clave `elif` puede pensarse como else if, la usamos si queremos una división más clara entre if y else. La sentencia `elif` de Python permite realizar comprobaciones continuas después de una sentencia if inicial. Una sentencia elif se diferencia de la sentencia else porque se proporciona otra expresión para ser comprobada, al igual que con la sentencia if inicial."
   ]
  },
  {
   "cell_type": "markdown",
   "id": "c4ba6606",
   "metadata": {},
   "source": [
    "<img src=\"images/if, elif, else.png\" style=\"width:400px;\"/>\n"
   ]
  },
  {
   "cell_type": "code",
   "execution_count": 30,
   "id": "623e2cad",
   "metadata": {},
   "outputs": [
    {
     "name": "stdout",
     "output_type": "stream",
     "text": [
      "¿Qué temperatura hace hoy? 1\n"
     ]
    }
   ],
   "source": [
    "# preguntamos la temperatura\n",
    "temp3 = float(input('¿Qué temperatura hace hoy? '))"
   ]
  },
  {
   "cell_type": "code",
   "execution_count": 64,
   "id": "40d42625",
   "metadata": {},
   "outputs": [
    {
     "name": "stdout",
     "output_type": "stream",
     "text": [
      "la temperatura de hoy es 10.0,puede que nieve 🥶\n"
     ]
    }
   ],
   "source": [
    "# creamos el if, elif, else\n",
    "if temp3 > 15:\n",
    "    print(f\"la temperatura de hoy es {temp}, hace calorcito 😊\")\n",
    "elif temp3 > 2 :\n",
    "    print(f\"la temperatura de hoy es {temp}, hace frio 🥶\")\n",
    "else:\n",
    "    print(f\"la temperatura de hoy es {temp},puede que nieve 🥶\")"
   ]
  },
  {
   "cell_type": "markdown",
   "id": "bb0283b3",
   "metadata": {},
   "source": [
    "🌊📝 **EJERCICIO** 🌊📝\n",
    "\n",
    "Mejoremos el código del chico que quiere entrar a la discoteca. Haz el mismo programa pero esta vez con `if`, `elif` y `else`"
   ]
  },
  {
   "cell_type": "code",
   "execution_count": 144,
   "id": "34dce0f4",
   "metadata": {},
   "outputs": [
    {
     "name": "stdout",
     "output_type": "stream",
     "text": [
      "Cuántos años tienes? 5\n"
     ]
    }
   ],
   "source": [
    "edad2 = int(input('Cuántos años tienes? '))"
   ]
  },
  {
   "cell_type": "code",
   "execution_count": 145,
   "id": "5d084661",
   "metadata": {},
   "outputs": [
    {
     "name": "stdout",
     "output_type": "stream",
     "text": [
      "deberías estar en casa\n"
     ]
    }
   ],
   "source": [
    "if edad2 >= 18:\n",
    "    print('muy bien puedes pasar')\n",
    "elif edad2 > 10:\n",
    "    print('deberías estar en una discoteca light')\n",
    "else: \n",
    "    print('pa casa niño')"
   ]
  },
  {
   "cell_type": "code",
   "execution_count": 16,
   "id": "3605c931",
   "metadata": {},
   "outputs": [
    {
     "name": "stdout",
     "output_type": "stream",
     "text": [
      "NamespaceMagics\t edad\t get_ipython\t getsizeof\t json\t np\t temp2\t var_dic_list\t \n"
     ]
    }
   ],
   "source": [
    "# nos permite saber el nombre de las variables que están definidas en este jupyter\n",
    "%who"
   ]
  },
  {
   "cell_type": "markdown",
   "id": "44e181f9",
   "metadata": {},
   "source": [
    "# Loops"
   ]
  },
  {
   "cell_type": "markdown",
   "id": "b033a381",
   "metadata": {},
   "source": [
    "O a menudo denominadas sentencias de repetición, se utilizan para repetir un bloque de instrucciones. En Python, hay dos tipos de bucles:\n",
    "- bucles `for`\n",
    "\n",
    "\n",
    "- bucles `while`"
   ]
  },
  {
   "cell_type": "markdown",
   "id": "b4f709b5",
   "metadata": {},
   "source": [
    "## `for` loops"
   ]
  },
  {
   "cell_type": "markdown",
   "id": "951e4d97",
   "metadata": {},
   "source": [
    "Los bucles `for` se utilizan cuando iteramos sobre una secuencia de datos, es decir, una lista, tupla, diccionario, *string*, etc. Se utilizan cuando iteramos por un número conocido (o deseado) de veces, ya que sabemos cuántos elementos hay en una elemento. \n",
    "\n",
    "Las palabras clave para aplicar un bucle for son `for` y `in`."
   ]
  },
  {
   "cell_type": "markdown",
   "id": "bd6a55c6",
   "metadata": {},
   "source": [
    "<img src=\"images/for loop.png\" style=\"width:400px;\"/>\n"
   ]
  },
  {
   "cell_type": "code",
   "execution_count": 18,
   "id": "cbcc77cc",
   "metadata": {},
   "outputs": [],
   "source": [
    "ciudades = ['Madrid', 'Paris', 'Varsovia', 'Londres', 'Barcelona', 'Casablanca', 'Berlin', 'Kenia', 'Zaragoza', 'Metz', 'Roma', 'Tokio' ]"
   ]
  },
  {
   "cell_type": "code",
   "execution_count": 41,
   "id": "75f51ad1",
   "metadata": {},
   "outputs": [
    {
     "name": "stdout",
     "output_type": "stream",
     "text": [
      "estoy iterando por :  Madrid  y su longitud es:  6\n",
      "MADRID\n",
      "\n",
      "\n",
      "estoy iterando por :  Paris  y su longitud es:  5\n",
      "PARIS\n",
      "\n",
      "\n",
      "estoy iterando por :  Varsovia  y su longitud es:  8\n",
      "VARSOVIA\n",
      "\n",
      "\n",
      "estoy iterando por :  Londres  y su longitud es:  7\n",
      "LONDRES\n",
      "\n",
      "\n",
      "estoy iterando por :  Barcelona  y su longitud es:  9\n",
      "BARCELONA\n",
      "\n",
      "\n",
      "estoy iterando por :  Casablanca  y su longitud es:  10\n",
      "CASABLANCA\n",
      "\n",
      "\n",
      "estoy iterando por :  Berlin  y su longitud es:  6\n",
      "BERLIN\n",
      "\n",
      "\n",
      "estoy iterando por :  Kenia  y su longitud es:  5\n",
      "KENIA\n",
      "\n",
      "\n",
      "estoy iterando por :  Zaragoza  y su longitud es:  8\n",
      "ZARAGOZA\n",
      "\n",
      "\n",
      "estoy iterando por :  Metz  y su longitud es:  4\n",
      "METZ\n",
      "\n",
      "\n",
      "estoy iterando por :  Roma  y su longitud es:  4\n",
      "ROMA\n",
      "\n",
      "\n",
      "estoy iterando por :  Tokio  y su longitud es:  5\n",
      "TOKIO\n",
      "\n",
      "\n"
     ]
    }
   ],
   "source": [
    "for i in ciudades: \n",
    "    print('estoy iterando por : ', i, ' y su longitud es: ', len(i))\n",
    "    print(i.upper())\n",
    "    print('\\n')"
   ]
  },
  {
   "cell_type": "code",
   "execution_count": 44,
   "id": "57d17205",
   "metadata": {},
   "outputs": [],
   "source": [
    "# dentro de un for podemos meter condicionales\n",
    "ciudades_pequeñas = []\n",
    "ciudades_grandes = []\n",
    "for i in ciudades:\n",
    "    if len(i) < 6:\n",
    "        ciudades_pequeñas.append(i)\n",
    "    else:\n",
    "        ciudades_grandes.append(i)"
   ]
  },
  {
   "cell_type": "code",
   "execution_count": 45,
   "id": "a05a224f",
   "metadata": {},
   "outputs": [
    {
     "data": {
      "text/plain": [
       "['Paris', 'Kenia', 'Metz', 'Roma', 'Tokio']"
      ]
     },
     "execution_count": 45,
     "metadata": {},
     "output_type": "execute_result"
    }
   ],
   "source": [
    "ciudades_pequeñas"
   ]
  },
  {
   "cell_type": "code",
   "execution_count": 46,
   "id": "7ea01bc8",
   "metadata": {},
   "outputs": [
    {
     "data": {
      "text/plain": [
       "['Madrid',\n",
       " 'Varsovia',\n",
       " 'Londres',\n",
       " 'Barcelona',\n",
       " 'Casablanca',\n",
       " 'Berlin',\n",
       " 'Zaragoza']"
      ]
     },
     "execution_count": 46,
     "metadata": {},
     "output_type": "execute_result"
    }
   ],
   "source": [
    "ciudades_grandes"
   ]
  },
  {
   "cell_type": "code",
   "execution_count": 19,
   "id": "df908afd",
   "metadata": {},
   "outputs": [
    {
     "name": "stdout",
     "output_type": "stream",
     "text": [
      "0\n",
      "Madrid\n",
      "1\n",
      "Paris\n",
      "2\n",
      "Varsovia\n",
      "3\n",
      "Londres\n",
      "4\n",
      "Barcelona\n"
     ]
    }
   ],
   "source": [
    "# También podemos acceder a cada uno de los elementos de mi lista usando lo índices\n",
    "for i in range(5): # genero números del 1 al 4\n",
    "    print(i)\n",
    "    print(ciudades[i]) # accedo a los elementos de mi lista usando los números creados en el range"
   ]
  },
  {
   "cell_type": "code",
   "execution_count": 20,
   "id": "c8a61063",
   "metadata": {},
   "outputs": [],
   "source": [
    "# Como lo haríamos con un diccionario?\n",
    "dicc = {'Lola': 34, \n",
    "       'Pepe': 45,\n",
    "       'Laura': 7, \n",
    "       'Antonio': 23, \n",
    "       'Irene': 25, \n",
    "       \"Rocio\": 13, \n",
    "       'Lorenzo': 9}"
   ]
  },
  {
   "cell_type": "code",
   "execution_count": 21,
   "id": "670d3edd",
   "metadata": {},
   "outputs": [
    {
     "name": "stdout",
     "output_type": "stream",
     "text": [
      "Lola --->  34\n",
      "Pepe --->  45\n",
      "Laura --->  7\n",
      "Antonio --->  23\n",
      "Irene --->  25\n",
      "Rocio --->  13\n",
      "Lorenzo --->  9\n"
     ]
    }
   ],
   "source": [
    "#iteramos por el diccionario usando el metodo .items()\n",
    "for k, v in dicc.items():\n",
    "    print(k, '---> ', v)"
   ]
  },
  {
   "cell_type": "code",
   "execution_count": 23,
   "id": "db957132",
   "metadata": {},
   "outputs": [
    {
     "ename": "ValueError",
     "evalue": "too many values to unpack (expected 2)",
     "output_type": "error",
     "traceback": [
      "\u001b[0;31m---------------------------------------------------------------------------\u001b[0m",
      "\u001b[0;31mValueError\u001b[0m                                Traceback (most recent call last)",
      "\u001b[0;32m<ipython-input-23-a81ef65545c7>\u001b[0m in \u001b[0;36m<module>\u001b[0;34m\u001b[0m\n\u001b[0;32m----> 1\u001b[0;31m \u001b[0;32mfor\u001b[0m \u001b[0mk\u001b[0m\u001b[0;34m,\u001b[0m\u001b[0mv\u001b[0m \u001b[0;32min\u001b[0m \u001b[0mdicc\u001b[0m\u001b[0;34m:\u001b[0m\u001b[0;34m\u001b[0m\u001b[0;34m\u001b[0m\u001b[0m\n\u001b[0m\u001b[1;32m      2\u001b[0m     \u001b[0mprint\u001b[0m\u001b[0;34m(\u001b[0m\u001b[0mk\u001b[0m\u001b[0;34m,\u001b[0m\u001b[0mv\u001b[0m\u001b[0;34m)\u001b[0m\u001b[0;34m\u001b[0m\u001b[0;34m\u001b[0m\u001b[0m\n\u001b[1;32m      3\u001b[0m \u001b[0;31m# ojo! Si no le añadimos el .items() nos dara error si le pasamos dos itereables en el for\u001b[0m\u001b[0;34m\u001b[0m\u001b[0;34m\u001b[0m\u001b[0;34m\u001b[0m\u001b[0m\n",
      "\u001b[0;31mValueError\u001b[0m: too many values to unpack (expected 2)"
     ]
    }
   ],
   "source": [
    "for k,v in dicc:\n",
    "    print(k,v)\n",
    "# ojo! Si no le añadimos el .items() nos dara error si le pasamos dos itereables en el for   "
   ]
  },
  {
   "cell_type": "code",
   "execution_count": 24,
   "id": "6478cff5",
   "metadata": {},
   "outputs": [
    {
     "name": "stdout",
     "output_type": "stream",
     "text": [
      "Lola\n",
      "Pepe\n",
      "Laura\n",
      "Antonio\n",
      "Irene\n",
      "Rocio\n",
      "Lorenzo\n"
     ]
    }
   ],
   "source": [
    "# si no especificamos nada, por defecto python itera por las keys del diccionario\n",
    "for i in dicc:\n",
    "    print(i)"
   ]
  },
  {
   "cell_type": "code",
   "execution_count": 54,
   "id": "b26d4d86",
   "metadata": {},
   "outputs": [],
   "source": [
    "menores = []\n",
    "for k, v in dicc.items():\n",
    "    if dicc[k] < 18:\n",
    "        menores.append(v)\n"
   ]
  },
  {
   "cell_type": "code",
   "execution_count": 55,
   "id": "bce0f1cc",
   "metadata": {},
   "outputs": [
    {
     "data": {
      "text/plain": [
       "[7, 13, 9]"
      ]
     },
     "execution_count": 55,
     "metadata": {},
     "output_type": "execute_result"
    }
   ],
   "source": [
    "menores"
   ]
  },
  {
   "cell_type": "code",
   "execution_count": 56,
   "id": "ba5d54bf",
   "metadata": {},
   "outputs": [],
   "source": [
    "for k, v in dicc.items():\n",
    "    dicc[k] = v +1 "
   ]
  },
  {
   "cell_type": "code",
   "execution_count": 57,
   "id": "173b6c22",
   "metadata": {
    "scrolled": true
   },
   "outputs": [
    {
     "data": {
      "text/plain": [
       "{'Lola': 35,\n",
       " 'Pepe': 46,\n",
       " 'Laura': 8,\n",
       " 'Antonio': 24,\n",
       " 'Irene': 26,\n",
       " 'Rocio': 14,\n",
       " 'Lorenzo': 10}"
      ]
     },
     "execution_count": 57,
     "metadata": {},
     "output_type": "execute_result"
    }
   ],
   "source": [
    "dicc"
   ]
  },
  {
   "cell_type": "markdown",
   "id": "82d43e45",
   "metadata": {},
   "source": [
    "🌊📝 **EJERCICIO** 🌊📝\n",
    "\n",
    "Escribe un programa que nos chequee si los números de una lista son pares o impares y crea una lista con los pares"
   ]
  },
  {
   "cell_type": "code",
   "execution_count": 38,
   "id": "f13f4585",
   "metadata": {},
   "outputs": [],
   "source": [
    "numeros = [13, 67, 88, 55, 54, 109, 200]"
   ]
  },
  {
   "cell_type": "code",
   "execution_count": 39,
   "id": "2af12f36",
   "metadata": {},
   "outputs": [
    {
     "name": "stdout",
     "output_type": "stream",
     "text": [
      "el numero 13 es impar\n",
      "el numero 67 es impar\n",
      "el numero 88 es par\n",
      "el numero 55 es impar\n",
      "el numero 54 es par\n",
      "el numero 109 es impar\n",
      "el numero 200 es par\n"
     ]
    }
   ],
   "source": [
    "pares = []\n",
    "for num in numeros:\n",
    "    if num % 2 == 0:\n",
    "        print(f'el numero {num} es par')\n",
    "        pares.append(num)\n",
    "    else:\n",
    "        print(f'el numero {num} es impar')"
   ]
  },
  {
   "cell_type": "code",
   "execution_count": 76,
   "id": "f491040d",
   "metadata": {},
   "outputs": [
    {
     "data": {
      "text/plain": [
       "[88, 54, 200]"
      ]
     },
     "execution_count": 76,
     "metadata": {},
     "output_type": "execute_result"
    }
   ],
   "source": [
    "pares"
   ]
  },
  {
   "cell_type": "code",
   "execution_count": 25,
   "id": "2a675eed",
   "metadata": {},
   "outputs": [
    {
     "ename": "SyntaxError",
     "evalue": "invalid syntax (<ipython-input-25-27a8b7029063>, line 3)",
     "output_type": "error",
     "traceback": [
      "\u001b[0;36m  File \u001b[0;32m\"<ipython-input-25-27a8b7029063>\"\u001b[0;36m, line \u001b[0;32m3\u001b[0m\n\u001b[0;31m    if num %=2 :\u001b[0m\n\u001b[0m           ^\u001b[0m\n\u001b[0;31mSyntaxError\u001b[0m\u001b[0;31m:\u001b[0m invalid syntax\n"
     ]
    }
   ],
   "source": [
    "pares2 = []\n",
    "for num in numeros:\n",
    "    if num %=2 :\n",
    "        pares2.append(num)\n",
    "    else:\n",
    "        print(f' {num} es impar')"
   ]
  },
  {
   "cell_type": "markdown",
   "id": "335b2ff1",
   "metadata": {},
   "source": [
    "## while "
   ]
  },
  {
   "cell_type": "markdown",
   "id": "25873ec0",
   "metadata": {},
   "source": [
    "En Python, los bucles `while` se utilizan para iterar hasta que se cumpla una determinada condición. Básicamente, el bucle se ejecuta tantas veces como la condición siga siendo True. Cuando el if se convierte en False, el bucle se detiene. \n",
    "\n",
    "NORMALMENTE USAMOS UN `while` cuando no sabemos cuantas veces vamos a tener que ejecutar el bucle."
   ]
  },
  {
   "cell_type": "markdown",
   "id": "7132468f",
   "metadata": {},
   "source": [
    "<img src=\"images/while.png\" style=\"width:400px;\"/>\n"
   ]
  },
  {
   "cell_type": "code",
   "execution_count": 26,
   "id": "2f5b07d6",
   "metadata": {
    "scrolled": true
   },
   "outputs": [
    {
     "name": "stdout",
     "output_type": "stream",
     "text": [
      "¿Qué día es hoy? 27\n"
     ]
    }
   ],
   "source": [
    "dia = int(input('¿Qué día es hoy? '))"
   ]
  },
  {
   "cell_type": "code",
   "execution_count": 27,
   "id": "9f9dc80c",
   "metadata": {},
   "outputs": [
    {
     "name": "stdout",
     "output_type": "stream",
     "text": [
      "27\n",
      "28\n",
      "--------\n",
      "28\n",
      "29\n",
      "--------\n",
      "29\n",
      "30\n",
      "--------\n"
     ]
    }
   ],
   "source": [
    "# iniciamos el bucle\n",
    "while dia < 30:\n",
    "    print(dia)\n",
    "    dia += 1\n",
    "    print(dia)\n",
    "    print('--------')"
   ]
  },
  {
   "cell_type": "code",
   "execution_count": 74,
   "id": "79d9661f",
   "metadata": {},
   "outputs": [
    {
     "name": "stdout",
     "output_type": "stream",
     "text": [
      "Please enter 'a', 'b', or 'c'a\n",
      "You selected option 'a'!\n",
      "Please enter 'a', 'b', or 'c'b\n",
      "You selected option 'b'!\n",
      "Please enter 'a', 'b', or 'c'c\n",
      "You selected option 'c'!\n",
      "Please enter 'a', 'b', or 'c'z\n",
      "You selected an invalid option. 😔\n"
     ]
    }
   ],
   "source": [
    "opcion = True\n",
    "while opcion == True:\n",
    "    selected_option = input(\"Please enter 'a', 'b', or 'c'\")\n",
    "\n",
    "    if selected_option == \"a\":\n",
    "        print(\"You selected option 'a'!\")\n",
    "    elif selected_option == \"b\":\n",
    "        print(\"You selected option 'b'!\")\n",
    "    elif selected_option == \"c\":\n",
    "        print(\"You selected option 'c'!\")\n",
    "    else:\n",
    "        print(\"You selected an invalid option. 😔\")\n",
    "        opcion =  False"
   ]
  },
  {
   "cell_type": "markdown",
   "id": "090dd068",
   "metadata": {},
   "source": [
    "📌 El primer ejercicio del caracol se podía solucionar con un while"
   ]
  },
  {
   "cell_type": "markdown",
   "id": "79fa0483",
   "metadata": {},
   "source": [
    "# Control de los Loops"
   ]
  },
  {
   "cell_type": "markdown",
   "id": "40ab74a9",
   "metadata": {},
   "source": [
    "Las sentencias `break` y `continue` nos ayudan a afinar nuestros bucles y su ejecución.\n",
    "\n",
    "- `break`:  rompe el bucle por completo\n",
    "\n",
    "\n",
    "- `continue` salta el resto del bucle actual y pasa a la siguiente iteración\n",
    "\n",
    "\n",
    "🚨 Ambas pueden utilizarse tanto en los bucles for como en los while."
   ]
  },
  {
   "cell_type": "markdown",
   "id": "eb636fa2",
   "metadata": {},
   "source": [
    "## break "
   ]
  },
  {
   "cell_type": "markdown",
   "id": "7482efb2",
   "metadata": {},
   "source": [
    "`break` se utiliza en situaciones en las que queremos salir del bucle, incluso si la condición no se ha convertido en False o hemos iterado sobre toda la secuencia. Además, si se utiliza break, no se ejecutan los siguientes bloques else."
   ]
  },
  {
   "cell_type": "markdown",
   "id": "42e929d3",
   "metadata": {},
   "source": [
    "<img src=\"images/break.png\" style=\"width:400px;\"/>\n"
   ]
  },
  {
   "cell_type": "code",
   "execution_count": 28,
   "id": "6e47db60",
   "metadata": {},
   "outputs": [
    {
     "name": "stdout",
     "output_type": "stream",
     "text": [
      "word defenestrate contains an 'e'!!\n"
     ]
    }
   ],
   "source": [
    "words = ['cat', 'window', 'defenestrate', 'car', 'arrow', 'hello']\n",
    "\n",
    "# vamos a para el bucle que cuando llegue a una palabra con 'e' se pare\n",
    "\n",
    "for w in words:\n",
    "    if \"e\" in w:\n",
    "        print(f\"word {w} contains an 'e'!!\")\n",
    "        break\n",
    "\n",
    "# como el print esta dentro del if y antes del break se va a imprimir solo si se cumple la condición"
   ]
  },
  {
   "cell_type": "code",
   "execution_count": 29,
   "id": "e87872b3",
   "metadata": {},
   "outputs": [
    {
     "name": "stdout",
     "output_type": "stream",
     "text": [
      "cat\n",
      "window\n"
     ]
    }
   ],
   "source": [
    "for i in words:\n",
    "    if \"e\" in i:\n",
    "        break\n",
    "    else:\n",
    "        print(i)\n",
    "# en este caso el código solo se para si se cumple la condición\n",
    "# en caso contrario se printearán las palabras hasta que se pare nuestro programa"
   ]
  },
  {
   "cell_type": "markdown",
   "id": "26e1f8de",
   "metadata": {},
   "source": [
    "## pass"
   ]
  },
  {
   "cell_type": "markdown",
   "id": "4c71ff5b",
   "metadata": {},
   "source": [
    "`pass` no hace nada. Puede utilizarse cuando se requiere una sentencia sintáctica pero el programa no requiere ninguna acción (de los docs)"
   ]
  },
  {
   "cell_type": "markdown",
   "id": "fa6b9dfe",
   "metadata": {},
   "source": [
    "<img src=\"images/pass.jpeg\" style=\"width:400px;\"/>\n"
   ]
  },
  {
   "cell_type": "code",
   "execution_count": 76,
   "id": "c0f45b37",
   "metadata": {},
   "outputs": [],
   "source": [
    "list_of_names = ['Mario','Alice', 'Bob', 'Jack', 'Mary', 'Manuel', 'Amanda', 'Ignacio', 'Fernando']"
   ]
  },
  {
   "cell_type": "code",
   "execution_count": 79,
   "id": "badb68fc",
   "metadata": {},
   "outputs": [
    {
     "name": "stdout",
     "output_type": "stream",
     "text": [
      "Hola Alice\n",
      "Hola Jack\n",
      "Hola Mary\n",
      "Hola Manuel\n",
      "Hola Amanda\n"
     ]
    }
   ],
   "source": [
    "for name in list_of_names:\n",
    "    if \"o\" in name:\n",
    "        pass\n",
    "    else:\n",
    "        print(\"Hola\", name)"
   ]
  },
  {
   "cell_type": "markdown",
   "id": "4123fb46",
   "metadata": {},
   "source": [
    "# Algunos métodos interesantes"
   ]
  },
  {
   "cell_type": "code",
   "execution_count": 80,
   "id": "14977970",
   "metadata": {},
   "outputs": [],
   "source": [
    "x = range(1, 11)"
   ]
  },
  {
   "cell_type": "code",
   "execution_count": 81,
   "id": "0797990c",
   "metadata": {},
   "outputs": [
    {
     "name": "stdout",
     "output_type": "stream",
     "text": [
      "1\n",
      "2\n",
      "3\n",
      "4\n",
      "5\n",
      "6\n",
      "7\n",
      "8\n",
      "9\n",
      "10\n"
     ]
    }
   ],
   "source": [
    "for i in x:\n",
    "    print(i)"
   ]
  },
  {
   "cell_type": "code",
   "execution_count": 82,
   "id": "17f37cb3",
   "metadata": {},
   "outputs": [],
   "source": [
    "y = range(10, 50, 2)"
   ]
  },
  {
   "cell_type": "code",
   "execution_count": 83,
   "id": "d0c21fa0",
   "metadata": {},
   "outputs": [
    {
     "name": "stdout",
     "output_type": "stream",
     "text": [
      "10\n",
      "12\n",
      "14\n",
      "16\n",
      "18\n",
      "20\n",
      "22\n",
      "24\n",
      "26\n",
      "28\n",
      "30\n",
      "32\n",
      "34\n",
      "36\n",
      "38\n",
      "40\n",
      "42\n",
      "44\n",
      "46\n",
      "48\n"
     ]
    }
   ],
   "source": [
    "for i in y:\n",
    "    print(i)"
   ]
  },
  {
   "cell_type": "markdown",
   "id": "d57fd05e",
   "metadata": {},
   "source": [
    "📝Escribe un programa que nos devuelva todos los numeros menores que 100 y que sean multiplos de 3 Y 6"
   ]
  },
  {
   "cell_type": "code",
   "execution_count": 84,
   "id": "1e5efb2e",
   "metadata": {},
   "outputs": [
    {
     "name": "stdout",
     "output_type": "stream",
     "text": [
      "el numero 0 cumple las condiciones\n",
      "el numero 15 cumple las condiciones\n",
      "el numero 30 cumple las condiciones\n",
      "el numero 45 cumple las condiciones\n",
      "el numero 60 cumple las condiciones\n",
      "el numero 75 cumple las condiciones\n",
      "el numero 90 cumple las condiciones\n"
     ]
    }
   ],
   "source": [
    "for i in range(101):\n",
    "    if (i % 3 == 0) and (i % 5 == 0):\n",
    "        print(f'el numero {i} cumple las condiciones')"
   ]
  },
  {
   "cell_type": "markdown",
   "id": "c03ee417",
   "metadata": {},
   "source": [
    "`enumerate`: añade un contador en el elemento que estamos iterando"
   ]
  },
  {
   "cell_type": "code",
   "execution_count": 30,
   "id": "de2a7c01",
   "metadata": {},
   "outputs": [],
   "source": [
    "fruits = ['apple', 'banana', 'cherry']"
   ]
  },
  {
   "cell_type": "code",
   "execution_count": 31,
   "id": "c9730216",
   "metadata": {},
   "outputs": [
    {
     "data": {
      "text/plain": [
       "enumerate"
      ]
     },
     "execution_count": 31,
     "metadata": {},
     "output_type": "execute_result"
    }
   ],
   "source": [
    "type(enumerate(fruits))"
   ]
  },
  {
   "cell_type": "code",
   "execution_count": 35,
   "id": "c61db5ca",
   "metadata": {},
   "outputs": [
    {
     "name": "stdout",
     "output_type": "stream",
     "text": [
      "0 ---> apple\n",
      "apple\n",
      "1 ---> banana\n",
      "banana\n",
      "2 ---> cherry\n",
      "cherry\n"
     ]
    }
   ],
   "source": [
    "for i, fruit in enumerate(fruits): # fruit es el elemento de mi lista. i es el indice que me crea el metodo enumerate\n",
    "\n",
    "    print(i, '--->',  fruit)\n",
    "    print(fruits[i])"
   ]
  },
  {
   "cell_type": "markdown",
   "id": "4bc5cac6",
   "metadata": {},
   "source": [
    "`zip`: empaqueta los elementos de las listas que queremos en una tupla"
   ]
  },
  {
   "cell_type": "code",
   "execution_count": 87,
   "id": "f7d4a84a",
   "metadata": {},
   "outputs": [],
   "source": [
    "nombres = ['Laura', 'Marta', 'Rocio']\n",
    "apellidos = ['López', 'Casas', 'Pérez']"
   ]
  },
  {
   "cell_type": "code",
   "execution_count": 88,
   "id": "24250b72",
   "metadata": {},
   "outputs": [
    {
     "name": "stdout",
     "output_type": "stream",
     "text": [
      "('Laura', 'López')\n",
      "('Marta', 'Casas')\n",
      "('Rocio', 'Pérez')\n"
     ]
    }
   ],
   "source": [
    "for n in zip(nombres, apellidos):\n",
    "    print(n)"
   ]
  },
  {
   "cell_type": "code",
   "execution_count": 89,
   "id": "5a88bfc5",
   "metadata": {},
   "outputs": [],
   "source": [
    "nombres = ['Laura', 'Marta', 'Rocio']\n",
    "años = [1929, 1930, 1950, 1915]\n",
    "bodas = [1967, 1950, 1977, 1927]"
   ]
  },
  {
   "cell_type": "code",
   "execution_count": 90,
   "id": "40ac0778",
   "metadata": {},
   "outputs": [
    {
     "name": "stdout",
     "output_type": "stream",
     "text": [
      "Laura : se casó con  38 años\n",
      "Marta : se casó con  20 años\n",
      "Rocio : se casó con  27 años\n"
     ]
    }
   ],
   "source": [
    "for nombre, año, boda in zip(nombres, años, bodas):\n",
    "    print(nombre, ': se casó con ', boda-año, 'años')"
   ]
  }
 ],
 "metadata": {
  "kernelspec": {
   "display_name": "ironhack",
   "language": "python",
   "name": "ironhack"
  },
  "language_info": {
   "codemirror_mode": {
    "name": "ipython",
    "version": 3
   },
   "file_extension": ".py",
   "mimetype": "text/x-python",
   "name": "python",
   "nbconvert_exporter": "python",
   "pygments_lexer": "ipython3",
   "version": "3.8.5"
  },
  "toc": {
   "base_numbering": 1,
   "nav_menu": {},
   "number_sections": true,
   "sideBar": true,
   "skip_h1_title": false,
   "title_cell": "Table of Contents",
   "title_sidebar": "Contents",
   "toc_cell": true,
   "toc_position": {},
   "toc_section_display": true,
   "toc_window_display": false
  },
  "varInspector": {
   "cols": {
    "lenName": 16,
    "lenType": 16,
    "lenVar": 40
   },
   "kernels_config": {
    "python": {
     "delete_cmd_postfix": "",
     "delete_cmd_prefix": "del ",
     "library": "var_list.py",
     "varRefreshCmd": "print(var_dic_list())"
    },
    "r": {
     "delete_cmd_postfix": ") ",
     "delete_cmd_prefix": "rm(",
     "library": "var_list.r",
     "varRefreshCmd": "cat(var_dic_list()) "
    }
   },
   "types_to_exclude": [
    "module",
    "function",
    "builtin_function_or_method",
    "instance",
    "_Feature"
   ],
   "window_display": false
  }
 },
 "nbformat": 4,
 "nbformat_minor": 5
}
