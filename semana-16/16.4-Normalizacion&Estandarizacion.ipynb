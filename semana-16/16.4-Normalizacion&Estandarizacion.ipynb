{
 "cells": [
  {
   "cell_type": "markdown",
   "id": "6f74546b",
   "metadata": {
    "toc": true
   },
   "source": [
    "<h1>Table of Contents<span class=\"tocSkip\"></span></h1>\n",
    "<div class=\"toc\"><ul class=\"toc-item\"><li><span><a href=\"#¿-Por-qué-normalizar-o-estandarizar-los-datos?\" data-toc-modified-id=\"¿-Por-qué-normalizar-o-estandarizar-los-datos?-1\"><span class=\"toc-item-num\">1&nbsp;&nbsp;</span>¿ Por qué normalizar o estandarizar los datos?</a></span></li><li><span><a href=\"#¿Qué-distribución-tienen--nuestros-datos?\" data-toc-modified-id=\"¿Qué-distribución-tienen--nuestros-datos?-2\"><span class=\"toc-item-num\">2&nbsp;&nbsp;</span>¿Qué distribución tienen  nuestros datos?</a></span></li><li><span><a href=\"#Normalización\" data-toc-modified-id=\"Normalización-3\"><span class=\"toc-item-num\">3&nbsp;&nbsp;</span>Normalización</a></span><ul class=\"toc-item\"><li><span><a href=\"#Tipos-de-normalización\" data-toc-modified-id=\"Tipos-de-normalización-3.1\"><span class=\"toc-item-num\">3.1&nbsp;&nbsp;</span>Tipos de normalización</a></span><ul class=\"toc-item\"><li><span><a href=\"#Manualmente\" data-toc-modified-id=\"Manualmente-3.1.1\"><span class=\"toc-item-num\">3.1.1&nbsp;&nbsp;</span>Manualmente</a></span></li><li><span><a href=\"#Transformaciones-logarítmicas-o-raices-cuadradas.\" data-toc-modified-id=\"Transformaciones-logarítmicas-o-raices-cuadradas.-3.1.2\"><span class=\"toc-item-num\">3.1.2&nbsp;&nbsp;</span>Transformaciones logarítmicas o raices cuadradas.</a></span></li><li><span><a href=\"#Sklearn-MinMaxScaller\" data-toc-modified-id=\"Sklearn-MinMaxScaller-3.1.3\"><span class=\"toc-item-num\">3.1.3&nbsp;&nbsp;</span>Sklearn MinMaxScaller</a></span></li></ul></li></ul></li><li><span><a href=\"#Estandarización\" data-toc-modified-id=\"Estandarización-4\"><span class=\"toc-item-num\">4&nbsp;&nbsp;</span>Estandarización</a></span><ul class=\"toc-item\"><li><span><a href=\"#Tipos-de-estandarización\" data-toc-modified-id=\"Tipos-de-estandarización-4.1\"><span class=\"toc-item-num\">4.1&nbsp;&nbsp;</span>Tipos de estandarización</a></span><ul class=\"toc-item\"><li><span><a href=\"#Manualmente\" data-toc-modified-id=\"Manualmente-4.1.1\"><span class=\"toc-item-num\">4.1.1&nbsp;&nbsp;</span>Manualmente</a></span></li><li><span><a href=\"#Sklearn-StandardScaler\" data-toc-modified-id=\"Sklearn-StandardScaler-4.1.2\"><span class=\"toc-item-num\">4.1.2&nbsp;&nbsp;</span>Sklearn StandardScaler</a></span></li><li><span><a href=\"#Sklearn-RobustScaler\" data-toc-modified-id=\"Sklearn-RobustScaler-4.1.3\"><span class=\"toc-item-num\">4.1.3&nbsp;&nbsp;</span>Sklearn RobustScaler</a></span></li></ul></li></ul></li><li><span><a href=\"#Diferencias-entre-normalización-y-estandarización\" data-toc-modified-id=\"Diferencias-entre-normalización-y-estandarización-5\"><span class=\"toc-item-num\">5&nbsp;&nbsp;</span>Diferencias entre normalización y estandarización</a></span></li></ul></div>"
   ]
  },
  {
   "cell_type": "code",
   "execution_count": 102,
   "id": "34218cd2",
   "metadata": {},
   "outputs": [],
   "source": [
    "# cargamos las librerías que nos hacen falta para trabajar. \n",
    "\n",
    "import pandas as pd\n",
    "import math\n",
    "import numpy as np\n",
    "import seaborn as sns\n",
    "import matplotlib.pyplot as plt\n",
    "\n",
    "import warnings\n",
    "warnings.filterwarnings('ignore')\n",
    "\n",
    "from sklearn.preprocessing import MinMaxScaler\n",
    "from sklearn.preprocessing import StandardScaler\n",
    "from sklearn.preprocessing import RobustScaler\n",
    "\n",
    "pd.options.display.max_columns = None # recordamos que este comando nos permitía ver todas las columnas de dataframe"
   ]
  },
  {
   "cell_type": "markdown",
   "id": "5438715e",
   "metadata": {},
   "source": [
    "# ¿ Por qué normalizar o estandarizar los datos? \n",
    "\n",
    "\n",
    "Principlamente hay dos motivos: \n",
    "\n",
    "\n",
    "1. Supongamos que tenemos un dataframe que contiene dos variables: \n",
    "\n",
    "    - El tiempo de viaje y \n",
    "\n",
    "    - La distancia recorrida. \n",
    "\n",
    "    El tiempo se mide en horas (por ejemplo, 5, 10, 25 horas) y la distancia en millas (por ejemplo, 500, 800, 1200 kilometros). \n",
    "\n",
    "   Problemas que nos encontramos: \n",
    "\n",
    "    - Un problema es que estas dos variables se miden en dos unidades diferentes: una en horas y otra en kilometros. \n",
    "    -  La distribución de los datos, es bastante diferente en estas dos variables (tanto dentro de las variables como entre ellas). Una va de 5 -25 y la otra de 500-1200. \n",
    "    \n",
    "    > El objetivo es transformar los datos de manera que no tengan dimensiones y/o tengan distribuciones similares. La normalización es un paso esencial en el preprocesamiento de datos en cualquier aplicación de *machine learning* y ajuste de modelos.\n",
    "\n",
    "2. En el caso de que estemos haciendo un modelo de regresión, nuestra variable respuesta, la que vamos a predecir debe seguir una distribución normal. \n"
   ]
  },
  {
   "cell_type": "code",
   "execution_count": 55,
   "id": "72973d59",
   "metadata": {},
   "outputs": [],
   "source": [
    "df = pd.read_csv(\"data/insurance_limpio_categ.csv\", index_col = 0)"
   ]
  },
  {
   "cell_type": "code",
   "execution_count": 56,
   "id": "41e453c8",
   "metadata": {},
   "outputs": [
    {
     "data": {
      "text/html": [
       "<div>\n",
       "<style scoped>\n",
       "    .dataframe tbody tr th:only-of-type {\n",
       "        vertical-align: middle;\n",
       "    }\n",
       "\n",
       "    .dataframe tbody tr th {\n",
       "        vertical-align: top;\n",
       "    }\n",
       "\n",
       "    .dataframe thead th {\n",
       "        text-align: right;\n",
       "    }\n",
       "</style>\n",
       "<table border=\"1\" class=\"dataframe\">\n",
       "  <thead>\n",
       "    <tr style=\"text-align: right;\">\n",
       "      <th></th>\n",
       "      <th>region</th>\n",
       "      <th>age</th>\n",
       "      <th>bmi</th>\n",
       "      <th>children</th>\n",
       "      <th>charges</th>\n",
       "      <th>x0_female</th>\n",
       "      <th>x0_male</th>\n",
       "      <th>x1_no</th>\n",
       "      <th>x1_yes</th>\n",
       "      <th>x2_female</th>\n",
       "      <th>x2_male</th>\n",
       "    </tr>\n",
       "  </thead>\n",
       "  <tbody>\n",
       "    <tr>\n",
       "      <th>0</th>\n",
       "      <td>southwest</td>\n",
       "      <td>19.0</td>\n",
       "      <td>27.90</td>\n",
       "      <td>0.0</td>\n",
       "      <td>16884.9240</td>\n",
       "      <td>1</td>\n",
       "      <td>0</td>\n",
       "      <td>0</td>\n",
       "      <td>1</td>\n",
       "      <td>1</td>\n",
       "      <td>0</td>\n",
       "    </tr>\n",
       "    <tr>\n",
       "      <th>1</th>\n",
       "      <td>southeast</td>\n",
       "      <td>18.0</td>\n",
       "      <td>33.77</td>\n",
       "      <td>1.0</td>\n",
       "      <td>1725.5523</td>\n",
       "      <td>0</td>\n",
       "      <td>1</td>\n",
       "      <td>1</td>\n",
       "      <td>0</td>\n",
       "      <td>0</td>\n",
       "      <td>1</td>\n",
       "    </tr>\n",
       "  </tbody>\n",
       "</table>\n",
       "</div>"
      ],
      "text/plain": [
       "      region   age    bmi  children     charges  x0_female  x0_male  x1_no  \\\n",
       "0  southwest  19.0  27.90       0.0  16884.9240          1        0      0   \n",
       "1  southeast  18.0  33.77       1.0   1725.5523          0        1      1   \n",
       "\n",
       "   x1_yes  x2_female  x2_male  \n",
       "0       1          1        0  \n",
       "1       0          0        1  "
      ]
     },
     "execution_count": 56,
     "metadata": {},
     "output_type": "execute_result"
    }
   ],
   "source": [
    "df.head(2)"
   ]
  },
  {
   "cell_type": "code",
   "execution_count": 57,
   "id": "11c501f4",
   "metadata": {},
   "outputs": [
    {
     "data": {
      "text/html": [
       "<div>\n",
       "<style scoped>\n",
       "    .dataframe tbody tr th:only-of-type {\n",
       "        vertical-align: middle;\n",
       "    }\n",
       "\n",
       "    .dataframe tbody tr th {\n",
       "        vertical-align: top;\n",
       "    }\n",
       "\n",
       "    .dataframe thead th {\n",
       "        text-align: right;\n",
       "    }\n",
       "</style>\n",
       "<table border=\"1\" class=\"dataframe\">\n",
       "  <thead>\n",
       "    <tr style=\"text-align: right;\">\n",
       "      <th></th>\n",
       "      <th>age</th>\n",
       "      <th>bmi</th>\n",
       "      <th>children</th>\n",
       "      <th>charges</th>\n",
       "      <th>x0_female</th>\n",
       "      <th>x0_male</th>\n",
       "      <th>x1_no</th>\n",
       "      <th>x1_yes</th>\n",
       "      <th>x2_female</th>\n",
       "      <th>x2_male</th>\n",
       "    </tr>\n",
       "  </thead>\n",
       "  <tbody>\n",
       "    <tr>\n",
       "      <th>0</th>\n",
       "      <td>19.000000</td>\n",
       "      <td>27.900</td>\n",
       "      <td>0.0</td>\n",
       "      <td>16884.92400</td>\n",
       "      <td>1</td>\n",
       "      <td>0</td>\n",
       "      <td>0</td>\n",
       "      <td>1</td>\n",
       "      <td>1</td>\n",
       "      <td>0</td>\n",
       "    </tr>\n",
       "    <tr>\n",
       "      <th>1</th>\n",
       "      <td>18.000000</td>\n",
       "      <td>33.770</td>\n",
       "      <td>1.0</td>\n",
       "      <td>1725.55230</td>\n",
       "      <td>0</td>\n",
       "      <td>1</td>\n",
       "      <td>1</td>\n",
       "      <td>0</td>\n",
       "      <td>0</td>\n",
       "      <td>1</td>\n",
       "    </tr>\n",
       "    <tr>\n",
       "      <th>2</th>\n",
       "      <td>28.000000</td>\n",
       "      <td>33.000</td>\n",
       "      <td>3.0</td>\n",
       "      <td>4449.46200</td>\n",
       "      <td>0</td>\n",
       "      <td>1</td>\n",
       "      <td>1</td>\n",
       "      <td>0</td>\n",
       "      <td>0</td>\n",
       "      <td>1</td>\n",
       "    </tr>\n",
       "    <tr>\n",
       "      <th>3</th>\n",
       "      <td>33.000000</td>\n",
       "      <td>22.705</td>\n",
       "      <td>0.0</td>\n",
       "      <td>21984.47061</td>\n",
       "      <td>0</td>\n",
       "      <td>1</td>\n",
       "      <td>1</td>\n",
       "      <td>0</td>\n",
       "      <td>0</td>\n",
       "      <td>1</td>\n",
       "    </tr>\n",
       "    <tr>\n",
       "      <th>4</th>\n",
       "      <td>39.171927</td>\n",
       "      <td>28.880</td>\n",
       "      <td>0.0</td>\n",
       "      <td>3866.85520</td>\n",
       "      <td>0</td>\n",
       "      <td>1</td>\n",
       "      <td>1</td>\n",
       "      <td>0</td>\n",
       "      <td>0</td>\n",
       "      <td>1</td>\n",
       "    </tr>\n",
       "  </tbody>\n",
       "</table>\n",
       "</div>"
      ],
      "text/plain": [
       "         age     bmi  children      charges  x0_female  x0_male  x1_no  \\\n",
       "0  19.000000  27.900       0.0  16884.92400          1        0      0   \n",
       "1  18.000000  33.770       1.0   1725.55230          0        1      1   \n",
       "2  28.000000  33.000       3.0   4449.46200          0        1      1   \n",
       "3  33.000000  22.705       0.0  21984.47061          0        1      1   \n",
       "4  39.171927  28.880       0.0   3866.85520          0        1      1   \n",
       "\n",
       "   x1_yes  x2_female  x2_male  \n",
       "0       1          1        0  \n",
       "1       0          0        1  \n",
       "2       0          0        1  \n",
       "3       0          0        1  \n",
       "4       0          0        1  "
      ]
     },
     "execution_count": 57,
     "metadata": {},
     "output_type": "execute_result"
    }
   ],
   "source": [
    "# eliminamos las columnas que no están codificadas\n",
    "\n",
    "df.drop([\"region\"], axis = 1, inplace = True)\n",
    "df.head()"
   ]
  },
  {
   "cell_type": "code",
   "execution_count": 58,
   "id": "f29fac56",
   "metadata": {},
   "outputs": [
    {
     "data": {
      "text/plain": [
       "(1338, 11)"
      ]
     },
     "execution_count": 58,
     "metadata": {},
     "output_type": "execute_result"
    }
   ],
   "source": [
    "numericas.shape"
   ]
  },
  {
   "cell_type": "markdown",
   "id": "29602b04",
   "metadata": {},
   "source": [
    "# ¿Qué distribución tienen  nuestros datos? "
   ]
  },
  {
   "cell_type": "markdown",
   "id": "d87b74fa",
   "metadata": {},
   "source": [
    "Antes de ponernos manos a la obra, tenemos que saber como están distribuidos nuestros datos. Esta es la distribución más frecuente. Consiste en una gráfica de la función de densidad que tiene una forma acampanada y simétrica. Es la conocemos como **campana de Gauss**. \n",
    "\n",
    "[Aquí](https://es.wikipedia.org/wiki/Distribuci%C3%B3n_normal) más info sobre este tipo de distribución. "
   ]
  },
  {
   "cell_type": "code",
   "execution_count": 59,
   "id": "b7762801",
   "metadata": {},
   "outputs": [
    {
     "data": {
      "text/html": [
       "<div>\n",
       "<style scoped>\n",
       "    .dataframe tbody tr th:only-of-type {\n",
       "        vertical-align: middle;\n",
       "    }\n",
       "\n",
       "    .dataframe tbody tr th {\n",
       "        vertical-align: top;\n",
       "    }\n",
       "\n",
       "    .dataframe thead th {\n",
       "        text-align: right;\n",
       "    }\n",
       "</style>\n",
       "<table border=\"1\" class=\"dataframe\">\n",
       "  <thead>\n",
       "    <tr style=\"text-align: right;\">\n",
       "      <th></th>\n",
       "      <th>age</th>\n",
       "      <th>bmi</th>\n",
       "      <th>children</th>\n",
       "      <th>charges</th>\n",
       "    </tr>\n",
       "  </thead>\n",
       "  <tbody>\n",
       "    <tr>\n",
       "      <th>0</th>\n",
       "      <td>19.000000</td>\n",
       "      <td>27.900</td>\n",
       "      <td>0.0</td>\n",
       "      <td>16884.92400</td>\n",
       "    </tr>\n",
       "    <tr>\n",
       "      <th>1</th>\n",
       "      <td>18.000000</td>\n",
       "      <td>33.770</td>\n",
       "      <td>1.0</td>\n",
       "      <td>1725.55230</td>\n",
       "    </tr>\n",
       "    <tr>\n",
       "      <th>2</th>\n",
       "      <td>28.000000</td>\n",
       "      <td>33.000</td>\n",
       "      <td>3.0</td>\n",
       "      <td>4449.46200</td>\n",
       "    </tr>\n",
       "    <tr>\n",
       "      <th>3</th>\n",
       "      <td>33.000000</td>\n",
       "      <td>22.705</td>\n",
       "      <td>0.0</td>\n",
       "      <td>21984.47061</td>\n",
       "    </tr>\n",
       "    <tr>\n",
       "      <th>4</th>\n",
       "      <td>39.171927</td>\n",
       "      <td>28.880</td>\n",
       "      <td>0.0</td>\n",
       "      <td>3866.85520</td>\n",
       "    </tr>\n",
       "  </tbody>\n",
       "</table>\n",
       "</div>"
      ],
      "text/plain": [
       "         age     bmi  children      charges\n",
       "0  19.000000  27.900       0.0  16884.92400\n",
       "1  18.000000  33.770       1.0   1725.55230\n",
       "2  28.000000  33.000       3.0   4449.46200\n",
       "3  33.000000  22.705       0.0  21984.47061\n",
       "4  39.171927  28.880       0.0   3866.85520"
      ]
     },
     "execution_count": 59,
     "metadata": {},
     "output_type": "execute_result"
    }
   ],
   "source": [
    "# nos hacemos un subset solo con las numéricas\n",
    "\n",
    "num = df[[\"age\", \"bmi\", \"children\", \"charges\"]]\n",
    "num.head()"
   ]
  },
  {
   "cell_type": "code",
   "execution_count": 60,
   "id": "aced27b4",
   "metadata": {},
   "outputs": [
    {
     "data": {
      "text/plain": [
       "Index(['age', 'bmi', 'children', 'charges'], dtype='object')"
      ]
     },
     "execution_count": 60,
     "metadata": {},
     "output_type": "execute_result"
    }
   ],
   "source": [
    "columnas = num.columns\n",
    "columnas"
   ]
  },
  {
   "cell_type": "code",
   "execution_count": 61,
   "id": "3dc7108a",
   "metadata": {
    "scrolled": false
   },
   "outputs": [
    {
     "data": {
      "image/png": "[encoded data removed]",
      "text/plain": [
       "<Figure size 1440x360 with 4 Axes>"
      ]
     },
     "metadata": {
      "needs_background": "light"
     },
     "output_type": "display_data"
    }
   ],
   "source": [
    "fig, ax = plt.subplots(1,4, figsize = (20,5))\n",
    "\n",
    "for i in range(len(columnas)):\n",
    "    sns.histplot(num[columnas[i]], kde = True, ax = ax[i])\n",
    "plt.show()"
   ]
  },
  {
   "cell_type": "markdown",
   "id": "f2b0b7bc",
   "metadata": {},
   "source": [
    "# Normalización "
   ]
  },
  {
   "cell_type": "markdown",
   "id": "49ca62f1",
   "metadata": {},
   "source": [
    "A veces nos podemos encontrar que nuestras variables estan medidas en diferentes escalas, lo que hace que la comparación entre ellas sea complicada o que incluso no tengan una distribución normal, es decir, la campana de gaus que estamos más acostumbradas a ver. \n",
    "\n",
    "Para poder hacer esa comparación aplicaremos la `normalización` a nuestros datos para poder compararlas. Basicamente, la normalización lo que va a hacer es poner todas estas variables que están en escalas diferentes en un una escala común. Es decir: \n",
    "\n",
    "> Es el proceso de reescalar los valores entre [0-1]\n",
    ">\n",
    "> Usaremos este tipo de aproximación cuando no sepamos como es la distribución de nuestros datos o NO sea gaussiana. \n",
    "\n",
    "La `normalización` es la transformación de escala de la distribución de una variable con el objetivo de poder hacer comparaciones respecto a conjuntos de elementos y a la media.\n"
   ]
  },
  {
   "cell_type": "markdown",
   "id": "1108a1d7",
   "metadata": {},
   "source": [
    "## Tipos de normalización "
   ]
  },
  {
   "cell_type": "markdown",
   "id": "0291fc03",
   "metadata": {},
   "source": [
    "### Manualmente\n",
    "\n",
    "\n",
    "\n",
    "$$ x´ =  \\frac{x -  µ}{max(x) - min(x)}$$\n",
    "\n",
    "Donde: \n",
    "\n",
    "- `X`: es el valor que queremos normalizar.\n",
    "\n",
    "\n",
    "- `µ`: es la media de todos los valores que queremos normalizar.\n",
    "\n",
    " \n",
    "- `max(x)`: el valor máximo de nuestra variable.\n",
    "\n",
    "\n",
    "- `min(x)`: el valor mínimo de nuestra variable.\n"
   ]
  },
  {
   "cell_type": "code",
   "execution_count": 62,
   "id": "00ce3f14",
   "metadata": {},
   "outputs": [],
   "source": [
    "# vamos a crear distintas variables con los estadísticos que necesitamos\n",
    "\n",
    "media = df[\"charges\"].mean()\n",
    "maximo = df[\"charges\"].max() \n",
    "minimo = df[\"charges\"].min()"
   ]
  },
  {
   "cell_type": "code",
   "execution_count": 63,
   "id": "46faa235",
   "metadata": {},
   "outputs": [],
   "source": [
    "df[\"charges_NORM\"] = (df[\"charges\"] - media) / (maximo - minimo )"
   ]
  },
  {
   "cell_type": "code",
   "execution_count": 64,
   "id": "8d5f6df6",
   "metadata": {},
   "outputs": [
    {
     "data": {
      "text/html": [
       "<div>\n",
       "<style scoped>\n",
       "    .dataframe tbody tr th:only-of-type {\n",
       "        vertical-align: middle;\n",
       "    }\n",
       "\n",
       "    .dataframe tbody tr th {\n",
       "        vertical-align: top;\n",
       "    }\n",
       "\n",
       "    .dataframe thead th {\n",
       "        text-align: right;\n",
       "    }\n",
       "</style>\n",
       "<table border=\"1\" class=\"dataframe\">\n",
       "  <thead>\n",
       "    <tr style=\"text-align: right;\">\n",
       "      <th></th>\n",
       "      <th>age</th>\n",
       "      <th>bmi</th>\n",
       "      <th>children</th>\n",
       "      <th>charges</th>\n",
       "      <th>x0_female</th>\n",
       "      <th>x0_male</th>\n",
       "      <th>x1_no</th>\n",
       "      <th>x1_yes</th>\n",
       "      <th>x2_female</th>\n",
       "      <th>x2_male</th>\n",
       "      <th>charges_NORM</th>\n",
       "    </tr>\n",
       "  </thead>\n",
       "  <tbody>\n",
       "    <tr>\n",
       "      <th>0</th>\n",
       "      <td>19.0</td>\n",
       "      <td>27.90</td>\n",
       "      <td>0.0</td>\n",
       "      <td>16884.9240</td>\n",
       "      <td>1</td>\n",
       "      <td>0</td>\n",
       "      <td>0</td>\n",
       "      <td>1</td>\n",
       "      <td>1</td>\n",
       "      <td>0</td>\n",
       "      <td>0.057651</td>\n",
       "    </tr>\n",
       "    <tr>\n",
       "      <th>1</th>\n",
       "      <td>18.0</td>\n",
       "      <td>33.77</td>\n",
       "      <td>1.0</td>\n",
       "      <td>1725.5523</td>\n",
       "      <td>0</td>\n",
       "      <td>1</td>\n",
       "      <td>1</td>\n",
       "      <td>0</td>\n",
       "      <td>0</td>\n",
       "      <td>1</td>\n",
       "      <td>-0.184324</td>\n",
       "    </tr>\n",
       "  </tbody>\n",
       "</table>\n",
       "</div>"
      ],
      "text/plain": [
       "    age    bmi  children     charges  x0_female  x0_male  x1_no  x1_yes  \\\n",
       "0  19.0  27.90       0.0  16884.9240          1        0      0       1   \n",
       "1  18.0  33.77       1.0   1725.5523          0        1      1       0   \n",
       "\n",
       "   x2_female  x2_male  charges_NORM  \n",
       "0          1        0      0.057651  \n",
       "1          0        1     -0.184324  "
      ]
     },
     "execution_count": 64,
     "metadata": {},
     "output_type": "execute_result"
    }
   ],
   "source": [
    "df.head(2)"
   ]
  },
  {
   "cell_type": "code",
   "execution_count": 65,
   "id": "b6e8d3c9",
   "metadata": {},
   "outputs": [
    {
     "data": {
      "image/png": "[encoded data removed]",
      "text/plain": [
       "<Figure size 1080x360 with 2 Axes>"
      ]
     },
     "metadata": {
      "needs_background": "light"
     },
     "output_type": "display_data"
    }
   ],
   "source": [
    "fig, axes = plt.subplots(1, 2, figsize = (15,5))\n",
    "\n",
    "axes[0].set_title('age original')\n",
    "axes[1].set_title('age normalizado')\n",
    "\n",
    "sns.distplot(df['charges'] ,ax = axes[0])\n",
    "sns.distplot(df['charges_NORM'], ax = axes[1]);"
   ]
  },
  {
   "cell_type": "markdown",
   "id": "0f89bf37",
   "metadata": {},
   "source": [
    "### Transformaciones logarítmicas o raices cuadradas. "
   ]
  },
  {
   "cell_type": "markdown",
   "id": "f2f66b21",
   "metadata": {},
   "source": [
    "`LOGARÍTMICA`\n",
    "\n",
    "La escala logarítmica implica la conversión de una columna a la escala lograrítimica. \n",
    "\n",
    "📌 Es importante tener en cuenta que esta transformación no la podremos hacer si tenemos algun valor en nuestra variable que sea 0."
   ]
  },
  {
   "cell_type": "markdown",
   "id": "023e29dc",
   "metadata": {},
   "source": [
    "En este caso aplicaremos este caso aplicaremos una*list comprehension* para evitar tener errores con los posibles valores 0 que tengamos en nuestra columna. "
   ]
  },
  {
   "cell_type": "code",
   "execution_count": 66,
   "id": "ca3e475d",
   "metadata": {},
   "outputs": [],
   "source": [
    "df['charges_LOG'] = df['charges'].apply(lambda x: np.log(x) if x != 0 else 0)"
   ]
  },
  {
   "cell_type": "code",
   "execution_count": 67,
   "id": "70c7dc3b",
   "metadata": {
    "scrolled": true
   },
   "outputs": [
    {
     "data": {
      "text/html": [
       "<div>\n",
       "<style scoped>\n",
       "    .dataframe tbody tr th:only-of-type {\n",
       "        vertical-align: middle;\n",
       "    }\n",
       "\n",
       "    .dataframe tbody tr th {\n",
       "        vertical-align: top;\n",
       "    }\n",
       "\n",
       "    .dataframe thead th {\n",
       "        text-align: right;\n",
       "    }\n",
       "</style>\n",
       "<table border=\"1\" class=\"dataframe\">\n",
       "  <thead>\n",
       "    <tr style=\"text-align: right;\">\n",
       "      <th></th>\n",
       "      <th>age</th>\n",
       "      <th>bmi</th>\n",
       "      <th>children</th>\n",
       "      <th>charges</th>\n",
       "      <th>x0_female</th>\n",
       "      <th>x0_male</th>\n",
       "      <th>x1_no</th>\n",
       "      <th>x1_yes</th>\n",
       "      <th>x2_female</th>\n",
       "      <th>x2_male</th>\n",
       "      <th>charges_NORM</th>\n",
       "      <th>charges_LOG</th>\n",
       "    </tr>\n",
       "  </thead>\n",
       "  <tbody>\n",
       "    <tr>\n",
       "      <th>0</th>\n",
       "      <td>19.0</td>\n",
       "      <td>27.90</td>\n",
       "      <td>0.0</td>\n",
       "      <td>16884.9240</td>\n",
       "      <td>1</td>\n",
       "      <td>0</td>\n",
       "      <td>0</td>\n",
       "      <td>1</td>\n",
       "      <td>1</td>\n",
       "      <td>0</td>\n",
       "      <td>0.057651</td>\n",
       "      <td>9.734176</td>\n",
       "    </tr>\n",
       "    <tr>\n",
       "      <th>1</th>\n",
       "      <td>18.0</td>\n",
       "      <td>33.77</td>\n",
       "      <td>1.0</td>\n",
       "      <td>1725.5523</td>\n",
       "      <td>0</td>\n",
       "      <td>1</td>\n",
       "      <td>1</td>\n",
       "      <td>0</td>\n",
       "      <td>0</td>\n",
       "      <td>1</td>\n",
       "      <td>-0.184324</td>\n",
       "      <td>7.453302</td>\n",
       "    </tr>\n",
       "  </tbody>\n",
       "</table>\n",
       "</div>"
      ],
      "text/plain": [
       "    age    bmi  children     charges  x0_female  x0_male  x1_no  x1_yes  \\\n",
       "0  19.0  27.90       0.0  16884.9240          1        0      0       1   \n",
       "1  18.0  33.77       1.0   1725.5523          0        1      1       0   \n",
       "\n",
       "   x2_female  x2_male  charges_NORM  charges_LOG  \n",
       "0          1        0      0.057651     9.734176  \n",
       "1          0        1     -0.184324     7.453302  "
      ]
     },
     "execution_count": 67,
     "metadata": {},
     "output_type": "execute_result"
    }
   ],
   "source": [
    "df.head(2)"
   ]
  },
  {
   "cell_type": "code",
   "execution_count": 69,
   "id": "cf7736de",
   "metadata": {},
   "outputs": [
    {
     "data": {
      "image/png": "[encoded data removed]",
      "text/plain": [
       "<Figure size 1080x360 with 2 Axes>"
      ]
     },
     "metadata": {
      "needs_background": "light"
     },
     "output_type": "display_data"
    }
   ],
   "source": [
    "fig, axes = plt.subplots(1, 2, figsize = (15,5))\n",
    "\n",
    "axes[0].set_title('charges original')\n",
    "axes[1].set_title('charges normalizado')\n",
    "\n",
    "sns.distplot(df['charges'] ,ax = axes[0])\n",
    "sns.distplot(df['charges_LOG'], ax = axes[1]);"
   ]
  },
  {
   "cell_type": "markdown",
   "id": "f8aea389",
   "metadata": {},
   "source": [
    "`RAIZ CUADRADA`\n",
    "\n",
    "La escala logarítmica implica la conversión de una columna a la escala lograrítimica. \n",
    "\n",
    "📌 Es importante tener en cuenta que esta transformación no la podremos hacer si tenemos algun valor en nuestra variable que sea 0."
   ]
  },
  {
   "cell_type": "code",
   "execution_count": 71,
   "id": "caf02178",
   "metadata": {},
   "outputs": [],
   "source": [
    " df['charges_SQRT'] = df['charges'].apply(lambda x: math.sqrt(x))"
   ]
  },
  {
   "cell_type": "code",
   "execution_count": 72,
   "id": "f1bc51ca",
   "metadata": {},
   "outputs": [
    {
     "data": {
      "text/html": [
       "<div>\n",
       "<style scoped>\n",
       "    .dataframe tbody tr th:only-of-type {\n",
       "        vertical-align: middle;\n",
       "    }\n",
       "\n",
       "    .dataframe tbody tr th {\n",
       "        vertical-align: top;\n",
       "    }\n",
       "\n",
       "    .dataframe thead th {\n",
       "        text-align: right;\n",
       "    }\n",
       "</style>\n",
       "<table border=\"1\" class=\"dataframe\">\n",
       "  <thead>\n",
       "    <tr style=\"text-align: right;\">\n",
       "      <th></th>\n",
       "      <th>age</th>\n",
       "      <th>bmi</th>\n",
       "      <th>children</th>\n",
       "      <th>charges</th>\n",
       "      <th>x0_female</th>\n",
       "      <th>x0_male</th>\n",
       "      <th>x1_no</th>\n",
       "      <th>x1_yes</th>\n",
       "      <th>x2_female</th>\n",
       "      <th>x2_male</th>\n",
       "      <th>charges_NORM</th>\n",
       "      <th>charges_LOG</th>\n",
       "      <th>charges_SQRT</th>\n",
       "    </tr>\n",
       "  </thead>\n",
       "  <tbody>\n",
       "    <tr>\n",
       "      <th>0</th>\n",
       "      <td>19.0</td>\n",
       "      <td>27.90</td>\n",
       "      <td>0.0</td>\n",
       "      <td>16884.9240</td>\n",
       "      <td>1</td>\n",
       "      <td>0</td>\n",
       "      <td>0</td>\n",
       "      <td>1</td>\n",
       "      <td>1</td>\n",
       "      <td>0</td>\n",
       "      <td>0.057651</td>\n",
       "      <td>9.734176</td>\n",
       "      <td>129.942002</td>\n",
       "    </tr>\n",
       "    <tr>\n",
       "      <th>1</th>\n",
       "      <td>18.0</td>\n",
       "      <td>33.77</td>\n",
       "      <td>1.0</td>\n",
       "      <td>1725.5523</td>\n",
       "      <td>0</td>\n",
       "      <td>1</td>\n",
       "      <td>1</td>\n",
       "      <td>0</td>\n",
       "      <td>0</td>\n",
       "      <td>1</td>\n",
       "      <td>-0.184324</td>\n",
       "      <td>7.453302</td>\n",
       "      <td>41.539768</td>\n",
       "    </tr>\n",
       "  </tbody>\n",
       "</table>\n",
       "</div>"
      ],
      "text/plain": [
       "    age    bmi  children     charges  x0_female  x0_male  x1_no  x1_yes  \\\n",
       "0  19.0  27.90       0.0  16884.9240          1        0      0       1   \n",
       "1  18.0  33.77       1.0   1725.5523          0        1      1       0   \n",
       "\n",
       "   x2_female  x2_male  charges_NORM  charges_LOG  charges_SQRT  \n",
       "0          1        0      0.057651     9.734176    129.942002  \n",
       "1          0        1     -0.184324     7.453302     41.539768  "
      ]
     },
     "execution_count": 72,
     "metadata": {},
     "output_type": "execute_result"
    }
   ],
   "source": [
    "df.head(2)"
   ]
  },
  {
   "cell_type": "code",
   "execution_count": 74,
   "id": "797f52f7",
   "metadata": {},
   "outputs": [
    {
     "data": {
      "image/png": "[encoded data removed]",
      "text/plain": [
       "<Figure size 1080x360 with 2 Axes>"
      ]
     },
     "metadata": {
      "needs_background": "light"
     },
     "output_type": "display_data"
    }
   ],
   "source": [
    "fig, axes = plt.subplots(1, 2, figsize = (15,5))\n",
    "\n",
    "axes[0].set_title('MoSold original')\n",
    "axes[1].set_title('MoSold normalizado')\n",
    "\n",
    "sns.distplot(df['charges'] ,ax = axes[0])\n",
    "sns.distplot(df['charges_SQRT'], ax = axes[1]);"
   ]
  },
  {
   "cell_type": "markdown",
   "id": "05dbfaa2",
   "metadata": {},
   "source": [
    "### Sklearn MinMaxScaller\n"
   ]
  },
  {
   "cell_type": "markdown",
   "id": "520a13bd",
   "metadata": {},
   "source": [
    "Es una e las técnicas de normalizado más importantes. Principalmente va a transformar las variables escalando cada una de ellas a un rango determinado, por defecto lo hará entre 0-1\n",
    "Este estimador escala y traduce cada variable individualmente de manera que se encuentre en el rango dado en el conjunto de entrenamiento, por ejemplo, entre cero y uno.\n",
    "\n",
    "Su sintaxis es: \n",
    "\n",
    "```python\n",
    "MinMaxScaler(feature_range=(0, 1), copy=True, clip=False)\n",
    "```\n",
    "\n",
    "Donde: \n",
    "\n",
    "- `feature_range`: el rango sobre el que queremos normalizar nuestro datos. Por defecto entre 0 - 1. \n",
    "\n",
    "\n",
    "- `copy`: si queremos una copia de nuestra datos normalizada. \n",
    "\n",
    "\n",
    "- `clip`: la pondremos en True para recortar los valores transformados de los datos retenidos en el rango de características proporcionado.\n",
    "\n",
    "\n",
    "Tendremos que usar la siguiente librería 👇🏽\n",
    "\n",
    "```python\n",
    "from sklearn.preprocessing import MinMaxScaler\n",
    "```"
   ]
  },
  {
   "cell_type": "code",
   "execution_count": 76,
   "id": "8f6edf1e",
   "metadata": {},
   "outputs": [],
   "source": [
    "# construir el modelo de escalador\n",
    "minmax = MinMaxScaler()"
   ]
  },
  {
   "cell_type": "code",
   "execution_count": 78,
   "id": "d81462ed",
   "metadata": {},
   "outputs": [
    {
     "data": {
      "text/plain": [
       "MinMaxScaler()"
      ]
     },
     "execution_count": 78,
     "metadata": {},
     "output_type": "execute_result"
    }
   ],
   "source": [
    "# ajustamos el modelo utilizando nuestro set de datos\n",
    "minmax.fit(df[[\"charges\"]])\n"
   ]
  },
  {
   "cell_type": "code",
   "execution_count": 79,
   "id": "7e351e87",
   "metadata": {},
   "outputs": [],
   "source": [
    "# transformamos los datos\n",
    "X_normalizadas = minmax.transform(df[[\"charges\"]])"
   ]
  },
  {
   "cell_type": "code",
   "execution_count": 80,
   "id": "0cfd94f5",
   "metadata": {},
   "outputs": [
    {
     "data": {
      "text/plain": [
       "array([0.])"
      ]
     },
     "execution_count": 80,
     "metadata": {},
     "output_type": "execute_result"
    }
   ],
   "source": [
    "# Vamos a verificar los valores mínimos después de la normalización\n",
    "X_normalizadas.min(axis=0)\n"
   ]
  },
  {
   "cell_type": "code",
   "execution_count": 81,
   "id": "5e1e3acb",
   "metadata": {},
   "outputs": [
    {
     "data": {
      "text/plain": [
       "array([1.])"
      ]
     },
     "execution_count": 81,
     "metadata": {},
     "output_type": "execute_result"
    }
   ],
   "source": [
    "# y los máximos?\n",
    "X_normalizadas.max(axis=0)"
   ]
  },
  {
   "cell_type": "code",
   "execution_count": 82,
   "id": "abf69894",
   "metadata": {},
   "outputs": [],
   "source": [
    "# lo unimos a nuestro dataframe original\n",
    "df[\"charges_NORM2\"] = X_normalizadas"
   ]
  },
  {
   "cell_type": "code",
   "execution_count": 84,
   "id": "c42e02d9",
   "metadata": {},
   "outputs": [
    {
     "data": {
      "text/html": [
       "<div>\n",
       "<style scoped>\n",
       "    .dataframe tbody tr th:only-of-type {\n",
       "        vertical-align: middle;\n",
       "    }\n",
       "\n",
       "    .dataframe tbody tr th {\n",
       "        vertical-align: top;\n",
       "    }\n",
       "\n",
       "    .dataframe thead th {\n",
       "        text-align: right;\n",
       "    }\n",
       "</style>\n",
       "<table border=\"1\" class=\"dataframe\">\n",
       "  <thead>\n",
       "    <tr style=\"text-align: right;\">\n",
       "      <th></th>\n",
       "      <th>age</th>\n",
       "      <th>bmi</th>\n",
       "      <th>children</th>\n",
       "      <th>charges</th>\n",
       "      <th>x0_female</th>\n",
       "      <th>x0_male</th>\n",
       "      <th>x1_no</th>\n",
       "      <th>x1_yes</th>\n",
       "      <th>x2_female</th>\n",
       "      <th>x2_male</th>\n",
       "      <th>charges_NORM</th>\n",
       "      <th>charges_LOG</th>\n",
       "      <th>charges_SQRT</th>\n",
       "      <th>charges_NORM2</th>\n",
       "    </tr>\n",
       "  </thead>\n",
       "  <tbody>\n",
       "    <tr>\n",
       "      <th>0</th>\n",
       "      <td>19.0</td>\n",
       "      <td>27.90</td>\n",
       "      <td>0.0</td>\n",
       "      <td>16884.9240</td>\n",
       "      <td>1</td>\n",
       "      <td>0</td>\n",
       "      <td>0</td>\n",
       "      <td>1</td>\n",
       "      <td>1</td>\n",
       "      <td>0</td>\n",
       "      <td>0.057651</td>\n",
       "      <td>9.734176</td>\n",
       "      <td>129.942002</td>\n",
       "      <td>0.251611</td>\n",
       "    </tr>\n",
       "    <tr>\n",
       "      <th>1</th>\n",
       "      <td>18.0</td>\n",
       "      <td>33.77</td>\n",
       "      <td>1.0</td>\n",
       "      <td>1725.5523</td>\n",
       "      <td>0</td>\n",
       "      <td>1</td>\n",
       "      <td>1</td>\n",
       "      <td>0</td>\n",
       "      <td>0</td>\n",
       "      <td>1</td>\n",
       "      <td>-0.184324</td>\n",
       "      <td>7.453302</td>\n",
       "      <td>41.539768</td>\n",
       "      <td>0.009636</td>\n",
       "    </tr>\n",
       "  </tbody>\n",
       "</table>\n",
       "</div>"
      ],
      "text/plain": [
       "    age    bmi  children     charges  x0_female  x0_male  x1_no  x1_yes  \\\n",
       "0  19.0  27.90       0.0  16884.9240          1        0      0       1   \n",
       "1  18.0  33.77       1.0   1725.5523          0        1      1       0   \n",
       "\n",
       "   x2_female  x2_male  charges_NORM  charges_LOG  charges_SQRT  charges_NORM2  \n",
       "0          1        0      0.057651     9.734176    129.942002       0.251611  \n",
       "1          0        1     -0.184324     7.453302     41.539768       0.009636  "
      ]
     },
     "execution_count": 84,
     "metadata": {},
     "output_type": "execute_result"
    }
   ],
   "source": [
    "df.head(2)\n"
   ]
  },
  {
   "cell_type": "code",
   "execution_count": 85,
   "id": "65e12430",
   "metadata": {},
   "outputs": [
    {
     "data": {
      "image/png": "[encoded data removed]",
      "text/plain": [
       "<Figure size 1080x360 with 2 Axes>"
      ]
     },
     "metadata": {
      "needs_background": "light"
     },
     "output_type": "display_data"
    }
   ],
   "source": [
    "fig, axes = plt.subplots(1, 2, figsize = (15,5))\n",
    "\n",
    "axes[0].set_title('charges original')\n",
    "axes[1].set_title('charges normalizado')\n",
    "\n",
    "sns.distplot(df['charges'] ,ax = axes[0])\n",
    "sns.distplot(df['charges_NORM2'], ax = axes[1]);"
   ]
  },
  {
   "cell_type": "markdown",
   "id": "8002eb37",
   "metadata": {},
   "source": [
    "# Estandarización"
   ]
  },
  {
   "cell_type": "markdown",
   "id": "9e4452a7",
   "metadata": {},
   "source": [
    "Estandarizar generalmente significa cambiar los valores de nuestras columnas de manera que la desviación estándar de la distribución sea igual a uno y la media igual a 0. \n",
    "\n",
    "$$Z =  \\frac{X - µ}{Ω}$$\n",
    "\n",
    "Donde:\n",
    "\n",
    "- `X`: es el valor que queremos normalizar.\n",
    "\n",
    "\n",
    "- `µ`: es la media de todos los valores que queremos normalizar.\n",
    "\n",
    "\n",
    "- `Ω`: es la desviación estandar de los valores que queremos normalizar."
   ]
  },
  {
   "cell_type": "markdown",
   "id": "e277ff13",
   "metadata": {},
   "source": [
    "##  Tipos de estandarización"
   ]
  },
  {
   "cell_type": "markdown",
   "id": "b350e103",
   "metadata": {},
   "source": [
    "### Manualmente \n",
    "\n",
    "Para poder hacerlo manualmente lo único que tendremos que hacer es aplicar la fórmula de arriba a la columna o columnas que queramos. "
   ]
  },
  {
   "cell_type": "code",
   "execution_count": 88,
   "id": "ca82db12",
   "metadata": {},
   "outputs": [
    {
     "data": {
      "text/html": [
       "<div>\n",
       "<style scoped>\n",
       "    .dataframe tbody tr th:only-of-type {\n",
       "        vertical-align: middle;\n",
       "    }\n",
       "\n",
       "    .dataframe tbody tr th {\n",
       "        vertical-align: top;\n",
       "    }\n",
       "\n",
       "    .dataframe thead th {\n",
       "        text-align: right;\n",
       "    }\n",
       "</style>\n",
       "<table border=\"1\" class=\"dataframe\">\n",
       "  <thead>\n",
       "    <tr style=\"text-align: right;\">\n",
       "      <th></th>\n",
       "      <th>age</th>\n",
       "      <th>bmi</th>\n",
       "      <th>children</th>\n",
       "      <th>charges</th>\n",
       "    </tr>\n",
       "  </thead>\n",
       "  <tbody>\n",
       "    <tr>\n",
       "      <th>0</th>\n",
       "      <td>19.0</td>\n",
       "      <td>27.90</td>\n",
       "      <td>0.0</td>\n",
       "      <td>16884.9240</td>\n",
       "    </tr>\n",
       "    <tr>\n",
       "      <th>1</th>\n",
       "      <td>18.0</td>\n",
       "      <td>33.77</td>\n",
       "      <td>1.0</td>\n",
       "      <td>1725.5523</td>\n",
       "    </tr>\n",
       "  </tbody>\n",
       "</table>\n",
       "</div>"
      ],
      "text/plain": [
       "    age    bmi  children     charges\n",
       "0  19.0  27.90       0.0  16884.9240\n",
       "1  18.0  33.77       1.0   1725.5523"
      ]
     },
     "execution_count": 88,
     "metadata": {},
     "output_type": "execute_result"
    }
   ],
   "source": [
    "num.head(2)"
   ]
  },
  {
   "cell_type": "code",
   "execution_count": 89,
   "id": "d159c9b0",
   "metadata": {},
   "outputs": [],
   "source": [
    "# vamos a crear distintas variables con los estadísticos que necesitamos, media y desviacion estándar\n",
    "\n",
    "media = df[\"age\"].mean()\n",
    "desviacion = df[\"age\"].std() \n"
   ]
  },
  {
   "cell_type": "code",
   "execution_count": 90,
   "id": "4c83ddf2",
   "metadata": {},
   "outputs": [],
   "source": [
    "df[\"age_ESTA\"] = (numericas[\"age\"] - media) / desviacion"
   ]
  },
  {
   "cell_type": "code",
   "execution_count": 91,
   "id": "779ab5c3",
   "metadata": {},
   "outputs": [
    {
     "data": {
      "text/html": [
       "<div>\n",
       "<style scoped>\n",
       "    .dataframe tbody tr th:only-of-type {\n",
       "        vertical-align: middle;\n",
       "    }\n",
       "\n",
       "    .dataframe tbody tr th {\n",
       "        vertical-align: top;\n",
       "    }\n",
       "\n",
       "    .dataframe thead th {\n",
       "        text-align: right;\n",
       "    }\n",
       "</style>\n",
       "<table border=\"1\" class=\"dataframe\">\n",
       "  <thead>\n",
       "    <tr style=\"text-align: right;\">\n",
       "      <th></th>\n",
       "      <th>age</th>\n",
       "      <th>bmi</th>\n",
       "      <th>children</th>\n",
       "      <th>charges</th>\n",
       "      <th>x0_female</th>\n",
       "      <th>x0_male</th>\n",
       "      <th>x1_no</th>\n",
       "      <th>x1_yes</th>\n",
       "      <th>x2_female</th>\n",
       "      <th>x2_male</th>\n",
       "      <th>charges_NORM</th>\n",
       "      <th>charges_LOG</th>\n",
       "      <th>charges_SQRT</th>\n",
       "      <th>charges_NORM2</th>\n",
       "      <th>age_ESTA</th>\n",
       "    </tr>\n",
       "  </thead>\n",
       "  <tbody>\n",
       "    <tr>\n",
       "      <th>0</th>\n",
       "      <td>19.0</td>\n",
       "      <td>27.90</td>\n",
       "      <td>0.0</td>\n",
       "      <td>16884.9240</td>\n",
       "      <td>1</td>\n",
       "      <td>0</td>\n",
       "      <td>0</td>\n",
       "      <td>1</td>\n",
       "      <td>1</td>\n",
       "      <td>0</td>\n",
       "      <td>0.057651</td>\n",
       "      <td>9.734176</td>\n",
       "      <td>129.942002</td>\n",
       "      <td>0.251611</td>\n",
       "      <td>-1.513027</td>\n",
       "    </tr>\n",
       "    <tr>\n",
       "      <th>1</th>\n",
       "      <td>18.0</td>\n",
       "      <td>33.77</td>\n",
       "      <td>1.0</td>\n",
       "      <td>1725.5523</td>\n",
       "      <td>0</td>\n",
       "      <td>1</td>\n",
       "      <td>1</td>\n",
       "      <td>0</td>\n",
       "      <td>0</td>\n",
       "      <td>1</td>\n",
       "      <td>-0.184324</td>\n",
       "      <td>7.453302</td>\n",
       "      <td>41.539768</td>\n",
       "      <td>0.009636</td>\n",
       "      <td>-1.588033</td>\n",
       "    </tr>\n",
       "  </tbody>\n",
       "</table>\n",
       "</div>"
      ],
      "text/plain": [
       "    age    bmi  children     charges  x0_female  x0_male  x1_no  x1_yes  \\\n",
       "0  19.0  27.90       0.0  16884.9240          1        0      0       1   \n",
       "1  18.0  33.77       1.0   1725.5523          0        1      1       0   \n",
       "\n",
       "   x2_female  x2_male  charges_NORM  charges_LOG  charges_SQRT  charges_NORM2  \\\n",
       "0          1        0      0.057651     9.734176    129.942002       0.251611   \n",
       "1          0        1     -0.184324     7.453302     41.539768       0.009636   \n",
       "\n",
       "   age_ESTA  \n",
       "0 -1.513027  \n",
       "1 -1.588033  "
      ]
     },
     "execution_count": 91,
     "metadata": {},
     "output_type": "execute_result"
    }
   ],
   "source": [
    "df.head(2)"
   ]
  },
  {
   "cell_type": "code",
   "execution_count": 93,
   "id": "e3952480",
   "metadata": {},
   "outputs": [
    {
     "data": {
      "image/png": "[encoded data removed]",
      "text/plain": [
       "<Figure size 1080x360 with 2 Axes>"
      ]
     },
     "metadata": {
      "needs_background": "light"
     },
     "output_type": "display_data"
    }
   ],
   "source": [
    "fig, axes = plt.subplots(1, 2, figsize = (15,5))\n",
    "\n",
    "axes[0].set_title('GarageArea original')\n",
    "axes[1].set_title('GarageArea normalizado')\n",
    "\n",
    "sns.distplot(df['age'] ,ax = axes[0])\n",
    "sns.distplot(df['age_ESTA'], ax = axes[1]);"
   ]
  },
  {
   "cell_type": "markdown",
   "id": "ee385422",
   "metadata": {},
   "source": [
    "Si nos fijamos en los gráficas, ahora vemos que tenemos nuestros datos ajustados a una media de 0 y desviación de 1 👏🏽"
   ]
  },
  {
   "cell_type": "markdown",
   "id": "524b82c1",
   "metadata": {},
   "source": [
    "### Sklearn StandardScaler\n",
    "\n",
    "La estandarización que hemos visto antes, la podemos hacer también con un método de sklearn.\n",
    "\n",
    "StandardScaler es el algoritmo más utilizado. Estandariza una característica restando la media y dividiendo todos los valores por la desviación estándar. \n",
    "\n",
    "\n",
    "Nos va a dar como resultado una distribución con una desviación estándar igual a 1. La varianza es igual a 1 también, porque varianza = desviación estándar al cuadrado. Y 1 al cuadrado = 1.\n",
    "StandardScaler hace que la media de la distribución sea aproximadamente 0.\n",
    "\n",
    "Su sintaxis:\n",
    "\n",
    "```python\n",
    "StandardScaler(copy=True, with_mean=True, with_std=True)\n",
    "```\n",
    "\n",
    "\n",
    "Donde: \n",
    "\n",
    "- `copy`: si queremos una copia de nuestra datos normalizada. \n",
    "\n",
    "\n",
    "- `with_mean`: booleano. Por defecto True.  Si es True, centra los datos antes de escalarlos. \n",
    "\n",
    "\n",
    "- `with_std`: booleano. Por defecto True. Si es Verdadero, escala los datos a una varianza unitaria (o equivalentemente, a una desviación estándar unitaria).\n",
    "\n",
    "Usaremos la siguiente librería\n",
    "\n",
    "```python\n",
    "from sklearn.preprocessing import StandardScaler\n",
    "```"
   ]
  },
  {
   "cell_type": "code",
   "execution_count": 95,
   "id": "58821d4f",
   "metadata": {},
   "outputs": [],
   "source": [
    "# iniciamos el método para escalar\n",
    "\n",
    "scaler = StandardScaler()"
   ]
  },
  {
   "cell_type": "code",
   "execution_count": 96,
   "id": "b15b7645",
   "metadata": {},
   "outputs": [
    {
     "data": {
      "text/plain": [
       "StandardScaler()"
      ]
     },
     "execution_count": 96,
     "metadata": {},
     "output_type": "execute_result"
    }
   ],
   "source": [
    "# ajustamos nuestros datos\n",
    "\n",
    "scaler.fit(df[[\"age\", \"bmi\", \"children\"]])"
   ]
  },
  {
   "cell_type": "code",
   "execution_count": 99,
   "id": "69087d3c",
   "metadata": {},
   "outputs": [
    {
     "data": {
      "text/plain": [
       "array([[-1.51359226, -0.45627666, -0.90861367],\n",
       "       [-1.58862685,  0.50996035, -0.07876719],\n",
       "       [-0.83828095,  0.38321376,  1.58092576],\n",
       "       ...,\n",
       "       [-1.58862685,  1.01694673, -0.90861367],\n",
       "       [-1.36352308, -0.80194919, -0.90861367],\n",
       "       [ 1.63786051, -0.26368768, -0.90861367]])"
      ]
     },
     "execution_count": 99,
     "metadata": {},
     "output_type": "execute_result"
    }
   ],
   "source": [
    "# transformamos los datos. \n",
    "\n",
    "X_escaladas = scaler.transform(df[[\"age\", \"bmi\", \"children\"]])\n",
    "X_escaladas"
   ]
  },
  {
   "cell_type": "code",
   "execution_count": 101,
   "id": "0c1e7e5f",
   "metadata": {},
   "outputs": [
    {
     "data": {
      "text/html": [
       "<div>\n",
       "<style scoped>\n",
       "    .dataframe tbody tr th:only-of-type {\n",
       "        vertical-align: middle;\n",
       "    }\n",
       "\n",
       "    .dataframe tbody tr th {\n",
       "        vertical-align: top;\n",
       "    }\n",
       "\n",
       "    .dataframe thead th {\n",
       "        text-align: right;\n",
       "    }\n",
       "</style>\n",
       "<table border=\"1\" class=\"dataframe\">\n",
       "  <thead>\n",
       "    <tr style=\"text-align: right;\">\n",
       "      <th></th>\n",
       "      <th>age</th>\n",
       "      <th>bmi</th>\n",
       "      <th>children</th>\n",
       "      <th>charges</th>\n",
       "      <th>x0_female</th>\n",
       "      <th>x0_male</th>\n",
       "      <th>x1_no</th>\n",
       "      <th>x1_yes</th>\n",
       "      <th>x2_female</th>\n",
       "      <th>x2_male</th>\n",
       "      <th>charges_NORM</th>\n",
       "      <th>charges_LOG</th>\n",
       "      <th>charges_SQRT</th>\n",
       "      <th>charges_NORM2</th>\n",
       "      <th>age_ESTA</th>\n",
       "      <th>age_ES</th>\n",
       "      <th>bmi_ES</th>\n",
       "      <th>children_ESC</th>\n",
       "    </tr>\n",
       "  </thead>\n",
       "  <tbody>\n",
       "    <tr>\n",
       "      <th>0</th>\n",
       "      <td>19.000000</td>\n",
       "      <td>27.900</td>\n",
       "      <td>0.0</td>\n",
       "      <td>16884.92400</td>\n",
       "      <td>1</td>\n",
       "      <td>0</td>\n",
       "      <td>0</td>\n",
       "      <td>1</td>\n",
       "      <td>1</td>\n",
       "      <td>0</td>\n",
       "      <td>0.057651</td>\n",
       "      <td>9.734176</td>\n",
       "      <td>129.942002</td>\n",
       "      <td>0.251611</td>\n",
       "      <td>-1.513027</td>\n",
       "      <td>-1.513592</td>\n",
       "      <td>-0.456277</td>\n",
       "      <td>-0.908614</td>\n",
       "    </tr>\n",
       "    <tr>\n",
       "      <th>1</th>\n",
       "      <td>18.000000</td>\n",
       "      <td>33.770</td>\n",
       "      <td>1.0</td>\n",
       "      <td>1725.55230</td>\n",
       "      <td>0</td>\n",
       "      <td>1</td>\n",
       "      <td>1</td>\n",
       "      <td>0</td>\n",
       "      <td>0</td>\n",
       "      <td>1</td>\n",
       "      <td>-0.184324</td>\n",
       "      <td>7.453302</td>\n",
       "      <td>41.539768</td>\n",
       "      <td>0.009636</td>\n",
       "      <td>-1.588033</td>\n",
       "      <td>-1.588627</td>\n",
       "      <td>0.509960</td>\n",
       "      <td>-0.078767</td>\n",
       "    </tr>\n",
       "    <tr>\n",
       "      <th>2</th>\n",
       "      <td>28.000000</td>\n",
       "      <td>33.000</td>\n",
       "      <td>3.0</td>\n",
       "      <td>4449.46200</td>\n",
       "      <td>0</td>\n",
       "      <td>1</td>\n",
       "      <td>1</td>\n",
       "      <td>0</td>\n",
       "      <td>0</td>\n",
       "      <td>1</td>\n",
       "      <td>-0.140844</td>\n",
       "      <td>8.400538</td>\n",
       "      <td>66.704288</td>\n",
       "      <td>0.053115</td>\n",
       "      <td>-0.837968</td>\n",
       "      <td>-0.838281</td>\n",
       "      <td>0.383214</td>\n",
       "      <td>1.580926</td>\n",
       "    </tr>\n",
       "    <tr>\n",
       "      <th>3</th>\n",
       "      <td>33.000000</td>\n",
       "      <td>22.705</td>\n",
       "      <td>0.0</td>\n",
       "      <td>21984.47061</td>\n",
       "      <td>0</td>\n",
       "      <td>1</td>\n",
       "      <td>1</td>\n",
       "      <td>0</td>\n",
       "      <td>0</td>\n",
       "      <td>1</td>\n",
       "      <td>0.139050</td>\n",
       "      <td>9.998092</td>\n",
       "      <td>148.271611</td>\n",
       "      <td>0.333010</td>\n",
       "      <td>-0.462935</td>\n",
       "      <td>-0.463108</td>\n",
       "      <td>-1.311405</td>\n",
       "      <td>-0.908614</td>\n",
       "    </tr>\n",
       "    <tr>\n",
       "      <th>4</th>\n",
       "      <td>39.171927</td>\n",
       "      <td>28.880</td>\n",
       "      <td>0.0</td>\n",
       "      <td>3866.85520</td>\n",
       "      <td>0</td>\n",
       "      <td>1</td>\n",
       "      <td>1</td>\n",
       "      <td>0</td>\n",
       "      <td>0</td>\n",
       "      <td>1</td>\n",
       "      <td>-0.150144</td>\n",
       "      <td>8.260197</td>\n",
       "      <td>62.184043</td>\n",
       "      <td>0.043816</td>\n",
       "      <td>0.000000</td>\n",
       "      <td>0.000000</td>\n",
       "      <td>-0.294963</td>\n",
       "      <td>-0.908614</td>\n",
       "    </tr>\n",
       "  </tbody>\n",
       "</table>\n",
       "</div>"
      ],
      "text/plain": [
       "         age     bmi  children      charges  x0_female  x0_male  x1_no  \\\n",
       "0  19.000000  27.900       0.0  16884.92400          1        0      0   \n",
       "1  18.000000  33.770       1.0   1725.55230          0        1      1   \n",
       "2  28.000000  33.000       3.0   4449.46200          0        1      1   \n",
       "3  33.000000  22.705       0.0  21984.47061          0        1      1   \n",
       "4  39.171927  28.880       0.0   3866.85520          0        1      1   \n",
       "\n",
       "   x1_yes  x2_female  x2_male  charges_NORM  charges_LOG  charges_SQRT  \\\n",
       "0       1          1        0      0.057651     9.734176    129.942002   \n",
       "1       0          0        1     -0.184324     7.453302     41.539768   \n",
       "2       0          0        1     -0.140844     8.400538     66.704288   \n",
       "3       0          0        1      0.139050     9.998092    148.271611   \n",
       "4       0          0        1     -0.150144     8.260197     62.184043   \n",
       "\n",
       "   charges_NORM2  age_ESTA    age_ES    bmi_ES  children_ESC  \n",
       "0       0.251611 -1.513027 -1.513592 -0.456277     -0.908614  \n",
       "1       0.009636 -1.588033 -1.588627  0.509960     -0.078767  \n",
       "2       0.053115 -0.837968 -0.838281  0.383214      1.580926  \n",
       "3       0.333010 -0.462935 -0.463108 -1.311405     -0.908614  \n",
       "4       0.043816  0.000000  0.000000 -0.294963     -0.908614  "
      ]
     },
     "execution_count": 101,
     "metadata": {},
     "output_type": "execute_result"
    }
   ],
   "source": [
    "df[[\"age_ES\", \"bmi_ES\", \"children_ESC\"]] = X_escaladas\n",
    "df.head()"
   ]
  },
  {
   "cell_type": "markdown",
   "id": "f32479c8",
   "metadata": {},
   "source": [
    "### Sklearn RobustScaler\n",
    "\n",
    "RobustScaler transforma muestra variable restando la mediana y dividiéndola por el rango intercuartil (valor del 75% - valor del 25%).\n",
    "\n",
    "Al igual que MinMaxScaler, nuestra variable con valores altos tendra ahora una escala similar a la de las otras variables. Tenemos que tene en cuenta que este método no escala los datos en un intervalo predeterminado como MinMaxScaler. No cumple con la definición estricta de escala definimos al incio.\n",
    "\n",
    "Por lo tanto, el rango de cada variable después de aplicar RobustScaler será mayor que el de MinMaxScaler.\n",
    "\n",
    "Utilizaremos este método si deseamos reducir los efectos de los *outliers*. \n",
    "\n",
    "Su sintaxis:\n",
    "\n",
    "```python\n",
    "RobustScaler(with_centering=True, with_scaling=True, quantile_range=(25.0, 75.0), copy=True, unit_variance=False)\n",
    "```\n",
    "Donde: \n",
    "\n",
    "- `with_centering`: booleano. Por defecto True. Si es True, centra los datos antes de escalar. \n",
    "\n",
    "\n",
    "- `with_scaling`: booleano. Por defecto True. Si es True, escala los datos al rango intercuartílico.\n",
    "\n",
    "\n",
    "- `quantile_rangetuple`: Por defecto, esto es igual al IQR, es decir, q_min es el primer cuantil y q_max es el tercer cuantil. (q_min, q_max), 0.0 < q_min < q_max < 100.0, predeterminado=(25.0, 75.0)\n",
    "Rango de cuantiles utilizado para calcular el escalado. \n",
    "\n",
    "\n",
    "- `copy`: booleano. Por defecto True. Si es Falso, intente evitar una copia y, en su lugar, realice una escala en el lugar. Pero tenemos que tener en cuenta que no se garantiza que esto funcione siempre en el lugar; p.ej. si los datos no son una matriz NumPy o una matriz CSR scipy.sparse, aún se puede devolver una copia.\n",
    "\n",
    "- `unit_variance`: booleano. Por defecto False. Si es Verdadero, escalamos los datos para que las variables distribuidas normalmente tengan una variación de 1. En general, si la diferencia entre los valores x de q_max y q_min para una distribución normal estándar es mayor que 1, el conjunto de datos se reducirá. Si es menor que 1, el conjunto de datos se ampliará.\n",
    "\n",
    "Necesitaremos importar la siguiente librería 👇🏽\n",
    "\n",
    "```python\n",
    "from sklearn.preprocessing import RobustScaler\n",
    "```\n"
   ]
  },
  {
   "cell_type": "code",
   "execution_count": 103,
   "id": "47eb2e13",
   "metadata": {},
   "outputs": [],
   "source": [
    "# construir el modelo de escalador\n",
    "robust = RobustScaler()"
   ]
  },
  {
   "cell_type": "code",
   "execution_count": 104,
   "id": "0378b1d3",
   "metadata": {},
   "outputs": [
    {
     "data": {
      "text/plain": [
       "RobustScaler()"
      ]
     },
     "execution_count": 104,
     "metadata": {},
     "output_type": "execute_result"
    }
   ],
   "source": [
    "# ajustamos el modelo utilizando nuestro set de datos\n",
    "robust.fit(df[[\"age\", \"bmi\", \"children\"]])\n"
   ]
  },
  {
   "cell_type": "code",
   "execution_count": 105,
   "id": "4a09ffcc",
   "metadata": {},
   "outputs": [],
   "source": [
    "# transformamos los datos\n",
    "X_robust = robust.transform(df[[\"age\", \"bmi\", \"children\"]])"
   ]
  },
  {
   "cell_type": "code",
   "execution_count": 106,
   "id": "c262df0c",
   "metadata": {},
   "outputs": [
    {
     "data": {
      "text/html": [
       "<div>\n",
       "<style scoped>\n",
       "    .dataframe tbody tr th:only-of-type {\n",
       "        vertical-align: middle;\n",
       "    }\n",
       "\n",
       "    .dataframe tbody tr th {\n",
       "        vertical-align: top;\n",
       "    }\n",
       "\n",
       "    .dataframe thead th {\n",
       "        text-align: right;\n",
       "    }\n",
       "</style>\n",
       "<table border=\"1\" class=\"dataframe\">\n",
       "  <thead>\n",
       "    <tr style=\"text-align: right;\">\n",
       "      <th></th>\n",
       "      <th>age</th>\n",
       "      <th>bmi</th>\n",
       "      <th>children</th>\n",
       "      <th>charges</th>\n",
       "      <th>x0_female</th>\n",
       "      <th>x0_male</th>\n",
       "      <th>x1_no</th>\n",
       "      <th>x1_yes</th>\n",
       "      <th>x2_female</th>\n",
       "      <th>x2_male</th>\n",
       "      <th>charges_NORM</th>\n",
       "      <th>charges_LOG</th>\n",
       "      <th>charges_SQRT</th>\n",
       "      <th>charges_NORM2</th>\n",
       "      <th>age_ESTA</th>\n",
       "      <th>age_ES</th>\n",
       "      <th>bmi_ES</th>\n",
       "      <th>children_ESC</th>\n",
       "      <th>age_ES2</th>\n",
       "      <th>bmi_ES2</th>\n",
       "      <th>children_ESC2</th>\n",
       "    </tr>\n",
       "  </thead>\n",
       "  <tbody>\n",
       "    <tr>\n",
       "      <th>0</th>\n",
       "      <td>19.000000</td>\n",
       "      <td>27.900</td>\n",
       "      <td>0.0</td>\n",
       "      <td>16884.92400</td>\n",
       "      <td>1</td>\n",
       "      <td>0</td>\n",
       "      <td>0</td>\n",
       "      <td>1</td>\n",
       "      <td>1</td>\n",
       "      <td>0</td>\n",
       "      <td>0.057651</td>\n",
       "      <td>9.734176</td>\n",
       "      <td>129.942002</td>\n",
       "      <td>0.251611</td>\n",
       "      <td>-1.513027</td>\n",
       "      <td>-1.513592</td>\n",
       "      <td>-0.456277</td>\n",
       "      <td>-0.908614</td>\n",
       "      <td>-0.916906</td>\n",
       "      <td>-0.301932</td>\n",
       "      <td>-0.5</td>\n",
       "    </tr>\n",
       "    <tr>\n",
       "      <th>1</th>\n",
       "      <td>18.000000</td>\n",
       "      <td>33.770</td>\n",
       "      <td>1.0</td>\n",
       "      <td>1725.55230</td>\n",
       "      <td>0</td>\n",
       "      <td>1</td>\n",
       "      <td>1</td>\n",
       "      <td>0</td>\n",
       "      <td>0</td>\n",
       "      <td>1</td>\n",
       "      <td>-0.184324</td>\n",
       "      <td>7.453302</td>\n",
       "      <td>41.539768</td>\n",
       "      <td>0.009636</td>\n",
       "      <td>-1.588033</td>\n",
       "      <td>-1.588627</td>\n",
       "      <td>0.509960</td>\n",
       "      <td>-0.078767</td>\n",
       "      <td>-0.962360</td>\n",
       "      <td>0.407005</td>\n",
       "      <td>0.0</td>\n",
       "    </tr>\n",
       "    <tr>\n",
       "      <th>2</th>\n",
       "      <td>28.000000</td>\n",
       "      <td>33.000</td>\n",
       "      <td>3.0</td>\n",
       "      <td>4449.46200</td>\n",
       "      <td>0</td>\n",
       "      <td>1</td>\n",
       "      <td>1</td>\n",
       "      <td>0</td>\n",
       "      <td>0</td>\n",
       "      <td>1</td>\n",
       "      <td>-0.140844</td>\n",
       "      <td>8.400538</td>\n",
       "      <td>66.704288</td>\n",
       "      <td>0.053115</td>\n",
       "      <td>-0.837968</td>\n",
       "      <td>-0.838281</td>\n",
       "      <td>0.383214</td>\n",
       "      <td>1.580926</td>\n",
       "      <td>-0.507815</td>\n",
       "      <td>0.314010</td>\n",
       "      <td>1.0</td>\n",
       "    </tr>\n",
       "    <tr>\n",
       "      <th>3</th>\n",
       "      <td>33.000000</td>\n",
       "      <td>22.705</td>\n",
       "      <td>0.0</td>\n",
       "      <td>21984.47061</td>\n",
       "      <td>0</td>\n",
       "      <td>1</td>\n",
       "      <td>1</td>\n",
       "      <td>0</td>\n",
       "      <td>0</td>\n",
       "      <td>1</td>\n",
       "      <td>0.139050</td>\n",
       "      <td>9.998092</td>\n",
       "      <td>148.271611</td>\n",
       "      <td>0.333010</td>\n",
       "      <td>-0.462935</td>\n",
       "      <td>-0.463108</td>\n",
       "      <td>-1.311405</td>\n",
       "      <td>-0.908614</td>\n",
       "      <td>-0.280542</td>\n",
       "      <td>-0.929348</td>\n",
       "      <td>-0.5</td>\n",
       "    </tr>\n",
       "    <tr>\n",
       "      <th>4</th>\n",
       "      <td>39.171927</td>\n",
       "      <td>28.880</td>\n",
       "      <td>0.0</td>\n",
       "      <td>3866.85520</td>\n",
       "      <td>0</td>\n",
       "      <td>1</td>\n",
       "      <td>1</td>\n",
       "      <td>0</td>\n",
       "      <td>0</td>\n",
       "      <td>1</td>\n",
       "      <td>-0.150144</td>\n",
       "      <td>8.260197</td>\n",
       "      <td>62.184043</td>\n",
       "      <td>0.043816</td>\n",
       "      <td>0.000000</td>\n",
       "      <td>0.000000</td>\n",
       "      <td>-0.294963</td>\n",
       "      <td>-0.908614</td>\n",
       "      <td>0.000000</td>\n",
       "      <td>-0.183575</td>\n",
       "      <td>-0.5</td>\n",
       "    </tr>\n",
       "  </tbody>\n",
       "</table>\n",
       "</div>"
      ],
      "text/plain": [
       "         age     bmi  children      charges  x0_female  x0_male  x1_no  \\\n",
       "0  19.000000  27.900       0.0  16884.92400          1        0      0   \n",
       "1  18.000000  33.770       1.0   1725.55230          0        1      1   \n",
       "2  28.000000  33.000       3.0   4449.46200          0        1      1   \n",
       "3  33.000000  22.705       0.0  21984.47061          0        1      1   \n",
       "4  39.171927  28.880       0.0   3866.85520          0        1      1   \n",
       "\n",
       "   x1_yes  x2_female  x2_male  charges_NORM  charges_LOG  charges_SQRT  \\\n",
       "0       1          1        0      0.057651     9.734176    129.942002   \n",
       "1       0          0        1     -0.184324     7.453302     41.539768   \n",
       "2       0          0        1     -0.140844     8.400538     66.704288   \n",
       "3       0          0        1      0.139050     9.998092    148.271611   \n",
       "4       0          0        1     -0.150144     8.260197     62.184043   \n",
       "\n",
       "   charges_NORM2  age_ESTA    age_ES    bmi_ES  children_ESC   age_ES2  \\\n",
       "0       0.251611 -1.513027 -1.513592 -0.456277     -0.908614 -0.916906   \n",
       "1       0.009636 -1.588033 -1.588627  0.509960     -0.078767 -0.962360   \n",
       "2       0.053115 -0.837968 -0.838281  0.383214      1.580926 -0.507815   \n",
       "3       0.333010 -0.462935 -0.463108 -1.311405     -0.908614 -0.280542   \n",
       "4       0.043816  0.000000  0.000000 -0.294963     -0.908614  0.000000   \n",
       "\n",
       "    bmi_ES2  children_ESC2  \n",
       "0 -0.301932           -0.5  \n",
       "1  0.407005            0.0  \n",
       "2  0.314010            1.0  \n",
       "3 -0.929348           -0.5  \n",
       "4 -0.183575           -0.5  "
      ]
     },
     "execution_count": 106,
     "metadata": {},
     "output_type": "execute_result"
    }
   ],
   "source": [
    "# por último convertiremos el array que nos devuelve en un dataframe. \n",
    "\n",
    "df[[\"age_ES2\", \"bmi_ES2\", \"children_ESC2\"]] = X_robust\n",
    "df.head()"
   ]
  },
  {
   "cell_type": "markdown",
   "id": "4d713bf2",
   "metadata": {},
   "source": [
    "# Diferencias entre normalización y estandarización"
   ]
  },
  {
   "cell_type": "markdown",
   "id": "579311bd",
   "metadata": {},
   "source": [
    "Para terminar esta lección hagamos un pequeño resumen de las diferencias entre normalización y estandarización\n",
    "\n",
    "\n",
    "- Cuando se utiliza la estandarización, los nuevos datos no están acotados (a diferencia de la normalización).\n",
    "\n",
    "\n",
    "- Utilizaremos la normalización cuando no conozcamos la distribución de nuestros datos o sepamos que no es gaussiana. \n",
    "\n",
    "\n",
    "- Usaremos la estandarización si nuestros datos tienen una distribución gaussiana.\n",
    "\n",
    "\n",
    "\n",
    "- A veces, cuando la normalización no funciona, la estandarización puede funcionarnos bien.\n"
   ]
  },
  {
   "cell_type": "code",
   "execution_count": null,
   "id": "2f50a0f9",
   "metadata": {},
   "outputs": [],
   "source": []
  }
 ],
 "metadata": {
  "kernelspec": {
   "display_name": "Python 3",
   "language": "python",
   "name": "python3"
  },
  "language_info": {
   "codemirror_mode": {
    "name": "ipython",
    "version": 3
   },
   "file_extension": ".py",
   "mimetype": "text/x-python",
   "name": "python",
   "nbconvert_exporter": "python",
   "pygments_lexer": "ipython3",
   "version": "3.8.5"
  },
  "toc": {
   "base_numbering": 1,
   "nav_menu": {},
   "number_sections": true,
   "sideBar": true,
   "skip_h1_title": false,
   "title_cell": "Table of Contents",
   "title_sidebar": "Contents",
   "toc_cell": true,
   "toc_position": {},
   "toc_section_display": true,
   "toc_window_display": false
  }
 },
 "nbformat": 4,
 "nbformat_minor": 5
}
