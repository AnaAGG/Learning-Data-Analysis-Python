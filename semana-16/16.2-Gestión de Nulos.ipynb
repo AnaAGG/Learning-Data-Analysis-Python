{
 "cells": [
  {
   "cell_type": "markdown",
   "id": "50b7bbc8",
   "metadata": {
    "toc": true
   },
   "source": [
    "<h1>Table of Contents<span class=\"tocSkip\"></span></h1>\n",
    "<div class=\"toc\"><ul class=\"toc-item\"><li><span><a href=\"#Tratamiento-de-valores-nulos\" data-toc-modified-id=\"Tratamiento-de-valores-nulos-1\"><span class=\"toc-item-num\">1&nbsp;&nbsp;</span>Tratamiento de valores nulos</a></span></li><li><span><a href=\"#Eliminacion-de-filas-o-columnas-con-valores-nulos\" data-toc-modified-id=\"Eliminacion-de-filas-o-columnas-con-valores-nulos-2\"><span class=\"toc-item-num\">2&nbsp;&nbsp;</span>Eliminacion de filas o columnas con valores nulos</a></span></li><li><span><a href=\"#Imputar-los-valores-perdidos-para-la-variable-continua\" data-toc-modified-id=\"Imputar-los-valores-perdidos-para-la-variable-continua-3\"><span class=\"toc-item-num\">3&nbsp;&nbsp;</span>Imputar los valores perdidos para la <code>variable continua</code></a></span><ul class=\"toc-item\"><li><span><a href=\"#fillna()\" data-toc-modified-id=\"fillna()-3.1\"><span class=\"toc-item-num\">3.1&nbsp;&nbsp;</span><code>fillna()</code></a></span></li><li><span><a href=\"#replace()\" data-toc-modified-id=\"replace()-3.2\"><span class=\"toc-item-num\">3.2&nbsp;&nbsp;</span>replace()</a></span></li></ul></li><li><span><a href=\"#Imputar-los-valores-perdidos-de-una-variable-categórica\" data-toc-modified-id=\"Imputar-los-valores-perdidos-de-una-variable-categórica-4\"><span class=\"toc-item-num\">4&nbsp;&nbsp;</span>Imputar los valores perdidos de una <code>variable categórica</code></a></span><ul class=\"toc-item\"><li><span><a href=\"#Otros-métodos-de-imputación\" data-toc-modified-id=\"Otros-métodos-de-imputación-4.1\"><span class=\"toc-item-num\">4.1&nbsp;&nbsp;</span>Otros métodos de imputación</a></span><ul class=\"toc-item\"><li><span><a href=\"#Simple-Imputer\" data-toc-modified-id=\"Simple-Imputer-4.1.1\"><span class=\"toc-item-num\">4.1.1&nbsp;&nbsp;</span>Simple-Imputer</a></span></li><li><span><a href=\"#Iterative-Imputer\" data-toc-modified-id=\"Iterative-Imputer-4.1.2\"><span class=\"toc-item-num\">4.1.2&nbsp;&nbsp;</span>Iterative-Imputer</a></span></li><li><span><a href=\"#KNN-Imputer.\" data-toc-modified-id=\"KNN-Imputer.-4.1.3\"><span class=\"toc-item-num\">4.1.3&nbsp;&nbsp;</span>KNN-Imputer.</a></span></li></ul></li></ul></li></ul></div>"
   ]
  },
  {
   "cell_type": "code",
   "execution_count": 1,
   "id": "f9826be5",
   "metadata": {},
   "outputs": [],
   "source": [
    "import pandas as pd\n",
    "import seaborn as sns\n",
    "import matplotlib.pyplot as plt\n",
    "import numpy as np\n",
    "import sidetable\n",
    "\n",
    "from sklearn.impute import SimpleImputer\n",
    "from sklearn.experimental import enable_iterative_imputer\n",
    "from sklearn.impute import IterativeImputer\n",
    "from sklearn.impute import KNNImputer"
   ]
  },
  {
   "cell_type": "code",
   "execution_count": 2,
   "id": "badb32cc",
   "metadata": {},
   "outputs": [
    {
     "data": {
      "text/html": [
       "<div>\n",
       "<style scoped>\n",
       "    .dataframe tbody tr th:only-of-type {\n",
       "        vertical-align: middle;\n",
       "    }\n",
       "\n",
       "    .dataframe tbody tr th {\n",
       "        vertical-align: top;\n",
       "    }\n",
       "\n",
       "    .dataframe thead th {\n",
       "        text-align: right;\n",
       "    }\n",
       "</style>\n",
       "<table border=\"1\" class=\"dataframe\">\n",
       "  <thead>\n",
       "    <tr style=\"text-align: right;\">\n",
       "      <th></th>\n",
       "      <th>age</th>\n",
       "      <th>sex</th>\n",
       "      <th>bmi</th>\n",
       "      <th>children</th>\n",
       "      <th>smoker</th>\n",
       "      <th>region</th>\n",
       "      <th>charges</th>\n",
       "    </tr>\n",
       "  </thead>\n",
       "  <tbody>\n",
       "    <tr>\n",
       "      <th>0</th>\n",
       "      <td>19.0</td>\n",
       "      <td>female</td>\n",
       "      <td>27.90</td>\n",
       "      <td>0</td>\n",
       "      <td>yes</td>\n",
       "      <td>southwest</td>\n",
       "      <td>16884.9240</td>\n",
       "    </tr>\n",
       "    <tr>\n",
       "      <th>1</th>\n",
       "      <td>18.0</td>\n",
       "      <td>male</td>\n",
       "      <td>33.77</td>\n",
       "      <td>1</td>\n",
       "      <td>no</td>\n",
       "      <td>southeast</td>\n",
       "      <td>1725.5523</td>\n",
       "    </tr>\n",
       "  </tbody>\n",
       "</table>\n",
       "</div>"
      ],
      "text/plain": [
       "    age     sex    bmi  children smoker     region     charges\n",
       "0  19.0  female  27.90         0    yes  southwest  16884.9240\n",
       "1  18.0    male  33.77         1     no  southeast   1725.5523"
      ]
     },
     "execution_count": 2,
     "metadata": {},
     "output_type": "execute_result"
    }
   ],
   "source": [
    "df = pd.read_csv(\"data/insurance.csv\", index_col = 0)\n",
    "df.head(2)"
   ]
  },
  {
   "cell_type": "markdown",
   "id": "688123ff",
   "metadata": {},
   "source": [
    "# Tratamiento de valores nulos\n",
    "\n",
    "El proceso de rellenar los datos que faltan con un determinado método estadístico se conoce como **imputación** y tiene una gran variedad de opciones. \n",
    "\n",
    "Las principales formas que tenemos para hacer son: \n",
    "\n",
    "- Eliminación de filas con valores perdidos\n",
    "\n",
    "\n",
    "- Imputar los valores perdidos para la variable continua\n",
    "\n",
    "\n",
    "- Imputar los valores perdidos de una variable categórica\n",
    "\n",
    "\n",
    "- Otros métodos de imputación"
   ]
  },
  {
   "cell_type": "code",
   "execution_count": 3,
   "id": "d9b7c9c9",
   "metadata": {},
   "outputs": [
    {
     "data": {
      "text/html": [
       "<div>\n",
       "<style scoped>\n",
       "    .dataframe tbody tr th:only-of-type {\n",
       "        vertical-align: middle;\n",
       "    }\n",
       "\n",
       "    .dataframe tbody tr th {\n",
       "        vertical-align: top;\n",
       "    }\n",
       "\n",
       "    .dataframe thead th {\n",
       "        text-align: right;\n",
       "    }\n",
       "</style>\n",
       "<table border=\"1\" class=\"dataframe\">\n",
       "  <thead>\n",
       "    <tr style=\"text-align: right;\">\n",
       "      <th></th>\n",
       "      <th>missing</th>\n",
       "      <th>total</th>\n",
       "      <th>percent</th>\n",
       "    </tr>\n",
       "  </thead>\n",
       "  <tbody>\n",
       "    <tr>\n",
       "      <th>age</th>\n",
       "      <td>134</td>\n",
       "      <td>1338</td>\n",
       "      <td>10.014948</td>\n",
       "    </tr>\n",
       "    <tr>\n",
       "      <th>sex</th>\n",
       "      <td>134</td>\n",
       "      <td>1338</td>\n",
       "      <td>10.014948</td>\n",
       "    </tr>\n",
       "    <tr>\n",
       "      <th>smoker</th>\n",
       "      <td>27</td>\n",
       "      <td>1338</td>\n",
       "      <td>2.017937</td>\n",
       "    </tr>\n",
       "    <tr>\n",
       "      <th>bmi</th>\n",
       "      <td>13</td>\n",
       "      <td>1338</td>\n",
       "      <td>0.971599</td>\n",
       "    </tr>\n",
       "    <tr>\n",
       "      <th>charges</th>\n",
       "      <td>3</td>\n",
       "      <td>1338</td>\n",
       "      <td>0.224215</td>\n",
       "    </tr>\n",
       "    <tr>\n",
       "      <th>children</th>\n",
       "      <td>0</td>\n",
       "      <td>1338</td>\n",
       "      <td>0.000000</td>\n",
       "    </tr>\n",
       "    <tr>\n",
       "      <th>region</th>\n",
       "      <td>0</td>\n",
       "      <td>1338</td>\n",
       "      <td>0.000000</td>\n",
       "    </tr>\n",
       "  </tbody>\n",
       "</table>\n",
       "</div>"
      ],
      "text/plain": [
       "          missing  total    percent\n",
       "age           134   1338  10.014948\n",
       "sex           134   1338  10.014948\n",
       "smoker         27   1338   2.017937\n",
       "bmi            13   1338   0.971599\n",
       "charges         3   1338   0.224215\n",
       "children        0   1338   0.000000\n",
       "region          0   1338   0.000000"
      ]
     },
     "execution_count": 3,
     "metadata": {},
     "output_type": "execute_result"
    }
   ],
   "source": [
    "# como en este jupyter vamos a trabajar con nulos, lo primero que vamos a hacer es calcular el porcentaje de nulos \n",
    "## que tenemos en nuestro dataframe\n",
    "\n",
    "df.stb.missing()"
   ]
  },
  {
   "cell_type": "markdown",
   "id": "91269808",
   "metadata": {},
   "source": [
    "# Eliminacion de filas o columnas con valores nulos \n",
    "\n",
    "Los valores nulos se pueden manejar eliminando las filas o columnas que tienen valores nulos. \n",
    "\n",
    "- Si las **columnas** tienen más de la mitad de las filas como nulos, se puede eliminar toda la columna. \n",
    "\n",
    "\n",
    "- En el caso de las **filas**, si tenemos alguna fila con todo nulos la deberíamos eliminar, también la podremos eliminar si tenemos nulos en al menos el 70% de las columnas.\n",
    "\n",
    "Este forma de eliminar nulos tiene los siguientes pros y contras: \n",
    "\n",
    "|Pros   |   Contras|  \n",
    "|---|---|\n",
    "| Un modelo entrenado con la eliminación de todos los valores perdidos crea un modelo robusto. |  Pérdida de mucha información. |  \n",
    "|   | Funciona mal si el porcentaje de valores perdidos es excesivo en comparación con el conjunto de datos completo. | \n"
   ]
  },
  {
   "cell_type": "code",
   "execution_count": 4,
   "id": "598cc836",
   "metadata": {},
   "outputs": [],
   "source": [
    "# en este caso haremos un dropna de todo el dataframe donde al menos haya un nulo\n",
    "\n",
    "df_sin_nulos = df.dropna(how = \"any\")"
   ]
  },
  {
   "cell_type": "code",
   "execution_count": 5,
   "id": "eb77ad07",
   "metadata": {},
   "outputs": [
    {
     "data": {
      "text/plain": [
       "age         0\n",
       "sex         0\n",
       "bmi         0\n",
       "children    0\n",
       "smoker      0\n",
       "region      0\n",
       "charges     0\n",
       "dtype: int64"
      ]
     },
     "execution_count": 5,
     "metadata": {},
     "output_type": "execute_result"
    }
   ],
   "source": [
    "# chequeemos si seguimos teniendo valores nulos\n",
    "\n",
    "df_sin_nulos.isnull().sum()"
   ]
  },
  {
   "cell_type": "markdown",
   "id": "6c3759ae",
   "metadata": {},
   "source": [
    "Sin embargo, también podemos eliminar los nulos en función de una columna. En nuestro *dataset* tiene poco sentido tiene tener filas sin el valor de la columna de `charges`, por lo que podríamos eliminar las filas donde tengamos nulos en esta columna.  "
   ]
  },
  {
   "cell_type": "code",
   "execution_count": 6,
   "id": "0c89e33e",
   "metadata": {},
   "outputs": [],
   "source": [
    "df.dropna(subset= [\"charges\"], how = \"any\", inplace = True)\n"
   ]
  },
  {
   "cell_type": "code",
   "execution_count": 7,
   "id": "e96c201d",
   "metadata": {},
   "outputs": [
    {
     "data": {
      "text/plain": [
       "age         134\n",
       "sex         134\n",
       "bmi          13\n",
       "children      0\n",
       "smoker       27\n",
       "region        0\n",
       "charges       0\n",
       "dtype: int64"
      ]
     },
     "execution_count": 7,
     "metadata": {},
     "output_type": "execute_result"
    }
   ],
   "source": [
    "# Perfecto! hemos consegido eliminar los nulos de la columna \"name\"\n",
    "df.isnull().sum()"
   ]
  },
  {
   "cell_type": "markdown",
   "id": "9a1bcc83",
   "metadata": {},
   "source": [
    "# Imputar los valores perdidos para la `variable continua`\n",
    "\n",
    "Las columnas del *dataframe* que tienen valores numéricos continuos pueden sustituirse por la media, la mediana o la moda de los valores restantes de la columna. Este método puede evitar la pérdida de datos en comparación con el método anterior. \n",
    "\n",
    "\n",
    "|Pros   |   Contras|  \n",
    "|---|---|\n",
    "| Evita la pérdida de datos que supone la eliminación de filas o columnas|Sólo funciona con variables numéricas continuas. |\n",
    "| Funciona bien con un pequeño conjunto de datos y es fácil de implementar.  |  Puede ocasionar pérdida de datos| \n",
    " "
   ]
  },
  {
   "cell_type": "markdown",
   "id": "a84b2f02",
   "metadata": {},
   "source": [
    "Esto lo podremos hacer de dos formas: \n",
    "\n",
    "- Usando el método `fillna` \n",
    "\n",
    "\n",
    "- Usando el método `replace`"
   ]
  },
  {
   "cell_type": "markdown",
   "id": "8a9534b6",
   "metadata": {},
   "source": [
    "📌 Nos podemos preguntar 🤔 en que basamos nuestra decisión para reemplazar los valores nulos por la media, la mediana.\n",
    "\n",
    "Si bien es cierto que no hay una fórmula mágica para esto, podriamos decir que: \n",
    "\n",
    "- Si nuestros datos están mas o menos agrupados y no presentan una gran desviación podríamos usar la media\n",
    "\n",
    "\n",
    "\n",
    "- Si nuestros presentan una desviación muy grande, en ese caso lo normal sera usar la mediana. \n"
   ]
  },
  {
   "cell_type": "code",
   "execution_count": 8,
   "id": "c6939256",
   "metadata": {},
   "outputs": [
    {
     "data": {
      "text/html": [
       "<div>\n",
       "<style scoped>\n",
       "    .dataframe tbody tr th:only-of-type {\n",
       "        vertical-align: middle;\n",
       "    }\n",
       "\n",
       "    .dataframe tbody tr th {\n",
       "        vertical-align: top;\n",
       "    }\n",
       "\n",
       "    .dataframe thead th {\n",
       "        text-align: right;\n",
       "    }\n",
       "</style>\n",
       "<table border=\"1\" class=\"dataframe\">\n",
       "  <thead>\n",
       "    <tr style=\"text-align: right;\">\n",
       "      <th></th>\n",
       "      <th>count</th>\n",
       "      <th>mean</th>\n",
       "      <th>std</th>\n",
       "      <th>min</th>\n",
       "      <th>25%</th>\n",
       "      <th>50%</th>\n",
       "      <th>75%</th>\n",
       "      <th>max</th>\n",
       "    </tr>\n",
       "  </thead>\n",
       "  <tbody>\n",
       "    <tr>\n",
       "      <th>age</th>\n",
       "      <td>1201.0</td>\n",
       "      <td>39.166528</td>\n",
       "      <td>14.059359</td>\n",
       "      <td>18.0000</td>\n",
       "      <td>26.0000</td>\n",
       "      <td>39.0000</td>\n",
       "      <td>51.00000</td>\n",
       "      <td>64.00000</td>\n",
       "    </tr>\n",
       "    <tr>\n",
       "      <th>bmi</th>\n",
       "      <td>1322.0</td>\n",
       "      <td>30.655624</td>\n",
       "      <td>6.103079</td>\n",
       "      <td>15.9600</td>\n",
       "      <td>26.2200</td>\n",
       "      <td>30.3800</td>\n",
       "      <td>34.60000</td>\n",
       "      <td>53.13000</td>\n",
       "    </tr>\n",
       "    <tr>\n",
       "      <th>children</th>\n",
       "      <td>1335.0</td>\n",
       "      <td>1.095880</td>\n",
       "      <td>1.206469</td>\n",
       "      <td>0.0000</td>\n",
       "      <td>0.0000</td>\n",
       "      <td>1.0000</td>\n",
       "      <td>2.00000</td>\n",
       "      <td>5.00000</td>\n",
       "    </tr>\n",
       "    <tr>\n",
       "      <th>charges</th>\n",
       "      <td>1335.0</td>\n",
       "      <td>13284.596157</td>\n",
       "      <td>12118.765654</td>\n",
       "      <td>1121.8739</td>\n",
       "      <td>4742.3061</td>\n",
       "      <td>9386.1613</td>\n",
       "      <td>16717.01075</td>\n",
       "      <td>63770.42801</td>\n",
       "    </tr>\n",
       "  </tbody>\n",
       "</table>\n",
       "</div>"
      ],
      "text/plain": [
       "           count          mean           std        min        25%        50%  \\\n",
       "age       1201.0     39.166528     14.059359    18.0000    26.0000    39.0000   \n",
       "bmi       1322.0     30.655624      6.103079    15.9600    26.2200    30.3800   \n",
       "children  1335.0      1.095880      1.206469     0.0000     0.0000     1.0000   \n",
       "charges   1335.0  13284.596157  12118.765654  1121.8739  4742.3061  9386.1613   \n",
       "\n",
       "                  75%          max  \n",
       "age          51.00000     64.00000  \n",
       "bmi          34.60000     53.13000  \n",
       "children      2.00000      5.00000  \n",
       "charges   16717.01075  63770.42801  "
      ]
     },
     "execution_count": 8,
     "metadata": {},
     "output_type": "execute_result"
    }
   ],
   "source": [
    "# resumen variables numéricas\n",
    "df.describe().T"
   ]
  },
  {
   "cell_type": "code",
   "execution_count": 9,
   "id": "d0ddcb49",
   "metadata": {},
   "outputs": [
    {
     "data": {
      "text/html": [
       "<div>\n",
       "<style scoped>\n",
       "    .dataframe tbody tr th:only-of-type {\n",
       "        vertical-align: middle;\n",
       "    }\n",
       "\n",
       "    .dataframe tbody tr th {\n",
       "        vertical-align: top;\n",
       "    }\n",
       "\n",
       "    .dataframe thead th {\n",
       "        text-align: right;\n",
       "    }\n",
       "</style>\n",
       "<table border=\"1\" class=\"dataframe\">\n",
       "  <thead>\n",
       "    <tr style=\"text-align: right;\">\n",
       "      <th></th>\n",
       "      <th>count</th>\n",
       "      <th>unique</th>\n",
       "      <th>top</th>\n",
       "      <th>freq</th>\n",
       "    </tr>\n",
       "  </thead>\n",
       "  <tbody>\n",
       "    <tr>\n",
       "      <th>sex</th>\n",
       "      <td>1201</td>\n",
       "      <td>2</td>\n",
       "      <td>male</td>\n",
       "      <td>611</td>\n",
       "    </tr>\n",
       "    <tr>\n",
       "      <th>smoker</th>\n",
       "      <td>1308</td>\n",
       "      <td>2</td>\n",
       "      <td>no</td>\n",
       "      <td>1039</td>\n",
       "    </tr>\n",
       "    <tr>\n",
       "      <th>region</th>\n",
       "      <td>1335</td>\n",
       "      <td>4</td>\n",
       "      <td>southeast</td>\n",
       "      <td>363</td>\n",
       "    </tr>\n",
       "  </tbody>\n",
       "</table>\n",
       "</div>"
      ],
      "text/plain": [
       "       count unique        top  freq\n",
       "sex     1201      2       male   611\n",
       "smoker  1308      2         no  1039\n",
       "region  1335      4  southeast   363"
      ]
     },
     "execution_count": 9,
     "metadata": {},
     "output_type": "execute_result"
    }
   ],
   "source": [
    "# resumen variables categóricas\n",
    "\n",
    "df.describe(include = \"object\").T"
   ]
  },
  {
   "cell_type": "markdown",
   "id": "64a5534d",
   "metadata": {},
   "source": [
    "## `fillna()`\n"
   ]
  },
  {
   "cell_type": "code",
   "execution_count": 10,
   "id": "901cb955",
   "metadata": {},
   "outputs": [],
   "source": [
    "# lo haremos con la media. ¿Por qué? Por que cuando hicimos el describe los valores de media y mediana eran muy similares\n",
    "\n",
    "df['age'].fillna(df['age'].mean ,inplace = True)"
   ]
  },
  {
   "cell_type": "code",
   "execution_count": 11,
   "id": "8989ec3f",
   "metadata": {},
   "outputs": [
    {
     "data": {
      "text/plain": [
       "age           0\n",
       "sex         134\n",
       "bmi          13\n",
       "children      0\n",
       "smoker       27\n",
       "region        0\n",
       "charges       0\n",
       "dtype: int64"
      ]
     },
     "execution_count": 11,
     "metadata": {},
     "output_type": "execute_result"
    }
   ],
   "source": [
    "# chequeamos si tenemos valores nulos en la columna de edad\n",
    "\n",
    "df.isnull().sum()"
   ]
  },
  {
   "cell_type": "markdown",
   "id": "9a4b09f1",
   "metadata": {},
   "source": [
    "## replace()"
   ]
  },
  {
   "cell_type": "code",
   "execution_count": 12,
   "id": "84cac8e5",
   "metadata": {},
   "outputs": [],
   "source": [
    "# en este caso trabajarems con las columnas de \"positive_rattings\" y \"negative_rattings\"\n",
    "\n",
    "df[\"bmi\"].replace(np.nan, df[\"bmi\"].median(), inplace = True)"
   ]
  },
  {
   "cell_type": "code",
   "execution_count": 13,
   "id": "f8209d2b",
   "metadata": {},
   "outputs": [
    {
     "data": {
      "text/plain": [
       "age           0\n",
       "sex         134\n",
       "bmi           0\n",
       "children      0\n",
       "smoker       27\n",
       "region        0\n",
       "charges       0\n",
       "dtype: int64"
      ]
     },
     "execution_count": 13,
     "metadata": {},
     "output_type": "execute_result"
    }
   ],
   "source": [
    "# Perfecto! Ya no tenemos nulos en estas columnas!!!\n",
    "\n",
    "df.isnull().sum()"
   ]
  },
  {
   "cell_type": "markdown",
   "id": "1d0d0e56",
   "metadata": {},
   "source": [
    "# Imputar los valores perdidos de una `variable categórica`\n",
    "\n",
    "Cuando los valores que faltan provienen de columnas categóricas, los valores que faltan pueden ser sustituidos por la categoría más frecuente. \n",
    "\n",
    "Además, si el número de valores que faltan es muy grande, puede sustituirse por una nueva categoría.\n",
    "\n",
    "|Pros   |   Contras|  \n",
    "|---|---|\n",
    "|Evita la pérdida de datos que supone la eliminación de filas o columnas |Sólo funciona con variables categóricas.|\n",
    "|Funciona bien con un pequeño conjunto de datos y es fácil de implementar.  |  Se añaden nuevas categorías a nuestro datos, las cuales no derivan directamente de nuestros datos. |\n",
    "|Evita la pérdida de datos al añadir una categoría única||"
   ]
  },
  {
   "cell_type": "markdown",
   "id": "81a7b931",
   "metadata": {},
   "source": [
    "En este caso podríamos hacer dos cosas: \n",
    "\n",
    "- Crear una nueva categoría dentro de nuestros datos, por ejemplo una que fuera \"desconocido\" \n",
    "\n",
    "\n",
    "- Reemplazar con el valor que más se repite dentro de la columna. "
   ]
  },
  {
   "cell_type": "markdown",
   "id": "c556142c",
   "metadata": {},
   "source": [
    " Usaremos el método `replace`"
   ]
  },
  {
   "cell_type": "code",
   "execution_count": 14,
   "id": "39b96252",
   "metadata": {},
   "outputs": [],
   "source": [
    "df[\"sex\"].replace(np.nan, \"desconocido\", inplace = True)\n"
   ]
  },
  {
   "cell_type": "code",
   "execution_count": 15,
   "id": "c1cd8e44",
   "metadata": {},
   "outputs": [
    {
     "data": {
      "text/plain": [
       "age          0\n",
       "sex          0\n",
       "bmi          0\n",
       "children     0\n",
       "smoker      27\n",
       "region       0\n",
       "charges      0\n",
       "dtype: int64"
      ]
     },
     "execution_count": 15,
     "metadata": {},
     "output_type": "execute_result"
    }
   ],
   "source": [
    "# ¿Qué ha pasado con los nulos de estas columnas? Ya nos los tenemos! \n",
    "\n",
    "df.isnull().sum()"
   ]
  },
  {
   "cell_type": "code",
   "execution_count": 16,
   "id": "f1a68aee",
   "metadata": {},
   "outputs": [
    {
     "data": {
      "text/plain": [
       "array(['female', 'male', 'desconocido'], dtype=object)"
      ]
     },
     "execution_count": 16,
     "metadata": {},
     "output_type": "execute_result"
    }
   ],
   "source": [
    "df[\"sex\"].unique()"
   ]
  },
  {
   "cell_type": "code",
   "execution_count": 17,
   "id": "2c927a0f",
   "metadata": {},
   "outputs": [
    {
     "data": {
      "text/plain": [
       "'no'"
      ]
     },
     "execution_count": 17,
     "metadata": {},
     "output_type": "execute_result"
    }
   ],
   "source": [
    "# sacamos la moda de la columnna de interés\n",
    "df.smoker.mode()[0]"
   ]
  },
  {
   "cell_type": "code",
   "execution_count": 18,
   "id": "23005db8",
   "metadata": {},
   "outputs": [],
   "source": [
    "df[\"smoker\"].replace(np.nan, df.smoker.mode()[0], inplace = True)"
   ]
  },
  {
   "cell_type": "code",
   "execution_count": 19,
   "id": "b1bfdd8b",
   "metadata": {},
   "outputs": [
    {
     "data": {
      "text/plain": [
       "age         0\n",
       "sex         0\n",
       "bmi         0\n",
       "children    0\n",
       "smoker      0\n",
       "region      0\n",
       "charges     0\n",
       "dtype: int64"
      ]
     },
     "execution_count": 19,
     "metadata": {},
     "output_type": "execute_result"
    }
   ],
   "source": [
    "# chequeamos los valores nulos:\n",
    "\n",
    "df.isnull().sum()"
   ]
  },
  {
   "cell_type": "markdown",
   "id": "a9f338a7",
   "metadata": {},
   "source": [
    "También lo podríamos hacer con un `fillna` \n",
    "\n",
    "```python\n",
    "df['smoker'].fillna(df['smoker'].mode()[0], inplace = True)\n",
    "```"
   ]
  },
  {
   "cell_type": "markdown",
   "id": "392ee9b1",
   "metadata": {},
   "source": [
    "## Otros métodos de imputación"
   ]
  },
  {
   "cell_type": "markdown",
   "id": "b16d5328",
   "metadata": {},
   "source": [
    "En Python tenemos la librería `sklearn` que nos proporciona una serie de herramientas para em manejo de los valores nulos. \n",
    "\n",
    "Algunos de los métodos que nos podemos encontrar son: \n",
    "\n",
    "- Simple-Imputer\n",
    "\n",
    "\n",
    "- Interative\n",
    "\n",
    "\n",
    "- KNN-Imputer \n"
   ]
  },
  {
   "cell_type": "markdown",
   "id": "bb3a6fa5",
   "metadata": {},
   "source": [
    "Lo primero que tendremos que hacer es instalar `sklearn`\n",
    "\n",
    "```\n",
    "pip install sklearn\n",
    "```"
   ]
  },
  {
   "cell_type": "markdown",
   "id": "b8fd4e52",
   "metadata": {},
   "source": [
    "Ya no tenemos ningún nulo porque los hemos eliminado, lo que haremos será volver a cargar el *dataset* y aplicaremos los métodos de `sklearn`"
   ]
  },
  {
   "cell_type": "code",
   "execution_count": 20,
   "id": "1d16342b",
   "metadata": {},
   "outputs": [
    {
     "data": {
      "text/html": [
       "<div>\n",
       "<style scoped>\n",
       "    .dataframe tbody tr th:only-of-type {\n",
       "        vertical-align: middle;\n",
       "    }\n",
       "\n",
       "    .dataframe tbody tr th {\n",
       "        vertical-align: top;\n",
       "    }\n",
       "\n",
       "    .dataframe thead th {\n",
       "        text-align: right;\n",
       "    }\n",
       "</style>\n",
       "<table border=\"1\" class=\"dataframe\">\n",
       "  <thead>\n",
       "    <tr style=\"text-align: right;\">\n",
       "      <th></th>\n",
       "      <th>age</th>\n",
       "      <th>sex</th>\n",
       "      <th>bmi</th>\n",
       "      <th>children</th>\n",
       "      <th>smoker</th>\n",
       "      <th>region</th>\n",
       "      <th>charges</th>\n",
       "    </tr>\n",
       "  </thead>\n",
       "  <tbody>\n",
       "    <tr>\n",
       "      <th>0</th>\n",
       "      <td>19.0</td>\n",
       "      <td>female</td>\n",
       "      <td>27.900</td>\n",
       "      <td>0</td>\n",
       "      <td>yes</td>\n",
       "      <td>southwest</td>\n",
       "      <td>16884.92400</td>\n",
       "    </tr>\n",
       "    <tr>\n",
       "      <th>1</th>\n",
       "      <td>18.0</td>\n",
       "      <td>male</td>\n",
       "      <td>33.770</td>\n",
       "      <td>1</td>\n",
       "      <td>no</td>\n",
       "      <td>southeast</td>\n",
       "      <td>1725.55230</td>\n",
       "    </tr>\n",
       "    <tr>\n",
       "      <th>2</th>\n",
       "      <td>28.0</td>\n",
       "      <td>NaN</td>\n",
       "      <td>33.000</td>\n",
       "      <td>3</td>\n",
       "      <td>no</td>\n",
       "      <td>southeast</td>\n",
       "      <td>4449.46200</td>\n",
       "    </tr>\n",
       "    <tr>\n",
       "      <th>3</th>\n",
       "      <td>33.0</td>\n",
       "      <td>male</td>\n",
       "      <td>22.705</td>\n",
       "      <td>0</td>\n",
       "      <td>no</td>\n",
       "      <td>northwest</td>\n",
       "      <td>21984.47061</td>\n",
       "    </tr>\n",
       "    <tr>\n",
       "      <th>4</th>\n",
       "      <td>NaN</td>\n",
       "      <td>male</td>\n",
       "      <td>28.880</td>\n",
       "      <td>0</td>\n",
       "      <td>no</td>\n",
       "      <td>northwest</td>\n",
       "      <td>3866.85520</td>\n",
       "    </tr>\n",
       "  </tbody>\n",
       "</table>\n",
       "</div>"
      ],
      "text/plain": [
       "    age     sex     bmi  children smoker     region      charges\n",
       "0  19.0  female  27.900         0    yes  southwest  16884.92400\n",
       "1  18.0    male  33.770         1     no  southeast   1725.55230\n",
       "2  28.0     NaN  33.000         3     no  southeast   4449.46200\n",
       "3  33.0    male  22.705         0     no  northwest  21984.47061\n",
       "4   NaN    male  28.880         0     no  northwest   3866.85520"
      ]
     },
     "execution_count": 20,
     "metadata": {},
     "output_type": "execute_result"
    }
   ],
   "source": [
    "df2 = pd.read_csv(\"data/insurance.csv\", index_col = 0)\n",
    "df2.head()"
   ]
  },
  {
   "cell_type": "markdown",
   "id": "57f9110f",
   "metadata": {},
   "source": [
    "### Simple-Imputer \n",
    "\n",
    "Nos permite transformar los valores nulos de nuestras columnas. SimpleImputer proporciona estrategias básicas para la imputación de valores nulos. Los valores perdidos se pueden imputar con un valor constante proporcionado, o utilizando los estadísticos (media, mediana o más frecuente) de cada columna en la que se encuentran los valores perdidos. \n",
    "\n",
    "\n",
    "\n",
    "Su sintaxis es: \n",
    "\n",
    "```python\n",
    "SimpleImputer(*, missing_values=nan, strategy='mean',  verbose=0, copy=True)\n",
    "```\n",
    "\n",
    "\n",
    "> Tenemos que tener en cuenta que tanto las funciones fit() como transform() esperan un array 2D, así que nos tenemos que asegurar de pasar un array o dataframe 2D. Si pasas un array 1D o una Serie Pandas, tendremos un error."
   ]
  },
  {
   "cell_type": "markdown",
   "id": "983277db",
   "metadata": {},
   "source": [
    "Lo primero que tenemos que hacer es iniciar el método, donde especificaremos porque queremos reemplazar los nulos. Dejo el parámetro `copy` por defecto, es decir, en True para que nos aplique los cambios en la misma columna. "
   ]
  },
  {
   "cell_type": "code",
   "execution_count": 21,
   "id": "c94dd6dc",
   "metadata": {},
   "outputs": [],
   "source": [
    "imputer = SimpleImputer(strategy='mean', missing_values=np.nan)"
   ]
  },
  {
   "cell_type": "markdown",
   "id": "acbab58c",
   "metadata": {},
   "source": [
    "Una vez creada la instancia, se utiliza la función `fit()` para ajustar el imputer en la(s) columna(s) sobre las que se quiere trabajar, en nuestro caso lo haemos solo sobre la columna `price`"
   ]
  },
  {
   "cell_type": "code",
   "execution_count": 22,
   "id": "e76b23e5",
   "metadata": {
    "scrolled": true
   },
   "outputs": [],
   "source": [
    "imputer = imputer.fit(df2[['age']])"
   ]
  },
  {
   "cell_type": "markdown",
   "id": "fd306c4f",
   "metadata": {},
   "source": [
    "Ahora podemos utilizar la función `transform()` para rellenar los valores que faltan basándose en la estrategia que especificamos en el inicializador de la clase SimpleImputer. "
   ]
  },
  {
   "cell_type": "code",
   "execution_count": 23,
   "id": "a50e796a",
   "metadata": {},
   "outputs": [],
   "source": [
    "df2['age'] = imputer.transform(df2[['age']])"
   ]
  },
  {
   "cell_type": "code",
   "execution_count": 24,
   "id": "57c567b1",
   "metadata": {},
   "outputs": [
    {
     "data": {
      "text/plain": [
       "age           0\n",
       "sex         134\n",
       "bmi          13\n",
       "children      0\n",
       "smoker       27\n",
       "region        0\n",
       "charges       3\n",
       "dtype: int64"
      ]
     },
     "execution_count": 24,
     "metadata": {},
     "output_type": "execute_result"
    }
   ],
   "source": [
    "# si chequeamos ahora los valores nulos veremos que ya no tenemos en la columna `age` \n",
    "\n",
    "df2.isnull().sum()"
   ]
  },
  {
   "cell_type": "markdown",
   "id": "b826a6dc",
   "metadata": {},
   "source": [
    "**NOTA** Si quisieramos aplicar el método a varias columnas tendríamos que seguir la siguiente sintaxis: \n",
    "\n",
    "```python\n",
    "df[['col1','col2']] = imputer.transform(df[['col1','col2']])\n",
    "```\n",
    "\n",
    "Este método puede tener muchas variaciones, en [este](https://towardsdatascience.com/imputing-missing-values-using-the-simpleimputer-class-in-sklearn-99706afaff46) artículo tenéis más casos donde podríamos aplicar este método. "
   ]
  },
  {
   "cell_type": "markdown",
   "id": "3fc1ad05",
   "metadata": {},
   "source": [
    "###  Iterative-Imputer\n",
    "\n",
    "Un enfoque más sofisticado es utilizar la clase IterativeImputer, que modela cada característica con valores perdidos como una función de otras características, y utiliza esa estimación para la imputación. Lo hace de forma iterada: en cada paso, una columna de características se designa como salida y y las otras columnas de características se tratan como entradas X. Se devuelven los resultados de la última ronda de imputación.\n",
    "\n",
    "\n",
    "El IterativeImputer utiliza los datos disponibles en otras columnas con el fin de estimar los valores nulos que se imputan o queremos quitar. \n",
    "\n",
    "La sintaxis en este caso sería: \n",
    "```python\n",
    "IterativeImputer(estimator=None, missing_values=nan,  max_iter=10, tol=0.001, n_nearest_features=None, initial_strategy=mean, imputation_order=ascending, verbose=0, random_state=None)\n",
    "```\n",
    "\n",
    "Necesitaremos importar: \n",
    "\n",
    "```python\n",
    "\n",
    "# NOTA: Este estimador es todavía experimental por ahora. Para utilizarlo, es necesario importar explícitamente enable_iterative_impute\n",
    "from sklearn.experimental import enable_iterative_imputer\n",
    "from sklearn.impute import IterativeImputer\n",
    "```\n",
    "\n",
    "**NOTA**: este método solo lo podemos usar con variables numéricas. "
   ]
  },
  {
   "cell_type": "markdown",
   "id": "d8833330",
   "metadata": {},
   "source": [
    "Lo primero que vamos a hacer es sacar las variables numéricas usando el método `select_dtypes` para luego chequear cuales de ellas tienen valores nulos. "
   ]
  },
  {
   "cell_type": "code",
   "execution_count": 27,
   "id": "5feb7abf",
   "metadata": {},
   "outputs": [],
   "source": [
    "numericas = df2.select_dtypes(include = np.number)"
   ]
  },
  {
   "cell_type": "code",
   "execution_count": 28,
   "id": "4d95741a",
   "metadata": {},
   "outputs": [
    {
     "data": {
      "text/plain": [
       "age          0\n",
       "bmi         13\n",
       "children     0\n",
       "charges      3\n",
       "dtype: int64"
      ]
     },
     "execution_count": 28,
     "metadata": {},
     "output_type": "execute_result"
    }
   ],
   "source": [
    "numericas.isnull().sum()"
   ]
  },
  {
   "cell_type": "code",
   "execution_count": 29,
   "id": "400e2c0b",
   "metadata": {},
   "outputs": [],
   "source": [
    "# creamos una instancia del método Iterative Imputer con las características que queremos \n",
    "imputer = IterativeImputer()"
   ]
  },
  {
   "cell_type": "code",
   "execution_count": 30,
   "id": "e770a97f",
   "metadata": {},
   "outputs": [
    {
     "data": {
      "text/plain": [
       "IterativeImputer()"
      ]
     },
     "execution_count": 30,
     "metadata": {},
     "output_type": "execute_result"
    }
   ],
   "source": [
    "# lo aplicamos sobre nuestras variables numéricas. \n",
    "imputer.fit(numericas)\n"
   ]
  },
  {
   "cell_type": "code",
   "execution_count": 32,
   "id": "b861aa36",
   "metadata": {},
   "outputs": [
    {
     "data": {
      "text/plain": [
       "array([[1.90000000e+01, 2.79000000e+01, 0.00000000e+00, 1.68849240e+04],\n",
       "       [1.80000000e+01, 3.37700000e+01, 1.00000000e+00, 1.72555230e+03],\n",
       "       [2.80000000e+01, 3.30000000e+01, 3.00000000e+00, 4.44946200e+03],\n",
       "       ...,\n",
       "       [1.80000000e+01, 3.68500000e+01, 0.00000000e+00, 1.62983350e+03],\n",
       "       [2.10000000e+01, 2.58000000e+01, 0.00000000e+00, 2.00794500e+03],\n",
       "       [6.10000000e+01, 2.90700000e+01, 0.00000000e+00, 2.91413603e+04]])"
      ]
     },
     "execution_count": 32,
     "metadata": {},
     "output_type": "execute_result"
    }
   ],
   "source": [
    "# transformamos nuestros datos, para que se reemplacen los valores nulos usando \"transform\". \n",
    "## ⚠️ Esto nos va a devolver un array!\n",
    "\n",
    "imputer.transform(numericas)"
   ]
  },
  {
   "cell_type": "code",
   "execution_count": 33,
   "id": "6257540e",
   "metadata": {},
   "outputs": [
    {
     "data": {
      "text/html": [
       "<div>\n",
       "<style scoped>\n",
       "    .dataframe tbody tr th:only-of-type {\n",
       "        vertical-align: middle;\n",
       "    }\n",
       "\n",
       "    .dataframe tbody tr th {\n",
       "        vertical-align: top;\n",
       "    }\n",
       "\n",
       "    .dataframe thead th {\n",
       "        text-align: right;\n",
       "    }\n",
       "</style>\n",
       "<table border=\"1\" class=\"dataframe\">\n",
       "  <thead>\n",
       "    <tr style=\"text-align: right;\">\n",
       "      <th></th>\n",
       "      <th>age</th>\n",
       "      <th>bmi</th>\n",
       "      <th>children</th>\n",
       "      <th>charges</th>\n",
       "    </tr>\n",
       "  </thead>\n",
       "  <tbody>\n",
       "    <tr>\n",
       "      <th>0</th>\n",
       "      <td>19.000000</td>\n",
       "      <td>27.900</td>\n",
       "      <td>0.0</td>\n",
       "      <td>16884.92400</td>\n",
       "    </tr>\n",
       "    <tr>\n",
       "      <th>1</th>\n",
       "      <td>18.000000</td>\n",
       "      <td>33.770</td>\n",
       "      <td>1.0</td>\n",
       "      <td>1725.55230</td>\n",
       "    </tr>\n",
       "    <tr>\n",
       "      <th>2</th>\n",
       "      <td>28.000000</td>\n",
       "      <td>33.000</td>\n",
       "      <td>3.0</td>\n",
       "      <td>4449.46200</td>\n",
       "    </tr>\n",
       "    <tr>\n",
       "      <th>3</th>\n",
       "      <td>33.000000</td>\n",
       "      <td>22.705</td>\n",
       "      <td>0.0</td>\n",
       "      <td>21984.47061</td>\n",
       "    </tr>\n",
       "    <tr>\n",
       "      <th>4</th>\n",
       "      <td>39.171927</td>\n",
       "      <td>28.880</td>\n",
       "      <td>0.0</td>\n",
       "      <td>3866.85520</td>\n",
       "    </tr>\n",
       "  </tbody>\n",
       "</table>\n",
       "</div>"
      ],
      "text/plain": [
       "         age     bmi  children      charges\n",
       "0  19.000000  27.900       0.0  16884.92400\n",
       "1  18.000000  33.770       1.0   1725.55230\n",
       "2  28.000000  33.000       3.0   4449.46200\n",
       "3  33.000000  22.705       0.0  21984.47061\n",
       "4  39.171927  28.880       0.0   3866.85520"
      ]
     },
     "execution_count": 33,
     "metadata": {},
     "output_type": "execute_result"
    }
   ],
   "source": [
    "# convertimos el array que nos devuelve en un dataframe\n",
    "\n",
    "numericas_trans = pd.DataFrame(imputer.transform(numericas), columns = numericas.columns)\n",
    "numericas_trans.head()"
   ]
  },
  {
   "cell_type": "code",
   "execution_count": 36,
   "id": "2497ae51",
   "metadata": {},
   "outputs": [
    {
     "data": {
      "text/html": [
       "<div>\n",
       "<style scoped>\n",
       "    .dataframe tbody tr th:only-of-type {\n",
       "        vertical-align: middle;\n",
       "    }\n",
       "\n",
       "    .dataframe tbody tr th {\n",
       "        vertical-align: top;\n",
       "    }\n",
       "\n",
       "    .dataframe thead th {\n",
       "        text-align: right;\n",
       "    }\n",
       "</style>\n",
       "<table border=\"1\" class=\"dataframe\">\n",
       "  <thead>\n",
       "    <tr style=\"text-align: right;\">\n",
       "      <th></th>\n",
       "      <th>age</th>\n",
       "      <th>sex</th>\n",
       "      <th>bmi</th>\n",
       "      <th>children</th>\n",
       "      <th>smoker</th>\n",
       "      <th>region</th>\n",
       "      <th>charges</th>\n",
       "    </tr>\n",
       "  </thead>\n",
       "  <tbody>\n",
       "    <tr>\n",
       "      <th>0</th>\n",
       "      <td>19.000000</td>\n",
       "      <td>female</td>\n",
       "      <td>27.900</td>\n",
       "      <td>0</td>\n",
       "      <td>yes</td>\n",
       "      <td>southwest</td>\n",
       "      <td>16884.92400</td>\n",
       "    </tr>\n",
       "    <tr>\n",
       "      <th>1</th>\n",
       "      <td>18.000000</td>\n",
       "      <td>male</td>\n",
       "      <td>33.770</td>\n",
       "      <td>1</td>\n",
       "      <td>no</td>\n",
       "      <td>southeast</td>\n",
       "      <td>1725.55230</td>\n",
       "    </tr>\n",
       "    <tr>\n",
       "      <th>2</th>\n",
       "      <td>28.000000</td>\n",
       "      <td>NaN</td>\n",
       "      <td>33.000</td>\n",
       "      <td>3</td>\n",
       "      <td>no</td>\n",
       "      <td>southeast</td>\n",
       "      <td>4449.46200</td>\n",
       "    </tr>\n",
       "    <tr>\n",
       "      <th>3</th>\n",
       "      <td>33.000000</td>\n",
       "      <td>male</td>\n",
       "      <td>22.705</td>\n",
       "      <td>0</td>\n",
       "      <td>no</td>\n",
       "      <td>northwest</td>\n",
       "      <td>21984.47061</td>\n",
       "    </tr>\n",
       "    <tr>\n",
       "      <th>4</th>\n",
       "      <td>39.171927</td>\n",
       "      <td>male</td>\n",
       "      <td>28.880</td>\n",
       "      <td>0</td>\n",
       "      <td>no</td>\n",
       "      <td>northwest</td>\n",
       "      <td>3866.85520</td>\n",
       "    </tr>\n",
       "  </tbody>\n",
       "</table>\n",
       "</div>"
      ],
      "text/plain": [
       "         age     sex     bmi  children smoker     region      charges\n",
       "0  19.000000  female  27.900         0    yes  southwest  16884.92400\n",
       "1  18.000000    male  33.770         1     no  southeast   1725.55230\n",
       "2  28.000000     NaN  33.000         3     no  southeast   4449.46200\n",
       "3  33.000000    male  22.705         0     no  northwest  21984.47061\n",
       "4  39.171927    male  28.880         0     no  northwest   3866.85520"
      ]
     },
     "execution_count": 36,
     "metadata": {},
     "output_type": "execute_result"
    }
   ],
   "source": [
    "df2.head()"
   ]
  },
  {
   "cell_type": "code",
   "execution_count": 39,
   "id": "866a874e",
   "metadata": {},
   "outputs": [
    {
     "data": {
      "text/plain": [
       "Index(['age', 'bmi', 'children', 'charges'], dtype='object')"
      ]
     },
     "execution_count": 39,
     "metadata": {},
     "output_type": "execute_result"
    }
   ],
   "source": [
    "columnas = numericas_trans.columns\n",
    "columnas"
   ]
  },
  {
   "cell_type": "code",
   "execution_count": 38,
   "id": "869dad4d",
   "metadata": {},
   "outputs": [
    {
     "data": {
      "text/html": [
       "<div>\n",
       "<style scoped>\n",
       "    .dataframe tbody tr th:only-of-type {\n",
       "        vertical-align: middle;\n",
       "    }\n",
       "\n",
       "    .dataframe tbody tr th {\n",
       "        vertical-align: top;\n",
       "    }\n",
       "\n",
       "    .dataframe thead th {\n",
       "        text-align: right;\n",
       "    }\n",
       "</style>\n",
       "<table border=\"1\" class=\"dataframe\">\n",
       "  <thead>\n",
       "    <tr style=\"text-align: right;\">\n",
       "      <th></th>\n",
       "      <th>sex</th>\n",
       "      <th>smoker</th>\n",
       "      <th>region</th>\n",
       "    </tr>\n",
       "  </thead>\n",
       "  <tbody>\n",
       "    <tr>\n",
       "      <th>0</th>\n",
       "      <td>female</td>\n",
       "      <td>yes</td>\n",
       "      <td>southwest</td>\n",
       "    </tr>\n",
       "    <tr>\n",
       "      <th>1</th>\n",
       "      <td>male</td>\n",
       "      <td>no</td>\n",
       "      <td>southeast</td>\n",
       "    </tr>\n",
       "    <tr>\n",
       "      <th>2</th>\n",
       "      <td>NaN</td>\n",
       "      <td>no</td>\n",
       "      <td>southeast</td>\n",
       "    </tr>\n",
       "    <tr>\n",
       "      <th>3</th>\n",
       "      <td>male</td>\n",
       "      <td>no</td>\n",
       "      <td>northwest</td>\n",
       "    </tr>\n",
       "    <tr>\n",
       "      <th>4</th>\n",
       "      <td>male</td>\n",
       "      <td>no</td>\n",
       "      <td>northwest</td>\n",
       "    </tr>\n",
       "  </tbody>\n",
       "</table>\n",
       "</div>"
      ],
      "text/plain": [
       "      sex smoker     region\n",
       "0  female    yes  southwest\n",
       "1    male     no  southeast\n",
       "2     NaN     no  southeast\n",
       "3    male     no  northwest\n",
       "4    male     no  northwest"
      ]
     },
     "execution_count": 38,
     "metadata": {},
     "output_type": "execute_result"
    }
   ],
   "source": [
    "df2.drop(columnas, axis = 1, inplace = True)\n",
    "df2.head()"
   ]
  },
  {
   "cell_type": "code",
   "execution_count": 40,
   "id": "0a12e83e",
   "metadata": {},
   "outputs": [],
   "source": [
    "df2[columnas] = numericas_trans"
   ]
  },
  {
   "cell_type": "code",
   "execution_count": 41,
   "id": "8f27dd0f",
   "metadata": {},
   "outputs": [
    {
     "data": {
      "text/html": [
       "<div>\n",
       "<style scoped>\n",
       "    .dataframe tbody tr th:only-of-type {\n",
       "        vertical-align: middle;\n",
       "    }\n",
       "\n",
       "    .dataframe tbody tr th {\n",
       "        vertical-align: top;\n",
       "    }\n",
       "\n",
       "    .dataframe thead th {\n",
       "        text-align: right;\n",
       "    }\n",
       "</style>\n",
       "<table border=\"1\" class=\"dataframe\">\n",
       "  <thead>\n",
       "    <tr style=\"text-align: right;\">\n",
       "      <th></th>\n",
       "      <th>sex</th>\n",
       "      <th>smoker</th>\n",
       "      <th>region</th>\n",
       "      <th>age</th>\n",
       "      <th>bmi</th>\n",
       "      <th>children</th>\n",
       "      <th>charges</th>\n",
       "    </tr>\n",
       "  </thead>\n",
       "  <tbody>\n",
       "    <tr>\n",
       "      <th>0</th>\n",
       "      <td>female</td>\n",
       "      <td>yes</td>\n",
       "      <td>southwest</td>\n",
       "      <td>19.000000</td>\n",
       "      <td>27.900</td>\n",
       "      <td>0.0</td>\n",
       "      <td>16884.92400</td>\n",
       "    </tr>\n",
       "    <tr>\n",
       "      <th>1</th>\n",
       "      <td>male</td>\n",
       "      <td>no</td>\n",
       "      <td>southeast</td>\n",
       "      <td>18.000000</td>\n",
       "      <td>33.770</td>\n",
       "      <td>1.0</td>\n",
       "      <td>1725.55230</td>\n",
       "    </tr>\n",
       "    <tr>\n",
       "      <th>2</th>\n",
       "      <td>NaN</td>\n",
       "      <td>no</td>\n",
       "      <td>southeast</td>\n",
       "      <td>28.000000</td>\n",
       "      <td>33.000</td>\n",
       "      <td>3.0</td>\n",
       "      <td>4449.46200</td>\n",
       "    </tr>\n",
       "    <tr>\n",
       "      <th>3</th>\n",
       "      <td>male</td>\n",
       "      <td>no</td>\n",
       "      <td>northwest</td>\n",
       "      <td>33.000000</td>\n",
       "      <td>22.705</td>\n",
       "      <td>0.0</td>\n",
       "      <td>21984.47061</td>\n",
       "    </tr>\n",
       "    <tr>\n",
       "      <th>4</th>\n",
       "      <td>male</td>\n",
       "      <td>no</td>\n",
       "      <td>northwest</td>\n",
       "      <td>39.171927</td>\n",
       "      <td>28.880</td>\n",
       "      <td>0.0</td>\n",
       "      <td>3866.85520</td>\n",
       "    </tr>\n",
       "  </tbody>\n",
       "</table>\n",
       "</div>"
      ],
      "text/plain": [
       "      sex smoker     region        age     bmi  children      charges\n",
       "0  female    yes  southwest  19.000000  27.900       0.0  16884.92400\n",
       "1    male     no  southeast  18.000000  33.770       1.0   1725.55230\n",
       "2     NaN     no  southeast  28.000000  33.000       3.0   4449.46200\n",
       "3    male     no  northwest  33.000000  22.705       0.0  21984.47061\n",
       "4    male     no  northwest  39.171927  28.880       0.0   3866.85520"
      ]
     },
     "execution_count": 41,
     "metadata": {},
     "output_type": "execute_result"
    }
   ],
   "source": [
    "df2.head()"
   ]
  },
  {
   "cell_type": "code",
   "execution_count": 42,
   "id": "f8173c3f",
   "metadata": {},
   "outputs": [
    {
     "data": {
      "text/plain": [
       "sex         134\n",
       "smoker       27\n",
       "region        0\n",
       "age           0\n",
       "bmi           0\n",
       "children      0\n",
       "charges       0\n",
       "dtype: int64"
      ]
     },
     "execution_count": 42,
     "metadata": {},
     "output_type": "execute_result"
    }
   ],
   "source": [
    "df2.isnull().sum()"
   ]
  },
  {
   "cell_type": "markdown",
   "id": "72c555f8",
   "metadata": {},
   "source": [
    "Ahora es momento de juntar el nuevo dataframe (numericas_trans) sin valores nulos con nuestro dataframe que todavía tiene nulos"
   ]
  },
  {
   "cell_type": "code",
   "execution_count": 33,
   "id": "7e997417",
   "metadata": {},
   "outputs": [],
   "source": [
    "# lo primero que hacemos es sacar el nombre de las columnas del dataframe sin nulos\n",
    "\n"
   ]
  },
  {
   "cell_type": "code",
   "execution_count": 34,
   "id": "e4d4c631",
   "metadata": {},
   "outputs": [],
   "source": [
    "# utilizando \"columnas\" eliminamos esas columnas de nuestro dataframe\n",
    "\n"
   ]
  },
  {
   "cell_type": "code",
   "execution_count": 35,
   "id": "254cc5e2",
   "metadata": {},
   "outputs": [],
   "source": [
    "# creamos nuevas columnas en nuestro dataframe original basándonos en el dataframe de las numericas_trans\n",
    "\n"
   ]
  },
  {
   "cell_type": "markdown",
   "id": "409c435c",
   "metadata": {},
   "source": [
    "### KNN-Imputer.  "
   ]
  },
  {
   "attachments": {
    "image.png": {
     "image/png": "[encoded data removed]"
    }
   },
   "cell_type": "markdown",
   "id": "57fabcdc",
   "metadata": {},
   "source": [
    "\n",
    ">**Solo lo podremos usar para variables numericas o de formato fecha.** \n",
    "\n",
    "Entendamos un poco que esto del KNN antes de seguir. \n",
    "\n",
    "Imaginemos que tenemos una variable con dos categorías representadas como vemos aquí: \n",
    "\n",
    "![image.png](attachment:image.png)\n",
    "\n",
    "\n",
    "Ante una muestra nueva, ¿Cómo se puede saber a qué grupo pertenece? Bueno, naturalmente, se mirarían los puntos circundantes. Pero el resultado dependería mucho de la distancia a la que se mire. \n",
    "\n",
    "- Si miramos a los 3 más cercanos (círculo sólido), el punto verde pertenecería a los triángulos rojos. \n",
    "\n",
    "- Pero si miramos más lejos, (el círculo discontinuo) el punto se clasificaría como un cuadrado azul.\n",
    "\n",
    "\n",
    "KNN funciona de la misma manera. Según el valor de k, el algoritmo clasifica las nuevas muestras por el voto mayoritario de los k vecinos más cercanos en la clasificación. Para la regresión, que predice el valor numérico real de una nueva muestra, el algoritmo toma la media de los k vecinos más cercanos. \"\n",
    "KNNImputer es una versión ligeramente modificada del algoritmo en la que trata de predecir el valor numérico nulo promediando las distancias entre sus k vecinos más cercanos.\n",
    "\n",
    "\n",
    "Basicamente lo que hace este método es :\n",
    "\n",
    "- Medir la distancai entre cada punto y las N-muestras más cercanas (especificado como el parémtro `n_neighbours`)\n",
    "\n",
    "\n",
    "- Basándose en su(s) vecino(s) más cercano(s), tomará el valor medio de los N vecinos no nulos más cercanos al valor que falta.\n",
    "\n",
    "\n",
    "Para poder usar este método tendremos que importar el KNNImputer. \n",
    "\n",
    "```python\n",
    "from sklearn.impute import KNNImputer\n",
    "```"
   ]
  },
  {
   "cell_type": "code",
   "execution_count": 37,
   "id": "6039b46a",
   "metadata": {
    "scrolled": true
   },
   "outputs": [
    {
     "data": {
      "text/plain": [
       "age          0\n",
       "bmi         13\n",
       "children     0\n",
       "charges      3\n",
       "dtype: int64"
      ]
     },
     "execution_count": 37,
     "metadata": {},
     "output_type": "execute_result"
    }
   ],
   "source": [
    "numericas.isnull().sum()"
   ]
  },
  {
   "cell_type": "code",
   "execution_count": 38,
   "id": "0b1cd70a",
   "metadata": {},
   "outputs": [
    {
     "data": {
      "text/plain": [
       "KNNImputer()"
      ]
     },
     "execution_count": 38,
     "metadata": {},
     "output_type": "execute_result"
    }
   ],
   "source": [
    "# inciamos el KNNImputer y lo aplicamos a nuestras variables numéricas\n",
    "\n",
    "imputerKNN = KNNImputer(n_neighbors=5)\n",
    "imputerKNN.fit(numericas)"
   ]
  },
  {
   "cell_type": "code",
   "execution_count": 39,
   "id": "44f05d41",
   "metadata": {},
   "outputs": [],
   "source": [
    "# aplicamos el método a nuestras variables y lo almacenamos en una variable\n",
    "# ⚠️ Igual que en el IterativeImputer nos devuelve un array\n",
    "\n",
    "numericas_knn= imputerKNN.transform(numericas)"
   ]
  },
  {
   "cell_type": "code",
   "execution_count": 40,
   "id": "01f0e1bf",
   "metadata": {},
   "outputs": [],
   "source": [
    "# convertimos el array a un dataframe\n",
    "\n",
    "df_knn_imputer = pd.DataFrame(numericas_knn, columns = numericas.columns)"
   ]
  },
  {
   "cell_type": "code",
   "execution_count": 41,
   "id": "2e795b6c",
   "metadata": {},
   "outputs": [
    {
     "data": {
      "text/html": [
       "<div>\n",
       "<style scoped>\n",
       "    .dataframe tbody tr th:only-of-type {\n",
       "        vertical-align: middle;\n",
       "    }\n",
       "\n",
       "    .dataframe tbody tr th {\n",
       "        vertical-align: top;\n",
       "    }\n",
       "\n",
       "    .dataframe thead th {\n",
       "        text-align: right;\n",
       "    }\n",
       "</style>\n",
       "<table border=\"1\" class=\"dataframe\">\n",
       "  <thead>\n",
       "    <tr style=\"text-align: right;\">\n",
       "      <th></th>\n",
       "      <th>age</th>\n",
       "      <th>bmi</th>\n",
       "      <th>children</th>\n",
       "      <th>charges</th>\n",
       "    </tr>\n",
       "  </thead>\n",
       "  <tbody>\n",
       "    <tr>\n",
       "      <th>0</th>\n",
       "      <td>19.000000</td>\n",
       "      <td>27.900</td>\n",
       "      <td>0.0</td>\n",
       "      <td>16884.92400</td>\n",
       "    </tr>\n",
       "    <tr>\n",
       "      <th>1</th>\n",
       "      <td>18.000000</td>\n",
       "      <td>33.770</td>\n",
       "      <td>1.0</td>\n",
       "      <td>1725.55230</td>\n",
       "    </tr>\n",
       "    <tr>\n",
       "      <th>2</th>\n",
       "      <td>28.000000</td>\n",
       "      <td>33.000</td>\n",
       "      <td>3.0</td>\n",
       "      <td>4449.46200</td>\n",
       "    </tr>\n",
       "    <tr>\n",
       "      <th>3</th>\n",
       "      <td>33.000000</td>\n",
       "      <td>22.705</td>\n",
       "      <td>0.0</td>\n",
       "      <td>21984.47061</td>\n",
       "    </tr>\n",
       "    <tr>\n",
       "      <th>4</th>\n",
       "      <td>39.171927</td>\n",
       "      <td>28.880</td>\n",
       "      <td>0.0</td>\n",
       "      <td>3866.85520</td>\n",
       "    </tr>\n",
       "  </tbody>\n",
       "</table>\n",
       "</div>"
      ],
      "text/plain": [
       "         age     bmi  children      charges\n",
       "0  19.000000  27.900       0.0  16884.92400\n",
       "1  18.000000  33.770       1.0   1725.55230\n",
       "2  28.000000  33.000       3.0   4449.46200\n",
       "3  33.000000  22.705       0.0  21984.47061\n",
       "4  39.171927  28.880       0.0   3866.85520"
      ]
     },
     "execution_count": 41,
     "metadata": {},
     "output_type": "execute_result"
    }
   ],
   "source": [
    "df_knn_imputer.head()"
   ]
  },
  {
   "cell_type": "markdown",
   "id": "a692e393",
   "metadata": {},
   "source": [
    "El siguiente paso reemplazar estos valores en el dataframe. Lo podemos hacer de la misma forma que hicimos en el apartado anterior. "
   ]
  },
  {
   "cell_type": "code",
   "execution_count": 42,
   "id": "c226b9a2",
   "metadata": {},
   "outputs": [],
   "source": [
    "# lo primero que hacemos es sacar el nombre de las columnas del dataframe sin nulos\n",
    "\n",
    "columnas_knn = df_knn_imputer.columns"
   ]
  },
  {
   "cell_type": "code",
   "execution_count": 43,
   "id": "8755aa60",
   "metadata": {},
   "outputs": [
    {
     "data": {
      "text/plain": [
       "Index(['age', 'bmi', 'children', 'charges'], dtype='object')"
      ]
     },
     "execution_count": 43,
     "metadata": {},
     "output_type": "execute_result"
    }
   ],
   "source": [
    "columnas_knn"
   ]
  },
  {
   "cell_type": "code",
   "execution_count": 44,
   "id": "d171d296",
   "metadata": {},
   "outputs": [],
   "source": [
    "# utilizando \"columnas\" eliminamos esas columnas de nuestro dataframe\n",
    "\n",
    "df2.drop(df_knn_imputer, axis = 1, inplace = True)"
   ]
  },
  {
   "cell_type": "code",
   "execution_count": 45,
   "id": "46822ed1",
   "metadata": {},
   "outputs": [
    {
     "data": {
      "text/html": [
       "<div>\n",
       "<style scoped>\n",
       "    .dataframe tbody tr th:only-of-type {\n",
       "        vertical-align: middle;\n",
       "    }\n",
       "\n",
       "    .dataframe tbody tr th {\n",
       "        vertical-align: top;\n",
       "    }\n",
       "\n",
       "    .dataframe thead th {\n",
       "        text-align: right;\n",
       "    }\n",
       "</style>\n",
       "<table border=\"1\" class=\"dataframe\">\n",
       "  <thead>\n",
       "    <tr style=\"text-align: right;\">\n",
       "      <th></th>\n",
       "      <th>sex</th>\n",
       "      <th>smoker</th>\n",
       "      <th>region</th>\n",
       "    </tr>\n",
       "  </thead>\n",
       "  <tbody>\n",
       "    <tr>\n",
       "      <th>0</th>\n",
       "      <td>female</td>\n",
       "      <td>yes</td>\n",
       "      <td>southwest</td>\n",
       "    </tr>\n",
       "    <tr>\n",
       "      <th>1</th>\n",
       "      <td>male</td>\n",
       "      <td>no</td>\n",
       "      <td>southeast</td>\n",
       "    </tr>\n",
       "    <tr>\n",
       "      <th>2</th>\n",
       "      <td>NaN</td>\n",
       "      <td>no</td>\n",
       "      <td>southeast</td>\n",
       "    </tr>\n",
       "    <tr>\n",
       "      <th>3</th>\n",
       "      <td>male</td>\n",
       "      <td>no</td>\n",
       "      <td>northwest</td>\n",
       "    </tr>\n",
       "    <tr>\n",
       "      <th>4</th>\n",
       "      <td>male</td>\n",
       "      <td>no</td>\n",
       "      <td>northwest</td>\n",
       "    </tr>\n",
       "    <tr>\n",
       "      <th>...</th>\n",
       "      <td>...</td>\n",
       "      <td>...</td>\n",
       "      <td>...</td>\n",
       "    </tr>\n",
       "    <tr>\n",
       "      <th>1333</th>\n",
       "      <td>NaN</td>\n",
       "      <td>no</td>\n",
       "      <td>northwest</td>\n",
       "    </tr>\n",
       "    <tr>\n",
       "      <th>1334</th>\n",
       "      <td>NaN</td>\n",
       "      <td>no</td>\n",
       "      <td>northeast</td>\n",
       "    </tr>\n",
       "    <tr>\n",
       "      <th>1335</th>\n",
       "      <td>female</td>\n",
       "      <td>no</td>\n",
       "      <td>southeast</td>\n",
       "    </tr>\n",
       "    <tr>\n",
       "      <th>1336</th>\n",
       "      <td>female</td>\n",
       "      <td>no</td>\n",
       "      <td>southwest</td>\n",
       "    </tr>\n",
       "    <tr>\n",
       "      <th>1337</th>\n",
       "      <td>female</td>\n",
       "      <td>yes</td>\n",
       "      <td>northwest</td>\n",
       "    </tr>\n",
       "  </tbody>\n",
       "</table>\n",
       "<p>1338 rows × 3 columns</p>\n",
       "</div>"
      ],
      "text/plain": [
       "         sex smoker     region\n",
       "0     female    yes  southwest\n",
       "1       male     no  southeast\n",
       "2        NaN     no  southeast\n",
       "3       male     no  northwest\n",
       "4       male     no  northwest\n",
       "...      ...    ...        ...\n",
       "1333     NaN     no  northwest\n",
       "1334     NaN     no  northeast\n",
       "1335  female     no  southeast\n",
       "1336  female     no  southwest\n",
       "1337  female    yes  northwest\n",
       "\n",
       "[1338 rows x 3 columns]"
      ]
     },
     "execution_count": 45,
     "metadata": {},
     "output_type": "execute_result"
    }
   ],
   "source": [
    "df2"
   ]
  },
  {
   "cell_type": "code",
   "execution_count": 46,
   "id": "ee1c4ce6",
   "metadata": {},
   "outputs": [
    {
     "data": {
      "text/html": [
       "<div>\n",
       "<style scoped>\n",
       "    .dataframe tbody tr th:only-of-type {\n",
       "        vertical-align: middle;\n",
       "    }\n",
       "\n",
       "    .dataframe tbody tr th {\n",
       "        vertical-align: top;\n",
       "    }\n",
       "\n",
       "    .dataframe thead th {\n",
       "        text-align: right;\n",
       "    }\n",
       "</style>\n",
       "<table border=\"1\" class=\"dataframe\">\n",
       "  <thead>\n",
       "    <tr style=\"text-align: right;\">\n",
       "      <th></th>\n",
       "      <th>sex</th>\n",
       "      <th>smoker</th>\n",
       "      <th>region</th>\n",
       "    </tr>\n",
       "  </thead>\n",
       "  <tbody>\n",
       "    <tr>\n",
       "      <th>0</th>\n",
       "      <td>female</td>\n",
       "      <td>yes</td>\n",
       "      <td>southwest</td>\n",
       "    </tr>\n",
       "    <tr>\n",
       "      <th>1</th>\n",
       "      <td>male</td>\n",
       "      <td>no</td>\n",
       "      <td>southeast</td>\n",
       "    </tr>\n",
       "    <tr>\n",
       "      <th>2</th>\n",
       "      <td>NaN</td>\n",
       "      <td>no</td>\n",
       "      <td>southeast</td>\n",
       "    </tr>\n",
       "    <tr>\n",
       "      <th>3</th>\n",
       "      <td>male</td>\n",
       "      <td>no</td>\n",
       "      <td>northwest</td>\n",
       "    </tr>\n",
       "    <tr>\n",
       "      <th>4</th>\n",
       "      <td>male</td>\n",
       "      <td>no</td>\n",
       "      <td>northwest</td>\n",
       "    </tr>\n",
       "  </tbody>\n",
       "</table>\n",
       "</div>"
      ],
      "text/plain": [
       "      sex smoker     region\n",
       "0  female    yes  southwest\n",
       "1    male     no  southeast\n",
       "2     NaN     no  southeast\n",
       "3    male     no  northwest\n",
       "4    male     no  northwest"
      ]
     },
     "execution_count": 46,
     "metadata": {},
     "output_type": "execute_result"
    }
   ],
   "source": [
    "df2.head()"
   ]
  },
  {
   "cell_type": "code",
   "execution_count": 47,
   "id": "1794434c",
   "metadata": {},
   "outputs": [],
   "source": [
    "# creamos nuevas columnas en nuestro dataframe original basándonos en el dataframe de las numericas_trans\n",
    "\n",
    "df2[columnas_knn] = df_knn_imputer[columnas_knn]"
   ]
  },
  {
   "cell_type": "code",
   "execution_count": 48,
   "id": "6104011b",
   "metadata": {
    "scrolled": true
   },
   "outputs": [
    {
     "data": {
      "text/plain": [
       "sex         134\n",
       "smoker       27\n",
       "region        0\n",
       "age           0\n",
       "bmi           0\n",
       "children      0\n",
       "charges       0\n",
       "dtype: int64"
      ]
     },
     "execution_count": 48,
     "metadata": {},
     "output_type": "execute_result"
    }
   ],
   "source": [
    "# chequeamos los nulos. Perfecto! Ya no tenemos ninguno. \n",
    "\n",
    "df2.isnull().sum()"
   ]
  },
  {
   "cell_type": "code",
   "execution_count": null,
   "id": "4b068bf3",
   "metadata": {},
   "outputs": [],
   "source": []
  }
 ],
 "metadata": {
  "kernelspec": {
   "display_name": "ironhack",
   "language": "python",
   "name": "ironhack"
  },
  "language_info": {
   "codemirror_mode": {
    "name": "ipython",
    "version": 3
   },
   "file_extension": ".py",
   "mimetype": "text/x-python",
   "name": "python",
   "nbconvert_exporter": "python",
   "pygments_lexer": "ipython3",
   "version": "3.8.5"
  },
  "toc": {
   "base_numbering": 1,
   "nav_menu": {},
   "number_sections": true,
   "sideBar": true,
   "skip_h1_title": false,
   "title_cell": "Table of Contents",
   "title_sidebar": "Contents",
   "toc_cell": true,
   "toc_position": {
    "height": "calc(100% - 180px)",
    "left": "10px",
    "top": "150px",
    "width": "426.667px"
   },
   "toc_section_display": true,
   "toc_window_display": false
  }
 },
 "nbformat": 4,
 "nbformat_minor": 5
}
