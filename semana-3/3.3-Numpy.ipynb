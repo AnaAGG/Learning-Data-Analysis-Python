{
 "cells": [
  {
   "cell_type": "markdown",
   "id": "ad6cdcab",
   "metadata": {
    "toc": true
   },
   "source": [
    "<h1>Table of Contents<span class=\"tocSkip\"></span></h1>\n",
    "<div class=\"toc\"><ul class=\"toc-item\"><li><span><a href=\"#¿Qué-es-NumPy?\" data-toc-modified-id=\"¿Qué-es-NumPy?-1\"><span class=\"toc-item-num\">1&nbsp;&nbsp;</span>¿Qué es NumPy?</a></span><ul class=\"toc-item\"><li><span><a href=\"#Antes-de-empezar\" data-toc-modified-id=\"Antes-de-empezar-1.1\"><span class=\"toc-item-num\">1.1&nbsp;&nbsp;</span>Antes de empezar</a></span></li><li><span><a href=\"#¿Qué-son-los-arrays?\" data-toc-modified-id=\"¿Qué-son-los-arrays?-1.2\"><span class=\"toc-item-num\">1.2&nbsp;&nbsp;</span>¿Qué son los <strong>arrays</strong>?</a></span></li></ul></li><li><span><a href=\"#Propiedades-de-los-arrays\" data-toc-modified-id=\"Propiedades-de-los-arrays-2\"><span class=\"toc-item-num\">2&nbsp;&nbsp;</span>Propiedades de los arrays</a></span></li><li><span><a href=\"#Creación-de-arrays\" data-toc-modified-id=\"Creación-de-arrays-3\"><span class=\"toc-item-num\">3&nbsp;&nbsp;</span>Creación de arrays</a></span><ul class=\"toc-item\"><li><span><a href=\"#np.array():\" data-toc-modified-id=\"np.array():-3.1\"><span class=\"toc-item-num\">3.1&nbsp;&nbsp;</span><code>np.array()</code>:</a></span></li><li><span><a href=\"#np.arange():\" data-toc-modified-id=\"np.arange():-3.2\"><span class=\"toc-item-num\">3.2&nbsp;&nbsp;</span><code>np.arange()</code>:</a></span></li><li><span><a href=\"#np.zeros():\" data-toc-modified-id=\"np.zeros():-3.3\"><span class=\"toc-item-num\">3.3&nbsp;&nbsp;</span><code>np.zeros()</code>:</a></span></li><li><span><a href=\"#np.ones():\" data-toc-modified-id=\"np.ones():-3.4\"><span class=\"toc-item-num\">3.4&nbsp;&nbsp;</span><code>np.ones()</code>:</a></span></li><li><span><a href=\"#np.empty():\" data-toc-modified-id=\"np.empty():-3.5\"><span class=\"toc-item-num\">3.5&nbsp;&nbsp;</span><code>np.empty()</code>:</a></span></li><li><span><a href=\"#np.identity():\" data-toc-modified-id=\"np.identity():-3.6\"><span class=\"toc-item-num\">3.6&nbsp;&nbsp;</span><code>np.identity()</code>:</a></span></li><li><span><a href=\"#np.eye():\" data-toc-modified-id=\"np.eye():-3.7\"><span class=\"toc-item-num\">3.7&nbsp;&nbsp;</span><code>np.eye()</code>:</a></span></li><li><span><a href=\"#Otros-métodos\" data-toc-modified-id=\"Otros-métodos-3.8\"><span class=\"toc-item-num\">3.8&nbsp;&nbsp;</span>Otros métodos</a></span></li></ul></li><li><span><a href=\"#Indexación-en-arrays\" data-toc-modified-id=\"Indexación-en-arrays-4\"><span class=\"toc-item-num\">4&nbsp;&nbsp;</span>Indexación en arrays</a></span><ul class=\"toc-item\"><li><span><a href=\"#Unidimensional\" data-toc-modified-id=\"Unidimensional-4.1\"><span class=\"toc-item-num\">4.1&nbsp;&nbsp;</span>Unidimensional</a></span></li><li><span><a href=\"#Bidimensional\" data-toc-modified-id=\"Bidimensional-4.2\"><span class=\"toc-item-num\">4.2&nbsp;&nbsp;</span>Bidimensional</a></span></li><li><span><a href=\"#Multidimensional\" data-toc-modified-id=\"Multidimensional-4.3\"><span class=\"toc-item-num\">4.3&nbsp;&nbsp;</span>Multidimensional</a></span></li></ul></li><li><span><a href=\"#Subsets\" data-toc-modified-id=\"Subsets-5\"><span class=\"toc-item-num\">5&nbsp;&nbsp;</span>Subsets</a></span></li><li><span><a href=\"#Operaciones-con-arrays\" data-toc-modified-id=\"Operaciones-con-arrays-6\"><span class=\"toc-item-num\">6&nbsp;&nbsp;</span>Operaciones con arrays</a></span><ul class=\"toc-item\"><li><span><a href=\"#Operaciones-entre-arrays\" data-toc-modified-id=\"Operaciones-entre-arrays-6.1\"><span class=\"toc-item-num\">6.1&nbsp;&nbsp;</span>Operaciones entre <em>arrays</em></a></span><ul class=\"toc-item\"><li><span><a href=\"#suma\" data-toc-modified-id=\"suma-6.1.1\"><span class=\"toc-item-num\">6.1.1&nbsp;&nbsp;</span><code>suma</code></a></span></li><li><span><a href=\"#resta\" data-toc-modified-id=\"resta-6.1.2\"><span class=\"toc-item-num\">6.1.2&nbsp;&nbsp;</span><code>resta</code></a></span></li><li><span><a href=\"#multiplicación\" data-toc-modified-id=\"multiplicación-6.1.3\"><span class=\"toc-item-num\">6.1.3&nbsp;&nbsp;</span><code>multiplicación</code></a></span></li><li><span><a href=\"#división\" data-toc-modified-id=\"división-6.1.4\"><span class=\"toc-item-num\">6.1.4&nbsp;&nbsp;</span><code>división</code></a></span></li><li><span><a href=\"#division-entera\" data-toc-modified-id=\"division-entera-6.1.5\"><span class=\"toc-item-num\">6.1.5&nbsp;&nbsp;</span><code>division entera</code></a></span></li></ul></li><li><span><a href=\"#Operaciones-array---escalar\" data-toc-modified-id=\"Operaciones-array---escalar-6.2\"><span class=\"toc-item-num\">6.2&nbsp;&nbsp;</span>Operaciones array - escalar</a></span></li><li><span><a href=\"#Operaciones-estadísticas\" data-toc-modified-id=\"Operaciones-estadísticas-6.3\"><span class=\"toc-item-num\">6.3&nbsp;&nbsp;</span>Operaciones estadísticas</a></span><ul class=\"toc-item\"><li><span><a href=\"#np.mean()\" data-toc-modified-id=\"np.mean()-6.3.1\"><span class=\"toc-item-num\">6.3.1&nbsp;&nbsp;</span><code>np.mean()</code></a></span></li><li><span><a href=\"#np.std()\" data-toc-modified-id=\"np.std()-6.3.2\"><span class=\"toc-item-num\">6.3.2&nbsp;&nbsp;</span><code>np.std()</code></a></span></li><li><span><a href=\"#np.var()\" data-toc-modified-id=\"np.var()-6.3.3\"><span class=\"toc-item-num\">6.3.3&nbsp;&nbsp;</span><code>np.var()</code></a></span></li></ul></li><li><span><a href=\"#Operaciones-aritméticas\" data-toc-modified-id=\"Operaciones-aritméticas-6.4\"><span class=\"toc-item-num\">6.4&nbsp;&nbsp;</span>Operaciones aritméticas</a></span><ul class=\"toc-item\"><li><span><a href=\"#np.min()\" data-toc-modified-id=\"np.min()-6.4.1\"><span class=\"toc-item-num\">6.4.1&nbsp;&nbsp;</span><code>np.min()</code></a></span></li><li><span><a href=\"#np.max()\" data-toc-modified-id=\"np.max()-6.4.2\"><span class=\"toc-item-num\">6.4.2&nbsp;&nbsp;</span><code>np.max()</code></a></span></li><li><span><a href=\"#np.sum()\" data-toc-modified-id=\"np.sum()-6.4.3\"><span class=\"toc-item-num\">6.4.3&nbsp;&nbsp;</span><code>np.sum()</code></a></span></li><li><span><a href=\"#np.cumsum()\" data-toc-modified-id=\"np.cumsum()-6.4.4\"><span class=\"toc-item-num\">6.4.4&nbsp;&nbsp;</span><code>np.cumsum()</code></a></span></li><li><span><a href=\"#np.cumprod()\" data-toc-modified-id=\"np.cumprod()-6.4.5\"><span class=\"toc-item-num\">6.4.5&nbsp;&nbsp;</span><code>np.cumprod()</code></a></span></li><li><span><a href=\"#np.sqrt()\" data-toc-modified-id=\"np.sqrt()-6.4.6\"><span class=\"toc-item-num\">6.4.6&nbsp;&nbsp;</span><code>np.sqrt()</code></a></span></li><li><span><a href=\"#np.exp()\" data-toc-modified-id=\"np.exp()-6.4.7\"><span class=\"toc-item-num\">6.4.7&nbsp;&nbsp;</span><code>np.exp()</code></a></span></li></ul></li><li><span><a href=\"#Operaciones-de-comparación\" data-toc-modified-id=\"Operaciones-de-comparación-6.5\"><span class=\"toc-item-num\">6.5&nbsp;&nbsp;</span>Operaciones de comparación</a></span><ul class=\"toc-item\"><li><span><a href=\"#np.any()\" data-toc-modified-id=\"np.any()-6.5.1\"><span class=\"toc-item-num\">6.5.1&nbsp;&nbsp;</span><code>np.any()</code></a></span></li><li><span><a href=\"#np.all()\" data-toc-modified-id=\"np.all()-6.5.2\"><span class=\"toc-item-num\">6.5.2&nbsp;&nbsp;</span><code>np.all()</code></a></span></li></ul></li><li><span><a href=\"#Operaciones-trigonométricas\" data-toc-modified-id=\"Operaciones-trigonométricas-6.6\"><span class=\"toc-item-num\">6.6&nbsp;&nbsp;</span>Operaciones trigonométricas</a></span><ul class=\"toc-item\"><li><span><a href=\"#np.cos()\" data-toc-modified-id=\"np.cos()-6.6.1\"><span class=\"toc-item-num\">6.6.1&nbsp;&nbsp;</span><code>np.cos()</code></a></span></li><li><span><a href=\"#np.sin()\" data-toc-modified-id=\"np.sin()-6.6.2\"><span class=\"toc-item-num\">6.6.2&nbsp;&nbsp;</span><code>np.sin()</code></a></span></li><li><span><a href=\"#np.tan()\" data-toc-modified-id=\"np.tan()-6.6.3\"><span class=\"toc-item-num\">6.6.3&nbsp;&nbsp;</span><code>np.tan()</code></a></span></li></ul></li><li><span><a href=\"#Otras-operaciones\" data-toc-modified-id=\"Otras-operaciones-6.7\"><span class=\"toc-item-num\">6.7&nbsp;&nbsp;</span>Otras operaciones</a></span><ul class=\"toc-item\"><li><span><a href=\"#np.sort()\" data-toc-modified-id=\"np.sort()-6.7.1\"><span class=\"toc-item-num\">6.7.1&nbsp;&nbsp;</span><code>np.sort()</code></a></span></li><li><span><a href=\"#np.roud()\" data-toc-modified-id=\"np.roud()-6.7.2\"><span class=\"toc-item-num\">6.7.2&nbsp;&nbsp;</span><code>np.roud()</code></a></span></li><li><span><a href=\"#np.where()\" data-toc-modified-id=\"np.where()-6.7.3\"><span class=\"toc-item-num\">6.7.3&nbsp;&nbsp;</span><code>np.where()</code></a></span></li></ul></li></ul></li><li><span><a href=\"#Métodos-de-los-arrays\" data-toc-modified-id=\"Métodos-de-los-arrays-7\"><span class=\"toc-item-num\">7&nbsp;&nbsp;</span>Métodos de los arrays</a></span><ul class=\"toc-item\"><li><span><a href=\"#np.copy():\" data-toc-modified-id=\"np.copy():-7.1\"><span class=\"toc-item-num\">7.1&nbsp;&nbsp;</span><code>np.copy()</code>:</a></span></li><li><span><a href=\"#np.transpose():\" data-toc-modified-id=\"np.transpose():-7.2\"><span class=\"toc-item-num\">7.2&nbsp;&nbsp;</span><code>np.transpose()</code>:</a></span><ul class=\"toc-item\"><li><span><a href=\"#Bidimensional\" data-toc-modified-id=\"Bidimensional-7.2.1\"><span class=\"toc-item-num\">7.2.1&nbsp;&nbsp;</span>Bidimensional</a></span></li><li><span><a href=\"#Multidimensional\" data-toc-modified-id=\"Multidimensional-7.2.2\"><span class=\"toc-item-num\">7.2.2&nbsp;&nbsp;</span>Multidimensional</a></span></li></ul></li><li><span><a href=\"#np.reshape():\" data-toc-modified-id=\"np.reshape():-7.3\"><span class=\"toc-item-num\">7.3&nbsp;&nbsp;</span><code>np.reshape()</code>:</a></span></li><li><span><a href=\"#np.swapaxes():\" data-toc-modified-id=\"np.swapaxes():-7.4\"><span class=\"toc-item-num\">7.4&nbsp;&nbsp;</span><code>np.swapaxes()</code>:</a></span></li></ul></li><li><span><a href=\"#Funciones-de-vectores\" data-toc-modified-id=\"Funciones-de-vectores-8\"><span class=\"toc-item-num\">8&nbsp;&nbsp;</span>Funciones de vectores</a></span><ul class=\"toc-item\"><li><span><a href=\"#np.unique():\" data-toc-modified-id=\"np.unique():-8.1\"><span class=\"toc-item-num\">8.1&nbsp;&nbsp;</span><code>np.unique()</code>:</a></span></li><li><span><a href=\"#np.intersect1d()\" data-toc-modified-id=\"np.intersect1d()-8.2\"><span class=\"toc-item-num\">8.2&nbsp;&nbsp;</span><code>np.intersect1d()</code></a></span></li><li><span><a href=\"#np.union1d()\" data-toc-modified-id=\"np.union1d()-8.3\"><span class=\"toc-item-num\">8.3&nbsp;&nbsp;</span><code>np.union1d()</code></a></span></li><li><span><a href=\"#np.in1d()\" data-toc-modified-id=\"np.in1d()-8.4\"><span class=\"toc-item-num\">8.4&nbsp;&nbsp;</span><code>np.in1d()</code></a></span></li><li><span><a href=\"#np.setxor1d()\" data-toc-modified-id=\"np.setxor1d()-8.5\"><span class=\"toc-item-num\">8.5&nbsp;&nbsp;</span><code>np.setxor1d()</code></a></span></li><li><span><a href=\"#np.setdiff1d()\" data-toc-modified-id=\"np.setdiff1d()-8.6\"><span class=\"toc-item-num\">8.6&nbsp;&nbsp;</span><code>np.setdiff1d()</code></a></span></li></ul></li></ul></div>"
   ]
  },
  {
   "cell_type": "markdown",
   "id": "672f9f40",
   "metadata": {},
   "source": [
    "#  ¿Qué es NumPy?"
   ]
  },
  {
   "cell_type": "markdown",
   "id": "0ea63f60",
   "metadata": {},
   "source": [
    "NumPy (acrónimo de *Numerical Python*) es una librería especializada en el cálculo numérico y el análisis de datos, especialmente para un gran volumen de datos. \n",
    "\n",
    "Incorpora una nueva clase de objetos llamados *arrays*  que permite representar colecciones de datos **de un mismo tipo** en varias dimensiones, y funciones muy eficientes para su manipulación. "
   ]
  },
  {
   "attachments": {
    "image.png": {
     "image/png": "[encoded data removed]"
    }
   },
   "cell_type": "markdown",
   "id": "4b0a6970",
   "metadata": {},
   "source": [
    "![image.png](attachment:image.png)"
   ]
  },
  {
   "cell_type": "markdown",
   "id": "f147d808",
   "metadata": {},
   "source": [
    "## Antes de empezar "
   ]
  },
  {
   "cell_type": "markdown",
   "id": "132055a4",
   "metadata": {},
   "source": [
    "Antes de empezar a trabajar con NumPy necesitamos instalarnos NumPy desde nuestra terminal. Para ello: \n",
    "\n",
    "1️⃣ Abrimos la terminal, podemos estar en cualquier parte de la terminal\n",
    "\n",
    "2️⃣ Escribimos: \n",
    "\n",
    "```\n",
    "pip install numpy\n",
    "\n",
    "# si nos da error hacemos\n",
    "\n",
    "pip3 install numpy\n",
    "```\n",
    "\n",
    "3️⃣ Una vez que ya lo tenemos instalado podemos abrir un jupyter e importar la librería. ¿Cómo lo hacemos? \n",
    "\n",
    "```python\n",
    "import pandas as pd\n",
    "```\n"
   ]
  },
  {
   "cell_type": "markdown",
   "id": "5d96ae30",
   "metadata": {},
   "source": [
    "Podemos ejecutar comandos de terminal en el jupyter poniendo una `!`antes del comando"
   ]
  },
  {
   "cell_type": "code",
   "execution_count": null,
   "id": "c83ea64f",
   "metadata": {},
   "outputs": [],
   "source": [
    "!pip list"
   ]
  },
  {
   "cell_type": "code",
   "execution_count": null,
   "id": "08b507a0",
   "metadata": {},
   "outputs": [],
   "source": [
    "!pip install numpy"
   ]
  },
  {
   "cell_type": "markdown",
   "id": "f1ebdc09",
   "metadata": {},
   "source": [
    "## ¿Qué son los **arrays**?  "
   ]
  },
  {
   "attachments": {
    "image.png": {
     "image/png": "[encoded data removed]"
    }
   },
   "cell_type": "markdown",
   "id": "dcc902d9",
   "metadata": {},
   "source": [
    "Un *array* o arreglos numéricos es una estructura de datos de un mismo tipo organizada en forma de tabla o cuadricula de distintas dimensiones ( a las dimensiones de un *array* también se las conoce como ejes). Son parecidos a las listas solo que con algunas diferencias: \n",
    "\n",
    "- Solo permite almacenar datos del mismo tipo. \n",
    "\n",
    "\n",
    "- Son mas pesados, pero más rápidos computacionalmente. \n",
    "\n",
    "\n",
    "- Permiten crear facilmente *arrays* de n-dimensiones. \n",
    "\n",
    "\n",
    "**¿Qué tipo de *arrays* tenemos en NumPy?**\n",
    "\n",
    "- `Unidimensionales` o `1D array`: contiene elementos solo en una dimension. Es decir, la forma del *array* debe contener solo un valor. Se puede imaginar como si se tratase de una **lista** de datos en la cual, para referirnos a cada elemento de dicha lista, emplearemos un número (índice) para indicar la posición en la que podemos encontrar dicho elemento dentro de ella.\n",
    "\n",
    "\n",
    "- `Bidimensionales` o `2D array`: se pueden definir como matrices que se pueden representar como una colección de datos almacenados en filas y columnas\n",
    "\n",
    "\n",
    "- `Multidimensional` o `3D array`: son *arrays* que tienen dos o más dimensiones. En este caso el número de índices viene determinado por el número de dimensiones de nuestro *array*, por ejemplo, para un array tridimensional el número de índices sería 3.\n",
    "\n",
    "\n",
    "![image.png](attachment:image.png)"
   ]
  },
  {
   "cell_type": "markdown",
   "id": "09ec7773",
   "metadata": {},
   "source": [
    "# Propiedades de los arrays "
   ]
  },
  {
   "cell_type": "markdown",
   "id": "2c7ce426",
   "metadata": {},
   "source": [
    "Las propiedades permiten obtener información de las dimesiones de un *array*, el número y tipo de elementos que pueden contener. Veamos algunos de los principales: "
   ]
  },
  {
   "cell_type": "code",
   "execution_count": 2,
   "id": "3e3f4479",
   "metadata": {},
   "outputs": [],
   "source": [
    "import numpy as np"
   ]
  },
  {
   "cell_type": "code",
   "execution_count": 3,
   "id": "26eaec19",
   "metadata": {},
   "outputs": [
    {
     "data": {
      "text/plain": [
       "array([[0.20845079, 0.16026039, 0.16591904],\n",
       "       [0.50658242, 0.09323878, 0.59060507]])"
      ]
     },
     "execution_count": 3,
     "metadata": {},
     "output_type": "execute_result"
    }
   ],
   "source": [
    "# lo primero que vamos a hacer es crear un array (luego veremos más)\n",
    "## en detalle como crear arrays de NumPy\n",
    "\n",
    "# en este ejemplo estamos creando un array de 2 filas x 3 columnas\n",
    "a = np.random.random_sample((2,3))\n",
    "a"
   ]
  },
  {
   "cell_type": "code",
   "execution_count": 4,
   "id": "483547fa",
   "metadata": {},
   "outputs": [
    {
     "data": {
      "text/plain": [
       "numpy.ndarray"
      ]
     },
     "execution_count": 4,
     "metadata": {},
     "output_type": "execute_result"
    }
   ],
   "source": [
    "type(a)"
   ]
  },
  {
   "cell_type": "code",
   "execution_count": 5,
   "id": "b4e9cf11",
   "metadata": {},
   "outputs": [],
   "source": [
    "lista = [[1,2,3],[3,4,5]]"
   ]
  },
  {
   "cell_type": "code",
   "execution_count": 6,
   "id": "f0bab4ec",
   "metadata": {},
   "outputs": [
    {
     "data": {
      "text/plain": [
       "list"
      ]
     },
     "execution_count": 6,
     "metadata": {},
     "output_type": "execute_result"
    }
   ],
   "source": [
    "type(lista)"
   ]
  },
  {
   "cell_type": "markdown",
   "id": "6c8d3f09",
   "metadata": {},
   "source": [
    "`ndim`: nos permite conocer el número de dimensiones de nuestro *array* "
   ]
  },
  {
   "cell_type": "code",
   "execution_count": 3,
   "id": "811006a9",
   "metadata": {},
   "outputs": [
    {
     "data": {
      "text/plain": [
       "2"
      ]
     },
     "execution_count": 3,
     "metadata": {},
     "output_type": "execute_result"
    }
   ],
   "source": [
    "# nuestro array tiene dos dimensiones, filas y columnas\n",
    "\n",
    "a.ndim"
   ]
  },
  {
   "cell_type": "markdown",
   "id": "1c078c0a",
   "metadata": {},
   "source": [
    "`shape`: nos permite conocer la forma del *array* "
   ]
  },
  {
   "cell_type": "code",
   "execution_count": 4,
   "id": "37615dbe",
   "metadata": {},
   "outputs": [
    {
     "data": {
      "text/plain": [
       "(2, 3)"
      ]
     },
     "execution_count": 4,
     "metadata": {},
     "output_type": "execute_result"
    }
   ],
   "source": [
    "# nuestro array tiene 2 filas y 3 columnas\n",
    "\n",
    "a.shape"
   ]
  },
  {
   "cell_type": "markdown",
   "id": "66b93579",
   "metadata": {},
   "source": [
    "`size`: nos permite conocer el tamaño o número de elemetos de nuestro *array* "
   ]
  },
  {
   "cell_type": "code",
   "execution_count": 5,
   "id": "0292d671",
   "metadata": {},
   "outputs": [
    {
     "data": {
      "text/plain": [
       "6"
      ]
     },
     "execution_count": 5,
     "metadata": {},
     "output_type": "execute_result"
    }
   ],
   "source": [
    "# nuestro array tiene 6 elementos\n",
    "\n",
    "a.size"
   ]
  },
  {
   "cell_type": "markdown",
   "id": "17c49a59",
   "metadata": {},
   "source": [
    "`dtype`: obtenemos el tipo de los datos de nuestro *array*"
   ]
  },
  {
   "cell_type": "code",
   "execution_count": 6,
   "id": "a35223a2",
   "metadata": {},
   "outputs": [
    {
     "data": {
      "text/plain": [
       "dtype('float64')"
      ]
     },
     "execution_count": 6,
     "metadata": {},
     "output_type": "execute_result"
    }
   ],
   "source": [
    "# los datos que tenemos en nuestro array son de tipo float\n",
    "\n",
    "a.dtype"
   ]
  },
  {
   "cell_type": "markdown",
   "id": "58030e02",
   "metadata": {},
   "source": [
    "# Creación de arrays"
   ]
  },
  {
   "cell_type": "markdown",
   "id": "73982c4b",
   "metadata": {},
   "source": [
    "## `np.array()`: \n",
    "\n",
    "Es la forma más simple de crear un *array* a partir de un iterador como una lista. "
   ]
  },
  {
   "cell_type": "code",
   "execution_count": 7,
   "id": "8297c07e",
   "metadata": {},
   "outputs": [
    {
     "data": {
      "text/plain": [
       "array([2, 3, 5])"
      ]
     },
     "execution_count": 7,
     "metadata": {},
     "output_type": "execute_result"
    }
   ],
   "source": [
    "# unidimensional, a partir de una lista\n",
    "\n",
    "lista = [2,3,5]\n",
    "\n",
    "array1 = np.array(lista)\n",
    "array1"
   ]
  },
  {
   "cell_type": "code",
   "execution_count": 8,
   "id": "f06e6139",
   "metadata": {},
   "outputs": [
    {
     "data": {
      "text/plain": [
       "array([[1, 2, 3],\n",
       "       [4, 5, 6]])"
      ]
     },
     "execution_count": 8,
     "metadata": {},
     "output_type": "execute_result"
    }
   ],
   "source": [
    "# bidimensional, a partir de una lista de listas\n",
    "\n",
    "lista2 = [[1,2,3], [4,5,6]]\n",
    "\n",
    "array2 = np.array(lista2)\n",
    "array2"
   ]
  },
  {
   "cell_type": "code",
   "execution_count": 9,
   "id": "d05f8e34",
   "metadata": {},
   "outputs": [
    {
     "data": {
      "text/plain": [
       "array([[[ 1,  2,  3],\n",
       "        [ 4,  5,  6]],\n",
       "\n",
       "       [[ 7,  8,  9],\n",
       "        [10, 11, 12]]])"
      ]
     },
     "execution_count": 9,
     "metadata": {},
     "output_type": "execute_result"
    }
   ],
   "source": [
    "# tridimensional, a partir de una lista de listas de listas\n",
    "\n",
    "lista3 = [[[1,2,3], [4,5,6]], [[7,8,9], [10,11,12]]]\n",
    "array3 = np.array(lista3)\n",
    "array3\n"
   ]
  },
  {
   "cell_type": "markdown",
   "id": "d74c9d0e",
   "metadata": {},
   "source": [
    "## `np.arange()`: \n",
    "\n"
   ]
  },
  {
   "cell_type": "markdown",
   "id": "e0f44a2e",
   "metadata": {},
   "source": [
    "Nos permite crear *arrays* con valores uniformes dentro de un intervalo determinado. \n",
    "\n",
    "```python\n",
    "np.arange(start, stop, step)\n",
    "```\n",
    "\n",
    "Nos devuelve un *array* unidimensional"
   ]
  },
  {
   "cell_type": "code",
   "execution_count": 12,
   "id": "09513e5e",
   "metadata": {},
   "outputs": [
    {
     "data": {
      "text/plain": [
       "array([1, 2, 3, 4, 5, 6, 7, 8, 9])"
      ]
     },
     "execution_count": 12,
     "metadata": {},
     "output_type": "execute_result"
    }
   ],
   "source": [
    "# creamos un array unidimensional con números del 1 al 9\n",
    "\n",
    "array4 = np.arange(1,10)\n",
    "array4 "
   ]
  },
  {
   "cell_type": "code",
   "execution_count": 17,
   "id": "f3c4b89d",
   "metadata": {},
   "outputs": [
    {
     "data": {
      "text/plain": [
       "array([1, 3, 5, 7, 9])"
      ]
     },
     "execution_count": 17,
     "metadata": {},
     "output_type": "execute_result"
    }
   ],
   "source": [
    "# creamos un array unidimensional con números del 1 al 9 con saltos de dos en dos\n",
    "\n",
    "array5 = np.arange(1,10, 2)\n",
    "array5"
   ]
  },
  {
   "cell_type": "markdown",
   "id": "52640a29",
   "metadata": {},
   "source": [
    "## `np.zeros()`: \n",
    "\n",
    "Nos permite crear *arrays* de un tamaño especificado inicializados con ceros. \n",
    "\n",
    "```python\n",
    "np.zeros(shape, dtype=float, order='C')\n",
    "```\n",
    "\n",
    "⚠️ Tanto `dtype` como `order` son parámetros opcionales. \n",
    "\n",
    "- `dtype`: por defecto float\n",
    "\n",
    "\n",
    "- `order`: indica como se llenarán los *arrays*. \n",
    "\n",
    "    - F: primero filas\n",
    "    \n",
    "    - C: primero columnas (por defecto)"
   ]
  },
  {
   "cell_type": "code",
   "execution_count": 14,
   "id": "9ebac70c",
   "metadata": {},
   "outputs": [
    {
     "data": {
      "text/plain": [
       "array([0., 0., 0.])"
      ]
     },
     "execution_count": 14,
     "metadata": {},
     "output_type": "execute_result"
    }
   ],
   "source": [
    "# unidimensional \n",
    "\n",
    "ceros1 = np.zeros(3, dtype = float)\n",
    "ceros1"
   ]
  },
  {
   "cell_type": "code",
   "execution_count": 12,
   "id": "d335e447",
   "metadata": {},
   "outputs": [
    {
     "data": {
      "text/plain": [
       "array([[0, 0, 0],\n",
       "       [0, 0, 0]])"
      ]
     },
     "execution_count": 12,
     "metadata": {},
     "output_type": "execute_result"
    }
   ],
   "source": [
    "# bidimensional\n",
    "\n",
    "ceros2 = np.zeros((2,3), dtype = int)\n",
    "ceros2"
   ]
  },
  {
   "cell_type": "code",
   "execution_count": 15,
   "id": "f5764859",
   "metadata": {},
   "outputs": [
    {
     "data": {
      "text/plain": [
       "array([[[0, 0, 0, 0, 0],\n",
       "        [0, 0, 0, 0, 0],\n",
       "        [0, 0, 0, 0, 0]],\n",
       "\n",
       "       [[0, 0, 0, 0, 0],\n",
       "        [0, 0, 0, 0, 0],\n",
       "        [0, 0, 0, 0, 0]]])"
      ]
     },
     "execution_count": 15,
     "metadata": {},
     "output_type": "execute_result"
    }
   ],
   "source": [
    "# tridimensional. 2 matrices de 3 filas x 5 columnas. \n",
    "\n",
    "ceros3 = np.zeros((2,3, 5), dtype = int)\n",
    "ceros3"
   ]
  },
  {
   "cell_type": "markdown",
   "id": "d385cafc",
   "metadata": {},
   "source": [
    "## `np.ones()`:\n",
    "\n",
    "Es igual que `np.zeros`, solo que en este caso se rellenará la matriz con unos. \n",
    "\n",
    "\n",
    "```python\n",
    "np.ones(shape, dtype=float, order='C')\n",
    "```"
   ]
  },
  {
   "cell_type": "code",
   "execution_count": 18,
   "id": "b177c3c9",
   "metadata": {},
   "outputs": [
    {
     "data": {
      "text/plain": [
       "array([1., 1., 1., 1.])"
      ]
     },
     "execution_count": 18,
     "metadata": {},
     "output_type": "execute_result"
    }
   ],
   "source": [
    "# unidimensional \n",
    "\n",
    "unos1 = np.ones(4)\n",
    "unos1"
   ]
  },
  {
   "cell_type": "code",
   "execution_count": 20,
   "id": "94acdce1",
   "metadata": {},
   "outputs": [
    {
     "data": {
      "text/plain": [
       "array([[1., 1., 1.],\n",
       "       [1., 1., 1.]])"
      ]
     },
     "execution_count": 20,
     "metadata": {},
     "output_type": "execute_result"
    }
   ],
   "source": [
    "# bidimensional, 2 filas x 3 columnas\n",
    "\n",
    "unos2 = np.ones((2,3))\n",
    "unos2"
   ]
  },
  {
   "cell_type": "code",
   "execution_count": 118,
   "id": "49aaf59c",
   "metadata": {},
   "outputs": [
    {
     "data": {
      "text/plain": [
       "array([[[1., 1., 1., 1., 1., 1.],\n",
       "        [1., 1., 1., 1., 1., 1.],\n",
       "        [1., 1., 1., 1., 1., 1.]],\n",
       "\n",
       "       [[1., 1., 1., 1., 1., 1.],\n",
       "        [1., 1., 1., 1., 1., 1.],\n",
       "        [1., 1., 1., 1., 1., 1.]]])"
      ]
     },
     "execution_count": 118,
     "metadata": {},
     "output_type": "execute_result"
    }
   ],
   "source": [
    "# tridimensional. 2 matrices de 3 filas x 6 columnas\n",
    "\n",
    "unos3 = np.ones((2,3,6))\n",
    "unos3"
   ]
  },
  {
   "cell_type": "markdown",
   "id": "6ed12421",
   "metadata": {},
   "source": [
    "## `np.empty()`: \n",
    "\n",
    "Nos permite crear \"*arrays* vacíos\" con las dimensiones especificadas. \n",
    "\n",
    "📌 Los valores que se generan en este array son los que estén almacenados en ese momento en la memoria, lo que podría parecer aleatoriedad."
   ]
  },
  {
   "cell_type": "code",
   "execution_count": 119,
   "id": "824b6676",
   "metadata": {},
   "outputs": [
    {
     "data": {
      "text/plain": [
       "array([[0.0e+000, 1.5e-323, 2.0e-323],\n",
       "       [2.5e-323, 3.0e-323, 4.0e-323]])"
      ]
     },
     "execution_count": 119,
     "metadata": {},
     "output_type": "execute_result"
    }
   ],
   "source": [
    "np.empty((2,3))"
   ]
  },
  {
   "cell_type": "markdown",
   "id": "1983563b",
   "metadata": {},
   "source": [
    "## `np.identity()`: \n",
    "\n",
    "Nos permite crear una matriz identidad.\n",
    "\n",
    "📌Una matriz de identidad es una matriz con ceros en las filas y columnas excepto en la diagonal que tendremos unos\n",
    "\n",
    "En este caso es imposible cambiar la posición de la diagonal.\n",
    "\n",
    "```python\n",
    "# sintaxis\n",
    "\n",
    "np.identity(n, dtype=None)\n",
    "\n",
    "```\n",
    "\n",
    "Donde: \n",
    "\n",
    "- `n`: es el numero de filas y columnas, generará un *array* de n x n\n",
    "\n",
    "\n",
    "- `dtype`: por defecto float"
   ]
  },
  {
   "cell_type": "code",
   "execution_count": 46,
   "id": "b6ca4b87",
   "metadata": {},
   "outputs": [
    {
     "data": {
      "text/plain": [
       "array([[1., 0., 0., 0.],\n",
       "       [0., 1., 0., 0.],\n",
       "       [0., 0., 1., 0.],\n",
       "       [0., 0., 0., 1.]])"
      ]
     },
     "execution_count": 46,
     "metadata": {},
     "output_type": "execute_result"
    }
   ],
   "source": [
    "iden2 = np.identity(4)\n",
    "iden2"
   ]
  },
  {
   "cell_type": "markdown",
   "id": "228ae335",
   "metadata": {},
   "source": [
    "## `np.eye()`: \n",
    "\n",
    "Nos permite crear una matriz identidad. \n",
    "\n",
    "⚠️ La diferencia con `np.identity` es que en este caso si que podemos modificar la posición de la diagonal con el parámetro `k`. \n",
    "\n",
    "```python\n",
    "np.eye(N, M=None, k=0, dtype= float)\n",
    "\n",
    "```\n",
    "\n",
    "Donde: \n",
    "\n",
    "- `N`: número de filas\n",
    "\n",
    "\n",
    "- `M`: número de columnas (opcional). Si no pasamos este parámetro se generará un *array* de N x N. \n",
    "\n",
    "\n",
    "- `k`: índice de la diagonal, 0 por defecto (la diagonal principal). \n",
    "\n",
    "    - Un valor positivo se refiere a subir la diagonal\n",
    "    \n",
    "    - Un valor negativo se refiere a bajar la diagonal"
   ]
  },
  {
   "cell_type": "code",
   "execution_count": 52,
   "id": "03510235",
   "metadata": {},
   "outputs": [
    {
     "data": {
      "text/plain": [
       "array([[1., 0., 0., 0.],\n",
       "       [0., 1., 0., 0.],\n",
       "       [0., 0., 1., 0.],\n",
       "       [0., 0., 0., 1.]])"
      ]
     },
     "execution_count": 52,
     "metadata": {},
     "output_type": "execute_result"
    }
   ],
   "source": [
    "eye1 = np.eye(4)\n",
    "eye1"
   ]
  },
  {
   "cell_type": "code",
   "execution_count": 55,
   "id": "13fac432",
   "metadata": {},
   "outputs": [
    {
     "data": {
      "text/plain": [
       "array([[0., 1., 0., 0.],\n",
       "       [0., 0., 1., 0.],\n",
       "       [0., 0., 0., 1.],\n",
       "       [0., 0., 0., 0.]])"
      ]
     },
     "execution_count": 55,
     "metadata": {},
     "output_type": "execute_result"
    }
   ],
   "source": [
    "# movemos la diagonal una posición hacia arriba\n",
    "\n",
    "eye2 = np.eye(4, k = 1)\n",
    "eye2"
   ]
  },
  {
   "cell_type": "code",
   "execution_count": 57,
   "id": "3fca56eb",
   "metadata": {},
   "outputs": [
    {
     "data": {
      "text/plain": [
       "array([[0., 0., 1., 0.],\n",
       "       [0., 0., 0., 1.],\n",
       "       [0., 0., 0., 0.],\n",
       "       [0., 0., 0., 0.]])"
      ]
     },
     "execution_count": 57,
     "metadata": {},
     "output_type": "execute_result"
    }
   ],
   "source": [
    "# movemos la diagonal dos posiciones hacia arriba\n",
    "\n",
    "eye3 = np.eye(4, k = 2)\n",
    "eye3"
   ]
  },
  {
   "cell_type": "code",
   "execution_count": 58,
   "id": "e725358f",
   "metadata": {},
   "outputs": [
    {
     "data": {
      "text/plain": [
       "array([[0., 0., 0., 0.],\n",
       "       [1., 0., 0., 0.],\n",
       "       [0., 1., 0., 0.],\n",
       "       [0., 0., 1., 0.]])"
      ]
     },
     "execution_count": 58,
     "metadata": {},
     "output_type": "execute_result"
    }
   ],
   "source": [
    "# lo mismo para valores negativos\n",
    "\n",
    "eye4 = np.eye(4, k = -1)\n",
    "eye4"
   ]
  },
  {
   "cell_type": "markdown",
   "id": "fc3e1b15",
   "metadata": {},
   "source": [
    "## Otros métodos"
   ]
  },
  {
   "cell_type": "markdown",
   "id": "4b71e77a",
   "metadata": {},
   "source": [
    "NumPy nos va a permitir crear arrays con números aleatorios con unas dimensiones dadas. Para ello tendremos que usar el método random que encontraremos dentro de la librería NumPy. Veamos algunos ejemplos:\n"
   ]
  },
  {
   "cell_type": "markdown",
   "id": "9339416d",
   "metadata": {},
   "source": [
    "1️⃣ `np.random.randint()`: nos devuelve números enteros aleatorios entre dos valores que le especifiquemos. La sintaxis sería:\n",
    "\n",
    "```python\n",
    "np.random.randint(inicio, final, forma_matriz, dtype)\n",
    "```"
   ]
  },
  {
   "cell_type": "code",
   "execution_count": 114,
   "id": "891967ab",
   "metadata": {},
   "outputs": [
    {
     "data": {
      "text/plain": [
       "array([[[ 5, 83, 49, 80, 75],\n",
       "        [ 3, 46, 38, 13, 77],\n",
       "        [74, 19, 58, 95, 51]],\n",
       "\n",
       "       [[60, 60, 14, 98, 86],\n",
       "        [14, 37,  7, 92, 26],\n",
       "        [29, 83, 67, 54, 33]]])"
      ]
     },
     "execution_count": 114,
     "metadata": {},
     "output_type": "execute_result"
    }
   ],
   "source": [
    "# estamos generando dos arrays de 3 filas x  5 columnas con números aleatorios del 0-100\n",
    "\n",
    "a = np.random.randint(0,100, (2,3,5))\n",
    "a\n"
   ]
  },
  {
   "cell_type": "markdown",
   "id": "8c308eba",
   "metadata": {},
   "source": [
    "2️⃣ `np.random.rand()`: nos devuelve un *array* con la forma que le especifiquemos. La sintaxis sería:\n",
    "\n",
    "```python\n",
    "random.rand(d0, d1, ..., dn)\n",
    "\n",
    "# donde d serán las dimensiones de nuestro array\n",
    "```\n",
    "\n",
    "📝 NOTA: en este caso no tenemos que especificar que entre que valores queremos que nos genere los números. POR DEFECTO NOS GENERARÁ NÚMEROS ALEATORIOS ENTRE EL 0-1\n",
    "\n",
    "📝 NOTA: Solo nos dará floats no hace falta especificar el tipo"
   ]
  },
  {
   "cell_type": "code",
   "execution_count": 115,
   "id": "f9d832c2",
   "metadata": {},
   "outputs": [
    {
     "data": {
      "text/plain": [
       "array([[[0.5757254 , 0.18964726, 0.77490032, 0.36311837, 0.00241061],\n",
       "        [0.30617038, 0.93095633, 0.61978655, 0.63930895, 0.26800164],\n",
       "        [0.64920658, 0.28300109, 0.97307746, 0.26916085, 0.25698451]],\n",
       "\n",
       "       [[0.82268098, 0.23936837, 0.16006727, 0.89064727, 0.54870325],\n",
       "        [0.86254741, 0.49905274, 0.3807686 , 0.61351226, 0.05902227],\n",
       "        [0.91198688, 0.04061073, 0.14198887, 0.98041206, 0.40809441]]])"
      ]
     },
     "execution_count": 115,
     "metadata": {},
     "output_type": "execute_result"
    }
   ],
   "source": [
    "# estamos generando un array de 2 x 3 x 5 con números aleatorios del 0-1\n",
    "\n",
    "a2 = np.random.rand(2,3,5)\n",
    "a2"
   ]
  },
  {
   "cell_type": "markdown",
   "id": "913be2d1",
   "metadata": {},
   "source": [
    "3️⃣ `np.random.random_sample()`: nos devuelve un array con la forma que le especifiquemos con valores decimales entre el 0 -1 ( el 1 no incluido). En este caso la sintaxis sería:\n",
    "```python\n",
    "random.random_sample(size=None)\n",
    "```\n",
    "\n",
    "📝 NOTA: Solo nos dará floats no hace falta especificar el tipo"
   ]
  },
  {
   "cell_type": "code",
   "execution_count": 116,
   "id": "0dabc36c",
   "metadata": {},
   "outputs": [
    {
     "data": {
      "text/plain": [
       "array([[[0.76130629, 0.25173471, 0.96189617, 0.62577892, 0.53812361],\n",
       "        [0.38260496, 0.97351691, 0.25198811, 0.60015187, 0.24358121],\n",
       "        [0.11175028, 0.09568009, 0.25536962, 0.47757086, 0.6307442 ]],\n",
       "\n",
       "       [[0.66729011, 0.28930123, 0.91008562, 0.72669656, 0.8742404 ],\n",
       "        [0.73907054, 0.15702656, 0.82625401, 0.14245608, 0.51102002],\n",
       "        [0.07505335, 0.9222129 , 0.34752861, 0.46750837, 0.8404669 ]]])"
      ]
     },
     "execution_count": 116,
     "metadata": {},
     "output_type": "execute_result"
    }
   ],
   "source": [
    "a3 = np.random.random_sample((2,3,5))\n",
    "a3"
   ]
  },
  {
   "cell_type": "markdown",
   "id": "ce82586c",
   "metadata": {},
   "source": [
    "# Indexación en arrays"
   ]
  },
  {
   "attachments": {
    "image.png": {
     "image/png": "[encoded data removed]"
    }
   },
   "cell_type": "markdown",
   "id": "2fcdc450",
   "metadata": {},
   "source": [
    "Se utiliza para acceder a elementos especificando sus índices dentro del *array*, de una forma muy similar a como lo hacíamos con listas.\n",
    "\n",
    "Si recordamos de las listas:\n",
    "\n",
    "- Empezabamos a contar las posiciones de nuestros elementos desde 0. En NumPy será igual.\n",
    "\n",
    "![image.png](attachment:image.png)\n",
    "\n",
    "- Si queremos acceder a un subconjunto de elementos de nuestra lista usamos la siguiente sintaxis:\n",
    "\n",
    "```python\n",
    "lista[from:to:step]\n",
    "\n",
    "# ejemplo:\n",
    "lst = [12,20,3,45,6,23,81,93]\n",
    "\n",
    "# seleccionamos desde el elemento 3 (incluido) hasta el final\n",
    "lst[3:] \n",
    "[45, 6, 23, 81, 93]\n",
    "\n",
    "\n",
    "# seleccionamos desde el elemento 3 hasta el 5. ⚠️ Recordamos que en el límite superior el valor que especificamos NO SE INCLUYE\n",
    "lst[3:6]\n",
    "[45, 6, 23]\n",
    "\n",
    "\n",
    "# seleccionamos los 4 primeros elementos\n",
    "lst[:4]\n",
    "[12, 20, 3, 45]\n",
    "\n",
    "\n",
    "# seleccionamos todos los elementos que están en posición impar\n",
    "lst[::2]\n",
    "[12, 3, 6, 81]\n",
    "```\n",
    "\n",
    "La indexación de arrays funciona de manera muy diferente para arrays unidimensionales o bidimensional. Lo iremos viendo a lo largo de este jupyter.\n",
    "\n"
   ]
  },
  {
   "cell_type": "markdown",
   "id": "2c13db9b",
   "metadata": {},
   "source": [
    "## Unidimensional "
   ]
  },
  {
   "cell_type": "markdown",
   "id": "7f81c4ad",
   "metadata": {},
   "source": [
    "En este caso será exactamente igual que en las listas!\n",
    "\n",
    "```python\n",
    "array[i]\n",
    "\n",
    "# donde i es el índice del elemento al que queremos acceder\n",
    "```"
   ]
  },
  {
   "cell_type": "code",
   "execution_count": 194,
   "id": "8344224c",
   "metadata": {},
   "outputs": [
    {
     "data": {
      "text/plain": [
       "array([0.11004851, 0.04858927, 0.25918084, 0.98074997, 0.47281141,\n",
       "       0.06919704, 0.73482103, 0.67461802, 0.9731047 , 0.61204223,\n",
       "       0.64327416, 0.89920378, 0.25789705, 0.15254418, 0.64145759])"
      ]
     },
     "execution_count": 194,
     "metadata": {},
     "output_type": "execute_result"
    }
   ],
   "source": [
    "# tenemos el siguiente array unidimensional\n",
    "\n",
    "unidimensional = np.random.random_sample(15)\n",
    "unidimensional"
   ]
  },
  {
   "cell_type": "code",
   "execution_count": 195,
   "id": "1455b9c1",
   "metadata": {},
   "outputs": [
    {
     "data": {
      "text/plain": [
       "0.11004850610895134"
      ]
     },
     "execution_count": 195,
     "metadata": {},
     "output_type": "execute_result"
    }
   ],
   "source": [
    "# si queremos acceder al primer elemento de nuestro array\n",
    "\n",
    "unidimensional[0]"
   ]
  },
  {
   "cell_type": "code",
   "execution_count": 196,
   "id": "53d4c495",
   "metadata": {},
   "outputs": [
    {
     "data": {
      "text/plain": [
       "array([0.25789705, 0.15254418, 0.64145759])"
      ]
     },
     "execution_count": 196,
     "metadata": {},
     "output_type": "execute_result"
    }
   ],
   "source": [
    "# si queremos acceder a los tres últimos elementos:\n",
    "\n",
    "unidimensional[-3:]\n"
   ]
  },
  {
   "cell_type": "code",
   "execution_count": 197,
   "id": "825916fc",
   "metadata": {},
   "outputs": [
    {
     "data": {
      "text/plain": [
       "array([0.98074997, 0.47281141])"
      ]
     },
     "execution_count": 197,
     "metadata": {},
     "output_type": "execute_result"
    }
   ],
   "source": [
    "# si queremos seleccionar el tercer y cuarto elemento\n",
    "\n",
    "unidimensional[3:5]"
   ]
  },
  {
   "cell_type": "code",
   "execution_count": 199,
   "id": "746ca8a8",
   "metadata": {},
   "outputs": [
    {
     "data": {
      "text/plain": [
       "array([0.11004851, 0.25918084, 0.47281141, 0.73482103, 0.9731047 ,\n",
       "       0.64327416])"
      ]
     },
     "execution_count": 199,
     "metadata": {},
     "output_type": "execute_result"
    }
   ],
   "source": [
    "# los elementos desde el inicio hasta el 10 en saltos de dos en dos\n",
    "\n",
    "unidimensional[:11:2]"
   ]
  },
  {
   "cell_type": "markdown",
   "id": "ed24ffc3",
   "metadata": {},
   "source": [
    "## Bidimensional"
   ]
  },
  {
   "cell_type": "markdown",
   "id": "27039b7d",
   "metadata": {},
   "source": [
    "Los podemos entender como una lista de listas.\n",
    "\n",
    "```python\n",
    "array[i,j]\n",
    "array[i][j]\n",
    "\n",
    "# 🚨 Las dos lineas anteriores son exactamente lo mismo\n",
    "# seleccionará el elemento de la columna \"j\" de la fila \"i\"\n",
    "```\n",
    "Donde:\n",
    "\n",
    "- `i` --> filas\n",
    "\n",
    "- `j` --> columnas"
   ]
  },
  {
   "cell_type": "code",
   "execution_count": 206,
   "id": "01b7eac2",
   "metadata": {},
   "outputs": [
    {
     "data": {
      "text/plain": [
       "array([[0.46629345, 0.33311927, 0.16574082, 0.32739251],\n",
       "       [0.87837975, 0.79071761, 0.03083464, 0.39261422],\n",
       "       [0.47097049, 0.51837124, 0.46760454, 0.23138934],\n",
       "       [0.93513024, 0.91761282, 0.65627213, 0.03260101],\n",
       "       [0.70537517, 0.86844785, 0.02659938, 0.55506716]])"
      ]
     },
     "execution_count": 206,
     "metadata": {},
     "output_type": "execute_result"
    }
   ],
   "source": [
    "bidimensional = np.random.rand(5, 4)\n",
    "bidimensional"
   ]
  },
  {
   "cell_type": "code",
   "execution_count": 201,
   "id": "5f4a10b0",
   "metadata": {},
   "outputs": [
    {
     "data": {
      "text/plain": [
       "array([0.63019968, 0.1409182 , 0.930998  , 0.88841414])"
      ]
     },
     "execution_count": 201,
     "metadata": {},
     "output_type": "execute_result"
    }
   ],
   "source": [
    "# accedemos a la fila 0\n",
    "\n",
    "bidimensional[0]"
   ]
  },
  {
   "cell_type": "code",
   "execution_count": 202,
   "id": "99c4e8e3",
   "metadata": {},
   "outputs": [
    {
     "data": {
      "text/plain": [
       "0.6301996771602075"
      ]
     },
     "execution_count": 202,
     "metadata": {},
     "output_type": "execute_result"
    }
   ],
   "source": [
    "# y al elemento de la fila 0 columna 0\n",
    "\n",
    "bidimensional[0,0]"
   ]
  },
  {
   "cell_type": "code",
   "execution_count": 203,
   "id": "251fce49",
   "metadata": {},
   "outputs": [
    {
     "data": {
      "text/plain": [
       "0.6301996771602075"
      ]
     },
     "execution_count": 203,
     "metadata": {},
     "output_type": "execute_result"
    }
   ],
   "source": [
    "# esto es lo mismo que lo anterior\n",
    "\n",
    "bidimensional[0,0]"
   ]
  },
  {
   "cell_type": "code",
   "execution_count": 204,
   "id": "41f3f96a",
   "metadata": {},
   "outputs": [
    {
     "data": {
      "text/plain": [
       "0.6651123761198269"
      ]
     },
     "execution_count": 204,
     "metadata": {},
     "output_type": "execute_result"
    }
   ],
   "source": [
    "# segunda fila, tercer columna. \n",
    "\n",
    "bidimensional[2,3]"
   ]
  },
  {
   "cell_type": "markdown",
   "id": "24344e15",
   "metadata": {},
   "source": [
    "📌 NOTA Cuando usamos la siguiente estructura `array[i,j]`:\n",
    "\n",
    "- Todo lo que haya antes de la coma se referirá a filas.\n",
    "\n",
    "\n",
    "- Todo lo que haya después de la coma se referirá a columnas.\n",
    "\n",
    "\n",
    "De esta forma, si por ejemplo queremos seleccionar solo las dos primeras filas usaremos la nomenclatura que ya conocemos con los :. Si no especificamos nada (o solo ponemos :) se entiende que lo queremos todo. Por ejemplo 👇🏽"
   ]
  },
  {
   "cell_type": "code",
   "execution_count": 205,
   "id": "652ceada",
   "metadata": {},
   "outputs": [
    {
     "data": {
      "text/plain": [
       "array([[0.63019968, 0.1409182 , 0.930998  , 0.88841414],\n",
       "       [0.01226318, 0.19209121, 0.86734263, 0.07889421]])"
      ]
     },
     "execution_count": 205,
     "metadata": {},
     "output_type": "execute_result"
    }
   ],
   "source": [
    "# seleccionamos las dos primeras filas, y todas las columnas (no ponemos \n",
    "## nada después de la coma). \n",
    "\n",
    "bidimensional[:2,:]"
   ]
  },
  {
   "cell_type": "markdown",
   "id": "dde7a362",
   "metadata": {},
   "source": [
    "📝🌊 **EJERCICIO** Supongamos que queremos cambiar los valores de nuestro  *array* que cumplan una condición. Lo haremos con condicionales. "
   ]
  },
  {
   "cell_type": "code",
   "execution_count": 217,
   "id": "3962fbe5",
   "metadata": {},
   "outputs": [],
   "source": [
    "for columnas in  range(bidimensional.shape[0]):\n",
    "    for filas in range(bidimensional.shape[1]):\n",
    "        if bidimensional[columnas][filas] > 0.5:\n",
    "            bidimensional[columnas][filas] = -1"
   ]
  },
  {
   "cell_type": "code",
   "execution_count": 218,
   "id": "c66aab00",
   "metadata": {
    "scrolled": true
   },
   "outputs": [
    {
     "data": {
      "text/plain": [
       "array([[ 0.46629345,  0.33311927,  0.16574082,  0.32739251],\n",
       "       [-1.        , -1.        ,  0.03083464,  0.39261422],\n",
       "       [ 0.47097049, -1.        ,  0.46760454,  0.23138934],\n",
       "       [-1.        , -1.        , -1.        ,  0.03260101],\n",
       "       [-1.        , -1.        ,  0.02659938, -1.        ]])"
      ]
     },
     "execution_count": 218,
     "metadata": {},
     "output_type": "execute_result"
    }
   ],
   "source": [
    "bidimensional"
   ]
  },
  {
   "cell_type": "markdown",
   "id": "541da533",
   "metadata": {},
   "source": [
    "## Multidimensional"
   ]
  },
  {
   "cell_type": "markdown",
   "id": "0c98c447",
   "metadata": {},
   "source": [
    "De la misma forma que en los bidimensionales, el los mutidimensionales podemos acceder a sus elementos de dos formas:\n",
    "\n",
    "```python\n",
    "array[i,j,k]\n",
    "array[i][j][k]\n",
    "```\n",
    "\n",
    "- `i` → array al que queremos acceder\n",
    "\n",
    "\n",
    "- `j` → fila de nuestro array al que queremos acceder\n",
    "\n",
    "\n",
    "- `k` → columna de nuestro array al que queremos acceder"
   ]
  },
  {
   "attachments": {
    "image.png": {
     "image/png": "[encoded data removed]"
    }
   },
   "cell_type": "markdown",
   "id": "643d164e",
   "metadata": {},
   "source": [
    "![image.png](attachment:image.png)"
   ]
  },
  {
   "cell_type": "code",
   "execution_count": 7,
   "id": "501133fc",
   "metadata": {},
   "outputs": [
    {
     "data": {
      "text/plain": [
       "array([[[68,  5, 12, 46, 99],\n",
       "        [75,  8, 57, 70, 70],\n",
       "        [16, 35, 95, 26, 47]],\n",
       "\n",
       "       [[30, 88, 73, 61, 96],\n",
       "        [15, 58, 43, 85, 10],\n",
       "        [50, 87, 17, 27, 82]]])"
      ]
     },
     "execution_count": 7,
     "metadata": {},
     "output_type": "execute_result"
    }
   ],
   "source": [
    "multidimensional = np.random.randint(0,100, (2,3,5))\n",
    "multidimensional"
   ]
  },
  {
   "cell_type": "code",
   "execution_count": 8,
   "id": "cd3242a5",
   "metadata": {},
   "outputs": [
    {
     "data": {
      "text/plain": [
       "82"
      ]
     },
     "execution_count": 8,
     "metadata": {},
     "output_type": "execute_result"
    }
   ],
   "source": [
    "# accedemos al array 1 y al elemento que está en la fila 2 y la columna 4\n",
    "\n",
    "multidimensional[1,2,4]"
   ]
  },
  {
   "cell_type": "code",
   "execution_count": 9,
   "id": "845c74ae",
   "metadata": {},
   "outputs": [
    {
     "data": {
      "text/plain": [
       "array([75,  8, 57, 70, 70])"
      ]
     },
     "execution_count": 9,
     "metadata": {},
     "output_type": "execute_result"
    }
   ],
   "source": [
    "# primer array primera fila y todas las columnas\n",
    "\n",
    "multidimensional[0, 1, :]"
   ]
  },
  {
   "cell_type": "code",
   "execution_count": 10,
   "id": "3084bf50",
   "metadata": {},
   "outputs": [
    {
     "data": {
      "text/plain": [
       "array([68,  5, 12, 46, 99])"
      ]
     },
     "execution_count": 10,
     "metadata": {},
     "output_type": "execute_result"
    }
   ],
   "source": [
    "# es lo mismo que lo anterior\n",
    "\n",
    "multidimensional[0,0,:]"
   ]
  },
  {
   "cell_type": "code",
   "execution_count": 11,
   "id": "f9b5ae9c",
   "metadata": {},
   "outputs": [
    {
     "data": {
      "text/plain": [
       "array([68,  5, 12, 46, 99])"
      ]
     },
     "execution_count": 11,
     "metadata": {},
     "output_type": "execute_result"
    }
   ],
   "source": [
    "# en caso de que queramos que nos devuelva todas las filas \n",
    "multidimensional[0][:][0]"
   ]
  },
  {
   "cell_type": "markdown",
   "id": "7297948e",
   "metadata": {},
   "source": [
    "# Subsets"
   ]
  },
  {
   "cell_type": "markdown",
   "id": "ca105f06",
   "metadata": {},
   "source": [
    "En los *arrays* también podemos usar los operadores `<` y `>` para extraer subsets basandonos en un valor dado. Veamos algún ejemplo:"
   ]
  },
  {
   "cell_type": "code",
   "execution_count": 221,
   "id": "af03c385",
   "metadata": {},
   "outputs": [
    {
     "data": {
      "text/plain": [
       "array([[[18, 32, 78, 57, 49],\n",
       "        [15,  8, 23, 42, 92],\n",
       "        [43, 88, 20, 24, 11]],\n",
       "\n",
       "       [[61, 34,  1, 78, 67],\n",
       "        [62, 18, 40, 29, 31],\n",
       "        [14, 24, 31, 12, 36]]])"
      ]
     },
     "execution_count": 221,
     "metadata": {},
     "output_type": "execute_result"
    }
   ],
   "source": [
    "multidimensional2 = np.random.randint(0,100, (2,3,5))\n",
    "multidimensional2"
   ]
  },
  {
   "cell_type": "markdown",
   "id": "a5738c74",
   "metadata": {},
   "source": [
    "Imaginemos que queremos extraer aquello valores que sean mayores que 50"
   ]
  },
  {
   "cell_type": "code",
   "execution_count": 223,
   "id": "efeaca9c",
   "metadata": {},
   "outputs": [
    {
     "data": {
      "text/plain": [
       "array([[[False, False,  True,  True,  True],\n",
       "        [False, False, False, False,  True],\n",
       "        [False,  True, False, False, False]],\n",
       "\n",
       "       [[ True, False, False,  True,  True],\n",
       "        [ True, False, False, False, False],\n",
       "        [False, False, False, False, False]]])"
      ]
     },
     "execution_count": 223,
     "metadata": {},
     "output_type": "execute_result"
    }
   ],
   "source": [
    "multidimensional2 > 45"
   ]
  },
  {
   "cell_type": "markdown",
   "id": "5ff8dbef",
   "metadata": {},
   "source": [
    "El *array* nos puede resultar algo tedioso de interpretar. ¿Como lo podemos ver de una forma algo más \"humana\"?\n",
    "\n",
    "Tan solo le tenemos que usar unos corchetes más. Veámoslo!"
   ]
  },
  {
   "cell_type": "code",
   "execution_count": 226,
   "id": "e5649f6c",
   "metadata": {},
   "outputs": [
    {
     "data": {
      "text/plain": [
       "array([78, 57, 49, 92, 88, 61, 78, 67, 62])"
      ]
     },
     "execution_count": 226,
     "metadata": {},
     "output_type": "execute_result"
    }
   ],
   "source": [
    "# ya tenemos nuestro array con los valores mayores que 0.5\n",
    "\n",
    "multidimensional2[multidimensional2 > 45]"
   ]
  },
  {
   "cell_type": "markdown",
   "id": "a9c35300",
   "metadata": {},
   "source": [
    "Imaginemos ahora que queremos seleccionar ciertos valores basados en dos condiciones. En este caso:\n",
    "\n",
    "- Usaremos el operador `&` para indicar que queremos que se cumplan las dos condiciones --> ANTIGUO OPERADOR `AND`\n",
    "\n",
    "\n",
    "- Usaremos el operador `|` para indicar que se cumpla una condición y otra --> ANTIGUO OPERADOR `OR`"
   ]
  },
  {
   "cell_type": "code",
   "execution_count": 229,
   "id": "b6e74f54",
   "metadata": {},
   "outputs": [
    {
     "data": {
      "text/plain": [
       "array([78,  8, 92, 88, 11, 61,  1, 78, 67, 62, 14, 12])"
      ]
     },
     "execution_count": 229,
     "metadata": {},
     "output_type": "execute_result"
    }
   ],
   "source": [
    "# queremos seleccionar aquellos números que sean MAYORES que 60 \n",
    "## o MENORES que 15\n",
    "\n",
    "multidimensional2[(multidimensional2 > 60) |  (multidimensional2 < 15)]"
   ]
  },
  {
   "cell_type": "code",
   "execution_count": 230,
   "id": "a106f6b7",
   "metadata": {},
   "outputs": [
    {
     "data": {
      "text/plain": [
       "array([62])"
      ]
     },
     "execution_count": 230,
     "metadata": {},
     "output_type": "execute_result"
    }
   ],
   "source": [
    "# queremos seleccionar aquellos números que sean MAYORES que 45\n",
    "## e IGUAL a 62\n",
    "multidimensional2[(multidimensional2 > 45 )  & (multidimensional2 == 62)]\n"
   ]
  },
  {
   "cell_type": "markdown",
   "id": "4692c5d4",
   "metadata": {},
   "source": [
    "# Operaciones con arrays "
   ]
  },
  {
   "cell_type": "markdown",
   "id": "fc51d64d",
   "metadata": {},
   "source": [
    "Con los *arrays* podemos realizar operaciones matemáticas. Podemos distinguir entre: \n",
    "\n",
    "- Operaciones entre *arrays*\n",
    "\n",
    "\n",
    "- Operaciones *array* - escalar\n",
    "\n",
    "\n",
    "- Operaciones estadísticas\n",
    "\n",
    "\n",
    "- Operaciones aritméticas\n",
    "\n",
    "\n",
    "- Operaciones de comparación\n",
    "\n",
    "\n",
    "- Operaciones trigonométricas\n",
    "\n",
    "\n",
    "- Otras operaciones"
   ]
  },
  {
   "cell_type": "raw",
   "id": "3d9142b2",
   "metadata": {},
   "source": [
    "METER UNA TABLA DE MARDOWN CON UN RESUMEN DE LAS OPERAICONES QUE HEMOS APRENDIDO"
   ]
  },
  {
   "cell_type": "markdown",
   "id": "2d2dcd36",
   "metadata": {},
   "source": [
    "## Operaciones entre *arrays*"
   ]
  },
  {
   "cell_type": "markdown",
   "id": "4f7afff0",
   "metadata": {},
   "source": [
    "Recordais la primera clase donde dimos los operadores de Python?\n",
    "Pues con las matrices podemos hacer todas esas operaciones!!\n",
    "\n",
    "> En este caso las operaciones  se calcularán elemento a elemento\n",
    "\n",
    "🚨 Es imoportante tener en cuenta que para hacer estas operaciones los dos *arrays* tienen que tener la misma forma. "
   ]
  },
  {
   "cell_type": "code",
   "execution_count": 16,
   "id": "63004955",
   "metadata": {},
   "outputs": [],
   "source": [
    "# creemos dos arrays nuevos\n",
    "\n",
    "a = np.ones((2,3,4))\n",
    "b = np.random.randint(0,10, (2,3,4))"
   ]
  },
  {
   "cell_type": "code",
   "execution_count": 17,
   "id": "a4e16366",
   "metadata": {},
   "outputs": [
    {
     "data": {
      "text/plain": [
       "array([[[1., 1., 1., 1.],\n",
       "        [1., 1., 1., 1.],\n",
       "        [1., 1., 1., 1.]],\n",
       "\n",
       "       [[1., 1., 1., 1.],\n",
       "        [1., 1., 1., 1.],\n",
       "        [1., 1., 1., 1.]]])"
      ]
     },
     "execution_count": 17,
     "metadata": {},
     "output_type": "execute_result"
    }
   ],
   "source": [
    "a"
   ]
  },
  {
   "cell_type": "code",
   "execution_count": 18,
   "id": "e3840a9e",
   "metadata": {},
   "outputs": [
    {
     "data": {
      "text/plain": [
       "array([[[5, 8, 0, 6],\n",
       "        [7, 5, 5, 6],\n",
       "        [8, 0, 6, 6]],\n",
       "\n",
       "       [[4, 4, 6, 0],\n",
       "        [4, 5, 0, 1],\n",
       "        [4, 1, 2, 1]]])"
      ]
     },
     "execution_count": 18,
     "metadata": {},
     "output_type": "execute_result"
    }
   ],
   "source": [
    "b"
   ]
  },
  {
   "cell_type": "markdown",
   "id": "5547fe21",
   "metadata": {},
   "source": [
    "### `suma` \n",
    "\n",
    "La podemos hacer de dos formas:\n",
    "\n",
    "- Con el operador `+`\n",
    "\n",
    "\n",
    "- Con el método propio `add()`"
   ]
  },
  {
   "cell_type": "code",
   "execution_count": 19,
   "id": "3ea3a2e3",
   "metadata": {},
   "outputs": [
    {
     "data": {
      "text/plain": [
       "array([[[6., 9., 1., 7.],\n",
       "        [8., 6., 6., 7.],\n",
       "        [9., 1., 7., 7.]],\n",
       "\n",
       "       [[5., 5., 7., 1.],\n",
       "        [5., 6., 1., 2.],\n",
       "        [5., 2., 3., 2.]]])"
      ]
     },
     "execution_count": 19,
     "metadata": {},
     "output_type": "execute_result"
    }
   ],
   "source": [
    "# usando el operador \"+\"\n",
    "\n",
    "a + b"
   ]
  },
  {
   "cell_type": "code",
   "execution_count": 21,
   "id": "e1d6cfd5",
   "metadata": {},
   "outputs": [
    {
     "data": {
      "text/plain": [
       "array([[[6., 9., 1., 7.],\n",
       "        [8., 6., 6., 7.],\n",
       "        [9., 1., 7., 7.]],\n",
       "\n",
       "       [[5., 5., 7., 1.],\n",
       "        [5., 6., 1., 2.],\n",
       "        [5., 2., 3., 2.]]])"
      ]
     },
     "execution_count": 21,
     "metadata": {},
     "output_type": "execute_result"
    }
   ],
   "source": [
    "# usando el método propio de NumPy\n",
    "\n",
    "suma = np.add(a, b)\n",
    "suma"
   ]
  },
  {
   "cell_type": "code",
   "execution_count": 22,
   "id": "62927350",
   "metadata": {},
   "outputs": [
    {
     "data": {
      "text/plain": [
       "array([[[6, 9, 1, 7],\n",
       "        [8, 6, 6, 7],\n",
       "        [9, 1, 7, 7]],\n",
       "\n",
       "       [[5, 5, 7, 1],\n",
       "        [5, 6, 1, 2],\n",
       "        [5, 2, 3, 2]]])"
      ]
     },
     "execution_count": 22,
     "metadata": {},
     "output_type": "execute_result"
    }
   ],
   "source": [
    "# si quiero cambiar el tipo de los datos de mi array podemos usar el método \"astype\"\n",
    "\n",
    "suma.astype(int)"
   ]
  },
  {
   "cell_type": "markdown",
   "id": "ab469640",
   "metadata": {},
   "source": [
    "### `resta` \n",
    "\n",
    "La podemos hacer de dos formas:\n",
    "\n",
    "- Con el operador `-`\n",
    "\n",
    "\n",
    "- Con el método propio `substract()`"
   ]
  },
  {
   "cell_type": "code",
   "execution_count": 23,
   "id": "8429a8e2",
   "metadata": {},
   "outputs": [
    {
     "data": {
      "text/plain": [
       "array([[[-4., -7.,  1., -5.],\n",
       "        [-6., -4., -4., -5.],\n",
       "        [-7.,  1., -5., -5.]],\n",
       "\n",
       "       [[-3., -3., -5.,  1.],\n",
       "        [-3., -4.,  1.,  0.],\n",
       "        [-3.,  0., -1.,  0.]]])"
      ]
     },
     "execution_count": 23,
     "metadata": {},
     "output_type": "execute_result"
    }
   ],
   "source": [
    "# con el operador \"-\"\n",
    "\n",
    "a - b"
   ]
  },
  {
   "cell_type": "code",
   "execution_count": 24,
   "id": "fa1e9b54",
   "metadata": {},
   "outputs": [
    {
     "data": {
      "text/plain": [
       "array([[[-4., -7.,  1., -5.],\n",
       "        [-6., -4., -4., -5.],\n",
       "        [-7.,  1., -5., -5.]],\n",
       "\n",
       "       [[-3., -3., -5.,  1.],\n",
       "        [-3., -4.,  1.,  0.],\n",
       "        [-3.,  0., -1.,  0.]]])"
      ]
     },
     "execution_count": 24,
     "metadata": {},
     "output_type": "execute_result"
    }
   ],
   "source": [
    "# con el método propio\n",
    "\n",
    "np.subtract(a, b)"
   ]
  },
  {
   "cell_type": "markdown",
   "id": "3e61e2b6",
   "metadata": {},
   "source": [
    "### `multiplicación`\n",
    "\n",
    "La podemos hacer de dos formas:\n",
    "\n",
    "- Con el operador `*`\n",
    "\n",
    "\n",
    "- Con el método propio `multiply()`"
   ]
  },
  {
   "cell_type": "code",
   "execution_count": 25,
   "id": "566cf80a",
   "metadata": {},
   "outputs": [
    {
     "data": {
      "text/plain": [
       "array([[[5., 8., 0., 6.],\n",
       "        [7., 5., 5., 6.],\n",
       "        [8., 0., 6., 6.]],\n",
       "\n",
       "       [[4., 4., 6., 0.],\n",
       "        [4., 5., 0., 1.],\n",
       "        [4., 1., 2., 1.]]])"
      ]
     },
     "execution_count": 25,
     "metadata": {},
     "output_type": "execute_result"
    }
   ],
   "source": [
    "# con el operador \"*\"\n",
    "\n",
    "a * b"
   ]
  },
  {
   "cell_type": "code",
   "execution_count": 26,
   "id": "2b1f2080",
   "metadata": {},
   "outputs": [
    {
     "data": {
      "text/plain": [
       "array([[[5., 8., 0., 6.],\n",
       "        [7., 5., 5., 6.],\n",
       "        [8., 0., 6., 6.]],\n",
       "\n",
       "       [[4., 4., 6., 0.],\n",
       "        [4., 5., 0., 1.],\n",
       "        [4., 1., 2., 1.]]])"
      ]
     },
     "execution_count": 26,
     "metadata": {},
     "output_type": "execute_result"
    }
   ],
   "source": [
    "# con el método propio\n",
    "\n",
    "np.multiply(a, b)"
   ]
  },
  {
   "cell_type": "markdown",
   "id": "3e019030",
   "metadata": {},
   "source": [
    "### `división`\n",
    "\n",
    "La podemos hacer de dos formas:\n",
    "\n",
    "- Con el operador `/`\n",
    "\n",
    "\n",
    "- Con el método propio `divide()`"
   ]
  },
  {
   "cell_type": "code",
   "execution_count": 27,
   "id": "74f1756c",
   "metadata": {},
   "outputs": [
    {
     "name": "stderr",
     "output_type": "stream",
     "text": [
      "/var/folders/t1/10pwyyjn64l1zlhcs5mstkwc0000gn/T/ipykernel_10453/727049651.py:3: RuntimeWarning: divide by zero encountered in true_divide\n",
      "  a / b\n"
     ]
    },
    {
     "data": {
      "text/plain": [
       "array([[[0.2       , 0.125     ,        inf, 0.16666667],\n",
       "        [0.14285714, 0.2       , 0.2       , 0.16666667],\n",
       "        [0.125     ,        inf, 0.16666667, 0.16666667]],\n",
       "\n",
       "       [[0.25      , 0.25      , 0.16666667,        inf],\n",
       "        [0.25      , 0.2       ,        inf, 1.        ],\n",
       "        [0.25      , 1.        , 0.5       , 1.        ]]])"
      ]
     },
     "execution_count": 27,
     "metadata": {},
     "output_type": "execute_result"
    }
   ],
   "source": [
    "# con el operador \"/\"\n",
    "\n",
    "a / b"
   ]
  },
  {
   "cell_type": "code",
   "execution_count": 29,
   "id": "ae09addb",
   "metadata": {},
   "outputs": [
    {
     "name": "stderr",
     "output_type": "stream",
     "text": [
      "/var/folders/t1/10pwyyjn64l1zlhcs5mstkwc0000gn/T/ipykernel_10453/36659502.py:1: RuntimeWarning: divide by zero encountered in true_divide\n",
      "  division = np.divide(a,b)\n"
     ]
    },
    {
     "data": {
      "text/plain": [
       "array([[[0.2       , 0.125     ,        inf, 0.16666667],\n",
       "        [0.14285714, 0.2       , 0.2       , 0.16666667],\n",
       "        [0.125     ,        inf, 0.16666667, 0.16666667]],\n",
       "\n",
       "       [[0.25      , 0.25      , 0.16666667,        inf],\n",
       "        [0.25      , 0.2       ,        inf, 1.        ],\n",
       "        [0.25      , 1.        , 0.5       , 1.        ]]])"
      ]
     },
     "execution_count": 29,
     "metadata": {},
     "output_type": "execute_result"
    }
   ],
   "source": [
    "division = np.divide(a,b)\n",
    "division"
   ]
  },
  {
   "cell_type": "code",
   "execution_count": 30,
   "id": "12141871",
   "metadata": {},
   "outputs": [],
   "source": [
    "# que pasa con esos inf que nos salen si hacemos otras operaciones con ellos? \n",
    "## NADA!!!"
   ]
  },
  {
   "cell_type": "code",
   "execution_count": 31,
   "id": "ef7df539",
   "metadata": {},
   "outputs": [
    {
     "data": {
      "text/plain": [
       "array([[[1.2       , 1.125     ,        inf, 1.16666667],\n",
       "        [1.14285714, 1.2       , 1.2       , 1.16666667],\n",
       "        [1.125     ,        inf, 1.16666667, 1.16666667]],\n",
       "\n",
       "       [[1.25      , 1.25      , 1.16666667,        inf],\n",
       "        [1.25      , 1.2       ,        inf, 2.        ],\n",
       "        [1.25      , 2.        , 1.5       , 2.        ]]])"
      ]
     },
     "execution_count": 31,
     "metadata": {},
     "output_type": "execute_result"
    }
   ],
   "source": [
    "division + a"
   ]
  },
  {
   "cell_type": "markdown",
   "id": "5373c1b0",
   "metadata": {},
   "source": [
    "Como veis los inf siguen estando pero para el resto se realiza la operación"
   ]
  },
  {
   "cell_type": "markdown",
   "id": "e437f163",
   "metadata": {},
   "source": [
    "### `division entera`\n",
    "\n",
    "La podemos hacer solo de una forma:\n",
    "\n",
    "- Con el operador `//`\n",
    "\n"
   ]
  },
  {
   "cell_type": "code",
   "execution_count": 33,
   "id": "f22c4727",
   "metadata": {},
   "outputs": [
    {
     "data": {
      "text/plain": [
       "array([[[ 0.,  0., nan,  0.],\n",
       "        [ 0.,  0.,  0.,  0.],\n",
       "        [ 0., nan,  0.,  0.]],\n",
       "\n",
       "       [[ 0.,  0.,  0., nan],\n",
       "        [ 0.,  0., nan,  1.],\n",
       "        [ 0.,  1.,  0.,  1.]]])"
      ]
     },
     "execution_count": 33,
     "metadata": {},
     "output_type": "execute_result"
    }
   ],
   "source": [
    "# con el operador \"**\"\n",
    "\n",
    "y = a // b\n",
    "y"
   ]
  },
  {
   "cell_type": "code",
   "execution_count": 34,
   "id": "7e9216f9",
   "metadata": {},
   "outputs": [
    {
     "data": {
      "text/plain": [
       "array([ 0.,  0., nan, nan, nan, nan, nan, nan, nan, nan, nan, nan, nan,\n",
       "       nan, nan, nan, nan, nan, nan, nan, nan, nan, nan, nan])"
      ]
     },
     "execution_count": 34,
     "metadata": {},
     "output_type": "execute_result"
    }
   ],
   "source": [
    "# qué pasa si hacemos un cumsum de un array con nan?\n",
    "\n",
    "np.cumsum(y)"
   ]
  },
  {
   "cell_type": "markdown",
   "id": "863802b2",
   "metadata": {},
   "source": [
    "[Aquí](https://entrenamiento-python-basico.readthedocs.io/es/latest/leccion3/operadores_aritmeticos.html) os dejo un poco de documentación para que veais que otros métodos podemos usar.  "
   ]
  },
  {
   "cell_type": "markdown",
   "id": "d1d6a6a4",
   "metadata": {},
   "source": [
    "## Operaciones array - escalar "
   ]
  },
  {
   "cell_type": "markdown",
   "id": "f1807b37",
   "metadata": {},
   "source": [
    "Este tipo de acciones correspoden con opereraciones entre un *array* y un número"
   ]
  },
  {
   "cell_type": "code",
   "execution_count": 45,
   "id": "e3612aa7",
   "metadata": {},
   "outputs": [
    {
     "data": {
      "text/plain": [
       "array([[1, 2, 3],\n",
       "       [3, 4, 5]])"
      ]
     },
     "execution_count": 45,
     "metadata": {},
     "output_type": "execute_result"
    }
   ],
   "source": [
    "# partamos del siguiente array\n",
    "\n",
    "c = np.array([[1,2,3], [3,4,5]])\n",
    "c"
   ]
  },
  {
   "cell_type": "markdown",
   "id": "829eecfa",
   "metadata": {},
   "source": [
    "Podemos **sumar** o **restar** a todo un *array* un escalar, aplicándose la suma o la resta a cada elemento del *array*:"
   ]
  },
  {
   "cell_type": "code",
   "execution_count": 47,
   "id": "3b5c5e95",
   "metadata": {},
   "outputs": [
    {
     "data": {
      "text/plain": [
       "array([[5, 6, 7],\n",
       "       [7, 8, 9]])"
      ]
     },
     "execution_count": 47,
     "metadata": {},
     "output_type": "execute_result"
    }
   ],
   "source": [
    "c + 4"
   ]
  },
  {
   "cell_type": "code",
   "execution_count": 48,
   "id": "a0f3c287",
   "metadata": {},
   "outputs": [
    {
     "data": {
      "text/plain": [
       "array([[-1,  0,  1],\n",
       "       [ 1,  2,  3]])"
      ]
     },
     "execution_count": 48,
     "metadata": {},
     "output_type": "execute_result"
    }
   ],
   "source": [
    "c - 2"
   ]
  },
  {
   "cell_type": "markdown",
   "id": "40bc32e7",
   "metadata": {},
   "source": [
    "De la misma forma podemos **multiplicar** o **dividir** un *array* con un escalar: "
   ]
  },
  {
   "cell_type": "code",
   "execution_count": 49,
   "id": "7154365e",
   "metadata": {},
   "outputs": [
    {
     "data": {
      "text/plain": [
       "array([[ 2,  4,  6],\n",
       "       [ 6,  8, 10]])"
      ]
     },
     "execution_count": 49,
     "metadata": {},
     "output_type": "execute_result"
    }
   ],
   "source": [
    "c * 2"
   ]
  },
  {
   "cell_type": "code",
   "execution_count": 50,
   "id": "dc1dd3a2",
   "metadata": {},
   "outputs": [
    {
     "data": {
      "text/plain": [
       "array([[0.33333333, 0.66666667, 1.        ],\n",
       "       [1.        , 1.33333333, 1.66666667]])"
      ]
     },
     "execution_count": 50,
     "metadata": {},
     "output_type": "execute_result"
    }
   ],
   "source": [
    "c / 3"
   ]
  },
  {
   "cell_type": "markdown",
   "id": "dbc742a9",
   "metadata": {},
   "source": [
    "Por último, también podemos calcular el **módulo**, la **división entera** o **elevarlo** a un escalar: "
   ]
  },
  {
   "cell_type": "code",
   "execution_count": 52,
   "id": "0df24257",
   "metadata": {},
   "outputs": [
    {
     "data": {
      "text/plain": [
       "array([[1, 2, 0],\n",
       "       [0, 1, 2]])"
      ]
     },
     "execution_count": 52,
     "metadata": {},
     "output_type": "execute_result"
    }
   ],
   "source": [
    "c % 3"
   ]
  },
  {
   "cell_type": "code",
   "execution_count": 54,
   "id": "ca8b19ca",
   "metadata": {},
   "outputs": [
    {
     "data": {
      "text/plain": [
       "array([[0, 0, 1],\n",
       "       [1, 1, 1]])"
      ]
     },
     "execution_count": 54,
     "metadata": {},
     "output_type": "execute_result"
    }
   ],
   "source": [
    "c // 3"
   ]
  },
  {
   "cell_type": "code",
   "execution_count": 55,
   "id": "f67bc913",
   "metadata": {},
   "outputs": [
    {
     "data": {
      "text/plain": [
       "array([[  1,   8,  27],\n",
       "       [ 27,  64, 125]])"
      ]
     },
     "execution_count": 55,
     "metadata": {},
     "output_type": "execute_result"
    }
   ],
   "source": [
    "c ** 3"
   ]
  },
  {
   "cell_type": "markdown",
   "id": "47140f5b",
   "metadata": {},
   "source": [
    "## Operaciones estadísticas "
   ]
  },
  {
   "attachments": {
    "image.png": {
     "image/png": "[encoded data removed]"
    }
   },
   "cell_type": "markdown",
   "id": "878f3e2a",
   "metadata": {},
   "source": [
    "Todos estos métodos nos permiten jugar con los ejes, pasándole el parámetro `axis`, donde: \n",
    "\n",
    "- `axis = 0`: nos calculará el operador que indiquemos para cada columna de nuestro *array*\n",
    "\n",
    "![image.png](attachment:image.png)\n",
    "\n",
    "- `axis = 1`: nos calculará el operador que indiquemos para cada fila de nuestro *array*"
   ]
  },
  {
   "attachments": {
    "image.png": {
     "image/png": "[encoded data removed]"
    }
   },
   "cell_type": "markdown",
   "id": "c1c2dc11",
   "metadata": {},
   "source": [
    "![image.png](attachment:image.png)"
   ]
  },
  {
   "cell_type": "markdown",
   "id": "22ce015f",
   "metadata": {},
   "source": [
    "### `np.mean()`\n",
    "\n",
    "Calcula la media de todos los elementos del *array*. \n"
   ]
  },
  {
   "cell_type": "code",
   "execution_count": 125,
   "id": "191e2f87",
   "metadata": {},
   "outputs": [
    {
     "data": {
      "text/plain": [
       "array([[ 7,  2, 19,  2, 14],\n",
       "       [ 4, 16, 14, 13,  1],\n",
       "       [12,  4,  9,  1, 18],\n",
       "       [17,  3,  8,  8, 13]])"
      ]
     },
     "execution_count": 125,
     "metadata": {},
     "output_type": "execute_result"
    }
   ],
   "source": [
    "d = np.random.randint(1,20, (4,5))\n",
    "d"
   ]
  },
  {
   "cell_type": "code",
   "execution_count": 126,
   "id": "a693c03b",
   "metadata": {},
   "outputs": [
    {
     "data": {
      "text/plain": [
       "9.25"
      ]
     },
     "execution_count": 126,
     "metadata": {},
     "output_type": "execute_result"
    }
   ],
   "source": [
    "# si no le pasamos el parámetro \"axis\" nos calculará la media de todos \n",
    "## los elementos del array\n",
    "\n",
    "media = np.mean(d)\n",
    "media"
   ]
  },
  {
   "cell_type": "code",
   "execution_count": 128,
   "id": "984fb59a",
   "metadata": {},
   "outputs": [
    {
     "data": {
      "text/plain": [
       "array([8.8, 9.6, 8.8, 9.8])"
      ]
     },
     "execution_count": 128,
     "metadata": {},
     "output_type": "execute_result"
    }
   ],
   "source": [
    "# media por filas, nos devuelve un valor por cada fila de nuestro array\n",
    "\n",
    "media_filas = np.mean(d, axis = 1)\n",
    "media_filas"
   ]
  },
  {
   "cell_type": "code",
   "execution_count": 130,
   "id": "a07dac97",
   "metadata": {},
   "outputs": [
    {
     "data": {
      "text/plain": [
       "array([10.  ,  6.25, 12.5 ,  6.  , 11.5 ])"
      ]
     },
     "execution_count": 130,
     "metadata": {},
     "output_type": "execute_result"
    }
   ],
   "source": [
    "# media por columnas, nos devuelve un valor por cada columna de nuestro array\n",
    "\n",
    "media_columnas = np.mean(d, axis = 0)\n",
    "media_columnas"
   ]
  },
  {
   "cell_type": "markdown",
   "id": "0a4c7d80",
   "metadata": {},
   "source": [
    "### `np.std()`\n",
    "\n",
    "Calcula la desviación estándar en nuestro array, por defecto nos lo va a calcular para todos los elementos."
   ]
  },
  {
   "cell_type": "code",
   "execution_count": 131,
   "id": "3210fcdc",
   "metadata": {},
   "outputs": [
    {
     "data": {
      "text/plain": [
       "5.92347026665957"
      ]
     },
     "execution_count": 131,
     "metadata": {},
     "output_type": "execute_result"
    }
   ],
   "source": [
    "# desviación estándar de todo el array\n",
    "\n",
    "np.std(d)"
   ]
  },
  {
   "cell_type": "code",
   "execution_count": 132,
   "id": "1c9f7b60",
   "metadata": {},
   "outputs": [
    {
     "data": {
      "text/plain": [
       "array([4.94974747, 5.67340286, 4.38748219, 4.84767986, 6.34428877])"
      ]
     },
     "execution_count": 132,
     "metadata": {},
     "output_type": "execute_result"
    }
   ],
   "source": [
    "# desviación estándar por columnas\n",
    "\n",
    "np.std(d, axis = 0)"
   ]
  },
  {
   "cell_type": "code",
   "execution_count": 133,
   "id": "54f3a027",
   "metadata": {},
   "outputs": [
    {
     "data": {
      "text/plain": [
       "array([6.7349833 , 5.95315043, 5.97996656, 4.79165942])"
      ]
     },
     "execution_count": 133,
     "metadata": {},
     "output_type": "execute_result"
    }
   ],
   "source": [
    "# desviación estándar por filas\n",
    "\n",
    "np.std(d, axis = 1)"
   ]
  },
  {
   "cell_type": "markdown",
   "id": "4163fa28",
   "metadata": {},
   "source": [
    "### `np.var()`\n",
    "\n",
    "Calcula la varianza de los valores de mi *array*. "
   ]
  },
  {
   "cell_type": "code",
   "execution_count": 134,
   "id": "888728fd",
   "metadata": {},
   "outputs": [
    {
     "data": {
      "text/plain": [
       "35.0875"
      ]
     },
     "execution_count": 134,
     "metadata": {},
     "output_type": "execute_result"
    }
   ],
   "source": [
    "# varianza del array\n",
    "\n",
    "np.var(d)"
   ]
  },
  {
   "cell_type": "code",
   "execution_count": 135,
   "id": "f9eb9f2a",
   "metadata": {},
   "outputs": [
    {
     "data": {
      "text/plain": [
       "array([24.5   , 32.1875, 19.25  , 23.5   , 40.25  ])"
      ]
     },
     "execution_count": 135,
     "metadata": {},
     "output_type": "execute_result"
    }
   ],
   "source": [
    "# por columnas\n",
    "\n",
    "np.var(d, axis = 0)"
   ]
  },
  {
   "cell_type": "code",
   "execution_count": 136,
   "id": "be4b8aac",
   "metadata": {},
   "outputs": [
    {
     "data": {
      "text/plain": [
       "array([45.36, 35.44, 35.76, 22.96])"
      ]
     },
     "execution_count": 136,
     "metadata": {},
     "output_type": "execute_result"
    }
   ],
   "source": [
    "# por filas\n",
    "\n",
    "np.var(d, axis = 1)"
   ]
  },
  {
   "cell_type": "markdown",
   "id": "1eeace97",
   "metadata": {},
   "source": [
    "## Operaciones aritméticas"
   ]
  },
  {
   "cell_type": "markdown",
   "id": "26ff159c",
   "metadata": {},
   "source": [
    "De nuevo, estas operaciones nos permitirán pasar el argumento `axis`. Como recordatorio:\n",
    "\n",
    "- `axis = 0`: nos calculará el operador que indiquemos para cada columna de nuestro *array*\n",
    "\n",
    "\n",
    "- `axis = 1`: nos calculará el operador que indiquemos para cada fila de nuestro *array*"
   ]
  },
  {
   "cell_type": "code",
   "execution_count": 138,
   "id": "5c92acae",
   "metadata": {},
   "outputs": [
    {
     "data": {
      "text/plain": [
       "array([[ 7,  2, 19,  2, 14],\n",
       "       [ 4, 16, 14, 13,  1],\n",
       "       [12,  4,  9,  1, 18],\n",
       "       [17,  3,  8,  8, 13]])"
      ]
     },
     "execution_count": 138,
     "metadata": {},
     "output_type": "execute_result"
    }
   ],
   "source": [
    "# recordemos que es d\n",
    "d"
   ]
  },
  {
   "cell_type": "markdown",
   "id": "24a6604e",
   "metadata": {},
   "source": [
    "### `np.min()`\n",
    "\n",
    "Nos devuelve el valor mínimo de nuestro *array*"
   ]
  },
  {
   "cell_type": "code",
   "execution_count": 139,
   "id": "cdb6ee3b",
   "metadata": {},
   "outputs": [
    {
     "data": {
      "text/plain": [
       "1"
      ]
     },
     "execution_count": 139,
     "metadata": {},
     "output_type": "execute_result"
    }
   ],
   "source": [
    "# de todo el array, cual es el mínimo?\n",
    "\n",
    "np.min(d)"
   ]
  },
  {
   "cell_type": "code",
   "execution_count": 140,
   "id": "53b6ead7",
   "metadata": {},
   "outputs": [
    {
     "data": {
      "text/plain": [
       "array([4, 2, 8, 1, 1])"
      ]
     },
     "execution_count": 140,
     "metadata": {},
     "output_type": "execute_result"
    }
   ],
   "source": [
    "# y por columnas?\n",
    "\n",
    "np.min(d, axis = 0)"
   ]
  },
  {
   "cell_type": "code",
   "execution_count": 141,
   "id": "5b9c560c",
   "metadata": {},
   "outputs": [
    {
     "data": {
      "text/plain": [
       "array([2, 1, 1, 3])"
      ]
     },
     "execution_count": 141,
     "metadata": {},
     "output_type": "execute_result"
    }
   ],
   "source": [
    "#y por filas?\n",
    "np.min(d, axis = 1)"
   ]
  },
  {
   "cell_type": "markdown",
   "id": "2b655a36",
   "metadata": {},
   "source": [
    "### `np.max()`\n",
    "\n",
    "Nos devuelve el valor máximo del *array*"
   ]
  },
  {
   "cell_type": "code",
   "execution_count": 142,
   "id": "64c3c6e0",
   "metadata": {},
   "outputs": [
    {
     "data": {
      "text/plain": [
       "19"
      ]
     },
     "execution_count": 142,
     "metadata": {},
     "output_type": "execute_result"
    }
   ],
   "source": [
    "np.max(d)"
   ]
  },
  {
   "cell_type": "code",
   "execution_count": 144,
   "id": "56daba6b",
   "metadata": {},
   "outputs": [
    {
     "data": {
      "text/plain": [
       "array([17, 16, 19, 13, 18])"
      ]
     },
     "execution_count": 144,
     "metadata": {},
     "output_type": "execute_result"
    }
   ],
   "source": [
    "# que pasa en las columnas\n",
    "\n",
    "np.max(d, axis = 0)"
   ]
  },
  {
   "cell_type": "code",
   "execution_count": 145,
   "id": "3167b8dc",
   "metadata": {},
   "outputs": [
    {
     "data": {
      "text/plain": [
       "array([19, 16, 18, 17])"
      ]
     },
     "execution_count": 145,
     "metadata": {},
     "output_type": "execute_result"
    }
   ],
   "source": [
    "# y en las filas\n",
    "\n",
    "np.max(d, axis = 1)"
   ]
  },
  {
   "cell_type": "markdown",
   "id": "dff5f0d3",
   "metadata": {},
   "source": [
    "### `np.sum()`\n",
    "\n",
    "Nos devuelve la suma de los elementos del *array*"
   ]
  },
  {
   "cell_type": "code",
   "execution_count": 146,
   "id": "311f8015",
   "metadata": {},
   "outputs": [
    {
     "data": {
      "text/plain": [
       "185"
      ]
     },
     "execution_count": 146,
     "metadata": {},
     "output_type": "execute_result"
    }
   ],
   "source": [
    "np.sum(d)"
   ]
  },
  {
   "cell_type": "code",
   "execution_count": 148,
   "id": "bd8a77da",
   "metadata": {
    "scrolled": true
   },
   "outputs": [
    {
     "data": {
      "text/plain": [
       "array([40, 25, 50, 24, 46])"
      ]
     },
     "execution_count": 148,
     "metadata": {},
     "output_type": "execute_result"
    }
   ],
   "source": [
    "# en columnas\n",
    "\n",
    "np.sum(d, axis = 0)"
   ]
  },
  {
   "cell_type": "code",
   "execution_count": 149,
   "id": "c2af5d20",
   "metadata": {},
   "outputs": [
    {
     "data": {
      "text/plain": [
       "array([44, 48, 44, 49])"
      ]
     },
     "execution_count": 149,
     "metadata": {},
     "output_type": "execute_result"
    }
   ],
   "source": [
    "# en filas\n",
    "\n",
    "np.sum(d, axis = 1)"
   ]
  },
  {
   "cell_type": "markdown",
   "id": "a25548d3",
   "metadata": {},
   "source": [
    "### `np.cumsum()`\n",
    "\n",
    "Devuelve un *array* con la suma acumulada de los elementos a lo largo de nuestro *array* "
   ]
  },
  {
   "cell_type": "code",
   "execution_count": 152,
   "id": "0222962d",
   "metadata": {},
   "outputs": [
    {
     "data": {
      "text/plain": [
       "array([[ 7,  2, 19,  2, 14],\n",
       "       [ 4, 16, 14, 13,  1],\n",
       "       [12,  4,  9,  1, 18],\n",
       "       [17,  3,  8,  8, 13]])"
      ]
     },
     "execution_count": 152,
     "metadata": {},
     "output_type": "execute_result"
    }
   ],
   "source": [
    "d"
   ]
  },
  {
   "cell_type": "code",
   "execution_count": 150,
   "id": "b7047ef0",
   "metadata": {},
   "outputs": [
    {
     "data": {
      "text/plain": [
       "array([  7,   9,  28,  30,  44,  48,  64,  78,  91,  92, 104, 108, 117,\n",
       "       118, 136, 153, 156, 164, 172, 185])"
      ]
     },
     "execution_count": 150,
     "metadata": {},
     "output_type": "execute_result"
    }
   ],
   "source": [
    "# para todo el array\n",
    "\n",
    "np.cumsum(d)"
   ]
  },
  {
   "cell_type": "code",
   "execution_count": 151,
   "id": "542b22f1",
   "metadata": {},
   "outputs": [
    {
     "data": {
      "text/plain": [
       "array([[ 7,  2, 19,  2, 14],\n",
       "       [11, 18, 33, 15, 15],\n",
       "       [23, 22, 42, 16, 33],\n",
       "       [40, 25, 50, 24, 46]])"
      ]
     },
     "execution_count": 151,
     "metadata": {},
     "output_type": "execute_result"
    }
   ],
   "source": [
    "# en columnas como es la suma acumulada\n",
    "\n",
    "np.cumsum(d, axis = 0)"
   ]
  },
  {
   "cell_type": "code",
   "execution_count": 153,
   "id": "d53c0a79",
   "metadata": {},
   "outputs": [
    {
     "data": {
      "text/plain": [
       "array([[ 7,  9, 28, 30, 44],\n",
       "       [ 4, 20, 34, 47, 48],\n",
       "       [12, 16, 25, 26, 44],\n",
       "       [17, 20, 28, 36, 49]])"
      ]
     },
     "execution_count": 153,
     "metadata": {},
     "output_type": "execute_result"
    }
   ],
   "source": [
    "# y que pasa en las filas? \n",
    "\n",
    "np.cumsum(d, axis = 1)"
   ]
  },
  {
   "cell_type": "markdown",
   "id": "f34526c0",
   "metadata": {},
   "source": [
    "### `np.cumprod()`\n",
    "\n",
    "Nos devuelve un *array* con el producto acumulado de todos los elementos del *array* "
   ]
  },
  {
   "cell_type": "code",
   "execution_count": 155,
   "id": "9c534fb0",
   "metadata": {},
   "outputs": [
    {
     "data": {
      "text/plain": [
       "array([                7,                14,               266,\n",
       "                     532,              7448,             29792,\n",
       "                  476672,           6673408,          86754304,\n",
       "                86754304,        1041051648,        4164206592,\n",
       "             37477859328,       37477859328,      674601467904,\n",
       "          11468224954368,    34404674863104,   275237398904832,\n",
       "        2201899191238656, 28624689486102528])"
      ]
     },
     "execution_count": 155,
     "metadata": {},
     "output_type": "execute_result"
    }
   ],
   "source": [
    "np.cumprod(d)"
   ]
  },
  {
   "cell_type": "markdown",
   "id": "571053d4",
   "metadata": {},
   "source": [
    "### `np.sqrt()`\n",
    "\n",
    "Calcula la raíz cuadrada no negativa para cada elemento de nuestro *array* "
   ]
  },
  {
   "cell_type": "code",
   "execution_count": 157,
   "id": "7176011e",
   "metadata": {},
   "outputs": [
    {
     "data": {
      "text/plain": [
       "array([[2.64575131, 1.41421356, 4.35889894, 1.41421356, 3.74165739],\n",
       "       [2.        , 4.        , 3.74165739, 3.60555128, 1.        ],\n",
       "       [3.46410162, 2.        , 3.        , 1.        , 4.24264069],\n",
       "       [4.12310563, 1.73205081, 2.82842712, 2.82842712, 3.60555128]])"
      ]
     },
     "execution_count": 157,
     "metadata": {},
     "output_type": "execute_result"
    }
   ],
   "source": [
    "np.sqrt(d)"
   ]
  },
  {
   "cell_type": "markdown",
   "id": "3131a2c3",
   "metadata": {},
   "source": [
    "### `np.exp()`\n",
    "\n",
    "Calcula el exponencial de cada elemento de nuestro *array* "
   ]
  },
  {
   "cell_type": "code",
   "execution_count": 158,
   "id": "d2e20a13",
   "metadata": {},
   "outputs": [
    {
     "data": {
      "text/plain": [
       "array([[1.09663316e+03, 7.38905610e+00, 1.78482301e+08, 7.38905610e+00,\n",
       "        1.20260428e+06],\n",
       "       [5.45981500e+01, 8.88611052e+06, 1.20260428e+06, 4.42413392e+05,\n",
       "        2.71828183e+00],\n",
       "       [1.62754791e+05, 5.45981500e+01, 8.10308393e+03, 2.71828183e+00,\n",
       "        6.56599691e+07],\n",
       "       [2.41549528e+07, 2.00855369e+01, 2.98095799e+03, 2.98095799e+03,\n",
       "        4.42413392e+05]])"
      ]
     },
     "execution_count": 158,
     "metadata": {},
     "output_type": "execute_result"
    }
   ],
   "source": [
    "np.exp(d)"
   ]
  },
  {
   "cell_type": "markdown",
   "id": "71fea9c2",
   "metadata": {},
   "source": [
    "## Operaciones de comparación"
   ]
  },
  {
   "cell_type": "markdown",
   "id": "1dd5f1bb",
   "metadata": {},
   "source": [
    "Y de nuevo vuelve a aparecer el parámetro `axis`. Como recordatorio:\n",
    "\n",
    "- `axis = 0`: nos calculará el operador que indiquemos para cada columna de nuestro *array*\n",
    "\n",
    "\n",
    "- `axis = 1`: nos calculará el operador que indiquemos para cada fila de nuestro *array*"
   ]
  },
  {
   "cell_type": "code",
   "execution_count": 159,
   "id": "6e4e9446",
   "metadata": {},
   "outputs": [
    {
     "data": {
      "text/plain": [
       "array([[ 7,  2, 19,  2, 14],\n",
       "       [ 4, 16, 14, 13,  1],\n",
       "       [12,  4,  9,  1, 18],\n",
       "       [17,  3,  8,  8, 13]])"
      ]
     },
     "execution_count": 159,
     "metadata": {},
     "output_type": "execute_result"
    }
   ],
   "source": [
    "d"
   ]
  },
  {
   "cell_type": "markdown",
   "id": "355cecb9",
   "metadata": {},
   "source": [
    "### `np.any()`\n",
    "\n",
    "Comprueba si **algún** elemento del *Array* se evalúa como True dada una condición"
   ]
  },
  {
   "cell_type": "code",
   "execution_count": 160,
   "id": "8a021063",
   "metadata": {},
   "outputs": [
    {
     "data": {
      "text/plain": [
       "True"
      ]
     },
     "execution_count": 160,
     "metadata": {},
     "output_type": "execute_result"
    }
   ],
   "source": [
    "# si en alguno de los elementos de nuestro array se cumple la condición\n",
    "## nos devolverá un True\n",
    "np.any(d > 10)"
   ]
  },
  {
   "cell_type": "code",
   "execution_count": 161,
   "id": "3ec6e9b7",
   "metadata": {},
   "outputs": [
    {
     "data": {
      "text/plain": [
       "False"
      ]
     },
     "execution_count": 161,
     "metadata": {},
     "output_type": "execute_result"
    }
   ],
   "source": [
    "# en caso de que no se cumpla la condición en ninguno de lo elementos\n",
    "\n",
    "np.any(d > 20)"
   ]
  },
  {
   "cell_type": "code",
   "execution_count": 163,
   "id": "42b7a4a0",
   "metadata": {},
   "outputs": [
    {
     "data": {
      "text/plain": [
       "array([ True,  True,  True,  True,  True])"
      ]
     },
     "execution_count": 163,
     "metadata": {},
     "output_type": "execute_result"
    }
   ],
   "source": [
    "# y que pasa con los ejes?. Vemos las columnas. Nos va a devolver un valor \n",
    "## booleano para cada columna. En este caso, se cumple la condición en todas \n",
    "### las columnas\n",
    "\n",
    "np.any(d > 10, axis = 0)"
   ]
  },
  {
   "cell_type": "code",
   "execution_count": 167,
   "id": "15ecdecd",
   "metadata": {},
   "outputs": [
    {
     "data": {
      "text/plain": [
       "array([False,  True,  True, False])"
      ]
     },
     "execution_count": 167,
     "metadata": {},
     "output_type": "execute_result"
    }
   ],
   "source": [
    "# y en las filas. \n",
    "\n",
    "np.any(d < 2 , axis = 1 )"
   ]
  },
  {
   "cell_type": "markdown",
   "id": "326339b4",
   "metadata": {},
   "source": [
    "### `np.all()`\n",
    "\n",
    "Al contrario que el `np.any()` en este caso comprueba si todos los elementos del array cumplen la condición que le pasemos."
   ]
  },
  {
   "cell_type": "code",
   "execution_count": 168,
   "id": "33a24396",
   "metadata": {},
   "outputs": [
    {
     "data": {
      "text/plain": [
       "False"
      ]
     },
     "execution_count": 168,
     "metadata": {},
     "output_type": "execute_result"
    }
   ],
   "source": [
    "# ¿Son todos los elementos del array mayores que 10? NO!\n",
    "\n",
    "np.all(d > 10)"
   ]
  },
  {
   "cell_type": "code",
   "execution_count": 169,
   "id": "35c6b0cf",
   "metadata": {},
   "outputs": [
    {
     "data": {
      "text/plain": [
       "array([False, False, False, False, False])"
      ]
     },
     "execution_count": 169,
     "metadata": {},
     "output_type": "execute_result"
    }
   ],
   "source": [
    "# a lo largo de mis columnas, son todos los elementos mayores que 10? NO\n",
    "\n",
    "np.all(d > 10, axis = 0)"
   ]
  },
  {
   "cell_type": "code",
   "execution_count": 170,
   "id": "7de8f77a",
   "metadata": {},
   "outputs": [
    {
     "data": {
      "text/plain": [
       "array([False, False, False, False])"
      ]
     },
     "execution_count": 170,
     "metadata": {},
     "output_type": "execute_result"
    }
   ],
   "source": [
    "# y en las filas\n",
    "\n",
    "np.all(d > 10, axis = 1)"
   ]
  },
  {
   "cell_type": "markdown",
   "id": "49c723f9",
   "metadata": {},
   "source": [
    "## Operaciones trigonométricas"
   ]
  },
  {
   "cell_type": "code",
   "execution_count": 172,
   "id": "01f56d01",
   "metadata": {},
   "outputs": [
    {
     "data": {
      "text/plain": [
       "array([[ 7,  2, 19,  2, 14],\n",
       "       [ 4, 16, 14, 13,  1],\n",
       "       [12,  4,  9,  1, 18],\n",
       "       [17,  3,  8,  8, 13]])"
      ]
     },
     "execution_count": 172,
     "metadata": {},
     "output_type": "execute_result"
    }
   ],
   "source": [
    "d"
   ]
  },
  {
   "cell_type": "markdown",
   "id": "2d6e9b88",
   "metadata": {},
   "source": [
    "### `np.cos()`\n",
    "\n",
    "Calcula el coseno para elemento de nuestro *array* "
   ]
  },
  {
   "cell_type": "code",
   "execution_count": 171,
   "id": "310f611c",
   "metadata": {},
   "outputs": [
    {
     "data": {
      "text/plain": [
       "array([[ 0.75390225, -0.41614684,  0.98870462, -0.41614684,  0.13673722],\n",
       "       [-0.65364362, -0.95765948,  0.13673722,  0.90744678,  0.54030231],\n",
       "       [ 0.84385396, -0.65364362, -0.91113026,  0.54030231,  0.66031671],\n",
       "       [-0.27516334, -0.9899925 , -0.14550003, -0.14550003,  0.90744678]])"
      ]
     },
     "execution_count": 171,
     "metadata": {},
     "output_type": "execute_result"
    }
   ],
   "source": [
    "np.cos(d)"
   ]
  },
  {
   "cell_type": "markdown",
   "id": "b331732d",
   "metadata": {},
   "source": [
    "### `np.sin()`\n",
    "\n",
    "Calcula el seno de cada elemento de nuestro *array* "
   ]
  },
  {
   "cell_type": "code",
   "execution_count": 174,
   "id": "f568b923",
   "metadata": {},
   "outputs": [
    {
     "data": {
      "text/plain": [
       "array([[ 0.6569866 ,  0.90929743,  0.14987721,  0.90929743,  0.99060736],\n",
       "       [-0.7568025 , -0.28790332,  0.99060736,  0.42016704,  0.84147098],\n",
       "       [-0.53657292, -0.7568025 ,  0.41211849,  0.84147098, -0.75098725],\n",
       "       [-0.96139749,  0.14112001,  0.98935825,  0.98935825,  0.42016704]])"
      ]
     },
     "execution_count": 174,
     "metadata": {},
     "output_type": "execute_result"
    }
   ],
   "source": [
    "np.sin(d)"
   ]
  },
  {
   "cell_type": "markdown",
   "id": "02e62c70",
   "metadata": {},
   "source": [
    "### `np.tan()`\n",
    "\n",
    "Calcula la tangente de cada elemento del *array* "
   ]
  },
  {
   "cell_type": "code",
   "execution_count": 175,
   "id": "01a806ae",
   "metadata": {},
   "outputs": [
    {
     "data": {
      "text/plain": [
       "array([[ 0.87144798, -2.18503986,  0.15158947, -2.18503986,  7.24460662],\n",
       "       [ 1.15782128,  0.30063224,  7.24460662,  0.46302113,  1.55740772],\n",
       "       [-0.63585993,  1.15782128, -0.45231566,  1.55740772, -1.13731371],\n",
       "       [ 3.49391565, -0.14254654, -6.79971146, -6.79971146,  0.46302113]])"
      ]
     },
     "execution_count": 175,
     "metadata": {},
     "output_type": "execute_result"
    }
   ],
   "source": [
    "np.tan(d)"
   ]
  },
  {
   "cell_type": "markdown",
   "id": "647d34c1",
   "metadata": {},
   "source": [
    "## Otras operaciones "
   ]
  },
  {
   "cell_type": "code",
   "execution_count": 176,
   "id": "38926856",
   "metadata": {},
   "outputs": [
    {
     "data": {
      "text/plain": [
       "array([[ 7,  2, 19,  2, 14],\n",
       "       [ 4, 16, 14, 13,  1],\n",
       "       [12,  4,  9,  1, 18],\n",
       "       [17,  3,  8,  8, 13]])"
      ]
     },
     "execution_count": 176,
     "metadata": {},
     "output_type": "execute_result"
    }
   ],
   "source": [
    "d"
   ]
  },
  {
   "cell_type": "markdown",
   "id": "61299c42",
   "metadata": {},
   "source": [
    "### `np.sort()`\n",
    "\n",
    "Devuelve una copia ordenada de un array.\n",
    "\n",
    "Por defecto nos ordenará por las filas, si lo que queremos es que nos ordene por columnas tendremos que pasarle el parámetro `axis = 0`\n",
    "\n",
    "🚨 por defecto nos va a ordenar de menor a mayor"
   ]
  },
  {
   "cell_type": "code",
   "execution_count": 178,
   "id": "8c962f71",
   "metadata": {},
   "outputs": [
    {
     "data": {
      "text/plain": [
       "array([[ 2,  2,  7, 14, 19],\n",
       "       [ 1,  4, 13, 14, 16],\n",
       "       [ 1,  4,  9, 12, 18],\n",
       "       [ 3,  8,  8, 13, 17]])"
      ]
     },
     "execution_count": 178,
     "metadata": {},
     "output_type": "execute_result"
    }
   ],
   "source": [
    "# por defecto nos ordena por filas\n",
    "\n",
    "np.sort(d)"
   ]
  },
  {
   "cell_type": "code",
   "execution_count": 180,
   "id": "3e567ed8",
   "metadata": {},
   "outputs": [
    {
     "data": {
      "text/plain": [
       "array([[ 4,  2,  8,  1,  1],\n",
       "       [ 7,  3,  9,  2, 13],\n",
       "       [12,  4, 14,  8, 14],\n",
       "       [17, 16, 19, 13, 18]])"
      ]
     },
     "execution_count": 180,
     "metadata": {},
     "output_type": "execute_result"
    }
   ],
   "source": [
    "# y que pasa con las columnas\n",
    "\n",
    "np.sort(d, axis = 0)"
   ]
  },
  {
   "cell_type": "markdown",
   "id": "cf477cd0",
   "metadata": {},
   "source": [
    "Y como hacemos para ordenar de mayor a menor?\n",
    "\n",
    "Basicamente lo que estamos haciendo es convertir los números a negativos y los ordenamos (ordenar de menor a mayor con números positivos es lo mismo que de mayor a menor con números negativos). Después volvemos a convertir la matriz de números negativos a positivos con el primer negativo. "
   ]
  },
  {
   "cell_type": "code",
   "execution_count": 181,
   "id": "f7d4e14e",
   "metadata": {},
   "outputs": [
    {
     "data": {
      "text/plain": [
       "array([[19, 14,  7,  2,  2],\n",
       "       [16, 14, 13,  4,  1],\n",
       "       [18, 12,  9,  4,  1],\n",
       "       [17, 13,  8,  8,  3]])"
      ]
     },
     "execution_count": 181,
     "metadata": {},
     "output_type": "execute_result"
    }
   ],
   "source": [
    "-np.sort(-d)"
   ]
  },
  {
   "cell_type": "markdown",
   "id": "dd99d20f",
   "metadata": {},
   "source": [
    "### `np.roud()`\n",
    "\n",
    "Devuelve los elementos redondeados al número de elementos que le definamos."
   ]
  },
  {
   "cell_type": "code",
   "execution_count": 184,
   "id": "179efa16",
   "metadata": {},
   "outputs": [
    {
     "data": {
      "text/plain": [
       "array([[0.21526745, 0.6916351 , 0.62873954, 0.94721133],\n",
       "       [0.8560027 , 0.89100371, 0.80328922, 0.22453649],\n",
       "       [0.4777275 , 0.75460636, 0.54269347, 0.17621851]])"
      ]
     },
     "execution_count": 184,
     "metadata": {},
     "output_type": "execute_result"
    }
   ],
   "source": [
    "e = np.random.random_sample((3,4))\n",
    "e"
   ]
  },
  {
   "cell_type": "code",
   "execution_count": 185,
   "id": "dabe4dd1",
   "metadata": {},
   "outputs": [
    {
     "data": {
      "text/plain": [
       "array([[0.22, 0.69, 0.63, 0.95],\n",
       "       [0.86, 0.89, 0.8 , 0.22],\n",
       "       [0.48, 0.75, 0.54, 0.18]])"
      ]
     },
     "execution_count": 185,
     "metadata": {},
     "output_type": "execute_result"
    }
   ],
   "source": [
    "np.round(e, decimals = 2)"
   ]
  },
  {
   "cell_type": "markdown",
   "id": "533634ed",
   "metadata": {},
   "source": [
    "### `np.where()`\n",
    "\n",
    "Devuelve elementos en función de la una condición.\n",
    "\n",
    "Nos devuelve los **índices** donde encontraremos los valores que cumplan la condición que hemos pasado.\n",
    "\n"
   ]
  },
  {
   "cell_type": "code",
   "execution_count": 187,
   "id": "2f7a2a79",
   "metadata": {},
   "outputs": [
    {
     "data": {
      "text/plain": [
       "(array([0, 0, 1, 1, 1, 2, 2, 3, 3]), array([2, 4, 1, 2, 3, 0, 4, 0, 4]))"
      ]
     },
     "execution_count": 187,
     "metadata": {},
     "output_type": "execute_result"
    }
   ],
   "source": [
    "np.where(d > 10)"
   ]
  },
  {
   "cell_type": "markdown",
   "id": "722a00c1",
   "metadata": {},
   "source": [
    "Como nos devuelve los índices nos puede ayudar a reemplazar valores de nuestro *array*"
   ]
  },
  {
   "cell_type": "code",
   "execution_count": null,
   "id": "07705fa6",
   "metadata": {},
   "outputs": [],
   "source": [
    "for i, z in zip(x[0], x[1]):\n",
    "    d[i][z] = 900"
   ]
  },
  {
   "cell_type": "markdown",
   "id": "a83461a5",
   "metadata": {},
   "source": [
    "Interpretemos el output que nos da:\n",
    "\n",
    "\n",
    "- El primero *array* hace referencia a las filas\n",
    "\n",
    "```python\n",
    "array([0, 0, 1, 1, 1, 2, 2, 3, 3]\n",
    "```\n",
    "\n",
    "- El segundo *array* hace refencia a las columnas\n",
    "\n",
    "```python\n",
    "array([2, 4, 1, 2, 3, 0, 4, 0, 4]\n",
    "```\n",
    "\n",
    "Entonces ¿qué significa?\n",
    "\n",
    "- El elemento 0, 2 (fila, columna) cumple la condición\n",
    "\n",
    "\n",
    "- El elemento 0, 4 (fila, columna) cumple la condición\n",
    "\n",
    "\n",
    "- El elemento 1, 1 (fila, columna) cumple la condición\n",
    "\n",
    "\n",
    "Y así sucesivamente, haciendo la combinaciones entre los dos arrays que nos devuelve."
   ]
  },
  {
   "cell_type": "markdown",
   "id": "f10987a1",
   "metadata": {},
   "source": [
    "# Métodos de los arrays"
   ]
  },
  {
   "cell_type": "markdown",
   "id": "03d228eb",
   "metadata": {},
   "source": [
    "## `np.copy()`: \n",
    "\n",
    "Nos devuelve una copia del *array* que le pasamos"
   ]
  },
  {
   "cell_type": "code",
   "execution_count": 60,
   "id": "f85673c5",
   "metadata": {},
   "outputs": [
    {
     "data": {
      "text/plain": [
       "array([[1., 0., 0., 0.],\n",
       "       [1., 0., 0., 0.],\n",
       "       [1., 0., 0., 0.]])"
      ]
     },
     "execution_count": 60,
     "metadata": {},
     "output_type": "execute_result"
    }
   ],
   "source": [
    "nuevo_array = np.empty((3,4))\n",
    "nuevo_array"
   ]
  },
  {
   "cell_type": "code",
   "execution_count": 62,
   "id": "6d99ad08",
   "metadata": {},
   "outputs": [
    {
     "data": {
      "text/plain": [
       "array([[1., 0., 0., 0.],\n",
       "       [1., 0., 0., 0.],\n",
       "       [1., 0., 0., 0.]])"
      ]
     },
     "execution_count": 62,
     "metadata": {},
     "output_type": "execute_result"
    }
   ],
   "source": [
    "nuevo_array_copia = nuevo_array.copy()\n",
    "nuevo_array_copia"
   ]
  },
  {
   "cell_type": "markdown",
   "id": "2bbf5e2a",
   "metadata": {},
   "source": [
    "Este método nos va a servir para no modificar los valores del *array* original. "
   ]
  },
  {
   "cell_type": "code",
   "execution_count": 63,
   "id": "4235a0aa",
   "metadata": {},
   "outputs": [],
   "source": [
    "nuevo_array_copia[0,0] = 20"
   ]
  },
  {
   "cell_type": "code",
   "execution_count": 64,
   "id": "cd59dbb3",
   "metadata": {},
   "outputs": [
    {
     "data": {
      "text/plain": [
       "array([[20.,  0.,  0.,  0.],\n",
       "       [ 1.,  0.,  0.,  0.],\n",
       "       [ 1.,  0.,  0.,  0.]])"
      ]
     },
     "execution_count": 64,
     "metadata": {},
     "output_type": "execute_result"
    }
   ],
   "source": [
    "nuevo_array_copia"
   ]
  },
  {
   "cell_type": "code",
   "execution_count": 65,
   "id": "43fcb800",
   "metadata": {},
   "outputs": [
    {
     "data": {
      "text/plain": [
       "array([[1., 0., 0., 0.],\n",
       "       [1., 0., 0., 0.],\n",
       "       [1., 0., 0., 0.]])"
      ]
     },
     "execution_count": 65,
     "metadata": {},
     "output_type": "execute_result"
    }
   ],
   "source": [
    "nuevo_array"
   ]
  },
  {
   "attachments": {
    "image.png": {
     "image/png": "[encoded data removed]"
    }
   },
   "cell_type": "markdown",
   "id": "bb45053e",
   "metadata": {},
   "source": [
    "## `np.transpose()`:\n",
    "\n",
    "Invierte los ejes de una matriz; devuelve la matriz modificada.\n",
    "\n",
    "![image.png](attachment:image.png)\n",
    "\n",
    "📌 La transposición de una matriz unidimensional nos devuelve lo mismo, el *array* sin modificar. "
   ]
  },
  {
   "cell_type": "code",
   "execution_count": 81,
   "id": "b5190bc2",
   "metadata": {},
   "outputs": [
    {
     "data": {
      "text/plain": [
       "array([ 1,  2,  3,  4,  5,  6,  7,  8,  9, 10, 11, 12, 13, 14, 15, 16, 17,\n",
       "       18, 19])"
      ]
     },
     "execution_count": 81,
     "metadata": {},
     "output_type": "execute_result"
    }
   ],
   "source": [
    "h = np.arange(1,20)\n",
    "h"
   ]
  },
  {
   "cell_type": "code",
   "execution_count": 82,
   "id": "7a39b956",
   "metadata": {
    "scrolled": true
   },
   "outputs": [
    {
     "data": {
      "text/plain": [
       "array([ 1,  2,  3,  4,  5,  6,  7,  8,  9, 10, 11, 12, 13, 14, 15, 16, 17,\n",
       "       18, 19])"
      ]
     },
     "execution_count": 82,
     "metadata": {},
     "output_type": "execute_result"
    }
   ],
   "source": [
    "np.transpose(h)"
   ]
  },
  {
   "cell_type": "markdown",
   "id": "9b92ca3f",
   "metadata": {},
   "source": [
    "### Bidimensional"
   ]
  },
  {
   "cell_type": "code",
   "execution_count": 188,
   "id": "bd77538a",
   "metadata": {},
   "outputs": [
    {
     "data": {
      "text/plain": [
       "array([[0.21148322, 0.04589844, 0.14370712, 0.19165303],\n",
       "       [0.61342685, 0.79241561, 0.93154772, 0.61380752],\n",
       "       [0.75055726, 0.68731563, 0.35236842, 0.48892819],\n",
       "       [0.83902942, 0.60469554, 0.49703936, 0.69960783],\n",
       "       [0.72703633, 0.49661619, 0.40365336, 0.36767609]])"
      ]
     },
     "execution_count": 188,
     "metadata": {},
     "output_type": "execute_result"
    }
   ],
   "source": [
    "# nos creamos un array\n",
    "\n",
    "bidimensional = np.random.rand(5, 4)\n",
    "bidimensional"
   ]
  },
  {
   "cell_type": "code",
   "execution_count": 189,
   "id": "8a43f252",
   "metadata": {},
   "outputs": [
    {
     "data": {
      "text/plain": [
       "array([[0.21148322, 0.61342685, 0.75055726, 0.83902942, 0.72703633],\n",
       "       [0.04589844, 0.79241561, 0.68731563, 0.60469554, 0.49661619],\n",
       "       [0.14370712, 0.93154772, 0.35236842, 0.49703936, 0.40365336],\n",
       "       [0.19165303, 0.61380752, 0.48892819, 0.69960783, 0.36767609]])"
      ]
     },
     "execution_count": 189,
     "metadata": {},
     "output_type": "execute_result"
    }
   ],
   "source": [
    "# si nos fijamos las filas han pasado a ser columnas y viceversa\n",
    "\n",
    "np.transpose(bidimensional)"
   ]
  },
  {
   "cell_type": "markdown",
   "id": "312ce66d",
   "metadata": {},
   "source": [
    "### Multidimensional "
   ]
  },
  {
   "cell_type": "markdown",
   "id": "86fc7911",
   "metadata": {},
   "source": [
    "La cosa se complica cuando pasamos a arrays con más de dos dimensiones."
   ]
  },
  {
   "cell_type": "code",
   "execution_count": 190,
   "id": "d5ac60b5",
   "metadata": {},
   "outputs": [
    {
     "data": {
      "text/plain": [
       "array([[[41, 60, 97, 28, 98],\n",
       "        [25, 27, 49, 92, 73],\n",
       "        [96, 52, 10, 76, 54]],\n",
       "\n",
       "       [[95, 40, 53, 46, 65],\n",
       "        [70, 39, 76, 89, 84],\n",
       "        [42, 63, 52, 21, 66]]])"
      ]
     },
     "execution_count": 190,
     "metadata": {},
     "output_type": "execute_result"
    }
   ],
   "source": [
    "multidimensional = np.random.randint(0,100, (2,3,5))\n",
    "multidimensional"
   ]
  },
  {
   "cell_type": "markdown",
   "id": "a91848dc",
   "metadata": {},
   "source": [
    "Por defecto este método nos hará la siguiente transposicion:\n",
    "\n",
    "- El número de columnas --> número de *arrays*\n",
    "\n",
    "\n",
    "- El número de filas --> número de columnas\n",
    "\n",
    "\n",
    "- El número de arrays --> número de filas\n"
   ]
  },
  {
   "cell_type": "code",
   "execution_count": 191,
   "id": "ee573c3d",
   "metadata": {},
   "outputs": [
    {
     "data": {
      "text/plain": [
       "array([[[41, 95],\n",
       "        [25, 70],\n",
       "        [96, 42]],\n",
       "\n",
       "       [[60, 40],\n",
       "        [27, 39],\n",
       "        [52, 63]],\n",
       "\n",
       "       [[97, 53],\n",
       "        [49, 76],\n",
       "        [10, 52]],\n",
       "\n",
       "       [[28, 46],\n",
       "        [92, 89],\n",
       "        [76, 21]],\n",
       "\n",
       "       [[98, 65],\n",
       "        [73, 84],\n",
       "        [54, 66]]])"
      ]
     },
     "execution_count": 191,
     "metadata": {},
     "output_type": "execute_result"
    }
   ],
   "source": [
    "np.transpose(multidimensional)"
   ]
  },
  {
   "cell_type": "markdown",
   "id": "1c722658",
   "metadata": {},
   "source": [
    "Pero podemos especificar el sentido en el que queremos que transpongan los elementos de nuestro *array*\n",
    "\n",
    "```python\n",
    "np.transpose(nuestro_array, (1,2,0))\n",
    "```"
   ]
  },
  {
   "cell_type": "code",
   "execution_count": 193,
   "id": "0cd75f06",
   "metadata": {},
   "outputs": [
    {
     "data": {
      "text/plain": [
       "array([[[41, 95],\n",
       "        [60, 40],\n",
       "        [97, 53],\n",
       "        [28, 46],\n",
       "        [98, 65]],\n",
       "\n",
       "       [[25, 70],\n",
       "        [27, 39],\n",
       "        [49, 76],\n",
       "        [92, 89],\n",
       "        [73, 84]],\n",
       "\n",
       "       [[96, 42],\n",
       "        [52, 63],\n",
       "        [10, 52],\n",
       "        [76, 21],\n",
       "        [54, 66]]])"
      ]
     },
     "execution_count": 193,
     "metadata": {},
     "output_type": "execute_result"
    }
   ],
   "source": [
    "np.transpose(multidimensional, (1,2,0))"
   ]
  },
  {
   "cell_type": "markdown",
   "id": "ecf6092e",
   "metadata": {},
   "source": [
    "## `np.reshape()`:\n",
    "\n",
    "Cambiamos la forma del *array* sin cambiar sus datos. \n",
    "\n",
    "También podemos usar este método para definir una forma cuando creamos *arrays* con métodos que nos devuelven *arrays* unidimensionales por defecto, como por ejemplo `np.arange`\n"
   ]
  },
  {
   "cell_type": "markdown",
   "id": "ae1f8bef",
   "metadata": {},
   "source": [
    "1️⃣ Cuando queremos redefinir la forma de un *array* ya definido"
   ]
  },
  {
   "cell_type": "code",
   "execution_count": 67,
   "id": "b1a1e86a",
   "metadata": {},
   "outputs": [
    {
     "data": {
      "text/plain": [
       "array([[1, 2, 3],\n",
       "       [4, 5, 6]])"
      ]
     },
     "execution_count": 67,
     "metadata": {},
     "output_type": "execute_result"
    }
   ],
   "source": [
    "# volvamos sobre un array ya definido\n",
    "\n",
    "array2"
   ]
  },
  {
   "cell_type": "code",
   "execution_count": 70,
   "id": "9573c7e3",
   "metadata": {},
   "outputs": [
    {
     "data": {
      "text/plain": [
       "array([[1, 2],\n",
       "       [3, 4],\n",
       "       [5, 6]])"
      ]
     },
     "execution_count": 70,
     "metadata": {},
     "output_type": "execute_result"
    }
   ],
   "source": [
    "array2.reshape(3,2)"
   ]
  },
  {
   "cell_type": "markdown",
   "id": "df6dc515",
   "metadata": {},
   "source": [
    "2️⃣ Cuando definimos la forma de un *array* cuando lo estamos definiendo"
   ]
  },
  {
   "cell_type": "code",
   "execution_count": 62,
   "id": "bd611309",
   "metadata": {},
   "outputs": [],
   "source": [
    "forma = np.arange(12)"
   ]
  },
  {
   "cell_type": "code",
   "execution_count": 63,
   "id": "9762a228",
   "metadata": {},
   "outputs": [
    {
     "data": {
      "text/plain": [
       "array([ 0,  1,  2,  3,  4,  5,  6,  7,  8,  9, 10, 11])"
      ]
     },
     "execution_count": 63,
     "metadata": {},
     "output_type": "execute_result"
    }
   ],
   "source": [
    "forma"
   ]
  },
  {
   "cell_type": "code",
   "execution_count": 64,
   "id": "c16243a1",
   "metadata": {},
   "outputs": [
    {
     "data": {
      "text/plain": [
       "array([[[ 0,  1],\n",
       "        [ 2,  3],\n",
       "        [ 4,  5]],\n",
       "\n",
       "       [[ 6,  7],\n",
       "        [ 8,  9],\n",
       "        [10, 11]]])"
      ]
     },
     "execution_count": 64,
     "metadata": {},
     "output_type": "execute_result"
    }
   ],
   "source": [
    "forma.reshape(2,3,2)"
   ]
  },
  {
   "cell_type": "code",
   "execution_count": 66,
   "id": "d10d4d05",
   "metadata": {},
   "outputs": [
    {
     "data": {
      "text/plain": [
       "array([[[ 0,  1],\n",
       "        [ 2,  3],\n",
       "        [ 4,  5]],\n",
       "\n",
       "       [[ 6,  7],\n",
       "        [ 8,  9],\n",
       "        [10, 11]]])"
      ]
     },
     "execution_count": 66,
     "metadata": {},
     "output_type": "execute_result"
    }
   ],
   "source": [
    "# lo podemos hacer todo en una líena\n",
    "\n",
    "forma2 = np.arange(12).reshape(2,3,2)\n",
    "forma2"
   ]
  },
  {
   "cell_type": "markdown",
   "id": "fc876021",
   "metadata": {},
   "source": [
    "## `np.swapaxes()`:\n",
    "\n",
    "Intercambia **dos ejes** de una matriz\n"
   ]
  },
  {
   "cell_type": "code",
   "execution_count": 111,
   "id": "4265e775",
   "metadata": {},
   "outputs": [
    {
     "data": {
      "text/plain": [
       "array([[1, 2, 3],\n",
       "       [4, 5, 6]])"
      ]
     },
     "execution_count": 111,
     "metadata": {},
     "output_type": "execute_result"
    }
   ],
   "source": [
    "array2"
   ]
  },
  {
   "cell_type": "code",
   "execution_count": 113,
   "id": "d921a5a5",
   "metadata": {},
   "outputs": [
    {
     "data": {
      "text/plain": [
       "array([[1, 4],\n",
       "       [2, 5],\n",
       "       [3, 6]])"
      ]
     },
     "execution_count": 113,
     "metadata": {},
     "output_type": "execute_result"
    }
   ],
   "source": [
    "# nos ha convertido las filas en columnas y viceversa\n",
    "np.swapaxes(array2,1,0)"
   ]
  },
  {
   "cell_type": "markdown",
   "id": "3f3515b1",
   "metadata": {},
   "source": [
    "# Funciones de vectores\n",
    "\n",
    "Para esta parte del jupyter usaremos dos nuevos *arrays* unidimensionales. \n",
    "\n",
    "🚨⚠️ Estos métodos valeran unicamente para *arrays* unidimensionales, excepto `unique` que lo podemos aplicar a cualquier tipo de *array* "
   ]
  },
  {
   "cell_type": "code",
   "execution_count": 95,
   "id": "f29f9b59",
   "metadata": {},
   "outputs": [],
   "source": [
    "# creemos dos arrays unidimensionales\n",
    "\n",
    "vector1 = np.random.randint(3, 15, 7)\n",
    "vector2 = np.random.randint(0,10, 7)"
   ]
  },
  {
   "cell_type": "code",
   "execution_count": 94,
   "id": "bd3979b1",
   "metadata": {},
   "outputs": [
    {
     "data": {
      "text/plain": [
       "array([ 9,  5, 10, 14, 11,  6, 11])"
      ]
     },
     "execution_count": 94,
     "metadata": {},
     "output_type": "execute_result"
    }
   ],
   "source": [
    "vector1"
   ]
  },
  {
   "cell_type": "code",
   "execution_count": 96,
   "id": "9ae8bb5d",
   "metadata": {},
   "outputs": [
    {
     "data": {
      "text/plain": [
       "array([4, 6, 0, 3, 8, 8, 5])"
      ]
     },
     "execution_count": 96,
     "metadata": {},
     "output_type": "execute_result"
    }
   ],
   "source": [
    "vector2"
   ]
  },
  {
   "cell_type": "markdown",
   "id": "8ee93e93",
   "metadata": {},
   "source": [
    "## `np.unique()`:\n",
    "\n",
    "Encuentra los valores únicos del *array* que le pasemos. \n",
    "\n",
    "🚨 Este es el único método de las funciones de conjuntos que nos permite trabajar con *arrays* uni, bi y multidimensionales. \n",
    "\n",
    "Hay dos salidas opcionales además de los elementos únicos:\n",
    "\n",
    "- los índices del array de entrada que dan los valores únicos, usando el parámetro `return_index`\n",
    "\n",
    "\n",
    "- el número de veces que aparece cada valor único en el array de entrada, usando el parámetro `return_counts`\n"
   ]
  },
  {
   "cell_type": "code",
   "execution_count": 73,
   "id": "1d99c78e",
   "metadata": {},
   "outputs": [
    {
     "data": {
      "text/plain": [
       "array([[9, 1, 6, 8, 3],\n",
       "       [4, 1, 3, 3, 1],\n",
       "       [6, 5, 9, 3, 1],\n",
       "       [6, 5, 4, 5, 9]])"
      ]
     },
     "execution_count": 73,
     "metadata": {},
     "output_type": "execute_result"
    }
   ],
   "source": [
    "# creemos un nuevo array \n",
    "\n",
    "arr3 = np.random.randint(1,10, (4,5))\n",
    "arr3"
   ]
  },
  {
   "cell_type": "code",
   "execution_count": 75,
   "id": "7804ee1d",
   "metadata": {},
   "outputs": [
    {
     "data": {
      "text/plain": [
       "array([1, 3, 4, 5, 6, 8, 9])"
      ]
     },
     "execution_count": 75,
     "metadata": {},
     "output_type": "execute_result"
    }
   ],
   "source": [
    "# si no le pasamos ningún parámetro nos devuelve los valores únicos de\n",
    "## todo el array\n",
    "\n",
    "np.unique(arr3)"
   ]
  },
  {
   "cell_type": "code",
   "execution_count": 76,
   "id": "8cd1f3f6",
   "metadata": {},
   "outputs": [
    {
     "data": {
      "text/plain": [
       "(array([1, 3, 4, 5, 6, 8, 9]), array([ 1,  4,  5, 11,  2,  3,  0]))"
      ]
     },
     "execution_count": 76,
     "metadata": {},
     "output_type": "execute_result"
    }
   ],
   "source": [
    "np.unique(arr3, return_index = True)"
   ]
  },
  {
   "cell_type": "markdown",
   "id": "70976019",
   "metadata": {},
   "source": [
    "Interpretemos los resultados: \n",
    "\n",
    "- El primer *array* nos indica los elementos únicos \n",
    "\n",
    "```python\n",
    "array([1, 3, 4, 5, 6, 8, 9]\n",
    "```\n",
    "\n",
    "- El\n",
    "segundo *array* indica las posiciones de los elementos únicos\n",
    "\n",
    "```python\n",
    "array([ 1,  4,  5, 11,  2,  3,  0]\n",
    "```\n",
    "Por lo tanto: \n",
    "\n",
    "- El elemento 1 esta en la posición 1\n",
    "\n",
    "\n",
    "- El elemento 3 esta en la posición 4\n",
    "\n",
    "\n",
    "- El elemento 4 esta en la posición 5\n",
    "\n",
    "\n",
    "- y así para el resto"
   ]
  },
  {
   "cell_type": "code",
   "execution_count": 77,
   "id": "0c6464c7",
   "metadata": {},
   "outputs": [
    {
     "data": {
      "text/plain": [
       "(array([1, 3, 4, 5, 6, 8, 9]), array([4, 4, 2, 3, 3, 1, 3]))"
      ]
     },
     "execution_count": 77,
     "metadata": {},
     "output_type": "execute_result"
    }
   ],
   "source": [
    "np.unique(arr3, return_counts=True)"
   ]
  },
  {
   "cell_type": "markdown",
   "id": "16f0727a",
   "metadata": {},
   "source": [
    "Si interpretamos los resultados:\n",
    "- El primer *array* nos devuelve los elementos únicos\n",
    "```python\n",
    "array([1, 3, 4, 5, 6, 8, 9]\n",
    "```\n",
    "\n",
    "- El segundo *array* nos devuelve el número de veces que nos encontramos esos elementos en el array\n",
    "```python\n",
    "array([4, 4, 2, 3, 3, 1, 3]\n",
    "```\n",
    "\n",
    "Por lo tanto: \n",
    "\n",
    "- El elemento 1 aparece 4 veces en nuestro *array*\n",
    "\n",
    "\n",
    "- El elemento 3 aparece 4 veces en nuestro *array* \n",
    "\n",
    "\n",
    "- El elemento 4 aparece 2 veces en nuestro *array* \n",
    "\n",
    "\n",
    "- ..."
   ]
  },
  {
   "cell_type": "markdown",
   "id": "040bd00d",
   "metadata": {},
   "source": [
    "## `np.intersect1d()`\n",
    "\n",
    "Encuentra la intersección de los dos *arrays*, es decir, los elementos que son comunes en los dos *arrays* "
   ]
  },
  {
   "cell_type": "code",
   "execution_count": 97,
   "id": "9a7877b3",
   "metadata": {},
   "outputs": [
    {
     "data": {
      "text/plain": [
       "array([12,  9, 14,  7, 10,  4,  3])"
      ]
     },
     "execution_count": 97,
     "metadata": {},
     "output_type": "execute_result"
    }
   ],
   "source": [
    "vector1"
   ]
  },
  {
   "cell_type": "code",
   "execution_count": 98,
   "id": "e40c24c0",
   "metadata": {},
   "outputs": [
    {
     "data": {
      "text/plain": [
       "array([4, 6, 0, 3, 8, 8, 5])"
      ]
     },
     "execution_count": 98,
     "metadata": {},
     "output_type": "execute_result"
    }
   ],
   "source": [
    "vector2"
   ]
  },
  {
   "cell_type": "code",
   "execution_count": 99,
   "id": "5902c837",
   "metadata": {},
   "outputs": [
    {
     "data": {
      "text/plain": [
       "array([3, 4])"
      ]
     },
     "execution_count": 99,
     "metadata": {},
     "output_type": "execute_result"
    }
   ],
   "source": [
    "# que elementos estan en los dos arrays?\n",
    "\n",
    "np.intersect1d(vector1, vector2)\n"
   ]
  },
  {
   "cell_type": "markdown",
   "id": "3d946936",
   "metadata": {},
   "source": [
    "De la misma forma que `unique` podemos pasarle el parámetro `return_indices` para que nos devuelva las posiciones de los elementos únicos en nuestros *arrays*"
   ]
  },
  {
   "cell_type": "code",
   "execution_count": 100,
   "id": "71c8c0c7",
   "metadata": {},
   "outputs": [
    {
     "data": {
      "text/plain": [
       "(array([3, 4]), array([6, 5]), array([3, 0]))"
      ]
     },
     "execution_count": 100,
     "metadata": {},
     "output_type": "execute_result"
    }
   ],
   "source": [
    "np.intersect1d(vector1, vector2, return_indices=True)\n"
   ]
  },
  {
   "cell_type": "markdown",
   "id": "5e0cb1bc",
   "metadata": {},
   "source": [
    "Interpretación: \n",
    "\n",
    "- El número 3 está en la posición 6 del primer *array* y en la 5 del segundo *array* \n",
    "\n",
    "\n",
    "- El número 3 está en la posición 3 del primer *array* y en la 0 del segundo *array* \n"
   ]
  },
  {
   "cell_type": "markdown",
   "id": "9db4736f",
   "metadata": {},
   "source": [
    "## `np.union1d()`\n",
    "\n",
    "Devuelve un *array* ordenado con los elementos resultantes de unir los *arrays* que le pasemos"
   ]
  },
  {
   "cell_type": "code",
   "execution_count": 103,
   "id": "8bf6f21e",
   "metadata": {},
   "outputs": [
    {
     "data": {
      "text/plain": [
       "array([ 0,  3,  4,  5,  6,  7,  8,  9, 10, 12, 14])"
      ]
     },
     "execution_count": 103,
     "metadata": {},
     "output_type": "execute_result"
    }
   ],
   "source": [
    "np.union1d(vector1, vector2)"
   ]
  },
  {
   "cell_type": "markdown",
   "id": "94c6a282",
   "metadata": {},
   "source": [
    "## `np.in1d()`\n",
    "\n",
    "Devuelve un *array* de booleanos con información sobre qué elementos de *array* \"A\" se encuentran también en el *array* \"B\""
   ]
  },
  {
   "cell_type": "code",
   "execution_count": 106,
   "id": "8b1e3042",
   "metadata": {},
   "outputs": [
    {
     "data": {
      "text/plain": [
       "array([12,  9, 14,  7, 10,  4,  3])"
      ]
     },
     "execution_count": 106,
     "metadata": {},
     "output_type": "execute_result"
    }
   ],
   "source": [
    "vector1"
   ]
  },
  {
   "cell_type": "code",
   "execution_count": 105,
   "id": "3ece9ab3",
   "metadata": {},
   "outputs": [
    {
     "data": {
      "text/plain": [
       "array([False, False, False, False, False,  True,  True])"
      ]
     },
     "execution_count": 105,
     "metadata": {},
     "output_type": "execute_result"
    }
   ],
   "source": [
    "np.in1d(vector1, vector2)"
   ]
  },
  {
   "cell_type": "markdown",
   "id": "af631111",
   "metadata": {},
   "source": [
    "Lo que nos está diciendo el output es que:\n",
    "\n",
    "- El número 12 del vector1 NO está en el vector2\n",
    "\n",
    "\n",
    "- El número 9 del vector1 NO está en el vector2\n",
    "\n",
    "\n",
    "- El número 14 del vector1 NO está en el vector2\n",
    "\n",
    "\n",
    "- El número 7 del vector1 NO está en el vector2\n",
    "\n",
    "\n",
    "- El número 10 del vector1 NO está en el vector2\n",
    "\n",
    "\n",
    "- El número 12 del vector1 NO está en el vector2\n",
    "\n",
    "\n",
    "- El número 4 del vector1 SI está en el vector2\n",
    "\n",
    "\n",
    "- El número 3 del vector1 SI está en el vector2\n",
    "\n",
    "\n",
    "\n",
    "\n",
    "\n"
   ]
  },
  {
   "cell_type": "markdown",
   "id": "eeae7f68",
   "metadata": {},
   "source": [
    "⚠️Cuidado que en este caso el orden si que importa! "
   ]
  },
  {
   "cell_type": "code",
   "execution_count": 107,
   "id": "15649c62",
   "metadata": {},
   "outputs": [
    {
     "data": {
      "text/plain": [
       "array([ True, False, False,  True, False, False, False])"
      ]
     },
     "execution_count": 107,
     "metadata": {},
     "output_type": "execute_result"
    }
   ],
   "source": [
    "np.in1d(vector2, vector1)"
   ]
  },
  {
   "cell_type": "markdown",
   "id": "b9945a70",
   "metadata": {},
   "source": [
    "## `np.setxor1d()`\n",
    "\n",
    "Devuelve un array ordenado con los valores únicos del conjunto de elementos que pertenecen a \"A\" o \"B\", pero no a ambos. Es decir, nos va a devolver los elementos que solo encontremos en cada uno de los arrays cuando los comparamos\n",
    "\n"
   ]
  },
  {
   "cell_type": "code",
   "execution_count": 108,
   "id": "316f83bc",
   "metadata": {},
   "outputs": [
    {
     "data": {
      "text/plain": [
       "array([ 0,  5,  6,  7,  8,  9, 10, 12, 14])"
      ]
     },
     "execution_count": 108,
     "metadata": {},
     "output_type": "execute_result"
    }
   ],
   "source": [
    "# nos devuelve los valores únicos de los dos arrays a la vez\n",
    "\n",
    "np.setxor1d(vector1, vector2)\n"
   ]
  },
  {
   "cell_type": "markdown",
   "id": "8c2f7dd1",
   "metadata": {},
   "source": [
    "## `np.setdiff1d()`\n",
    "\n",
    "Devuelve un array ordenado con los valores únicos que están en el array \"A\" pero no en el \"B\"."
   ]
  },
  {
   "cell_type": "code",
   "execution_count": 110,
   "id": "df3acce0",
   "metadata": {},
   "outputs": [
    {
     "data": {
      "text/plain": [
       "array([ 7,  9, 10, 12, 14])"
      ]
     },
     "execution_count": 110,
     "metadata": {},
     "output_type": "execute_result"
    }
   ],
   "source": [
    "\n",
    "# los valores de 7,9,10,12 y 14 los encontramos en el vector1, pero no en el vector2\n",
    "\n",
    "np.setdiff1d(vector1, vector2)"
   ]
  }
 ],
 "metadata": {
  "kernelspec": {
   "display_name": "Python 3 (ipykernel)",
   "language": "python",
   "name": "python3"
  },
  "language_info": {
   "codemirror_mode": {
    "name": "ipython",
    "version": 3
   },
   "file_extension": ".py",
   "mimetype": "text/x-python",
   "name": "python",
   "nbconvert_exporter": "python",
   "pygments_lexer": "ipython3",
   "version": "3.9.6"
  },
  "toc": {
   "base_numbering": 1,
   "nav_menu": {},
   "number_sections": true,
   "sideBar": true,
   "skip_h1_title": false,
   "title_cell": "Table of Contents",
   "title_sidebar": "Contents",
   "toc_cell": true,
   "toc_position": {},
   "toc_section_display": true,
   "toc_window_display": false
  },
  "varInspector": {
   "cols": {
    "lenName": 16,
    "lenType": 16,
    "lenVar": 40
   },
   "kernels_config": {
    "python": {
     "delete_cmd_postfix": "",
     "delete_cmd_prefix": "del ",
     "library": "var_list.py",
     "varRefreshCmd": "print(var_dic_list())"
    },
    "r": {
     "delete_cmd_postfix": ") ",
     "delete_cmd_prefix": "rm(",
     "library": "var_list.r",
     "varRefreshCmd": "cat(var_dic_list()) "
    }
   },
   "types_to_exclude": [
    "module",
    "function",
    "builtin_function_or_method",
    "instance",
    "_Feature"
   ],
   "window_display": true
  }
 },
 "nbformat": 4,
 "nbformat_minor": 5
}
