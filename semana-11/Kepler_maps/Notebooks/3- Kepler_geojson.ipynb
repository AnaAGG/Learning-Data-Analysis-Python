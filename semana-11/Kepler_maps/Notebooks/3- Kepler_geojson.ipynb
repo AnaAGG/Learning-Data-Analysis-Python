{
 "cells": [
  {
   "cell_type": "markdown",
   "id": "4a00215e",
   "metadata": {
    "toc": true
   },
   "source": [
    "<h1>Table of Contents<span class=\"tocSkip\"></span></h1>\n",
    "<div class=\"toc\"><ul class=\"toc-item\"><li><span><a href=\"#Libraries\" data-toc-modified-id=\"Libraries-1\"><span class=\"toc-item-num\">1&nbsp;&nbsp;</span>Libraries</a></span></li><li><span><a href=\"#Geopandas\" data-toc-modified-id=\"Geopandas-2\"><span class=\"toc-item-num\">2&nbsp;&nbsp;</span>Geopandas</a></span></li><li><span><a href=\"#Keppler-using-geojson\" data-toc-modified-id=\"Keppler-using-geojson-3\"><span class=\"toc-item-num\">3&nbsp;&nbsp;</span>Keppler using geojson</a></span><ul class=\"toc-item\"><li><span><a href=\"#Loading-and-exploring-datasets\" data-toc-modified-id=\"Loading-and-exploring-datasets-3.1\"><span class=\"toc-item-num\">3.1&nbsp;&nbsp;</span>Loading and exploring datasets</a></span></li><li><span><a href=\"#Working-with-geopandas\" data-toc-modified-id=\"Working-with-geopandas-3.2\"><span class=\"toc-item-num\">3.2&nbsp;&nbsp;</span>Working with geopandas</a></span><ul class=\"toc-item\"><li><span><a href=\"#sjoin-in-geopandas\" data-toc-modified-id=\"sjoin-in-geopandas-3.2.1\"><span class=\"toc-item-num\">3.2.1&nbsp;&nbsp;</span>sjoin in geopandas</a></span></li><li><span><a href=\"#Dissolve-methods\" data-toc-modified-id=\"Dissolve-methods-3.2.2\"><span class=\"toc-item-num\">3.2.2&nbsp;&nbsp;</span>Dissolve methods</a></span></li></ul></li><li><span><a href=\"#Creating-the-map\" data-toc-modified-id=\"Creating-the-map-3.3\"><span class=\"toc-item-num\">3.3&nbsp;&nbsp;</span>Creating the map</a></span></li><li><span><a href=\"#Save-the-config.py-and-html-map\" data-toc-modified-id=\"Save-the-config.py-and-html-map-3.4\"><span class=\"toc-item-num\">3.4&nbsp;&nbsp;</span>Save the config.py and html map</a></span></li></ul></li></ul></div>"
   ]
  },
  {
   "cell_type": "markdown",
   "id": "e9b2745e",
   "metadata": {},
   "source": [
    "![portada](https://miro.medium.com/max/7077/1*0l-WeqdtYRruoV_XxS-ZKg.png)"
   ]
  },
  {
   "cell_type": "markdown",
   "id": "962a19bd",
   "metadata": {},
   "source": [
    "#  Libraries"
   ]
  },
  {
   "cell_type": "code",
   "execution_count": null,
   "id": "9e10bd58",
   "metadata": {
    "scrolled": true
   },
   "outputs": [],
   "source": [
    "import pandas as pd\n",
    "import geopandas as gpd\n",
    "from keplergl import KeplerGl\n",
    "import rtree\n",
    "import pygeos\n"
   ]
  },
  {
   "cell_type": "markdown",
   "id": "e64d56f3",
   "metadata": {},
   "source": [
    "# Geopandas"
   ]
  },
  {
   "cell_type": "markdown",
   "id": "74f7e801",
   "metadata": {},
   "source": [
    "Kepler also makes it convenient to use geometrical data types such as polygons, lines, and points from GeoJSON, Shapely, and many other extensions."
   ]
  },
  {
   "cell_type": "markdown",
   "id": "457c47f5",
   "metadata": {},
   "source": [
    "In the this example, I’ll use the Vancouver Open Data; more precisely, two datasets containing data on the outlines of the blocks, and one containing the location of graffiti in the city.\n",
    "\n",
    "To perform the map we use two datasets containing data on the outlines of the blocks, and one containing the location of graffiti in the city.\n",
    "\n",
    "🏬🏬  **Datasets Block** 🏬🏬   ==> https://opendata.vancouver.ca/explore/dataset/block-outlines/information/  \n",
    "\n",
    "Datasets Graffiti ==> https://opendata.vancouver.ca/explore/dataset/graffiti/export/"
   ]
  },
  {
   "cell_type": "markdown",
   "id": "cc9964e4",
   "metadata": {},
   "source": [
    "# Keppler using geojson"
   ]
  },
  {
   "cell_type": "markdown",
   "id": "04a4c13f",
   "metadata": {},
   "source": [
    "## Loading and exploring datasets"
   ]
  },
  {
   "cell_type": "code",
   "execution_count": null,
   "id": "011b11ff",
   "metadata": {},
   "outputs": [],
   "source": [
    "block = gpd.read_file('../Input/block-outlines.geojson')\n",
    "graffiti = gpd.read_file('../Input/graffiti.geojson')\n"
   ]
  },
  {
   "cell_type": "code",
   "execution_count": null,
   "id": "da164252",
   "metadata": {},
   "outputs": [],
   "source": []
  },
  {
   "cell_type": "code",
   "execution_count": null,
   "id": "93c197dc",
   "metadata": {},
   "outputs": [],
   "source": []
  },
  {
   "cell_type": "code",
   "execution_count": null,
   "id": "05e98ae4",
   "metadata": {
    "scrolled": true
   },
   "outputs": [],
   "source": [
    "#Check if there are any null data\n",
    "\n"
   ]
  },
  {
   "cell_type": "code",
   "execution_count": null,
   "id": "6982b792",
   "metadata": {},
   "outputs": [],
   "source": [
    "#Check if there are any null data\n"
   ]
  },
  {
   "cell_type": "code",
   "execution_count": null,
   "id": "c80f71de",
   "metadata": {},
   "outputs": [],
   "source": [
    "# drop the null data\n"
   ]
  },
  {
   "cell_type": "markdown",
   "id": "5bb6185f",
   "metadata": {},
   "source": [
    "## Working with geopandas "
   ]
  },
  {
   "cell_type": "markdown",
   "id": "f370f702",
   "metadata": {},
   "source": [
    "### sjoin in geopandas"
   ]
  },
  {
   "cell_type": "markdown",
   "id": "40e6dede",
   "metadata": {},
   "source": [
    "GeoPandas .sjoin is somewhat similar to a SQL join, but instead of looking at some index, it will look at the geometries — that means, it checks if the points are inside our polygon and return a row for each match."
   ]
  },
  {
   "cell_type": "markdown",
   "id": "18ed4c32",
   "metadata": {},
   "source": [
    "![sjoin](https://i.stack.imgur.com/aP3px.png)"
   ]
  },
  {
   "cell_type": "markdown",
   "id": "92244cda",
   "metadata": {},
   "source": [
    "Once we have the dataset, we proceed to join of the two datasets. `Geopandas` has its own method to do the joins **[sjoin](https://geopandas.org/docs/user_guide/mergingdata.html)**. This method receive:\n",
    "\n",
    "1- The type of join:\n",
    "\n",
    "> ‘left’: use keys from left_df; retain only left_df geometry column\n",
    "\n",
    "> ‘right’: use keys from right_df; retain only right_df geometry column\n",
    "\n",
    "> ‘inner’: use intersection of keys from both dfs; retain only left_df geometry column\n",
    "\n",
    "2- optional string, default ‘intersects’  \n",
    "> Binary predicate, one of {‘intersects’, ‘contains’, ‘within’}. [Moreinfo]( http://shapely.readthedocs.io/en/latest/manual.html#binary-predicates)\n",
    "\n",
    "3- lsuffixstring, default ‘left’  \n",
    "> Suffix to apply to overlapping column names (left GeoDataFrame).\n",
    "\n",
    "4- rsuffixstring, default ‘right’  \n",
    "\n",
    "> Suffix to apply to overlapping column names (right GeoDataFrame)."
   ]
  },
  {
   "cell_type": "code",
   "execution_count": null,
   "id": "bba73ad5",
   "metadata": {},
   "outputs": [],
   "source": [
    "# join datasets\n"
   ]
  },
  {
   "cell_type": "code",
   "execution_count": null,
   "id": "b43f9f3c",
   "metadata": {
    "scrolled": true
   },
   "outputs": [],
   "source": []
  },
  {
   "cell_type": "markdown",
   "id": "2b4c999c",
   "metadata": {},
   "source": [
    "### Dissolve methods\n",
    "Dissolving polygons entails combining polygons based upon a unique attribute value and removing the interior geometry.\n",
    "For more information about dissolve use this [link](https://geopandas.org/aggregation_with_dissolve.html)"
   ]
  },
  {
   "attachments": {
    "image.png": {
     "image/png": "[encoded data removed]"
    }
   },
   "cell_type": "markdown",
   "id": "d5a16c5c",
   "metadata": {},
   "source": [
    "![image.png](attachment:image.png)"
   ]
  },
  {
   "cell_type": "code",
   "execution_count": null,
   "id": "3f4f1b4b",
   "metadata": {},
   "outputs": [],
   "source": [
    "#Then we can dissolve our new data frame; this will group the old indexes and sum the graffiti count.graf_block = graf_block.dissolve(by='index', aggfunc='sum')\n"
   ]
  },
  {
   "cell_type": "code",
   "execution_count": null,
   "id": "6e3c165b",
   "metadata": {},
   "outputs": [],
   "source": [
    "# we create a dicctionary with two datasets\n"
   ]
  },
  {
   "cell_type": "markdown",
   "id": "0d435d02",
   "metadata": {},
   "source": [
    "## Creating the map"
   ]
  },
  {
   "cell_type": "markdown",
   "id": "5ce582d9",
   "metadata": {},
   "source": [
    "I loaded two datasets in this example, one with all the polygons, and another with the data we worked on. That’s so I can plot one layer with only the blocks that had a graffiti, and one with all the blocks, just outlining the city."
   ]
  },
  {
   "cell_type": "code",
   "execution_count": null,
   "id": "0e1d2af2",
   "metadata": {
    "scrolled": true
   },
   "outputs": [],
   "source": []
  },
  {
   "cell_type": "code",
   "execution_count": null,
   "id": "40015700",
   "metadata": {
    "scrolled": false
   },
   "outputs": [],
   "source": []
  },
  {
   "cell_type": "code",
   "execution_count": null,
   "id": "fbb05ff8",
   "metadata": {},
   "outputs": [],
   "source": []
  },
  {
   "cell_type": "code",
   "execution_count": null,
   "id": "be2a2e72",
   "metadata": {},
   "outputs": [],
   "source": []
  },
  {
   "cell_type": "markdown",
   "id": "7f312659",
   "metadata": {},
   "source": [
    "## Save the config.py and html map"
   ]
  },
  {
   "cell_type": "code",
   "execution_count": null,
   "id": "9cd7cecd",
   "metadata": {},
   "outputs": [],
   "source": [
    "# Save map_2 config to a file\n",
    "\n"
   ]
  },
  {
   "cell_type": "code",
   "execution_count": null,
   "id": "59786a7a",
   "metadata": {},
   "outputs": [],
   "source": []
  }
 ],
 "metadata": {
  "kernelspec": {
   "display_name": "kernel",
   "language": "python",
   "name": "kernel"
  },
  "language_info": {
   "codemirror_mode": {
    "name": "ipython",
    "version": 3
   },
   "file_extension": ".py",
   "mimetype": "text/x-python",
   "name": "python",
   "nbconvert_exporter": "python",
   "pygments_lexer": "ipython3",
   "version": "3.8.5"
  },
  "toc": {
   "base_numbering": 1,
   "nav_menu": {},
   "number_sections": true,
   "sideBar": true,
   "skip_h1_title": false,
   "title_cell": "Table of Contents",
   "title_sidebar": "Contents",
   "toc_cell": true,
   "toc_position": {},
   "toc_section_display": true,
   "toc_window_display": false
  },
  "varInspector": {
   "cols": {
    "lenName": 16,
    "lenType": 16,
    "lenVar": 40
   },
   "kernels_config": {
    "python": {
     "delete_cmd_postfix": "",
     "delete_cmd_prefix": "del ",
     "library": "var_list.py",
     "varRefreshCmd": "print(var_dic_list())"
    },
    "r": {
     "delete_cmd_postfix": ") ",
     "delete_cmd_prefix": "rm(",
     "library": "var_list.r",
     "varRefreshCmd": "cat(var_dic_list()) "
    }
   },
   "types_to_exclude": [
    "module",
    "function",
    "builtin_function_or_method",
    "instance",
    "_Feature"
   ],
   "window_display": false
  }
 },
 "nbformat": 4,
 "nbformat_minor": 5
}
