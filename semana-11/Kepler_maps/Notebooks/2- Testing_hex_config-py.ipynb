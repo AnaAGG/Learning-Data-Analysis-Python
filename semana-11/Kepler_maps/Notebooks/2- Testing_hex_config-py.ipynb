{
 "cells": [
  {
   "cell_type": "markdown",
   "id": "678fb507",
   "metadata": {
    "toc": true
   },
   "source": [
    "<h1>Table of Contents<span class=\"tocSkip\"></span></h1>\n",
    "<div class=\"toc\"><ul class=\"toc-item\"><li><span><a href=\"#Libraries\" data-toc-modified-id=\"Libraries-1\"><span class=\"toc-item-num\">1&nbsp;&nbsp;</span>Libraries</a></span></li><li><span><a href=\"#Load-data\" data-toc-modified-id=\"Load-data-2\"><span class=\"toc-item-num\">2&nbsp;&nbsp;</span>Load data</a></span></li><li><span><a href=\"#Using-the-config.py-file-in-a-new-proyect\" data-toc-modified-id=\"Using-the-config.py-file-in-a-new-proyect-3\"><span class=\"toc-item-num\">3&nbsp;&nbsp;</span>Using the config.py file in a new proyect</a></span></li><li><span><a href=\"#Create-a-map\" data-toc-modified-id=\"Create-a-map-4\"><span class=\"toc-item-num\">4&nbsp;&nbsp;</span>Create a map</a></span></li><li><span><a href=\"#But...-where-is-the-data?\" data-toc-modified-id=\"But...-where-is-the-data?-5\"><span class=\"toc-item-num\">5&nbsp;&nbsp;</span>But... where is the data?</a></span><ul class=\"toc-item\"><li><span><a href=\"#Change-latitude-and-longitude\" data-toc-modified-id=\"Change-latitude-and-longitude-5.1\"><span class=\"toc-item-num\">5.1&nbsp;&nbsp;</span>Change latitude and longitude</a></span></li><li><span><a href=\"#Change-map-style\" data-toc-modified-id=\"Change-map-style-5.2\"><span class=\"toc-item-num\">5.2&nbsp;&nbsp;</span>Change map style</a></span></li><li><span><a href=\"#Reload-the-map\" data-toc-modified-id=\"Reload-the-map-5.3\"><span class=\"toc-item-num\">5.3&nbsp;&nbsp;</span>Reload the map</a></span></li></ul></li></ul></div>"
   ]
  },
  {
   "cell_type": "markdown",
   "id": "b75de356",
   "metadata": {},
   "source": [
    "![portada](https://miro.medium.com/max/1440/1*bB0OTIKP51yoKgKG6Bd9zg.gif)"
   ]
  },
  {
   "cell_type": "markdown",
   "id": "e781e9f6",
   "metadata": {},
   "source": [
    "# Libraries"
   ]
  },
  {
   "cell_type": "code",
   "execution_count": null,
   "id": "4b3bd7f6",
   "metadata": {},
   "outputs": [],
   "source": [
    "from keplergl import KeplerGl\n",
    "import pandas as pd"
   ]
  },
  {
   "cell_type": "markdown",
   "id": "2790519d",
   "metadata": {},
   "source": [
    "# Load data"
   ]
  },
  {
   "cell_type": "code",
   "execution_count": null,
   "id": "d585898e",
   "metadata": {},
   "outputs": [],
   "source": [
    "df = pd.read_csv(\"../Input/traf_Madrid.csv\")"
   ]
  },
  {
   "cell_type": "code",
   "execution_count": null,
   "id": "93a25551",
   "metadata": {},
   "outputs": [],
   "source": [
    "df.head()"
   ]
  },
  {
   "cell_type": "code",
   "execution_count": null,
   "id": "c0c26c05",
   "metadata": {},
   "outputs": [],
   "source": []
  },
  {
   "cell_type": "markdown",
   "id": "da99bfc4",
   "metadata": {},
   "source": [
    "# Using the config.py file in a new proyect"
   ]
  },
  {
   "cell_type": "markdown",
   "id": "12e7b7ff",
   "metadata": {},
   "source": [
    "🌐 Now, we used the config-py file save before to be used as a template in a new map 🌐\n",
    "\n",
    "If want to load the map next time with this saved config, the easiest way to do is to save the it to a file and use the magic command `%run` to load it w/o cluttering up your notebook."
   ]
  },
  {
   "cell_type": "markdown",
   "id": "96e1e1de",
   "metadata": {},
   "source": [
    "❗ **Match config with data** ❗  \n",
    "All layers, filters and tooltips are associated with a specific dataset. Therefore the data and config in the map has to be able to match each other. The name of the dataset is assigned to:\n",
    "\n",
    "dataId of layer.config,\n",
    "dataId of filter\n",
    "key in interactionConfig.tooltip.fieldToShow.\n",
    "\n",
    "\n",
    "![image](https://d1a3f4spazzrp4.cloudfront.net/kepler.gl/documentation/jupyter_connect_data_w_config.png)"
   ]
  },
  {
   "cell_type": "code",
   "execution_count": null,
   "id": "809900af",
   "metadata": {},
   "outputs": [],
   "source": [
    "# assign config = hex_config\n",
    "%run ../config/hex_config.py"
   ]
  },
  {
   "cell_type": "markdown",
   "id": "ce042fd5",
   "metadata": {},
   "source": [
    "# Create a map"
   ]
  },
  {
   "cell_type": "markdown",
   "id": "0be7d165",
   "metadata": {},
   "source": [
    "⚠️ If we want to add a config file, it would be included in the basemap code ⚠️"
   ]
  },
  {
   "cell_type": "code",
   "execution_count": null,
   "id": "2ac96fb1",
   "metadata": {},
   "outputs": [],
   "source": []
  },
  {
   "cell_type": "code",
   "execution_count": null,
   "id": "c8dcff52",
   "metadata": {
    "scrolled": false
   },
   "outputs": [],
   "source": []
  },
  {
   "cell_type": "markdown",
   "id": "ac2c20a2",
   "metadata": {},
   "source": [
    "# But... where is the data? "
   ]
  },
  {
   "cell_type": "markdown",
   "id": "5ecd7faa",
   "metadata": {},
   "source": [
    "The configuration is loaded but ... you have to move the map or I want to change the background.\n",
    "We are programmers and the configuration file is a dictionary. So ... let's change it!"
   ]
  },
  {
   "cell_type": "code",
   "execution_count": null,
   "id": "72f589ef",
   "metadata": {},
   "outputs": [],
   "source": [
    "config.keys()"
   ]
  },
  {
   "cell_type": "markdown",
   "id": "3e93bca7",
   "metadata": {},
   "source": [
    "## Change latitude and longitude "
   ]
  },
  {
   "cell_type": "code",
   "execution_count": null,
   "id": "002925f1",
   "metadata": {},
   "outputs": [],
   "source": [
    "# We can change the center of our map. Image that we can apply this map configuration but our data are in Madrid. \n",
    "# Changing the lat,long values of the configuration file we can apply the \n",
    "# New coord : 40.42532, -3.70151\n"
   ]
  },
  {
   "cell_type": "code",
   "execution_count": null,
   "id": "907798a2",
   "metadata": {},
   "outputs": [],
   "source": [
    "# Now, we will change the lat and long values\n"
   ]
  },
  {
   "cell_type": "code",
   "execution_count": null,
   "id": "d09b1eba",
   "metadata": {},
   "outputs": [],
   "source": []
  },
  {
   "cell_type": "markdown",
   "id": "3ca5fb29",
   "metadata": {},
   "source": [
    "## Change map style"
   ]
  },
  {
   "cell_type": "code",
   "execution_count": null,
   "id": "b149e7a1",
   "metadata": {},
   "outputs": [],
   "source": [
    "# Take the map style dicctionary\n"
   ]
  },
  {
   "cell_type": "code",
   "execution_count": null,
   "id": "659483ae",
   "metadata": {},
   "outputs": [],
   "source": [
    "# Now, we will change the styleType key\n"
   ]
  },
  {
   "cell_type": "code",
   "execution_count": null,
   "id": "eef1160f",
   "metadata": {},
   "outputs": [],
   "source": [
    "# Reload the config file\n"
   ]
  },
  {
   "cell_type": "markdown",
   "id": "09a836b8",
   "metadata": {},
   "source": [
    "## Reload the map "
   ]
  },
  {
   "cell_type": "code",
   "execution_count": null,
   "id": "0a212194",
   "metadata": {},
   "outputs": [],
   "source": [
    "# Reload the config file\n",
    "\n"
   ]
  },
  {
   "cell_type": "code",
   "execution_count": null,
   "id": "c2594703",
   "metadata": {},
   "outputs": [],
   "source": []
  },
  {
   "cell_type": "code",
   "execution_count": null,
   "id": "57f3a81a",
   "metadata": {},
   "outputs": [],
   "source": [
    "# Save map_3 config to a file\n"
   ]
  },
  {
   "cell_type": "code",
   "execution_count": null,
   "id": "d3c538ce",
   "metadata": {},
   "outputs": [],
   "source": []
  }
 ],
 "metadata": {
  "kernelspec": {
   "display_name": "kernel",
   "language": "python",
   "name": "kernel"
  },
  "language_info": {
   "codemirror_mode": {
    "name": "ipython",
    "version": 3
   },
   "file_extension": ".py",
   "mimetype": "text/x-python",
   "name": "python",
   "nbconvert_exporter": "python",
   "pygments_lexer": "ipython3",
   "version": "3.8.5"
  },
  "toc": {
   "base_numbering": 1,
   "nav_menu": {},
   "number_sections": true,
   "sideBar": true,
   "skip_h1_title": false,
   "title_cell": "Table of Contents",
   "title_sidebar": "Contents",
   "toc_cell": true,
   "toc_position": {},
   "toc_section_display": true,
   "toc_window_display": false
  },
  "varInspector": {
   "cols": {
    "lenName": 16,
    "lenType": 16,
    "lenVar": 40
   },
   "kernels_config": {
    "python": {
     "delete_cmd_postfix": "",
     "delete_cmd_prefix": "del ",
     "library": "var_list.py",
     "varRefreshCmd": "print(var_dic_list())"
    },
    "r": {
     "delete_cmd_postfix": ") ",
     "delete_cmd_prefix": "rm(",
     "library": "var_list.r",
     "varRefreshCmd": "cat(var_dic_list()) "
    }
   },
   "types_to_exclude": [
    "module",
    "function",
    "builtin_function_or_method",
    "instance",
    "_Feature"
   ],
   "window_display": false
  }
 },
 "nbformat": 4,
 "nbformat_minor": 5
}
